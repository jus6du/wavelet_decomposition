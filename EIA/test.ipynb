{
 "cells": [
  {
   "cell_type": "markdown",
   "metadata": {},
   "source": [
    "# Use EIA API"
   ]
  },
  {
   "cell_type": "code",
   "execution_count": 1,
   "metadata": {},
   "outputs": [],
   "source": [
    "from eia_Ju import API\n",
    "api = API('0FioW0gKcaQXUW9PZ76xRO6mcg2OhK4Cw6kocehk')"
   ]
  },
  {
   "cell_type": "code",
   "execution_count": 2,
   "metadata": {},
   "outputs": [
    {
     "name": "stdout",
     "output_type": "stream",
     "text": [
      "https://api.eia.gov/search/?search_term=name&search_value=\"crude oil\"&rows_per_page=1000\n"
     ]
    }
   ],
   "source": [
    "keyword_search = api.search_by_keyword(keyword='crude oil',\n",
    "                                       filters_to_keep=['AEO2015'],\n",
    "                                       filters_to_remove=['high price'],\n",
    "                                       rows=1000, \n",
    "                                       return_list=False)"
   ]
  },
  {
   "cell_type": "code",
   "execution_count": 3,
   "metadata": {},
   "outputs": [
    {
     "name": "stdout",
     "output_type": "stream",
     "text": [
      "https://api.eia.gov/search/?search_term=last_updated&search_value=[2014-01-01T00:00:00Z TO 2015-01-01T23:59:59Z]&rows_per_page=1000\n"
     ]
    },
    {
     "ename": "AttributeError",
     "evalue": "'NoneType' object has no attribute 'get'",
     "output_type": "error",
     "traceback": [
      "\u001b[1;31m---------------------------------------------------------------------------\u001b[0m",
      "\u001b[1;31mAttributeError\u001b[0m                            Traceback (most recent call last)",
      "Cell \u001b[1;32mIn[3], line 1\u001b[0m\n\u001b[1;32m----> 1\u001b[0m date_search \u001b[39m=\u001b[39m api\u001b[39m.\u001b[39;49msearch_by_date(date\u001b[39m=\u001b[39;49m\u001b[39m'\u001b[39;49m\u001b[39m2014-01-01T00:00:00Z TO 2015-01-01T23:59:59Z\u001b[39;49m\u001b[39m'\u001b[39;49m,\n\u001b[0;32m      2\u001b[0m                                  filters_to_keep\u001b[39m=\u001b[39;49m[\u001b[39m'\u001b[39;49m\u001b[39mArkansas\u001b[39;49m\u001b[39m'\u001b[39;49m],\n\u001b[0;32m      3\u001b[0m                                  filters_to_remove\u001b[39m=\u001b[39;49m[\u001b[39m'\u001b[39;49m\u001b[39mannual\u001b[39;49m\u001b[39m'\u001b[39;49m],\n\u001b[0;32m      4\u001b[0m                                  rows\u001b[39m=\u001b[39;49m\u001b[39m1000\u001b[39;49m, \n\u001b[0;32m      5\u001b[0m                                  return_list\u001b[39m=\u001b[39;49m\u001b[39mTrue\u001b[39;49;00m)\n",
      "File \u001b[1;32ms:\\131-DPE\\131.1-Temporaire\\131.1.1-Espace commun\\zone transfert temporaire\\ITESE Grenoble\\Stage Justine\\Code git\\wavelet_decomposition\\EIA\\eia_Ju.py:235\u001b[0m, in \u001b[0;36mAPI.search_by_date\u001b[1;34m(self, date, filters_to_keep, filters_to_remove, rows, return_list)\u001b[0m\n\u001b[0;32m    229\u001b[0m \u001b[39melif\u001b[39;00m search\u001b[39m.\u001b[39mjson()\u001b[39m.\u001b[39mget(\u001b[39m'\u001b[39m\u001b[39merror\u001b[39m\u001b[39m'\u001b[39m) \u001b[39m==\u001b[39m \u001b[39m'\u001b[39m\u001b[39msolr connection failed.\u001b[39m\u001b[39m'\u001b[39m:\n\u001b[0;32m    230\u001b[0m     \u001b[39mraise\u001b[39;00m DateFormatError(\u001b[39m\"\u001b[39m\u001b[39mConnection Failed. Check date format. \u001b[39m\u001b[39m\"\u001b[39m\n\u001b[0;32m    231\u001b[0m                           \u001b[39m\"\u001b[39m\u001b[39mDate should be in the following format:\u001b[39m\u001b[39m\"\u001b[39m\n\u001b[0;32m    232\u001b[0m                           \u001b[39m\"\u001b[39m\u001b[39m'\u001b[39m\u001b[39m2014-01-01T00:00:00Z TO \u001b[39m\u001b[39m\"\u001b[39m\n\u001b[0;32m    233\u001b[0m                           \u001b[39m\"\u001b[39m\u001b[39m2015-01-01T23:59:59Z\u001b[39m\u001b[39m'\u001b[39m\u001b[39m\"\u001b[39m)\n\u001b[1;32m--> 235\u001b[0m \u001b[39melif\u001b[39;00m \u001b[39mnot\u001b[39;00m search\u001b[39m.\u001b[39;49mjson()\u001b[39m.\u001b[39;49mget(\u001b[39m'\u001b[39;49m\u001b[39mresponse\u001b[39;49m\u001b[39m'\u001b[39;49m)\u001b[39m.\u001b[39;49mget(\u001b[39m'\u001b[39m\u001b[39mdocs\u001b[39m\u001b[39m'\u001b[39m):\n\u001b[0;32m    236\u001b[0m     \u001b[39mraise\u001b[39;00m NoResultsError(\u001b[39m'\u001b[39m\u001b[39mNo Results Found\u001b[39m\u001b[39m'\u001b[39m)\n",
      "\u001b[1;31mAttributeError\u001b[0m: 'NoneType' object has no attribute 'get'"
     ]
    }
   ],
   "source": [
    "date_search = api.search_by_date(date='2014-01-01T00:00:00Z TO 2015-01-01T23:59:59Z',\n",
    "                                 filters_to_keep=['Arkansas'],\n",
    "                                 filters_to_remove=['annual'],\n",
    "                                 rows=1000, \n",
    "                                 return_list=True)"
   ]
  },
  {
   "cell_type": "code",
   "execution_count": 4,
   "metadata": {},
   "outputs": [
    {
     "name": "stdout",
     "output_type": "stream",
     "text": [
      "https://api.eia.gov/search/?search_term=name&search_value=\"['crude oil', 'price']\"&rows_per_page=1000\n"
     ]
    }
   ],
   "source": [
    "keyword_search = api.data_by_keyword(keyword=['crude oil', 'price'],\n",
    "                                     filters_to_keep=['brent'],\n",
    "                                     filters_to_remove=['AEO2015'],\n",
    "                                     rows=1000)\n"
   ]
  },
  {
   "cell_type": "code",
   "execution_count": null,
   "metadata": {},
   "outputs": [
    {
     "data": {
      "text/plain": [
       "{}"
      ]
     },
     "execution_count": 9,
     "metadata": {},
     "output_type": "execute_result"
    }
   ],
   "source": [
    "keyword_search"
   ]
  },
  {
   "cell_type": "markdown",
   "metadata": {},
   "source": []
  }
 ],
 "metadata": {
  "kernelspec": {
   "display_name": "Python 3",
   "language": "python",
   "name": "python3"
  },
  "language_info": {
   "codemirror_mode": {
    "name": "ipython",
    "version": 3
   },
   "file_extension": ".py",
   "mimetype": "text/x-python",
   "name": "python",
   "nbconvert_exporter": "python",
   "pygments_lexer": "ipython3",
   "version": "3.10.13"
  },
  "orig_nbformat": 4
 },
 "nbformat": 4,
 "nbformat_minor": 2
}
