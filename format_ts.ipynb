{
 "cells": [
  {
   "cell_type": "markdown",
   "metadata": {},
   "source": [
    "## Fromat ENTSOE time series"
   ]
  },
  {
   "cell_type": "markdown",
   "metadata": {},
   "source": [
    "Values are sometimes missing in the time series. This notebook create complete yeraly time series."
   ]
  },
  {
   "cell_type": "code",
   "execution_count": 2,
   "metadata": {},
   "outputs": [],
   "source": [
    "import numpy as np\n",
    "import matplotlib.pyplot as plt\n",
    "import pandas as pd"
   ]
  },
  {
   "cell_type": "code",
   "execution_count": 3,
   "metadata": {},
   "outputs": [],
   "source": [
    "df = pd.read_csv('input_time_series/Italy/Solar_energy_Italy_2021_intermittent.csv')\n",
    "df.rename(columns={\"IT/solar\": 'Solar'}, inplace=True)"
   ]
  },
  {
   "cell_type": "code",
   "execution_count": 4,
   "metadata": {},
   "outputs": [
    {
     "data": {
      "text/html": [
       "<div>\n",
       "<style scoped>\n",
       "    .dataframe tbody tr th:only-of-type {\n",
       "        vertical-align: middle;\n",
       "    }\n",
       "\n",
       "    .dataframe tbody tr th {\n",
       "        vertical-align: top;\n",
       "    }\n",
       "\n",
       "    .dataframe thead th {\n",
       "        text-align: right;\n",
       "    }\n",
       "</style>\n",
       "<table border=\"1\" class=\"dataframe\">\n",
       "  <thead>\n",
       "    <tr style=\"text-align: right;\">\n",
       "      <th></th>\n",
       "      <th>Time</th>\n",
       "      <th>Solar</th>\n",
       "      <th>IT/solar_negative</th>\n",
       "    </tr>\n",
       "  </thead>\n",
       "  <tbody>\n",
       "    <tr>\n",
       "      <th>0</th>\n",
       "      <td>2020-12-31 19:00:00</td>\n",
       "      <td>0 kW</td>\n",
       "      <td>NaN</td>\n",
       "    </tr>\n",
       "    <tr>\n",
       "      <th>1</th>\n",
       "      <td>2021-01-01 01:00:00</td>\n",
       "      <td>0 kW</td>\n",
       "      <td>NaN</td>\n",
       "    </tr>\n",
       "    <tr>\n",
       "      <th>2</th>\n",
       "      <td>2021-01-01 07:00:00</td>\n",
       "      <td>1.94 GW</td>\n",
       "      <td>NaN</td>\n",
       "    </tr>\n",
       "    <tr>\n",
       "      <th>3</th>\n",
       "      <td>2021-01-01 13:00:00</td>\n",
       "      <td>883 MW</td>\n",
       "      <td>NaN</td>\n",
       "    </tr>\n",
       "    <tr>\n",
       "      <th>4</th>\n",
       "      <td>2021-01-01 19:00:00</td>\n",
       "      <td>0 kW</td>\n",
       "      <td>NaN</td>\n",
       "    </tr>\n",
       "    <tr>\n",
       "      <th>...</th>\n",
       "      <td>...</td>\n",
       "      <td>...</td>\n",
       "      <td>...</td>\n",
       "    </tr>\n",
       "    <tr>\n",
       "      <th>1456</th>\n",
       "      <td>2021-12-30 19:00:00</td>\n",
       "      <td>0 kW</td>\n",
       "      <td>-2.01 MW</td>\n",
       "    </tr>\n",
       "    <tr>\n",
       "      <th>1457</th>\n",
       "      <td>2021-12-31 01:00:00</td>\n",
       "      <td>0 kW</td>\n",
       "      <td>-2 MW</td>\n",
       "    </tr>\n",
       "    <tr>\n",
       "      <th>1458</th>\n",
       "      <td>2021-12-31 07:00:00</td>\n",
       "      <td>3.09 GW</td>\n",
       "      <td>NaN</td>\n",
       "    </tr>\n",
       "    <tr>\n",
       "      <th>1459</th>\n",
       "      <td>2021-12-31 13:00:00</td>\n",
       "      <td>1.74 GW</td>\n",
       "      <td>NaN</td>\n",
       "    </tr>\n",
       "    <tr>\n",
       "      <th>1460</th>\n",
       "      <td>2021-12-31 19:00:00</td>\n",
       "      <td>0 kW</td>\n",
       "      <td>NaN</td>\n",
       "    </tr>\n",
       "  </tbody>\n",
       "</table>\n",
       "<p>1461 rows × 3 columns</p>\n",
       "</div>"
      ],
      "text/plain": [
       "                     Time    Solar IT/solar_negative\n",
       "0     2020-12-31 19:00:00     0 kW               NaN\n",
       "1     2021-01-01 01:00:00     0 kW               NaN\n",
       "2     2021-01-01 07:00:00  1.94 GW               NaN\n",
       "3     2021-01-01 13:00:00   883 MW               NaN\n",
       "4     2021-01-01 19:00:00     0 kW               NaN\n",
       "...                   ...      ...               ...\n",
       "1456  2021-12-30 19:00:00     0 kW          -2.01 MW\n",
       "1457  2021-12-31 01:00:00     0 kW             -2 MW\n",
       "1458  2021-12-31 07:00:00  3.09 GW               NaN\n",
       "1459  2021-12-31 13:00:00  1.74 GW               NaN\n",
       "1460  2021-12-31 19:00:00     0 kW               NaN\n",
       "\n",
       "[1461 rows x 3 columns]"
      ]
     },
     "execution_count": 4,
     "metadata": {},
     "output_type": "execute_result"
    }
   ],
   "source": [
    "df"
   ]
  },
  {
   "cell_type": "code",
   "execution_count": 5,
   "metadata": {},
   "outputs": [],
   "source": [
    "df = df.set_index('Time')"
   ]
  },
  {
   "cell_type": "code",
   "execution_count": 6,
   "metadata": {},
   "outputs": [],
   "source": [
    "def convertir_en_MW(valeur):\n",
    "    if 'GW' in valeur:\n",
    "        return float(valeur.replace('GW', '')) * 1e3  # Convertir de GW à MW\n",
    "    elif 'MW' in valeur:\n",
    "        return float(valeur.replace('MW', ''))   # Pas de conversion nécessaire\n",
    "    elif 'kW' in valeur:\n",
    "        return float(valeur.replace('kW', '')) /1e3 # Convertir de kW à MW\n",
    "\n",
    "# Appliquer la fonction de conversion à la colonne 'FR/solar'\n",
    "df['Solar'] = df['Solar'].apply(convertir_en_MW)"
   ]
  },
  {
   "cell_type": "code",
   "execution_count": 41,
   "metadata": {},
   "outputs": [],
   "source": [
    "df['Solar'].to_excel('input_time_series/Italy/Solar_energy_Italy_2021_intermittent.xlsx', index = False)"
   ]
  },
  {
   "cell_type": "code",
   "execution_count": 7,
   "metadata": {},
   "outputs": [
    {
     "name": "stdout",
     "output_type": "stream",
     "text": [
      "DatetimeIndex(['2021-01-03 22:00:00', '2021-02-24 08:00:00',\n",
      "               '2021-03-28 02:00:00', '2021-05-12 08:00:00',\n",
      "               '2021-05-19 04:00:00', '2021-06-03 16:00:00',\n",
      "               '2021-10-31 00:00:00', '2021-10-31 01:00:00',\n",
      "               '2021-11-17 10:00:00', '2021-11-18 10:00:00'],\n",
      "              dtype='datetime64[ns]', freq=None)\n"
     ]
    },
    {
     "name": "stderr",
     "output_type": "stream",
     "text": [
      "C:\\Users\\JD278300\\AppData\\Local\\Temp\\ipykernel_11100\\3348577262.py:13: FutureWarning: DataFrame.interpolate with object dtype is deprecated and will raise in a future version. Call obj.infer_objects(copy=False) before interpolating instead.\n",
      "  data_interpolated = data_reindexed.interpolate(method=\"linear\")\n"
     ]
    }
   ],
   "source": [
    "ts = pd.read_excel('input_time_series/FR_monthly_hourly_load_values_2021.xlsx')\n",
    "country_key ='FR'\n",
    "ts = ts.set_index('DateUTC')\n",
    "\n",
    "ts.index = pd.to_datetime(ts.index)\n",
    "date_range = pd.date_range(start=pd.to_datetime(\"2021/01/01\"), end=pd.to_datetime(\"2021/12/31 23:00:00\"), freq=\"h\")\n",
    "missing_dates = date_range[~date_range.isin(ts.index)]\n",
    "print(missing_dates)\n",
    "\n",
    "df_dropped = ts.reset_index().drop_duplicates(subset='DateUTC', keep='last').set_index('DateUTC')\n",
    "\n",
    "data_reindexed = df_dropped.reindex(date_range)\n",
    "data_interpolated = data_reindexed.interpolate(method=\"linear\")"
   ]
  },
  {
   "cell_type": "code",
   "execution_count": 52,
   "metadata": {},
   "outputs": [],
   "source": [
    "data_interpolated['Value'].to_excel('input_time_series/France/France_load_entsoe_2021.xlsx', index=False)"
   ]
  },
  {
   "cell_type": "code",
   "execution_count": 37,
   "metadata": {},
   "outputs": [
    {
     "data": {
      "text/html": [
       "<div>\n",
       "<style scoped>\n",
       "    .dataframe tbody tr th:only-of-type {\n",
       "        vertical-align: middle;\n",
       "    }\n",
       "\n",
       "    .dataframe tbody tr th {\n",
       "        vertical-align: top;\n",
       "    }\n",
       "\n",
       "    .dataframe thead th {\n",
       "        text-align: right;\n",
       "    }\n",
       "</style>\n",
       "<table border=\"1\" class=\"dataframe\">\n",
       "  <thead>\n",
       "    <tr style=\"text-align: right;\">\n",
       "      <th></th>\n",
       "      <th>Value</th>\n",
       "    </tr>\n",
       "  </thead>\n",
       "  <tbody>\n",
       "    <tr>\n",
       "      <th>0</th>\n",
       "      <td>4135.98</td>\n",
       "    </tr>\n",
       "    <tr>\n",
       "      <th>1</th>\n",
       "      <td>3829.58</td>\n",
       "    </tr>\n",
       "    <tr>\n",
       "      <th>2</th>\n",
       "      <td>3652.09</td>\n",
       "    </tr>\n",
       "    <tr>\n",
       "      <th>3</th>\n",
       "      <td>3663.73</td>\n",
       "    </tr>\n",
       "    <tr>\n",
       "      <th>4</th>\n",
       "      <td>3771.85</td>\n",
       "    </tr>\n",
       "    <tr>\n",
       "      <th>...</th>\n",
       "      <td>...</td>\n",
       "    </tr>\n",
       "    <tr>\n",
       "      <th>8755</th>\n",
       "      <td>6514.00</td>\n",
       "    </tr>\n",
       "    <tr>\n",
       "      <th>8756</th>\n",
       "      <td>5720.00</td>\n",
       "    </tr>\n",
       "    <tr>\n",
       "      <th>8757</th>\n",
       "      <td>5349.00</td>\n",
       "    </tr>\n",
       "    <tr>\n",
       "      <th>8758</th>\n",
       "      <td>4893.00</td>\n",
       "    </tr>\n",
       "    <tr>\n",
       "      <th>8759</th>\n",
       "      <td>4568.00</td>\n",
       "    </tr>\n",
       "  </tbody>\n",
       "</table>\n",
       "<p>8760 rows × 1 columns</p>\n",
       "</div>"
      ],
      "text/plain": [
       "        Value\n",
       "0     4135.98\n",
       "1     3829.58\n",
       "2     3652.09\n",
       "3     3663.73\n",
       "4     3771.85\n",
       "...       ...\n",
       "8755  6514.00\n",
       "8756  5720.00\n",
       "8757  5349.00\n",
       "8758  4893.00\n",
       "8759  4568.00\n",
       "\n",
       "[8760 rows x 1 columns]"
      ]
     },
     "execution_count": 37,
     "metadata": {},
     "output_type": "execute_result"
    }
   ],
   "source": [
    "pd.read_excel('input_time_series/Greece/Greece_load_entsoe_2021.xlsx')"
   ]
  },
  {
   "cell_type": "code",
   "execution_count": 4,
   "metadata": {},
   "outputs": [],
   "source": [
    "data = pd.read_excel('input_time_series/India/India_load_curve_2021.xlsx')"
   ]
  },
  {
   "cell_type": "code",
   "execution_count": 8,
   "metadata": {},
   "outputs": [],
   "source": [
    "data['Hourly Demand Met (in MW)'][0:8760].to_excel('input_time_series/India/India_demand_2021.xlsx', index = False)"
   ]
  },
  {
   "cell_type": "markdown",
   "metadata": {},
   "source": [
    "# Format Ren Ninja TS"
   ]
  },
  {
   "cell_type": "code",
   "execution_count": 7,
   "metadata": {},
   "outputs": [],
   "source": [
    "ninja = pd.read_csv('input_time_series/ninja_pv_wind_profiles_singleindex_filtered.csv')# Convertir la colonne \"time\" en format de date et l'utiliser comme index\n",
    "\n",
    "ninja =ninja.set_index(\"time\")\n",
    "\n",
    "# # Filtrer les données pour l'année 1990\n",
    "\n",
    "# ninja.loc['2016']\n",
    "# ninja.head()"
   ]
  },
  {
   "cell_type": "code",
   "execution_count": 8,
   "metadata": {},
   "outputs": [
    {
     "data": {
      "text/html": [
       "<div>\n",
       "<style scoped>\n",
       "    .dataframe tbody tr th:only-of-type {\n",
       "        vertical-align: middle;\n",
       "    }\n",
       "\n",
       "    .dataframe tbody tr th {\n",
       "        vertical-align: top;\n",
       "    }\n",
       "\n",
       "    .dataframe thead th {\n",
       "        text-align: right;\n",
       "    }\n",
       "</style>\n",
       "<table border=\"1\" class=\"dataframe\">\n",
       "  <thead>\n",
       "    <tr style=\"text-align: right;\">\n",
       "      <th></th>\n",
       "      <th>AL_pv_national_current</th>\n",
       "      <th>AT_pv_national_current</th>\n",
       "      <th>AT_wind_national_current</th>\n",
       "      <th>BA_pv_national_current</th>\n",
       "      <th>BE_pv_national_current</th>\n",
       "      <th>BE_wind_national_current</th>\n",
       "      <th>BE_wind_offshore_current</th>\n",
       "      <th>BE_wind_onshore_current</th>\n",
       "      <th>BG_pv_national_current</th>\n",
       "      <th>BG_wind_national_current</th>\n",
       "      <th>...</th>\n",
       "      <th>RO_wind_national_current</th>\n",
       "      <th>RS_pv_national_current</th>\n",
       "      <th>SE_pv_national_current</th>\n",
       "      <th>SE_wind_national_current</th>\n",
       "      <th>SE_wind_offshore_current</th>\n",
       "      <th>SE_wind_onshore_current</th>\n",
       "      <th>SI_pv_national_current</th>\n",
       "      <th>SI_wind_national_current</th>\n",
       "      <th>SK_pv_national_current</th>\n",
       "      <th>SK_wind_national_current</th>\n",
       "    </tr>\n",
       "    <tr>\n",
       "      <th>time</th>\n",
       "      <th></th>\n",
       "      <th></th>\n",
       "      <th></th>\n",
       "      <th></th>\n",
       "      <th></th>\n",
       "      <th></th>\n",
       "      <th></th>\n",
       "      <th></th>\n",
       "      <th></th>\n",
       "      <th></th>\n",
       "      <th></th>\n",
       "      <th></th>\n",
       "      <th></th>\n",
       "      <th></th>\n",
       "      <th></th>\n",
       "      <th></th>\n",
       "      <th></th>\n",
       "      <th></th>\n",
       "      <th></th>\n",
       "      <th></th>\n",
       "      <th></th>\n",
       "    </tr>\n",
       "  </thead>\n",
       "  <tbody>\n",
       "    <tr>\n",
       "      <th>2019-01-01T00:00:00Z</th>\n",
       "      <td>0.0</td>\n",
       "      <td>0.0</td>\n",
       "      <td>0.0923</td>\n",
       "      <td>0.0</td>\n",
       "      <td>0.0</td>\n",
       "      <td>0.2398</td>\n",
       "      <td>0.3313</td>\n",
       "      <td>0.1960</td>\n",
       "      <td>0.0</td>\n",
       "      <td>0.1524</td>\n",
       "      <td>...</td>\n",
       "      <td>0.0545</td>\n",
       "      <td>0.0</td>\n",
       "      <td>0.0</td>\n",
       "      <td>0.6653</td>\n",
       "      <td>0.9827</td>\n",
       "      <td>0.6472</td>\n",
       "      <td>0.0</td>\n",
       "      <td>0.0530</td>\n",
       "      <td>0.0</td>\n",
       "      <td>0.0000</td>\n",
       "    </tr>\n",
       "    <tr>\n",
       "      <th>2019-01-01T01:00:00Z</th>\n",
       "      <td>0.0</td>\n",
       "      <td>0.0</td>\n",
       "      <td>0.0881</td>\n",
       "      <td>0.0</td>\n",
       "      <td>0.0</td>\n",
       "      <td>0.2564</td>\n",
       "      <td>0.3661</td>\n",
       "      <td>0.2039</td>\n",
       "      <td>0.0</td>\n",
       "      <td>0.1867</td>\n",
       "      <td>...</td>\n",
       "      <td>0.0593</td>\n",
       "      <td>0.0</td>\n",
       "      <td>0.0</td>\n",
       "      <td>0.6377</td>\n",
       "      <td>0.9580</td>\n",
       "      <td>0.6195</td>\n",
       "      <td>0.0</td>\n",
       "      <td>0.0434</td>\n",
       "      <td>0.0</td>\n",
       "      <td>0.0000</td>\n",
       "    </tr>\n",
       "    <tr>\n",
       "      <th>2019-01-01T02:00:00Z</th>\n",
       "      <td>0.0</td>\n",
       "      <td>0.0</td>\n",
       "      <td>0.0913</td>\n",
       "      <td>0.0</td>\n",
       "      <td>0.0</td>\n",
       "      <td>0.2762</td>\n",
       "      <td>0.3812</td>\n",
       "      <td>0.2260</td>\n",
       "      <td>0.0</td>\n",
       "      <td>0.2110</td>\n",
       "      <td>...</td>\n",
       "      <td>0.0529</td>\n",
       "      <td>0.0</td>\n",
       "      <td>0.0</td>\n",
       "      <td>0.6143</td>\n",
       "      <td>0.9271</td>\n",
       "      <td>0.5965</td>\n",
       "      <td>0.0</td>\n",
       "      <td>0.0399</td>\n",
       "      <td>0.0</td>\n",
       "      <td>0.0013</td>\n",
       "    </tr>\n",
       "    <tr>\n",
       "      <th>2019-01-01T03:00:00Z</th>\n",
       "      <td>0.0</td>\n",
       "      <td>0.0</td>\n",
       "      <td>0.0919</td>\n",
       "      <td>0.0</td>\n",
       "      <td>0.0</td>\n",
       "      <td>0.2873</td>\n",
       "      <td>0.3790</td>\n",
       "      <td>0.2434</td>\n",
       "      <td>0.0</td>\n",
       "      <td>0.2216</td>\n",
       "      <td>...</td>\n",
       "      <td>0.0441</td>\n",
       "      <td>0.0</td>\n",
       "      <td>0.0</td>\n",
       "      <td>0.6044</td>\n",
       "      <td>0.8647</td>\n",
       "      <td>0.5896</td>\n",
       "      <td>0.0</td>\n",
       "      <td>0.0335</td>\n",
       "      <td>0.0</td>\n",
       "      <td>0.0091</td>\n",
       "    </tr>\n",
       "    <tr>\n",
       "      <th>2019-01-01T04:00:00Z</th>\n",
       "      <td>0.0</td>\n",
       "      <td>0.0</td>\n",
       "      <td>0.0999</td>\n",
       "      <td>0.0</td>\n",
       "      <td>0.0</td>\n",
       "      <td>0.2906</td>\n",
       "      <td>0.3928</td>\n",
       "      <td>0.2416</td>\n",
       "      <td>0.0</td>\n",
       "      <td>0.2156</td>\n",
       "      <td>...</td>\n",
       "      <td>0.0362</td>\n",
       "      <td>0.0</td>\n",
       "      <td>0.0</td>\n",
       "      <td>0.5973</td>\n",
       "      <td>0.8925</td>\n",
       "      <td>0.5805</td>\n",
       "      <td>0.0</td>\n",
       "      <td>0.0258</td>\n",
       "      <td>0.0</td>\n",
       "      <td>0.0215</td>\n",
       "    </tr>\n",
       "  </tbody>\n",
       "</table>\n",
       "<p>5 rows × 86 columns</p>\n",
       "</div>"
      ],
      "text/plain": [
       "                      AL_pv_national_current  AT_pv_national_current  \\\n",
       "time                                                                   \n",
       "2019-01-01T00:00:00Z                     0.0                     0.0   \n",
       "2019-01-01T01:00:00Z                     0.0                     0.0   \n",
       "2019-01-01T02:00:00Z                     0.0                     0.0   \n",
       "2019-01-01T03:00:00Z                     0.0                     0.0   \n",
       "2019-01-01T04:00:00Z                     0.0                     0.0   \n",
       "\n",
       "                      AT_wind_national_current  BA_pv_national_current  \\\n",
       "time                                                                     \n",
       "2019-01-01T00:00:00Z                    0.0923                     0.0   \n",
       "2019-01-01T01:00:00Z                    0.0881                     0.0   \n",
       "2019-01-01T02:00:00Z                    0.0913                     0.0   \n",
       "2019-01-01T03:00:00Z                    0.0919                     0.0   \n",
       "2019-01-01T04:00:00Z                    0.0999                     0.0   \n",
       "\n",
       "                      BE_pv_national_current  BE_wind_national_current  \\\n",
       "time                                                                     \n",
       "2019-01-01T00:00:00Z                     0.0                    0.2398   \n",
       "2019-01-01T01:00:00Z                     0.0                    0.2564   \n",
       "2019-01-01T02:00:00Z                     0.0                    0.2762   \n",
       "2019-01-01T03:00:00Z                     0.0                    0.2873   \n",
       "2019-01-01T04:00:00Z                     0.0                    0.2906   \n",
       "\n",
       "                      BE_wind_offshore_current  BE_wind_onshore_current  \\\n",
       "time                                                                      \n",
       "2019-01-01T00:00:00Z                    0.3313                   0.1960   \n",
       "2019-01-01T01:00:00Z                    0.3661                   0.2039   \n",
       "2019-01-01T02:00:00Z                    0.3812                   0.2260   \n",
       "2019-01-01T03:00:00Z                    0.3790                   0.2434   \n",
       "2019-01-01T04:00:00Z                    0.3928                   0.2416   \n",
       "\n",
       "                      BG_pv_national_current  BG_wind_national_current  ...  \\\n",
       "time                                                                    ...   \n",
       "2019-01-01T00:00:00Z                     0.0                    0.1524  ...   \n",
       "2019-01-01T01:00:00Z                     0.0                    0.1867  ...   \n",
       "2019-01-01T02:00:00Z                     0.0                    0.2110  ...   \n",
       "2019-01-01T03:00:00Z                     0.0                    0.2216  ...   \n",
       "2019-01-01T04:00:00Z                     0.0                    0.2156  ...   \n",
       "\n",
       "                      RO_wind_national_current  RS_pv_national_current  \\\n",
       "time                                                                     \n",
       "2019-01-01T00:00:00Z                    0.0545                     0.0   \n",
       "2019-01-01T01:00:00Z                    0.0593                     0.0   \n",
       "2019-01-01T02:00:00Z                    0.0529                     0.0   \n",
       "2019-01-01T03:00:00Z                    0.0441                     0.0   \n",
       "2019-01-01T04:00:00Z                    0.0362                     0.0   \n",
       "\n",
       "                      SE_pv_national_current  SE_wind_national_current  \\\n",
       "time                                                                     \n",
       "2019-01-01T00:00:00Z                     0.0                    0.6653   \n",
       "2019-01-01T01:00:00Z                     0.0                    0.6377   \n",
       "2019-01-01T02:00:00Z                     0.0                    0.6143   \n",
       "2019-01-01T03:00:00Z                     0.0                    0.6044   \n",
       "2019-01-01T04:00:00Z                     0.0                    0.5973   \n",
       "\n",
       "                      SE_wind_offshore_current  SE_wind_onshore_current  \\\n",
       "time                                                                      \n",
       "2019-01-01T00:00:00Z                    0.9827                   0.6472   \n",
       "2019-01-01T01:00:00Z                    0.9580                   0.6195   \n",
       "2019-01-01T02:00:00Z                    0.9271                   0.5965   \n",
       "2019-01-01T03:00:00Z                    0.8647                   0.5896   \n",
       "2019-01-01T04:00:00Z                    0.8925                   0.5805   \n",
       "\n",
       "                      SI_pv_national_current  SI_wind_national_current  \\\n",
       "time                                                                     \n",
       "2019-01-01T00:00:00Z                     0.0                    0.0530   \n",
       "2019-01-01T01:00:00Z                     0.0                    0.0434   \n",
       "2019-01-01T02:00:00Z                     0.0                    0.0399   \n",
       "2019-01-01T03:00:00Z                     0.0                    0.0335   \n",
       "2019-01-01T04:00:00Z                     0.0                    0.0258   \n",
       "\n",
       "                      SK_pv_national_current  SK_wind_national_current  \n",
       "time                                                                    \n",
       "2019-01-01T00:00:00Z                     0.0                    0.0000  \n",
       "2019-01-01T01:00:00Z                     0.0                    0.0000  \n",
       "2019-01-01T02:00:00Z                     0.0                    0.0013  \n",
       "2019-01-01T03:00:00Z                     0.0                    0.0091  \n",
       "2019-01-01T04:00:00Z                     0.0                    0.0215  \n",
       "\n",
       "[5 rows x 86 columns]"
      ]
     },
     "execution_count": 8,
     "metadata": {},
     "output_type": "execute_result"
    }
   ],
   "source": [
    "ninja.head()"
   ]
  },
  {
   "cell_type": "code",
   "execution_count": 9,
   "metadata": {},
   "outputs": [
    {
     "ename": "KeyError",
     "evalue": "'JP_wind_national_current'",
     "output_type": "error",
     "traceback": [
      "\u001b[1;31m---------------------------------------------------------------------------\u001b[0m",
      "\u001b[1;31mKeyError\u001b[0m                                  Traceback (most recent call last)",
      "File \u001b[1;32ms:\\131-DPE\\131.1-Temporaire\\131.1.1-Espace commun\\zone transfert temporaire\\ITESE Grenoble\\Stage Justine\\Code git\\wavelet_decomposition\\.conda\\lib\\site-packages\\pandas\\core\\indexes\\base.py:3805\u001b[0m, in \u001b[0;36mIndex.get_loc\u001b[1;34m(self, key)\u001b[0m\n\u001b[0;32m   3804\u001b[0m \u001b[39mtry\u001b[39;00m:\n\u001b[1;32m-> 3805\u001b[0m     \u001b[39mreturn\u001b[39;00m \u001b[39mself\u001b[39;49m\u001b[39m.\u001b[39;49m_engine\u001b[39m.\u001b[39;49mget_loc(casted_key)\n\u001b[0;32m   3806\u001b[0m \u001b[39mexcept\u001b[39;00m \u001b[39mKeyError\u001b[39;00m \u001b[39mas\u001b[39;00m err:\n",
      "File \u001b[1;32mindex.pyx:167\u001b[0m, in \u001b[0;36mpandas._libs.index.IndexEngine.get_loc\u001b[1;34m()\u001b[0m\n",
      "File \u001b[1;32mindex.pyx:196\u001b[0m, in \u001b[0;36mpandas._libs.index.IndexEngine.get_loc\u001b[1;34m()\u001b[0m\n",
      "File \u001b[1;32mpandas\\\\_libs\\\\hashtable_class_helper.pxi:7081\u001b[0m, in \u001b[0;36mpandas._libs.hashtable.PyObjectHashTable.get_item\u001b[1;34m()\u001b[0m\n",
      "File \u001b[1;32mpandas\\\\_libs\\\\hashtable_class_helper.pxi:7089\u001b[0m, in \u001b[0;36mpandas._libs.hashtable.PyObjectHashTable.get_item\u001b[1;34m()\u001b[0m\n",
      "\u001b[1;31mKeyError\u001b[0m: 'JP_wind_national_current'",
      "\nThe above exception was the direct cause of the following exception:\n",
      "\u001b[1;31mKeyError\u001b[0m                                  Traceback (most recent call last)",
      "Cell \u001b[1;32mIn[9], line 3\u001b[0m\n\u001b[0;32m      1\u001b[0m country_code \u001b[39m=\u001b[39m\u001b[39m'\u001b[39m\u001b[39mJP\u001b[39m\u001b[39m'\u001b[39m\n\u001b[0;32m      2\u001b[0m country_name \u001b[39m=\u001b[39m \u001b[39m'\u001b[39m\u001b[39mJapan\u001b[39m\u001b[39m'\u001b[39m\n\u001b[1;32m----> 3\u001b[0m wind \u001b[39m=\u001b[39m ninja[\u001b[39mf\u001b[39;49m\u001b[39m'\u001b[39;49m\u001b[39m{\u001b[39;49;00mcountry_code\u001b[39m}\u001b[39;49;00m\u001b[39m_wind_national_current\u001b[39;49m\u001b[39m'\u001b[39;49m]\n\u001b[0;32m      4\u001b[0m \u001b[39m# wind.to_excel(f'input_time_series/{country_name}/ren_ninja_wind_{country_code}_2019.xlsx', index=False)\u001b[39;00m\n",
      "File \u001b[1;32ms:\\131-DPE\\131.1-Temporaire\\131.1.1-Espace commun\\zone transfert temporaire\\ITESE Grenoble\\Stage Justine\\Code git\\wavelet_decomposition\\.conda\\lib\\site-packages\\pandas\\core\\frame.py:4090\u001b[0m, in \u001b[0;36mDataFrame.__getitem__\u001b[1;34m(self, key)\u001b[0m\n\u001b[0;32m   4088\u001b[0m \u001b[39mif\u001b[39;00m \u001b[39mself\u001b[39m\u001b[39m.\u001b[39mcolumns\u001b[39m.\u001b[39mnlevels \u001b[39m>\u001b[39m \u001b[39m1\u001b[39m:\n\u001b[0;32m   4089\u001b[0m     \u001b[39mreturn\u001b[39;00m \u001b[39mself\u001b[39m\u001b[39m.\u001b[39m_getitem_multilevel(key)\n\u001b[1;32m-> 4090\u001b[0m indexer \u001b[39m=\u001b[39m \u001b[39mself\u001b[39;49m\u001b[39m.\u001b[39;49mcolumns\u001b[39m.\u001b[39;49mget_loc(key)\n\u001b[0;32m   4091\u001b[0m \u001b[39mif\u001b[39;00m is_integer(indexer):\n\u001b[0;32m   4092\u001b[0m     indexer \u001b[39m=\u001b[39m [indexer]\n",
      "File \u001b[1;32ms:\\131-DPE\\131.1-Temporaire\\131.1.1-Espace commun\\zone transfert temporaire\\ITESE Grenoble\\Stage Justine\\Code git\\wavelet_decomposition\\.conda\\lib\\site-packages\\pandas\\core\\indexes\\base.py:3812\u001b[0m, in \u001b[0;36mIndex.get_loc\u001b[1;34m(self, key)\u001b[0m\n\u001b[0;32m   3807\u001b[0m     \u001b[39mif\u001b[39;00m \u001b[39misinstance\u001b[39m(casted_key, \u001b[39mslice\u001b[39m) \u001b[39mor\u001b[39;00m (\n\u001b[0;32m   3808\u001b[0m         \u001b[39misinstance\u001b[39m(casted_key, abc\u001b[39m.\u001b[39mIterable)\n\u001b[0;32m   3809\u001b[0m         \u001b[39mand\u001b[39;00m \u001b[39many\u001b[39m(\u001b[39misinstance\u001b[39m(x, \u001b[39mslice\u001b[39m) \u001b[39mfor\u001b[39;00m x \u001b[39min\u001b[39;00m casted_key)\n\u001b[0;32m   3810\u001b[0m     ):\n\u001b[0;32m   3811\u001b[0m         \u001b[39mraise\u001b[39;00m InvalidIndexError(key)\n\u001b[1;32m-> 3812\u001b[0m     \u001b[39mraise\u001b[39;00m \u001b[39mKeyError\u001b[39;00m(key) \u001b[39mfrom\u001b[39;00m \u001b[39merr\u001b[39;00m\n\u001b[0;32m   3813\u001b[0m \u001b[39mexcept\u001b[39;00m \u001b[39mTypeError\u001b[39;00m:\n\u001b[0;32m   3814\u001b[0m     \u001b[39m# If we have a listlike key, _check_indexing_error will raise\u001b[39;00m\n\u001b[0;32m   3815\u001b[0m     \u001b[39m#  InvalidIndexError. Otherwise we fall through and re-raise\u001b[39;00m\n\u001b[0;32m   3816\u001b[0m     \u001b[39m#  the TypeError.\u001b[39;00m\n\u001b[0;32m   3817\u001b[0m     \u001b[39mself\u001b[39m\u001b[39m.\u001b[39m_check_indexing_error(key)\n",
      "\u001b[1;31mKeyError\u001b[0m: 'JP_wind_national_current'"
     ]
    }
   ],
   "source": [
    "country_code ='JP'\n",
    "country_name = 'Japan'\n",
    "wind = ninja[f'{country_code}_wind_national_current']\n",
    "# wind.to_excel(f'input_time_series/{country_name}/ren_ninja_wind_{country_code}_2019.xlsx', index=False)"
   ]
  },
  {
   "cell_type": "code",
   "execution_count": 37,
   "metadata": {},
   "outputs": [
    {
     "ename": "",
     "evalue": "",
     "output_type": "error",
     "traceback": [
      "\u001b[1;31mThe Kernel crashed while executing code in the the current cell or a previous cell. Please review the code in the cell(s) to identify a possible cause of the failure. Click <a href='https://aka.ms/vscodeJupyterKernelCrash'>here</a> for more info. View Jupyter <a href='command:jupyter.viewOutput'>log</a> for further details."
     ]
    }
   ],
   "source": [
    "pv = ninja[f'{country_code}_pv_national_current']\n",
    "pv.to_excel(f'input_time_series/{country_name}/ren_ninja_pv_{country_code}_2019.xlsx', index=False)"
   ]
  },
  {
   "cell_type": "markdown",
   "metadata": {},
   "source": [
    "## Format TS Ren ninja : local point"
   ]
  },
  {
   "cell_type": "code",
   "execution_count": 34,
   "metadata": {},
   "outputs": [],
   "source": [
    "df = pd.read_csv('input_time_series/Japan/ninja_wind_36.5748_139.2394_uncorrected.csv', skiprows =3)"
   ]
  },
  {
   "cell_type": "code",
   "execution_count": 35,
   "metadata": {},
   "outputs": [
    {
     "ename": "",
     "evalue": "",
     "output_type": "error",
     "traceback": [
      "\u001b[1;31mThe Kernel crashed while executing code in the the current cell or a previous cell. Please review the code in the cell(s) to identify a possible cause of the failure. Click <a href='https://aka.ms/vscodeJupyterKernelCrash'>here</a> for more info. View Jupyter <a href='command:jupyter.viewOutput'>log</a> for further details."
     ]
    }
   ],
   "source": [
    "df['electricity'].to_excel('input_time_series/Japan/Japan_wind_2021_ren_ninja_local_utc.xlsx', index = False)"
   ]
  },
  {
   "cell_type": "code",
   "execution_count": 27,
   "metadata": {},
   "outputs": [],
   "source": [
    "df['local_time'] = pd.to_datetime(df['local_time'])\n",
    "\n",
    "# Sélectionner uniquement les valeurs du local time de l'année 2021\n",
    "df_2021 = df[df['local_time'].dt.year == 2020]\n",
    "df_2022 = df[df['local_time'].dt.year == 2021]\n",
    "\n",
    "# Réorganiser les données pour placer celles de fin 2020 à la fin de 2021\n",
    "new_order = list(df_2021.index) + list(df_2022.index)\n",
    "df_reordered = df.reindex(new_order)"
   ]
  },
  {
   "cell_type": "code",
   "execution_count": 28,
   "metadata": {},
   "outputs": [],
   "source": [
    "df_concatenated = pd.concat([df_2022, df_2021], ignore_index=True)"
   ]
  },
  {
   "cell_type": "code",
   "execution_count": 29,
   "metadata": {},
   "outputs": [
    {
     "data": {
      "text/html": [
       "<div>\n",
       "<style scoped>\n",
       "    .dataframe tbody tr th:only-of-type {\n",
       "        vertical-align: middle;\n",
       "    }\n",
       "\n",
       "    .dataframe tbody tr th {\n",
       "        vertical-align: top;\n",
       "    }\n",
       "\n",
       "    .dataframe thead th {\n",
       "        text-align: right;\n",
       "    }\n",
       "</style>\n",
       "<table border=\"1\" class=\"dataframe\">\n",
       "  <thead>\n",
       "    <tr style=\"text-align: right;\">\n",
       "      <th></th>\n",
       "      <th>time</th>\n",
       "      <th>local_time</th>\n",
       "      <th>electricity</th>\n",
       "    </tr>\n",
       "  </thead>\n",
       "  <tbody>\n",
       "    <tr>\n",
       "      <th>0</th>\n",
       "      <td>2021-01-01 08:00</td>\n",
       "      <td>2021-01-01 00:00:00</td>\n",
       "      <td>0.0</td>\n",
       "    </tr>\n",
       "    <tr>\n",
       "      <th>1</th>\n",
       "      <td>2021-01-01 09:00</td>\n",
       "      <td>2021-01-01 01:00:00</td>\n",
       "      <td>0.0</td>\n",
       "    </tr>\n",
       "    <tr>\n",
       "      <th>2</th>\n",
       "      <td>2021-01-01 10:00</td>\n",
       "      <td>2021-01-01 02:00:00</td>\n",
       "      <td>0.0</td>\n",
       "    </tr>\n",
       "    <tr>\n",
       "      <th>3</th>\n",
       "      <td>2021-01-01 11:00</td>\n",
       "      <td>2021-01-01 03:00:00</td>\n",
       "      <td>0.0</td>\n",
       "    </tr>\n",
       "    <tr>\n",
       "      <th>4</th>\n",
       "      <td>2021-01-01 12:00</td>\n",
       "      <td>2021-01-01 04:00:00</td>\n",
       "      <td>0.0</td>\n",
       "    </tr>\n",
       "    <tr>\n",
       "      <th>...</th>\n",
       "      <td>...</td>\n",
       "      <td>...</td>\n",
       "      <td>...</td>\n",
       "    </tr>\n",
       "    <tr>\n",
       "      <th>8755</th>\n",
       "      <td>2021-01-01 03:00</td>\n",
       "      <td>2020-12-31 19:00:00</td>\n",
       "      <td>0.0</td>\n",
       "    </tr>\n",
       "    <tr>\n",
       "      <th>8756</th>\n",
       "      <td>2021-01-01 04:00</td>\n",
       "      <td>2020-12-31 20:00:00</td>\n",
       "      <td>0.0</td>\n",
       "    </tr>\n",
       "    <tr>\n",
       "      <th>8757</th>\n",
       "      <td>2021-01-01 05:00</td>\n",
       "      <td>2020-12-31 21:00:00</td>\n",
       "      <td>0.0</td>\n",
       "    </tr>\n",
       "    <tr>\n",
       "      <th>8758</th>\n",
       "      <td>2021-01-01 06:00</td>\n",
       "      <td>2020-12-31 22:00:00</td>\n",
       "      <td>0.0</td>\n",
       "    </tr>\n",
       "    <tr>\n",
       "      <th>8759</th>\n",
       "      <td>2021-01-01 07:00</td>\n",
       "      <td>2020-12-31 23:00:00</td>\n",
       "      <td>0.0</td>\n",
       "    </tr>\n",
       "  </tbody>\n",
       "</table>\n",
       "<p>8760 rows × 3 columns</p>\n",
       "</div>"
      ],
      "text/plain": [
       "                  time          local_time  electricity\n",
       "0     2021-01-01 08:00 2021-01-01 00:00:00          0.0\n",
       "1     2021-01-01 09:00 2021-01-01 01:00:00          0.0\n",
       "2     2021-01-01 10:00 2021-01-01 02:00:00          0.0\n",
       "3     2021-01-01 11:00 2021-01-01 03:00:00          0.0\n",
       "4     2021-01-01 12:00 2021-01-01 04:00:00          0.0\n",
       "...                ...                 ...          ...\n",
       "8755  2021-01-01 03:00 2020-12-31 19:00:00          0.0\n",
       "8756  2021-01-01 04:00 2020-12-31 20:00:00          0.0\n",
       "8757  2021-01-01 05:00 2020-12-31 21:00:00          0.0\n",
       "8758  2021-01-01 06:00 2020-12-31 22:00:00          0.0\n",
       "8759  2021-01-01 07:00 2020-12-31 23:00:00          0.0\n",
       "\n",
       "[8760 rows x 3 columns]"
      ]
     },
     "execution_count": 29,
     "metadata": {},
     "output_type": "execute_result"
    }
   ],
   "source": [
    "df_concatenated"
   ]
  },
  {
   "cell_type": "code",
   "execution_count": 30,
   "metadata": {},
   "outputs": [],
   "source": [
    "# data = pd.read_csv('input_time_series/Japan/ninja_pv_36.1124_137.2365_uncorrected.csv', skiprows =3)\n",
    "df_concatenated['electricity'].to_excel('input_time_series/California/California_pv_2021_ren_ninja_local.xlsx', index = False)"
   ]
  },
  {
   "cell_type": "markdown",
   "metadata": {},
   "source": [
    "## Format TS intermittent energy"
   ]
  },
  {
   "cell_type": "markdown",
   "metadata": {},
   "source": [
    "https://intermittent.energy/d/QCEg6rl7z/generation?orgId=1&from=1640991600000&to=1672527599000&viewPanel=4&var-region=japan&var-area_type=region&var-area=All&var-production_type=17&var-group_by=area&var-group_by=production_type&var-demand=0&var-min_interval=1h&var-gapfill_function=interpolate&inspect=4"
   ]
  },
  {
   "cell_type": "code",
   "execution_count": 7,
   "metadata": {},
   "outputs": [],
   "source": [
    "df = pd.read_csv('input_time_series/Japan/Wind_energy_generation_2022_Japan_intermittent.csv', parse_dates=['Time'])\n",
    "\n",
    "# Extract power values without units and convert to MW or GW\n",
    "df['Power'] = df['tohoku/wind'].str.extract('([\\d.]+)').astype(float)  # Extract numerical values\n",
    "df.loc[df['tohoku/wind'].str.contains('GW'), 'Power'] *= 1000  # Convert GW to MW\n",
    "df.loc[df['tohoku/wind'].str.contains('kw'), 'Power'] /= 1000  # Convert kW to MW\n",
    "\n",
    "df.set_index('Time', inplace=True)\n",
    "\n",
    "df.drop(columns=['tohoku/wind'], inplace=True)\n",
    "\n",
    "df.to_excel('Wind_energy_generation_2022_Japan_intermittent.xlsx', index=False)"
   ]
  },
  {
   "cell_type": "code",
   "execution_count": 8,
   "metadata": {},
   "outputs": [
    {
     "data": {
      "text/html": [
       "<div>\n",
       "<style scoped>\n",
       "    .dataframe tbody tr th:only-of-type {\n",
       "        vertical-align: middle;\n",
       "    }\n",
       "\n",
       "    .dataframe tbody tr th {\n",
       "        vertical-align: top;\n",
       "    }\n",
       "\n",
       "    .dataframe thead th {\n",
       "        text-align: right;\n",
       "    }\n",
       "</style>\n",
       "<table border=\"1\" class=\"dataframe\">\n",
       "  <thead>\n",
       "    <tr style=\"text-align: right;\">\n",
       "      <th></th>\n",
       "      <th>Power</th>\n",
       "    </tr>\n",
       "    <tr>\n",
       "      <th>Time</th>\n",
       "      <th></th>\n",
       "    </tr>\n",
       "  </thead>\n",
       "  <tbody>\n",
       "    <tr>\n",
       "      <th>2021-12-31 19:00:00</th>\n",
       "      <td>1150.0</td>\n",
       "    </tr>\n",
       "    <tr>\n",
       "      <th>2022-01-01 01:00:00</th>\n",
       "      <td>1160.0</td>\n",
       "    </tr>\n",
       "    <tr>\n",
       "      <th>2022-01-01 07:00:00</th>\n",
       "      <td>1080.0</td>\n",
       "    </tr>\n",
       "    <tr>\n",
       "      <th>2022-01-01 13:00:00</th>\n",
       "      <td>762.0</td>\n",
       "    </tr>\n",
       "    <tr>\n",
       "      <th>2022-01-01 19:00:00</th>\n",
       "      <td>465.0</td>\n",
       "    </tr>\n",
       "    <tr>\n",
       "      <th>...</th>\n",
       "      <td>...</td>\n",
       "    </tr>\n",
       "    <tr>\n",
       "      <th>2022-12-30 19:00:00</th>\n",
       "      <td>694.0</td>\n",
       "    </tr>\n",
       "    <tr>\n",
       "      <th>2022-12-31 01:00:00</th>\n",
       "      <td>787.0</td>\n",
       "    </tr>\n",
       "    <tr>\n",
       "      <th>2022-12-31 07:00:00</th>\n",
       "      <td>854.0</td>\n",
       "    </tr>\n",
       "    <tr>\n",
       "      <th>2022-12-31 13:00:00</th>\n",
       "      <td>1090.0</td>\n",
       "    </tr>\n",
       "    <tr>\n",
       "      <th>2022-12-31 19:00:00</th>\n",
       "      <td>1070.0</td>\n",
       "    </tr>\n",
       "  </tbody>\n",
       "</table>\n",
       "<p>1461 rows × 1 columns</p>\n",
       "</div>"
      ],
      "text/plain": [
       "                      Power\n",
       "Time                       \n",
       "2021-12-31 19:00:00  1150.0\n",
       "2022-01-01 01:00:00  1160.0\n",
       "2022-01-01 07:00:00  1080.0\n",
       "2022-01-01 13:00:00   762.0\n",
       "2022-01-01 19:00:00   465.0\n",
       "...                     ...\n",
       "2022-12-30 19:00:00   694.0\n",
       "2022-12-31 01:00:00   787.0\n",
       "2022-12-31 07:00:00   854.0\n",
       "2022-12-31 13:00:00  1090.0\n",
       "2022-12-31 19:00:00  1070.0\n",
       "\n",
       "[1461 rows x 1 columns]"
      ]
     },
     "execution_count": 8,
     "metadata": {},
     "output_type": "execute_result"
    }
   ],
   "source": [
    "df"
   ]
  },
  {
   "cell_type": "code",
   "execution_count": 14,
   "metadata": {},
   "outputs": [],
   "source": [
    "data = pd.read_csv('input_time_series/Finland/FI_demand_artificial_2021-2022_w_FR_coeff.csv')"
   ]
  },
  {
   "cell_type": "code",
   "execution_count": 17,
   "metadata": {},
   "outputs": [],
   "source": [
    "data['FI'].to_excel('input_time_series/Finland/FI_demand_artificial_2021-2022_w_FR_coeff.xlsx', index = False)"
   ]
  },
  {
   "cell_type": "markdown",
   "metadata": {},
   "source": [
    "# Format TS opsd"
   ]
  },
  {
   "cell_type": "code",
   "execution_count": 15,
   "metadata": {},
   "outputs": [],
   "source": [
    "df = pd.read_csv('time_series_60min_singleindex.csv')\n",
    "data_2019 = df[(df['utc_timestamp'] >= '2019-01-01') & (df['utc_timestamp'] <= '2020-01-01')]"
   ]
  },
  {
   "cell_type": "code",
   "execution_count": 16,
   "metadata": {},
   "outputs": [],
   "source": [
    "data_2019 = data_2019.set_index('utc_timestamp')"
   ]
  },
  {
   "cell_type": "code",
   "execution_count": 17,
   "metadata": {},
   "outputs": [
    {
     "data": {
      "text/plain": [
       "Index(['cet_cest_timestamp', 'AT_load_actual_entsoe_transparency',\n",
       "       'AT_load_forecast_entsoe_transparency', 'AT_price_day_ahead',\n",
       "       'AT_solar_generation_actual', 'AT_wind_onshore_generation_actual',\n",
       "       'BE_load_actual_entsoe_transparency',\n",
       "       'BE_load_forecast_entsoe_transparency', 'BE_solar_generation_actual',\n",
       "       'BE_wind_generation_actual',\n",
       "       ...\n",
       "       'SI_load_actual_entsoe_transparency',\n",
       "       'SI_load_forecast_entsoe_transparency', 'SI_solar_generation_actual',\n",
       "       'SI_wind_onshore_generation_actual',\n",
       "       'SK_load_actual_entsoe_transparency',\n",
       "       'SK_load_forecast_entsoe_transparency', 'SK_solar_generation_actual',\n",
       "       'SK_wind_onshore_generation_actual',\n",
       "       'UA_load_actual_entsoe_transparency',\n",
       "       'UA_load_forecast_entsoe_transparency'],\n",
       "      dtype='object', length=299)"
      ]
     },
     "execution_count": 17,
     "metadata": {},
     "output_type": "execute_result"
    }
   ],
   "source": [
    "data_2019.columns"
   ]
  },
  {
   "cell_type": "code",
   "execution_count": 21,
   "metadata": {},
   "outputs": [],
   "source": [
    "data_2019['ES_wind_onshore_generation_actual']=data_2019['ES_wind_onshore_generation_actual'].interpolate()"
   ]
  },
  {
   "cell_type": "code",
   "execution_count": 22,
   "metadata": {},
   "outputs": [
    {
     "data": {
      "text/plain": [
       "<Axes: xlabel='utc_timestamp'>"
      ]
     },
     "execution_count": 22,
     "metadata": {},
     "output_type": "execute_result"
    },
    {
     "data": {
      "image/png": "[encoded data removed]",
      "text/plain": [
       "<Figure size 640x480 with 1 Axes>"
      ]
     },
     "metadata": {},
     "output_type": "display_data"
    }
   ],
   "source": [
    "data_2019['ES_wind_onshore_generation_actual'].plot()"
   ]
  },
  {
   "cell_type": "code",
   "execution_count": 23,
   "metadata": {},
   "outputs": [],
   "source": [
    "data_2019['ES_wind_onshore_generation_actual'].to_excel('./input_time_series/Spain/wind_onshore_generation_Spain_2019_opsd.xlsx', index = False)"
   ]
  },
  {
   "cell_type": "markdown",
   "metadata": {},
   "source": [
    "# Format OSMOSE time series"
   ]
  },
  {
   "cell_type": "code",
   "execution_count": 51,
   "metadata": {},
   "outputs": [],
   "source": [
    "data = pd.read_csv('input_time_series/solar_pv_2016.csv')"
   ]
  },
  {
   "cell_type": "code",
   "execution_count": 52,
   "metadata": {},
   "outputs": [],
   "source": [
    "data = data[data['country']=='FR']"
   ]
  },
  {
   "cell_type": "code",
   "execution_count": 56,
   "metadata": {},
   "outputs": [
    {
     "data": {
      "text/html": [
       "<div>\n",
       "<style scoped>\n",
       "    .dataframe tbody tr th:only-of-type {\n",
       "        vertical-align: middle;\n",
       "    }\n",
       "\n",
       "    .dataframe tbody tr th {\n",
       "        vertical-align: top;\n",
       "    }\n",
       "\n",
       "    .dataframe thead th {\n",
       "        text-align: right;\n",
       "    }\n",
       "</style>\n",
       "<table border=\"1\" class=\"dataframe\">\n",
       "  <thead>\n",
       "    <tr style=\"text-align: right;\">\n",
       "      <th></th>\n",
       "      <th>country</th>\n",
       "      <th>timestamp</th>\n",
       "      <th>time_id</th>\n",
       "      <th>pv</th>\n",
       "    </tr>\n",
       "  </thead>\n",
       "  <tbody>\n",
       "    <tr>\n",
       "      <th>105120</th>\n",
       "      <td>FR</td>\n",
       "      <td>2016-01-01 00:00:00</td>\n",
       "      <td>1</td>\n",
       "      <td>0.0</td>\n",
       "    </tr>\n",
       "    <tr>\n",
       "      <th>105121</th>\n",
       "      <td>FR</td>\n",
       "      <td>2016-01-01 01:00:00</td>\n",
       "      <td>2</td>\n",
       "      <td>0.0</td>\n",
       "    </tr>\n",
       "    <tr>\n",
       "      <th>105122</th>\n",
       "      <td>FR</td>\n",
       "      <td>2016-01-01 02:00:00</td>\n",
       "      <td>3</td>\n",
       "      <td>0.0</td>\n",
       "    </tr>\n",
       "    <tr>\n",
       "      <th>105123</th>\n",
       "      <td>FR</td>\n",
       "      <td>2016-01-01 03:00:00</td>\n",
       "      <td>4</td>\n",
       "      <td>0.0</td>\n",
       "    </tr>\n",
       "    <tr>\n",
       "      <th>105124</th>\n",
       "      <td>FR</td>\n",
       "      <td>2016-01-01 04:00:00</td>\n",
       "      <td>5</td>\n",
       "      <td>0.0</td>\n",
       "    </tr>\n",
       "    <tr>\n",
       "      <th>...</th>\n",
       "      <td>...</td>\n",
       "      <td>...</td>\n",
       "      <td>...</td>\n",
       "      <td>...</td>\n",
       "    </tr>\n",
       "    <tr>\n",
       "      <th>113875</th>\n",
       "      <td>FR</td>\n",
       "      <td>2016-12-31 19:00:00</td>\n",
       "      <td>8756</td>\n",
       "      <td>0.0</td>\n",
       "    </tr>\n",
       "    <tr>\n",
       "      <th>113876</th>\n",
       "      <td>FR</td>\n",
       "      <td>2016-12-31 20:00:00</td>\n",
       "      <td>8757</td>\n",
       "      <td>0.0</td>\n",
       "    </tr>\n",
       "    <tr>\n",
       "      <th>113877</th>\n",
       "      <td>FR</td>\n",
       "      <td>2016-12-31 21:00:00</td>\n",
       "      <td>8758</td>\n",
       "      <td>0.0</td>\n",
       "    </tr>\n",
       "    <tr>\n",
       "      <th>113878</th>\n",
       "      <td>FR</td>\n",
       "      <td>2016-12-31 22:00:00</td>\n",
       "      <td>8759</td>\n",
       "      <td>0.0</td>\n",
       "    </tr>\n",
       "    <tr>\n",
       "      <th>113879</th>\n",
       "      <td>FR</td>\n",
       "      <td>2016-12-31 23:00:00</td>\n",
       "      <td>8760</td>\n",
       "      <td>0.0</td>\n",
       "    </tr>\n",
       "  </tbody>\n",
       "</table>\n",
       "<p>8760 rows × 4 columns</p>\n",
       "</div>"
      ],
      "text/plain": [
       "       country            timestamp  time_id   pv\n",
       "105120      FR  2016-01-01 00:00:00        1  0.0\n",
       "105121      FR  2016-01-01 01:00:00        2  0.0\n",
       "105122      FR  2016-01-01 02:00:00        3  0.0\n",
       "105123      FR  2016-01-01 03:00:00        4  0.0\n",
       "105124      FR  2016-01-01 04:00:00        5  0.0\n",
       "...        ...                  ...      ...  ...\n",
       "113875      FR  2016-12-31 19:00:00     8756  0.0\n",
       "113876      FR  2016-12-31 20:00:00     8757  0.0\n",
       "113877      FR  2016-12-31 21:00:00     8758  0.0\n",
       "113878      FR  2016-12-31 22:00:00     8759  0.0\n",
       "113879      FR  2016-12-31 23:00:00     8760  0.0\n",
       "\n",
       "[8760 rows x 4 columns]"
      ]
     },
     "execution_count": 56,
     "metadata": {},
     "output_type": "execute_result"
    }
   ],
   "source": [
    "data"
   ]
  },
  {
   "cell_type": "code",
   "execution_count": 57,
   "metadata": {},
   "outputs": [],
   "source": [
    "data['pv'].to_excel('input_time_series/France/France_solar_osmose_2016.xlsx', index = False)"
   ]
  },
  {
   "cell_type": "code",
   "execution_count": null,
   "metadata": {},
   "outputs": [],
   "source": []
  }
 ],
 "metadata": {
  "kernelspec": {
   "display_name": "Python 3",
   "language": "python",
   "name": "python3"
  },
  "language_info": {
   "codemirror_mode": {
    "name": "ipython",
    "version": 3
   },
   "file_extension": ".py",
   "mimetype": "text/x-python",
   "name": "python",
   "nbconvert_exporter": "python",
   "pygments_lexer": "ipython3",
   "version": "3.10.13"
  },
  "orig_nbformat": 4
 },
 "nbformat": 4,
 "nbformat_minor": 2
}
