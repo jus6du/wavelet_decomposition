{
 "cells": [
  {
   "cell_type": "markdown",
   "metadata": {},
   "source": [
    "## Fromat ENTSOE time series"
   ]
  },
  {
   "cell_type": "markdown",
   "metadata": {},
   "source": [
    "Values are sometimes missing in the time series. This notebook create complete yeraly time series."
   ]
  },
  {
   "cell_type": "code",
   "execution_count": 1,
   "metadata": {},
   "outputs": [],
   "source": [
    "import numpy as np\n",
    "import matplotlib.pyplot as plt\n",
    "import pandas as pd"
   ]
  },
  {
   "cell_type": "code",
   "execution_count": 30,
   "metadata": {},
   "outputs": [],
   "source": [
    "df = pd.read_csv('input_time_series/France/Wind_onshore_energy_France_2021_intermittent.csv')\n",
    "df.rename(columns={'Time,\"FR/wind_onshore\"': 'Wind'}, inplace=True)"
   ]
  },
  {
   "cell_type": "code",
   "execution_count": 31,
   "metadata": {},
   "outputs": [
    {
     "data": {
      "text/html": [
       "<div>\n",
       "<style scoped>\n",
       "    .dataframe tbody tr th:only-of-type {\n",
       "        vertical-align: middle;\n",
       "    }\n",
       "\n",
       "    .dataframe tbody tr th {\n",
       "        vertical-align: top;\n",
       "    }\n",
       "\n",
       "    .dataframe thead th {\n",
       "        text-align: right;\n",
       "    }\n",
       "</style>\n",
       "<table border=\"1\" class=\"dataframe\">\n",
       "  <thead>\n",
       "    <tr style=\"text-align: right;\">\n",
       "      <th></th>\n",
       "      <th>Wind</th>\n",
       "    </tr>\n",
       "  </thead>\n",
       "  <tbody>\n",
       "    <tr>\n",
       "      <th>2020-12-31 20:00:00</th>\n",
       "      <td>1.08 GW</td>\n",
       "    </tr>\n",
       "    <tr>\n",
       "      <th>2021-01-01 02:00:00</th>\n",
       "      <td>1.19 GW</td>\n",
       "    </tr>\n",
       "    <tr>\n",
       "      <th>2021-01-01 08:00:00</th>\n",
       "      <td>1.18 GW</td>\n",
       "    </tr>\n",
       "    <tr>\n",
       "      <th>2021-01-01 14:00:00</th>\n",
       "      <td>1.39 GW</td>\n",
       "    </tr>\n",
       "    <tr>\n",
       "      <th>2021-01-01 20:00:00</th>\n",
       "      <td>1.53 GW</td>\n",
       "    </tr>\n",
       "    <tr>\n",
       "      <th>...</th>\n",
       "      <td>...</td>\n",
       "    </tr>\n",
       "    <tr>\n",
       "      <th>2021-12-30 20:00:00</th>\n",
       "      <td>5.21 GW</td>\n",
       "    </tr>\n",
       "    <tr>\n",
       "      <th>2021-12-31 02:00:00</th>\n",
       "      <td>5.52 GW</td>\n",
       "    </tr>\n",
       "    <tr>\n",
       "      <th>2021-12-31 08:00:00</th>\n",
       "      <td>4.29 GW</td>\n",
       "    </tr>\n",
       "    <tr>\n",
       "      <th>2021-12-31 14:00:00</th>\n",
       "      <td>3.32 GW</td>\n",
       "    </tr>\n",
       "    <tr>\n",
       "      <th>2021-12-31 20:00:00</th>\n",
       "      <td>3.43 GW</td>\n",
       "    </tr>\n",
       "  </tbody>\n",
       "</table>\n",
       "<p>1461 rows × 1 columns</p>\n",
       "</div>"
      ],
      "text/plain": [
       "                        Wind\n",
       "2020-12-31 20:00:00  1.08 GW\n",
       "2021-01-01 02:00:00  1.19 GW\n",
       "2021-01-01 08:00:00  1.18 GW\n",
       "2021-01-01 14:00:00  1.39 GW\n",
       "2021-01-01 20:00:00  1.53 GW\n",
       "...                      ...\n",
       "2021-12-30 20:00:00  5.21 GW\n",
       "2021-12-31 02:00:00  5.52 GW\n",
       "2021-12-31 08:00:00  4.29 GW\n",
       "2021-12-31 14:00:00  3.32 GW\n",
       "2021-12-31 20:00:00  3.43 GW\n",
       "\n",
       "[1461 rows x 1 columns]"
      ]
     },
     "execution_count": 31,
     "metadata": {},
     "output_type": "execute_result"
    }
   ],
   "source": [
    "df"
   ]
  },
  {
   "cell_type": "code",
   "execution_count": 32,
   "metadata": {},
   "outputs": [],
   "source": [
    "def convertir_en_MW(valeur):\n",
    "    if 'GW' in valeur:\n",
    "        return float(valeur.replace('GW', '')) * 1e3  # Convertir de GW à MW\n",
    "    elif 'MW' in valeur:\n",
    "        return float(valeur.replace('MW', ''))   # Pas de conversion nécessaire\n",
    "    elif 'kW' in valeur:\n",
    "        return float(valeur.replace('kW', '')) /1e3 # Convertir de kW à MW\n",
    "\n",
    "# Appliquer la fonction de conversion à la colonne 'FR/solar'\n",
    "df['Wind'] = df['Wind'].apply(convertir_en_MW)"
   ]
  },
  {
   "cell_type": "code",
   "execution_count": 33,
   "metadata": {},
   "outputs": [],
   "source": [
    "df.to_excel('input_time_series/France/Wind_onshore_energy_France_2021_intermittent.xlsx', index = False)"
   ]
  },
  {
   "cell_type": "code",
   "execution_count": 50,
   "metadata": {},
   "outputs": [
    {
     "name": "stdout",
     "output_type": "stream",
     "text": [
      "DatetimeIndex(['2021-01-03 22:00:00', '2021-02-24 08:00:00',\n",
      "               '2021-03-28 02:00:00', '2021-05-12 08:00:00',\n",
      "               '2021-05-19 04:00:00', '2021-06-03 16:00:00',\n",
      "               '2021-10-31 00:00:00', '2021-10-31 01:00:00',\n",
      "               '2021-11-17 10:00:00', '2021-11-18 10:00:00'],\n",
      "              dtype='datetime64[ns]', freq=None)\n"
     ]
    },
    {
     "name": "stderr",
     "output_type": "stream",
     "text": [
      "C:\\Users\\JD278300\\AppData\\Local\\Temp\\ipykernel_21440\\3348577262.py:13: FutureWarning: DataFrame.interpolate with object dtype is deprecated and will raise in a future version. Call obj.infer_objects(copy=False) before interpolating instead.\n",
      "  data_interpolated = data_reindexed.interpolate(method=\"linear\")\n"
     ]
    }
   ],
   "source": [
    "ts = pd.read_excel('input_time_series/FR_monthly_hourly_load_values_2021.xlsx')\n",
    "country_key ='FR'\n",
    "ts = ts.set_index('DateUTC')\n",
    "\n",
    "ts.index = pd.to_datetime(ts.index)\n",
    "date_range = pd.date_range(start=pd.to_datetime(\"2021/01/01\"), end=pd.to_datetime(\"2021/12/31 23:00:00\"), freq=\"h\")\n",
    "missing_dates = date_range[~date_range.isin(ts.index)]\n",
    "print(missing_dates)\n",
    "\n",
    "df_dropped = ts.reset_index().drop_duplicates(subset='DateUTC', keep='last').set_index('DateUTC')\n",
    "\n",
    "data_reindexed = df_dropped.reindex(date_range)\n",
    "data_interpolated = data_reindexed.interpolate(method=\"linear\")"
   ]
  },
  {
   "cell_type": "code",
   "execution_count": 52,
   "metadata": {},
   "outputs": [],
   "source": [
    "data_interpolated['Value'].to_excel('input_time_series/France/France_load_entsoe_2021.xlsx', index=False)"
   ]
  },
  {
   "cell_type": "code",
   "execution_count": 37,
   "metadata": {},
   "outputs": [
    {
     "data": {
      "text/html": [
       "<div>\n",
       "<style scoped>\n",
       "    .dataframe tbody tr th:only-of-type {\n",
       "        vertical-align: middle;\n",
       "    }\n",
       "\n",
       "    .dataframe tbody tr th {\n",
       "        vertical-align: top;\n",
       "    }\n",
       "\n",
       "    .dataframe thead th {\n",
       "        text-align: right;\n",
       "    }\n",
       "</style>\n",
       "<table border=\"1\" class=\"dataframe\">\n",
       "  <thead>\n",
       "    <tr style=\"text-align: right;\">\n",
       "      <th></th>\n",
       "      <th>Value</th>\n",
       "    </tr>\n",
       "  </thead>\n",
       "  <tbody>\n",
       "    <tr>\n",
       "      <th>0</th>\n",
       "      <td>4135.98</td>\n",
       "    </tr>\n",
       "    <tr>\n",
       "      <th>1</th>\n",
       "      <td>3829.58</td>\n",
       "    </tr>\n",
       "    <tr>\n",
       "      <th>2</th>\n",
       "      <td>3652.09</td>\n",
       "    </tr>\n",
       "    <tr>\n",
       "      <th>3</th>\n",
       "      <td>3663.73</td>\n",
       "    </tr>\n",
       "    <tr>\n",
       "      <th>4</th>\n",
       "      <td>3771.85</td>\n",
       "    </tr>\n",
       "    <tr>\n",
       "      <th>...</th>\n",
       "      <td>...</td>\n",
       "    </tr>\n",
       "    <tr>\n",
       "      <th>8755</th>\n",
       "      <td>6514.00</td>\n",
       "    </tr>\n",
       "    <tr>\n",
       "      <th>8756</th>\n",
       "      <td>5720.00</td>\n",
       "    </tr>\n",
       "    <tr>\n",
       "      <th>8757</th>\n",
       "      <td>5349.00</td>\n",
       "    </tr>\n",
       "    <tr>\n",
       "      <th>8758</th>\n",
       "      <td>4893.00</td>\n",
       "    </tr>\n",
       "    <tr>\n",
       "      <th>8759</th>\n",
       "      <td>4568.00</td>\n",
       "    </tr>\n",
       "  </tbody>\n",
       "</table>\n",
       "<p>8760 rows × 1 columns</p>\n",
       "</div>"
      ],
      "text/plain": [
       "        Value\n",
       "0     4135.98\n",
       "1     3829.58\n",
       "2     3652.09\n",
       "3     3663.73\n",
       "4     3771.85\n",
       "...       ...\n",
       "8755  6514.00\n",
       "8756  5720.00\n",
       "8757  5349.00\n",
       "8758  4893.00\n",
       "8759  4568.00\n",
       "\n",
       "[8760 rows x 1 columns]"
      ]
     },
     "execution_count": 37,
     "metadata": {},
     "output_type": "execute_result"
    }
   ],
   "source": [
    "pd.read_excel('input_time_series/Greece/Greece_load_entsoe_2021.xlsx')"
   ]
  },
  {
   "cell_type": "markdown",
   "metadata": {},
   "source": []
  }
 ],
 "metadata": {
  "kernelspec": {
   "display_name": "Python 3",
   "language": "python",
   "name": "python3"
  },
  "language_info": {
   "codemirror_mode": {
    "name": "ipython",
    "version": 3
   },
   "file_extension": ".py",
   "mimetype": "text/x-python",
   "name": "python",
   "nbconvert_exporter": "python",
   "pygments_lexer": "ipython3",
   "version": "3.10.13"
  },
  "orig_nbformat": 4
 },
 "nbformat": 4,
 "nbformat_minor": 2
}
