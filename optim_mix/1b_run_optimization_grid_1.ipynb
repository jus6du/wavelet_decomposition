{
 "cells": [
  {
   "cell_type": "markdown",
   "id": "bb19daa3",
   "metadata": {
    "tags": [
     "papermill-error-cell-tag"
    ]
   },
   "source": [
    "<span style=\"color:red; font-family:Helvetica Neue, Helvetica, Arial, sans-serif; font-size:2em;\">An Exception was encountered at '<a href=\"#papermill-error-cell\">In [8]</a>'.</span>"
   ]
  },
  {
   "cell_type": "code",
   "execution_count": 1,
   "id": "4187cfbb",
   "metadata": {
    "execution": {
     "iopub.execute_input": "2024-06-07T07:52:54.395393Z",
     "iopub.status.busy": "2024-06-07T07:52:54.394316Z",
     "iopub.status.idle": "2024-06-07T07:52:54.436975Z",
     "shell.execute_reply": "2024-06-07T07:52:54.435059Z"
    },
    "papermill": {
     "duration": 0.082399,
     "end_time": "2024-06-07T07:52:54.441974",
     "exception": false,
     "start_time": "2024-06-07T07:52:54.359575",
     "status": "completed"
    },
    "tags": [
     "injected-parameters"
    ]
   },
   "outputs": [],
   "source": [
    "# Parameters\n",
    "country_name = \"Spain\"\n"
   ]
  },
  {
   "cell_type": "markdown",
   "id": "15af41b4",
   "metadata": {
    "papermill": {
     "duration": 0.021969,
     "end_time": "2024-06-07T07:52:54.491751",
     "exception": false,
     "start_time": "2024-06-07T07:52:54.469782",
     "status": "completed"
    },
    "tags": []
   },
   "source": [
    "# Optimization Problem Time Series"
   ]
  },
  {
   "cell_type": "markdown",
   "id": "b4bdf036",
   "metadata": {
    "papermill": {
     "duration": 0.022595,
     "end_time": "2024-06-07T07:52:54.538258",
     "exception": false,
     "start_time": "2024-06-07T07:52:54.515663",
     "status": "completed"
    },
    "tags": []
   },
   "source": [
    "This notebook optimizes an electrci mix based on : \n",
    "- an electricity demand time serie\n",
    "- a PV production time serie\n",
    "- a wind production time serie"
   ]
  },
  {
   "cell_type": "code",
   "execution_count": 2,
   "id": "c37d952c",
   "metadata": {
    "execution": {
     "iopub.execute_input": "2024-06-07T07:52:54.591737Z",
     "iopub.status.busy": "2024-06-07T07:52:54.590740Z",
     "iopub.status.idle": "2024-06-07T07:53:23.128138Z",
     "shell.execute_reply": "2024-06-07T07:53:23.125588Z"
    },
    "papermill": {
     "duration": 28.571375,
     "end_time": "2024-06-07T07:53:23.132373",
     "exception": false,
     "start_time": "2024-06-07T07:52:54.560998",
     "status": "completed"
    },
    "tags": []
   },
   "outputs": [],
   "source": [
    "import numpy as np\n",
    "import pandas as pd\n",
    "from scipy.optimize import minimize\n",
    "from pulp import *\n",
    "import sys\n",
    "from utilities import import_excel, optimize_enr, format_load_data\n",
    "import plotly.graph_objects as go\n",
    "import plotly.express as px\n",
    "import pickle\n",
    "from ren_ninja_api import fetch_and_average_data_ren_ninja, get_regular_coordinates\n",
    "import plotly.io as pio\n",
    "import os\n",
    "import glob\n",
    "import geopandas as gpd\n",
    "pio.renderers.default='notebook'"
   ]
  },
  {
   "cell_type": "markdown",
   "id": "402479c1",
   "metadata": {
    "papermill": {
     "duration": 0.022973,
     "end_time": "2024-06-07T07:53:23.201514",
     "exception": false,
     "start_time": "2024-06-07T07:53:23.178541",
     "status": "completed"
    },
    "tags": []
   },
   "source": [
    "Enter country name for file naming: "
   ]
  },
  {
   "cell_type": "code",
   "execution_count": 3,
   "id": "f45f9276",
   "metadata": {
    "execution": {
     "iopub.execute_input": "2024-06-07T07:53:23.250033Z",
     "iopub.status.busy": "2024-06-07T07:53:23.249069Z",
     "iopub.status.idle": "2024-06-07T07:53:23.270030Z",
     "shell.execute_reply": "2024-06-07T07:53:23.267117Z"
    },
    "papermill": {
     "duration": 0.050903,
     "end_time": "2024-06-07T07:53:23.275073",
     "exception": false,
     "start_time": "2024-06-07T07:53:23.224170",
     "status": "completed"
    },
    "tags": []
   },
   "outputs": [],
   "source": [
    "year = 2021\n",
    "# country_name = 'Israel'\n",
    "country_name = country_name\n",
    "# Directory path\n",
    "path_input_data = '../input_time_series/'\n",
    "mode = 'grid'"
   ]
  },
  {
   "cell_type": "code",
   "execution_count": 4,
   "id": "c0b96a3e",
   "metadata": {
    "execution": {
     "iopub.execute_input": "2024-06-07T07:53:23.325651Z",
     "iopub.status.busy": "2024-06-07T07:53:23.324650Z",
     "iopub.status.idle": "2024-06-07T07:53:23.463024Z",
     "shell.execute_reply": "2024-06-07T07:53:23.461012Z"
    },
    "papermill": {
     "duration": 0.177444,
     "end_time": "2024-06-07T07:53:23.467117",
     "exception": false,
     "start_time": "2024-06-07T07:53:23.289673",
     "status": "completed"
    },
    "tags": []
   },
   "outputs": [
    {
     "data": {
      "text/plain": [
       "(1335833.8895192828, 1345708.4084091089)"
      ]
     },
     "execution_count": 4,
     "metadata": {},
     "output_type": "execute_result"
    }
   ],
   "source": [
    "from pyproj import Transformer\n",
    "transformer = Transformer.from_crs(\"EPSG:4326\", \"EPSG:3857\")\n",
    "transformer.transform(12, 12)"
   ]
  },
  {
   "cell_type": "code",
   "execution_count": 5,
   "id": "5d6841e6",
   "metadata": {
    "execution": {
     "iopub.execute_input": "2024-06-07T07:53:23.519425Z",
     "iopub.status.busy": "2024-06-07T07:53:23.518425Z",
     "iopub.status.idle": "2024-06-07T07:53:24.426709Z",
     "shell.execute_reply": "2024-06-07T07:53:24.424616Z"
    },
    "papermill": {
     "duration": 0.940126,
     "end_time": "2024-06-07T07:53:24.430739",
     "exception": false,
     "start_time": "2024-06-07T07:53:23.490613",
     "status": "completed"
    },
    "tags": []
   },
   "outputs": [],
   "source": [
    "points_in_world = gpd.read_file('grid_with_centroids.geojson')"
   ]
  },
  {
   "cell_type": "markdown",
   "id": "6f1c8714",
   "metadata": {
    "papermill": {
     "duration": 0.021826,
     "end_time": "2024-06-07T07:53:24.477855",
     "exception": false,
     "start_time": "2024-06-07T07:53:24.456029",
     "status": "completed"
    },
    "tags": []
   },
   "source": [
    "### Load Time Series\n",
    "\n",
    "First we load the time series that will be used in the problem. We use the  ```import_excel``` function used in the wavelet decomposition."
   ]
  },
  {
   "cell_type": "markdown",
   "id": "0997904d",
   "metadata": {
    "papermill": {
     "duration": 0.023752,
     "end_time": "2024-06-07T07:53:24.525612",
     "exception": false,
     "start_time": "2024-06-07T07:53:24.501860",
     "status": "completed"
    },
    "tags": []
   },
   "source": [
    "#### Demand"
   ]
  },
  {
   "cell_type": "code",
   "execution_count": 6,
   "id": "0759aa82",
   "metadata": {
    "execution": {
     "iopub.execute_input": "2024-06-07T07:53:24.577370Z",
     "iopub.status.busy": "2024-06-07T07:53:24.576360Z",
     "iopub.status.idle": "2024-06-07T07:53:28.520883Z",
     "shell.execute_reply": "2024-06-07T07:53:28.519366Z"
    },
    "papermill": {
     "duration": 3.977399,
     "end_time": "2024-06-07T07:53:28.525893",
     "exception": false,
     "start_time": "2024-06-07T07:53:24.548494",
     "status": "completed"
    },
    "tags": []
   },
   "outputs": [],
   "source": [
    "# Demand time serie\n",
    "\n",
    "dpd = 24 # data per day in the time serie\n",
    "dpy = 365 # data per year :  cut the leap years to 365 years\n",
    "\n",
    "ndpd = 24 # new data per day for hourly data (for the interpolation)\n",
    "signal_length = ndpd * dpy\n",
    "\n",
    "file_name = format_load_data(country_name)\n",
    "Load_ts = import_excel(path_input_data,file_name, \n",
    "                                    dpd ,ndpd, dpy, \n",
    "                                    interp=True, norm = 'mean') # interpolate data from dpd to ndpd numper of points per day\n",
    "\n",
    "mean_load = pd.read_excel(path_input_data+file_name).mean().iloc[0]"
   ]
  },
  {
   "cell_type": "markdown",
   "id": "5847a57e",
   "metadata": {
    "papermill": {
     "duration": 0.022533,
     "end_time": "2024-06-07T07:53:28.574133",
     "exception": false,
     "start_time": "2024-06-07T07:53:28.551600",
     "status": "completed"
    },
    "tags": []
   },
   "source": [
    "#### Wind production"
   ]
  },
  {
   "cell_type": "code",
   "execution_count": 7,
   "id": "5061fb75",
   "metadata": {
    "execution": {
     "iopub.execute_input": "2024-06-07T07:53:28.624083Z",
     "iopub.status.busy": "2024-06-07T07:53:28.623081Z",
     "iopub.status.idle": "2024-06-07T07:53:38.231523Z",
     "shell.execute_reply": "2024-06-07T07:53:38.229644Z"
    },
    "papermill": {
     "duration": 9.639474,
     "end_time": "2024-06-07T07:53:38.235614",
     "exception": false,
     "start_time": "2024-06-07T07:53:28.596140",
     "status": "completed"
    },
    "tags": []
   },
   "outputs": [
    {
     "name": "stdout",
     "output_type": "stream",
     "text": [
      "[]\n",
      "collecting data\n"
     ]
    },
    {
     "name": "stdout",
     "output_type": "stream",
     "text": [
      "Error fetching data for location (42.46070432663372, -2.876696699270627) with technology wind: Error 429: Error: Reached limit (50/hour) Expected available in 36 seconds.\n"
     ]
    },
    {
     "name": "stdout",
     "output_type": "stream",
     "text": [
      "Error fetching data for location (40.348656106226734, -3.617020602387374) with technology wind: Error 429: Error: Reached limit (50/hour) Expected available in 35 seconds.\n"
     ]
    }
   ],
   "source": [
    "# Wind time serie \n",
    "\n",
    "dpd = 24 # data per day\n",
    "dpy = 365 # data per year :  cut the leap years to 365 years\n",
    "\n",
    "# We interpolate so that we have hourly data\n",
    "ndpd = 24 # new data per day for hourly data (for the interpolation)\n",
    "signal_length = ndpd * dpy\n",
    "\n",
    "folder = path_input_data + f'/{country_name}'\n",
    "partie_name_file = f'{mode}_locations_averaged_wind_{country_name}_{year}.xlsx'\n",
    "chemin_pattern = os.path.join(folder, f'*{partie_name_file}*')\n",
    "fichiers_trouves = glob.glob(chemin_pattern)\n",
    "print(fichiers_trouves)\n",
    "\n",
    "if len(fichiers_trouves)==0:\n",
    "    print('collecting data')\n",
    "    fetch_and_average_data_ren_ninja(country_name, 1, ['wind'], points_in_world, year=year, save = True, coordinates = mode)\n",
    "\n",
    "fichiers_trouves = glob.glob(chemin_pattern)\n",
    "file_name = fichiers_trouves[0].split('/',2)[-1]\n",
    "Wind_ts = import_excel(path_input_data,file_name, \n",
    "                                dpd ,ndpd, dpy, \n",
    "                                interp=True, norm = None) # interpolate data from dpd to ndpd numper of points per day\n",
    "\n",
    "mean_wind = pd.read_excel(path_input_data+file_name).mean().iloc[0]"
   ]
  },
  {
   "cell_type": "markdown",
   "id": "2cf60b1e",
   "metadata": {
    "papermill": {
     "duration": 0.03024,
     "end_time": "2024-06-07T07:53:38.292016",
     "exception": false,
     "start_time": "2024-06-07T07:53:38.261776",
     "status": "completed"
    },
    "tags": []
   },
   "source": [
    "#### PV production"
   ]
  },
  {
   "cell_type": "markdown",
   "id": "2ae771bb",
   "metadata": {
    "tags": [
     "papermill-error-cell-tag"
    ]
   },
   "source": [
    "<span id=\"papermill-error-cell\" style=\"color:red; font-family:Helvetica Neue, Helvetica, Arial, sans-serif; font-size:2em;\">Execution using papermill encountered an exception here and stopped:</span>"
   ]
  },
  {
   "cell_type": "code",
   "execution_count": 8,
   "id": "d06e730f",
   "metadata": {
    "execution": {
     "iopub.execute_input": "2024-06-07T07:53:38.346311Z",
     "iopub.status.busy": "2024-06-07T07:53:38.345319Z",
     "iopub.status.idle": "2024-06-07T08:00:50.384767Z",
     "shell.execute_reply": "2024-06-07T08:00:50.379164Z"
    },
    "papermill": {
     "duration": 432.100441,
     "end_time": "2024-06-07T08:00:50.416485",
     "exception": true,
     "start_time": "2024-06-07T07:53:38.316044",
     "status": "failed"
    },
    "tags": []
   },
   "outputs": [
    {
     "name": "stdout",
     "output_type": "stream",
     "text": [
      "[]\n",
      "collecting data\n"
     ]
    },
    {
     "name": "stdout",
     "output_type": "stream",
     "text": [
      "Error fetching data for location (40.0, 0.0) with technology pv: Error 429: Error: Reached limit (50/hour) Expected available in 31 seconds.\n"
     ]
    },
    {
     "name": "stdout",
     "output_type": "stream",
     "text": [
      "Error fetching data for location (42.46070432663372, -2.876696699270627) with technology pv: Error 429: Error: Reached limit (50/hour) Expected available in 29 seconds.\n"
     ]
    },
    {
     "name": "stdout",
     "output_type": "stream",
     "text": [
      "Error fetching data for location (40.348656106226734, -3.617020602387374) with technology pv: Error 429: Error: Reached limit (50/hour) Expected available in 28 seconds.\n"
     ]
    },
    {
     "ename": "IndexError",
     "evalue": "list index out of range",
     "output_type": "error",
     "traceback": [
      "\u001b[1;31m---------------------------------------------------------------------------\u001b[0m",
      "\u001b[1;31mIndexError\u001b[0m                                Traceback (most recent call last)",
      "Cell \u001b[1;32mIn[8], line 22\u001b[0m\n\u001b[0;32m     19\u001b[0m     fetch_and_average_data_ren_ninja(country_name, \u001b[38;5;241m1\u001b[39m, [\u001b[38;5;124m'\u001b[39m\u001b[38;5;124mpv\u001b[39m\u001b[38;5;124m'\u001b[39m], points_in_world, year\u001b[38;5;241m=\u001b[39myear, save \u001b[38;5;241m=\u001b[39m \u001b[38;5;28;01mTrue\u001b[39;00m, coordinates \u001b[38;5;241m=\u001b[39m mode)\n\u001b[0;32m     21\u001b[0m fichiers_trouves \u001b[38;5;241m=\u001b[39m glob\u001b[38;5;241m.\u001b[39mglob(chemin_pattern)\n\u001b[1;32m---> 22\u001b[0m file_name \u001b[38;5;241m=\u001b[39m \u001b[43mfichiers_trouves\u001b[49m\u001b[43m[\u001b[49m\u001b[38;5;241;43m0\u001b[39;49m\u001b[43m]\u001b[49m\u001b[38;5;241m.\u001b[39msplit(\u001b[38;5;124m'\u001b[39m\u001b[38;5;124m/\u001b[39m\u001b[38;5;124m'\u001b[39m,\u001b[38;5;241m2\u001b[39m)[\u001b[38;5;241m-\u001b[39m\u001b[38;5;241m1\u001b[39m]\n\u001b[0;32m     23\u001b[0m PV_ts \u001b[38;5;241m=\u001b[39m import_excel(path_input_data,file_name, \n\u001b[0;32m     24\u001b[0m                                 dpd ,ndpd, dpy, \n\u001b[0;32m     25\u001b[0m                                 interp\u001b[38;5;241m=\u001b[39m\u001b[38;5;28;01mTrue\u001b[39;00m, norm \u001b[38;5;241m=\u001b[39m \u001b[38;5;28;01mNone\u001b[39;00m) \u001b[38;5;66;03m# interpolate data from dpd to ndpd numper of points per day\u001b[39;00m\n\u001b[0;32m     27\u001b[0m mean_pv \u001b[38;5;241m=\u001b[39m pd\u001b[38;5;241m.\u001b[39mread_excel(path_input_data\u001b[38;5;241m+\u001b[39mfile_name)\u001b[38;5;241m.\u001b[39mmean()\u001b[38;5;241m.\u001b[39miloc[\u001b[38;5;241m0\u001b[39m]\n",
      "\u001b[1;31mIndexError\u001b[0m: list index out of range"
     ]
    }
   ],
   "source": [
    "# PV time serie\n",
    "\n",
    "dpd = 24 # data per day\n",
    "dpy = 365 # data per year :  cut the leap years to 365 years\n",
    "\n",
    "\n",
    "# We interpolate so that we have hourly data\n",
    "ndpd = 24 # new data per day (for the interpolation)\n",
    "signal_length = ndpd * dpy\n",
    "\n",
    "folder = path_input_data + f'/{country_name}'\n",
    "partie_name_file = f'{mode}_locations_averaged_pv_{country_name}_{year}.xlsx'\n",
    "chemin_pattern = os.path.join(folder, f'*{partie_name_file}*')\n",
    "fichiers_trouves = glob.glob(chemin_pattern)\n",
    "print(fichiers_trouves)\n",
    "\n",
    "if len(fichiers_trouves)==0:\n",
    "    print('collecting data')\n",
    "    fetch_and_average_data_ren_ninja(country_name, 1, ['pv'], points_in_world, year=year, save = True, coordinates = mode)\n",
    "\n",
    "fichiers_trouves = glob.glob(chemin_pattern)\n",
    "file_name = fichiers_trouves[0].split('/',2)[-1]\n",
    "PV_ts = import_excel(path_input_data,file_name, \n",
    "                                dpd ,ndpd, dpy, \n",
    "                                interp=True, norm = None) # interpolate data from dpd to ndpd numper of points per day\n",
    "\n",
    "mean_pv = pd.read_excel(path_input_data+file_name).mean().iloc[0]"
   ]
  },
  {
   "cell_type": "markdown",
   "id": "c193954b",
   "metadata": {
    "papermill": {
     "duration": null,
     "end_time": null,
     "exception": null,
     "start_time": null,
     "status": "pending"
    },
    "tags": []
   },
   "source": [
    "### Plot Time Series"
   ]
  },
  {
   "cell_type": "code",
   "execution_count": null,
   "id": "433bb040",
   "metadata": {
    "execution": {
     "iopub.execute_input": "2024-06-05T08:06:45.197538Z",
     "iopub.status.busy": "2024-06-05T08:06:45.196531Z",
     "iopub.status.idle": "2024-06-05T08:06:46.395459Z",
     "shell.execute_reply": "2024-06-05T08:06:46.392551Z"
    },
    "papermill": {
     "duration": null,
     "end_time": null,
     "exception": null,
     "start_time": null,
     "status": "pending"
    },
    "tags": []
   },
   "outputs": [],
   "source": [
    "# # Create a Plotly figure\n",
    "# fig = go.Figure()\n",
    "\n",
    "# fig.add_trace(go.Scatter(y=PV_ts, mode='lines', name='PV',marker=dict(color=colors_dict['PV'])))\n",
    "# fig.add_trace(go.Scatter(y=Load_ts, mode='lines', name='Demand',marker=dict(color=colors_dict['Consumption'])))\n",
    "# fig.add_trace(go.Scatter(y=Wind_ts, mode='lines', name='Wind',marker=dict(color=colors_dict['Wind'])))\n",
    "# fig.update_layout(title=f'{country_name} 2021', xaxis_title='Day', yaxis_title='Energy normalized')\n",
    "\n",
    "# # Show the plot\n",
    "# fig.show()"
   ]
  },
  {
   "cell_type": "markdown",
   "id": "81638a89",
   "metadata": {
    "papermill": {
     "duration": null,
     "end_time": null,
     "exception": null,
     "start_time": null,
     "status": "pending"
    },
    "tags": []
   },
   "source": [
    "### Description of the problem"
   ]
  },
  {
   "cell_type": "markdown",
   "id": "87bf9238",
   "metadata": {
    "papermill": {
     "duration": null,
     "end_time": null,
     "exception": null,
     "start_time": null,
     "status": "pending"
    },
    "tags": []
   },
   "source": [
    "#### Equations:\n",
    "\n",
    "- **Objective function** : \n",
    "  - Minimize dispatchable energy: $ \\min(\\sum{P_{dispatchable}(t)*dt}) $\n",
    "\n",
    "\n",
    "- **Node Law** : \n",
    "  - $(P_{pv}(t) + P_{wind}(t) + P_{dispatchable}(t) - P_{in\\_stock}(t) + P_{out\\_stock}(t) = P_{demand}(t) + P_{curt}(t))$\n",
    "\n",
    "\n",
    "- **State of charge**\n",
    "  - $SOC(t+1)=SOC(t)+P_{in\\_stock}(t) - P_{out\\_stock}(t)$\n",
    "\n",
    "#### Contraintes :\n",
    "- $E_{wind} + E_{pv} \\leq E_{demand}$\n",
    "- We want a maximum storage size of 10 hours:  $E_{stock} \\leq 10$\n",
    "- Charging and discharging at the same time is not possible. \n"
   ]
  },
  {
   "cell_type": "markdown",
   "id": "b4432d06",
   "metadata": {
    "papermill": {
     "duration": null,
     "end_time": null,
     "exception": null,
     "start_time": null,
     "status": "pending"
    },
    "tags": []
   },
   "source": [
    "### Implementation\n",
    "#### Decision Variables:\n",
    "- `x_pv`: Installed capacity for photovoltaic production.\n",
    "- `x_wind`: Installed capacity for wind production.\n",
    "- `ts_dispatchable`: Dispatchable production (can be controlled), time serie.\n",
    "- `p_ch`: Battery charging power, time serie.\n",
    "- `p_dech`: Battery discharging power, time serie.\n",
    "- `SOC_ts`: State of charge of the battery, time serie.\n",
    "- `p_curt`: Curtailment power (lost energy), time serie.\n",
    "- `dech_active`: Binary variable indicating if the battery is charging or discharging."
   ]
  },
  {
   "cell_type": "markdown",
   "id": "f584c55e",
   "metadata": {
    "papermill": {
     "duration": null,
     "end_time": null,
     "exception": null,
     "start_time": null,
     "status": "pending"
    },
    "tags": []
   },
   "source": [
    "### Run the optimization with GUROBI\n",
    "\n",
    "**If the optimization has already been run, go to the next part where results can be loaded and analysed in plots.**"
   ]
  },
  {
   "cell_type": "code",
   "execution_count": null,
   "id": "151d88cf",
   "metadata": {
    "execution": {
     "iopub.execute_input": "2024-06-05T08:06:48.636826Z",
     "iopub.status.busy": "2024-06-05T08:06:48.635835Z",
     "iopub.status.idle": "2024-06-05T08:07:01.696878Z",
     "shell.execute_reply": "2024-06-05T08:07:01.694799Z"
    },
    "papermill": {
     "duration": null,
     "end_time": null,
     "exception": null,
     "start_time": null,
     "status": "pending"
    },
    "tags": []
   },
   "outputs": [],
   "source": [
    "optimized_parameters=optimize_enr(country_name, Load_ts, PV_ts, Wind_ts, mean_load, save_results = True)"
   ]
  },
  {
   "cell_type": "markdown",
   "id": "e3022ea8",
   "metadata": {
    "papermill": {
     "duration": null,
     "end_time": null,
     "exception": null,
     "start_time": null,
     "status": "pending"
    },
    "tags": []
   },
   "source": [
    "### Add results to .csv file with all countries"
   ]
  },
  {
   "cell_type": "code",
   "execution_count": null,
   "id": "2ed373a0",
   "metadata": {
    "execution": {
     "iopub.execute_input": "2024-06-05T08:07:02.580700Z",
     "iopub.status.busy": "2024-06-05T08:07:02.579738Z",
     "iopub.status.idle": "2024-06-05T08:07:02.599746Z",
     "shell.execute_reply": "2024-06-05T08:07:02.597365Z"
    },
    "papermill": {
     "duration": null,
     "end_time": null,
     "exception": null,
     "start_time": null,
     "status": "pending"
    },
    "tags": []
   },
   "outputs": [],
   "source": [
    "df_new = pd.DataFrame({\"Country\" : [country_name],\"iso_alpha\":[optimized_parameters['iso_alpha']],\n",
    "    \"mean_load\":[optimized_parameters['mean_consumption']],\n",
    "    \"E_dispatch\": [optimized_parameters['E_dispatch']],\n",
    "    \"P_dispatch\": [optimized_parameters['dispatchable_capacity']],\n",
    "    \"E_destock\": [optimized_parameters['E_destock']],\n",
    "    \"P_pv\": [optimized_parameters['pv_capacity']],\n",
    "    \"P_wind\": [optimized_parameters['wind_capacity']]\n",
    "})\n"
   ]
  },
  {
   "cell_type": "code",
   "execution_count": null,
   "id": "bb04d710",
   "metadata": {
    "execution": {
     "iopub.execute_input": "2024-06-05T08:07:03.046028Z",
     "iopub.status.busy": "2024-06-05T08:07:03.044002Z",
     "iopub.status.idle": "2024-06-05T08:07:03.127779Z",
     "shell.execute_reply": "2024-06-05T08:07:03.125002Z"
    },
    "papermill": {
     "duration": null,
     "end_time": null,
     "exception": null,
     "start_time": null,
     "status": "pending"
    },
    "tags": []
   },
   "outputs": [],
   "source": [
    "all_results_file = \"results/optimization_results_world_grid.csv\"\n",
    "file_exists = os.path.isfile(all_results_file)\n",
    "\n",
    "df_new.to_csv(all_results_file, mode='a', index=False, header=not file_exists)\n",
    "\n",
    "print(f\"Data have been added to {all_results_file}\")    "
   ]
  },
  {
   "cell_type": "markdown",
   "id": "68cd0ec4",
   "metadata": {
    "papermill": {
     "duration": null,
     "end_time": null,
     "exception": null,
     "start_time": null,
     "status": "pending"
    },
    "tags": []
   },
   "source": [
    "## Plots"
   ]
  },
  {
   "cell_type": "code",
   "execution_count": null,
   "id": "3331b373",
   "metadata": {
    "execution": {
     "iopub.execute_input": "2024-06-05T08:07:04.020292Z",
     "iopub.status.busy": "2024-06-05T08:07:04.018292Z",
     "iopub.status.idle": "2024-06-05T08:07:04.042587Z",
     "shell.execute_reply": "2024-06-05T08:07:04.040082Z"
    },
    "papermill": {
     "duration": null,
     "end_time": null,
     "exception": null,
     "start_time": null,
     "status": "pending"
    },
    "tags": []
   },
   "outputs": [],
   "source": [
    "# from plots import plot_ts_optim, plot_pie_energy, plot_storage, plot_stack_production"
   ]
  },
  {
   "cell_type": "code",
   "execution_count": null,
   "id": "2dbafb91",
   "metadata": {
    "execution": {
     "iopub.execute_input": "2024-06-05T08:07:04.486668Z",
     "iopub.status.busy": "2024-06-05T08:07:04.485670Z",
     "iopub.status.idle": "2024-06-05T08:07:04.509473Z",
     "shell.execute_reply": "2024-06-05T08:07:04.506053Z"
    },
    "papermill": {
     "duration": null,
     "end_time": null,
     "exception": null,
     "start_time": null,
     "status": "pending"
    },
    "tags": []
   },
   "outputs": [],
   "source": [
    "# plot_ts_optim([optimized_parameters['optimized_pv'], optimized_parameters['optimized_wind'], optimized_parameters['optimized_dispatchable'], optimized_parameters['optimized_p_curt'],np.array(Load_ts) ], ['PV', 'Wind', 'Dispatchable', 'Curtailment', 'Consumption'], country_name, colors_dict = colors_dict,savefig=False)"
   ]
  },
  {
   "cell_type": "code",
   "execution_count": null,
   "id": "2e8e5dec",
   "metadata": {
    "execution": {
     "iopub.execute_input": "2024-06-05T08:07:04.951503Z",
     "iopub.status.busy": "2024-06-05T08:07:04.950509Z",
     "iopub.status.idle": "2024-06-05T08:07:04.973110Z",
     "shell.execute_reply": "2024-06-05T08:07:04.971150Z"
    },
    "papermill": {
     "duration": null,
     "end_time": null,
     "exception": null,
     "start_time": null,
     "status": "pending"
    },
    "tags": []
   },
   "outputs": [],
   "source": [
    "# plot_storage(optimized_parameters['optimized_charge'], optimized_parameters['optimized_discharge'], optimized_parameters['optimized_stock'], country_name, colors_dict = colors_dict, savefig=False)"
   ]
  },
  {
   "cell_type": "code",
   "execution_count": null,
   "id": "cea6c60b",
   "metadata": {
    "execution": {
     "iopub.execute_input": "2024-06-05T08:07:05.436834Z",
     "iopub.status.busy": "2024-06-05T08:07:05.435033Z",
     "iopub.status.idle": "2024-06-05T08:07:05.453515Z",
     "shell.execute_reply": "2024-06-05T08:07:05.450616Z"
    },
    "papermill": {
     "duration": null,
     "end_time": null,
     "exception": null,
     "start_time": null,
     "status": "pending"
    },
    "tags": []
   },
   "outputs": [],
   "source": [
    "# E_wind = optimized_parameters['E_wind']\n",
    "# E_pv = optimized_parameters['E_pv']\n",
    "# E_dispatch = optimized_parameters['E_dispatch']"
   ]
  },
  {
   "cell_type": "code",
   "execution_count": null,
   "id": "662b937f",
   "metadata": {
    "execution": {
     "iopub.execute_input": "2024-06-05T08:07:05.896286Z",
     "iopub.status.busy": "2024-06-05T08:07:05.894239Z",
     "iopub.status.idle": "2024-06-05T08:07:05.920101Z",
     "shell.execute_reply": "2024-06-05T08:07:05.917850Z"
    },
    "papermill": {
     "duration": null,
     "end_time": null,
     "exception": null,
     "start_time": null,
     "status": "pending"
    },
    "tags": []
   },
   "outputs": [],
   "source": [
    "# plot_pie_energy([E_wind, E_pv, E_dispatch], country_name, colors_dict =colors_dict, savefig=False)"
   ]
  }
 ],
 "metadata": {
  "kernelspec": {
   "display_name": "Python 3",
   "language": "python",
   "name": "python3"
  },
  "language_info": {
   "codemirror_mode": {
    "name": "ipython",
    "version": 3
   },
   "file_extension": ".py",
   "mimetype": "text/x-python",
   "name": "python",
   "nbconvert_exporter": "python",
   "pygments_lexer": "ipython3",
   "version": "3.10.13"
  },
  "papermill": {
   "default_parameters": {},
   "duration": 492.006743,
   "end_time": "2024-06-07T08:00:51.488201",
   "environment_variables": {},
   "exception": true,
   "input_path": "1b_run_optimization_grid.ipynb",
   "output_path": "1b_run_optimization_grid_1.ipynb",
   "parameters": {
    "country_name": "Spain"
   },
   "start_time": "2024-06-07T07:52:39.481458",
   "version": "2.6.0"
  }
 },
 "nbformat": 4,
 "nbformat_minor": 5
}