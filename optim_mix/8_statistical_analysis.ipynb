{
 "cells": [
  {
   "cell_type": "code",
   "execution_count": 1,
   "metadata": {},
   "outputs": [],
   "source": [
    "# Required packages to run the script\n",
    "import numpy as np \n",
    "import pandas as pd\n",
    "import matplotlib.pyplot as plt\n",
    "import matplotlib.ticker as mticke\n",
    "import seaborn as sns\n",
    "\n",
    "from matplotlib.colors import LogNorm\n",
    "import math\n",
    "import os\n",
    "import pickle as pkl\n",
    "from scipy import sparse\n",
    "from scipy.sparse.linalg import lsqr\n",
    "import scipy.fftpack\n",
    "import xlsxwriter\n",
    "import importlib\n",
    "import plotly.express as px\n",
    "import plotly.graph_objects as go\n",
    "import glob\n",
    "\n",
    "from sklearn import metrics\n",
    "from sklearn.preprocessing import StandardScaler\n",
    "from sklearn.model_selection import train_test_split\n",
    "from sklearn.linear_model import LinearRegression\n",
    "from sklearn import preprocessing\n",
    "import os"
   ]
  },
  {
   "cell_type": "code",
   "execution_count": 2,
   "metadata": {},
   "outputs": [],
   "source": [
    "path_input_data = '../input_time_series/'\n",
    "dpd = 24 # data per day in the time serie\n",
    "dpy = 365 # data per year :  cut the leap years to 365 years\n",
    "\n",
    "ndpd = 64 # new data per day for hourly data (for the interpolation)\n",
    "signal_length = ndpd * dpy"
   ]
  },
  {
   "cell_type": "code",
   "execution_count": 3,
   "metadata": {},
   "outputs": [],
   "source": [
    "import seaborn as sn\n",
    "list_lags = pd.read_csv(\"results/lags_world_diff_true.csv\", index_col=0)\n",
    "\n",
    "for country_name in list_lags.index :\n",
    "    result_optim = pd.read_pickle(f'results/{country_name}/optimization_results.pickle')\n",
    "    list_lags.loc[country_name,'share_wind'] = result_optim['E_wind']/(result_optim['E_wind']+result_optim['E_pv']+result_optim['E_dispatch'])\n",
    "    list_lags.loc[country_name,'share_pv'] = result_optim['E_pv']/(result_optim['E_wind']+result_optim['E_pv']+result_optim['E_dispatch'])\n",
    "    list_lags.loc[country_name,'share_dispatch'] = result_optim['E_dispatch']/(result_optim['E_wind']+result_optim['E_pv']+result_optim['E_dispatch'])\n",
    "    list_lags.loc[country_name, 'cf_pv']=result_optim['E_pv']/(result_optim['pv_capacity']*8760)\n",
    "    list_lags.loc[country_name, 'cf_wind'] = result_optim['E_wind']/(result_optim['wind_capacity']*8760)\n",
    "    list_lags.loc[country_name, 'Pmin/Pmax PV'] = np.min(result_optim['optimized_pv'])/np.max(result_optim['optimized_pv'])\n",
    "    list_lags.loc[country_name, 'Pmin/Pmax Wind'] = np.min(result_optim['optimized_wind'])/np.max(result_optim['optimized_wind'])\n",
    "    list_lags.loc[country_name, 'Pmin/Pmax Load'] = np.min(result_optim['consumption'])/np.max(result_optim['consumption'])\n",
    "    list_lags.loc[country_name, 'Max Diff Wind/D']= np.max(result_optim['consumption']-result_optim['optimized_wind'])\n",
    "    list_lags.loc[country_name, 'Mean Diff Wind/D']= np.mean(result_optim['consumption']-result_optim['optimized_wind'])"
   ]
  },
  {
   "cell_type": "code",
   "execution_count": 4,
   "metadata": {},
   "outputs": [],
   "source": [
    "dataset = list_lags"
   ]
  },
  {
   "cell_type": "code",
   "execution_count": 5,
   "metadata": {},
   "outputs": [],
   "source": [
    "# Variance study\n",
    "# verification du model\n",
    "# var_echantillon = dataset['share_pv'].var()\n",
    "# var_model = share_predict.var()\n",
    "# # print(var_model/var_echantillon,model.score(X, y)) # Ok\n",
    "# # 'if variance du modelalmost  equals to sample variance, model is validated')\n",
    "# # On garde le model bivarié linéaire et on cherche les thermes pour Mass nulm et SCx nul\n",
    "# # cf wind à zero\n",
    "# dataset['Zero'] = np.zeros(dataset.shape[0])\n",
    "# X_W = dataset[['Lag Wind Year', 'Lag PV Year', 'Lag PV Week', 'Lag Wind Week','Lag PV Day', 'Lag Wind Day', 'cf_pv', 'Zero']].to_numpy()\n",
    "# share_predict_W = model.predict(X_W)\n",
    "# var_du_cf_wind = share_predict_W.var()\n",
    "# moy_du_cf_wind = share_predict_W.mean()\n",
    "# # cf pv à zero\n",
    "# X_PV = dataset[['Lag Wind Year', 'Lag PV Year', 'Lag PV Week', 'Lag Wind Week','Lag PV Day', 'Lag Wind Day', 'Zero', 'cf_wind']].to_numpy()\n",
    "# share_predict_PV = model.predict(X_PV)\n",
    "# var_du_PV = share_predict_PV.var()\n",
    "# moy_du_PV = share_predict_PV.mean()\n",
    "# # cf pv à zero\n",
    "# X_WD = dataset[['Lag Wind Year', 'Lag PV Year', 'Lag PV Week', 'Lag Wind Week','Lag PV Day', 'Zero', 'cf_pv', 'cf_wind']].to_numpy()\n",
    "# share_predict_WD = model.predict(X_WD)\n",
    "# var_du_WD = share_predict_WD.var()\n",
    "# moy_du_WD = share_predict_WD.mean()\n",
    "# # cf pv à zero\n",
    "# X_PVD = dataset[['Lag Wind Year', 'Lag PV Year', 'Lag PV Week', 'Lag Wind Week','Zero', 'Lag Wind Day', 'cf_pv', 'cf_wind']].to_numpy()\n",
    "# share_predict_PVD = model.predict(X_PVD)\n",
    "# var_du_PVD = share_predict_PVD.var()\n",
    "# moy_du_PVD = share_predict_PVD.mean()\n",
    "# # lag wind week à zero\n",
    "# X_WW= dataset[['Lag Wind Year', 'Lag PV Year', 'Lag PV Week', 'Zero','Lag PV Day', 'Lag Wind Day', 'cf_pv', 'cf_wind']].to_numpy()\n",
    "# share_predict_WW = model.predict(X_WW)\n",
    "# var_du_WW = share_predict_WW.var()\n",
    "# moy_du_WW = share_predict_WW.mean()\n",
    "# # lag pv week à zero\n",
    "# X_PVW = dataset[['Lag Wind Year', 'Lag PV Year', 'Zero', 'Lag Wind Week','Lag PV Day', 'Lag Wind Day', 'cf_pv', 'cf_wind']].to_numpy()\n",
    "# share_predict_PVW = model.predict(X_PVW)\n",
    "# var_du_PVW = share_predict_PVW.var()\n",
    "# moy_du_PVW = share_predict_PVW.mean()\n",
    "# # lag pv year à zero\n",
    "# X_PVY= dataset[['Lag Wind Year', 'Zero', 'Lag PV Week', 'Lag Wind Week','Lag PV Day', 'Lag Wind Day', 'cf_pv', 'cf_wind']].to_numpy()\n",
    "# share_predict_PVY = model.predict(X_PVY)\n",
    "# var_du_PVY = share_predict_PVY.var()\n",
    "# moy_du_PVY = share_predict_PVY.mean()\n",
    "# # lag wind year à zero\n",
    "# X_WY = dataset[['Zero', 'Lag PV Year', 'Zero', 'Lag Wind Week','Lag PV Day', 'Lag Wind Day', 'cf_pv', 'cf_wind']].to_numpy()\n",
    "# share_predict_WY = model.predict(X_WY)\n",
    "# var_du_WY = share_predict_WY.var()\n",
    "# moy_du_WY = share_predict_WY.mean()\n",
    "\n",
    "# # calcul du terme constant, on met a zero la masse et le SCx\n",
    "# X_zero = dataset[['Zero', 'Zero','Zero', 'Zero','Zero', 'Zero','Zero', 'Zero']].to_numpy()\n",
    "# share_predict_zero = model.predict(X_zero)\n",
    "# var_du_a_zero = share_predict_zero.var()  # doit valoir 0\n",
    "# moy_du_a_zero = share_predict_zero.mean()\n",
    "# moy_du_cf_wind -= moy_du_a_zero\n",
    "# moy_du_PV -= moy_du_a_zero\n",
    "# moy_du_WD -= moy_du_a_zero\n",
    "# moy_du_WY -= moy_du_a_zero\n",
    "# moy_du_PVY -= moy_du_a_zero\n",
    "# moy_du_PVW -= moy_du_a_zero\n",
    "# moy_du_WW -= moy_du_a_zero\n",
    "# moy_du_PVD -= moy_du_a_zero\n",
    "\n",
    "# mean_tot = share_predict.mean()\n",
    "# assert(abs(moy_du_a_zero + moy_du_cf_wind + moy_du_PV+moy_du_WD+moy_du_WY+moy_du_PVW+moy_du_PVY+ moy_du_WW+moy_du_PVD- mean_tot) / mean_tot < 1e-10)\n",
    "# labels = ['Mass<sub>EV</sub>', 'A.Cd<sub>EV</sub>', 'Corr<sub>(Mass,ACd)</sub>', 'Others']\n",
    "# var_values = [var_du_cf_wind, var_du_PV, var_model - (var_du_cf_wind + var_du_PV),\n",
    "#                 var_echantillon - var_model]\n",
    "# mean_values = {'Constant': moy_du_a_zero, 'Mass<sub>EV</sub>': var_du_cf_wind, 'A.Cd<sub>EV</sub>': var_du_PV}\n",
    "# # return {'measure conso': measured_conso, 'measure range': measured_range, 'data': dataset, 'model': model,\n",
    "# #         'a': a, 'b_ACd': b_SCx, 'c_Mass': c_Mass, 'errors': df_error, 'mean': mean_values,\n",
    "# #         'variance': dict(zip(labels, var_values))}\n"
   ]
  },
  {
   "cell_type": "code",
   "execution_count": 6,
   "metadata": {},
   "outputs": [
    {
     "data": {
      "text/plain": [
       "dict_keys(['optimized_pv', 'optimized_wind', 'optimized_dispatchable', 'optimized_stock', 'optimized_charge', 'optimized_discharge', 'optimized_p_curt', 'consumption', 'mean_consumption', 'pv_capacity', 'wind_capacity', 'dispatchable_capacity', 'E_wind', 'E_pv', 'E_dispatch', 'E_curt', 'E_loss', 'E_stock', 'E_destock', 'iso_alpha', 'cf_wind', 'cf_pv', 'capacity_factor_dispatch', 'share_dispatchable', 'share_wind', 'share_pv', 'num_loc'])"
      ]
     },
     "execution_count": 6,
     "metadata": {},
     "output_type": "execute_result"
    }
   ],
   "source": [
    "result_optim = pd.read_pickle(f'results/France/optimization_results.pickle')\n",
    "result_optim.keys()"
   ]
  },
  {
   "cell_type": "code",
   "execution_count": 7,
   "metadata": {},
   "outputs": [],
   "source": [
    "# On supprime les lignes des pays qui sont subdivisés en états\n",
    "list_lags = list_lags.drop(['United States', 'China', 'Australia', 'Brazil', 'Russia', 'Canada', 'Antarctica'])\n",
    "list_lags['State']=None\n",
    "list_lags['Country']=list_lags.index     "
   ]
  },
  {
   "cell_type": "code",
   "execution_count": 8,
   "metadata": {},
   "outputs": [],
   "source": [
    "list_lags_states = pd.read_csv(\"results/lags_world_diff_states_3.csv\", index_col=1)\n",
    "for state_name in list_lags_states.index :\n",
    "    country_name = list_lags_states.loc[state_name, 'Country']\n",
    "    if not type(country_name)==str: \n",
    "        country_name = country_name.iloc[0]\n",
    "    result_optim = pd.read_pickle(f'results/{country_name}/optimization_results_{state_name}.pickle')\n",
    "    list_lags_states.loc[state_name,'share_wind'] = result_optim['E_wind']/(result_optim['E_wind']+result_optim['E_pv']+result_optim['E_dispatch'])\n",
    "    list_lags_states.loc[state_name,'share_pv'] = result_optim['E_pv']/(result_optim['E_wind']+result_optim['E_pv']+result_optim['E_dispatch'])\n",
    "    list_lags_states.loc[state_name,'share_dispatch'] = result_optim['E_dispatch']/(result_optim['E_wind']+result_optim['E_pv']+result_optim['E_dispatch'])\n",
    "    list_lags_states.loc[state_name, 'cf_pv']=result_optim['E_pv']/(result_optim['pv_capacity']*8760)\n",
    "    list_lags_states.loc[state_name, 'cf_wind'] = result_optim['E_wind']/(result_optim['wind_capacity']*8760)\n",
    "    list_lags_states.loc[state_name, 'Pmin/Pmax PV'] = np.min(result_optim['optimized_pv'])/np.max(result_optim['optimized_pv'])\n",
    "    list_lags_states.loc[state_name, 'Pmin/Pmax Wind'] = np.min(result_optim['optimized_wind'])/np.max(result_optim['optimized_wind'])\n",
    "    list_lags_states.loc[state_name, 'Pmin/Pmax Load'] = np.min(result_optim['consumption'])/np.max(result_optim['consumption'])\n",
    "    list_lags_states.loc[state_name, 'Max Diff Wind/D']= np.max(result_optim['consumption']-result_optim['optimized_wind'])\n",
    "    list_lags_states.loc[state_name, 'Mean Diff Wind/D']= np.mean(result_optim['consumption']-result_optim['optimized_wind'])"
   ]
  },
  {
   "cell_type": "code",
   "execution_count": 9,
   "metadata": {},
   "outputs": [],
   "source": [
    "result = pd.concat([list_lags, list_lags_states])"
   ]
  },
  {
   "cell_type": "code",
   "execution_count": 10,
   "metadata": {},
   "outputs": [
    {
     "data": {
      "text/plain": [
       "0"
      ]
     },
     "execution_count": 10,
     "metadata": {},
     "output_type": "execute_result"
    }
   ],
   "source": [
    "result['Max Diff Wind/D'].isna().sum()\n"
   ]
  },
  {
   "cell_type": "markdown",
   "metadata": {},
   "source": [
    "# Régression multiple"
   ]
  },
  {
   "cell_type": "code",
   "execution_count": 21,
   "metadata": {},
   "outputs": [
    {
     "name": "stdout",
     "output_type": "stream",
     "text": [
      "0.7215317208389387\n",
      "Mean Absolute Error: 0.067006304404975\n",
      "Mean Square Error: 0.0076277639269393275\n",
      "Coefficient de détermination (R²): 0.7215317208389387\n"
     ]
    }
   ],
   "source": [
    "from sklearn import metrics\n",
    "from sklearn.preprocessing import StandardScaler\n",
    "from sklearn.model_selection import train_test_split\n",
    "from sklearn.linear_model import LinearRegression\n",
    "from sklearn import preprocessing\n",
    "import os\n",
    "\n",
    "dataset = result\n",
    "X = dataset[[ 'Lag PV Year','Lag Wind Year', 'Lag PV Week', 'Lag Wind Week', 'Lag PV Day', 'Lag Wind Day','cf_pv', 'cf_wind']]\n",
    "y = dataset['share_wind']\n",
    "\n",
    "model = LinearRegression()\n",
    "model.fit(X, y)\n",
    "model.score(X, y)  # R²\n",
    "print(model.score(X, y))\n",
    "share_predict = model.predict(X)\n",
    "\n",
    "coef = model.coef_\n",
    "a = model.intercept_\n",
    "\n",
    "dataset['Prediction share Wind'] = share_predict\n",
    "# Model Evaluation\n",
    "meanAbErr = metrics.mean_absolute_error(y, share_predict)\n",
    "meanSqErr = metrics.mean_squared_error(y, share_predict)\n",
    "rootMeanSqErr = np.sqrt(metrics.mean_squared_error(y, share_predict))\n",
    "\n",
    "print('Mean Absolute Error:', meanAbErr)\n",
    "print('Mean Square Error:', meanSqErr)\n",
    "print(f'Coefficient de détermination (R²): {model.score(X, y)}')"
   ]
  },
  {
   "cell_type": "markdown",
   "metadata": {},
   "source": [
    "On ajoute maintenant les prédicteurs un par un pour voir l'évolution du R2."
   ]
  },
  {
   "cell_type": "code",
   "execution_count": 13,
   "metadata": {},
   "outputs": [
    {
     "name": "stdout",
     "output_type": "stream",
     "text": [
      "0.2353449843499068\n",
      "Mean Absolute Error: 0.11672661674120799\n",
      "Mean Square Error: 0.020822924233545793\n",
      "Coefficient de détermination (R²): 0.2353449843499068\n"
     ]
    }
   ],
   "source": [
    "dataset = result\n",
    "X = dataset[['cf_wind']]\n",
    "y = dataset['share_pv']\n",
    "\n",
    "model = LinearRegression()\n",
    "model.fit(X, y)\n",
    "model.score(X, y)  # R²\n",
    "print(model.score(X, y))\n",
    "share_predict = model.predict(X)\n",
    "\n",
    "coef = model.coef_\n",
    "a = model.intercept_\n",
    "\n",
    "dataset['Prediction share PV'] = share_predict\n",
    "# Model Evaluation\n",
    "meanAbErr = metrics.mean_absolute_error(y, share_predict)\n",
    "meanSqErr = metrics.mean_squared_error(y, share_predict)\n",
    "rootMeanSqErr = np.sqrt(metrics.mean_squared_error(y, share_predict))\n",
    "\n",
    "print('Mean Absolute Error:', meanAbErr)\n",
    "print('Mean Square Error:', meanSqErr)\n",
    "print(f'Coefficient de détermination (R²): {model.score(X, y)}')"
   ]
  },
  {
   "cell_type": "markdown",
   "metadata": {},
   "source": [
    "# Analyse de la variance"
   ]
  },
  {
   "cell_type": "code",
   "execution_count": 25,
   "metadata": {},
   "outputs": [
    {
     "name": "stdout",
     "output_type": "stream",
     "text": [
      "Coefficients estimés : [ 1.36496192e-06 -5.80864483e-06 -6.63173645e-05 -6.84529060e-05\n",
      " -1.69388672e-03 -1.72528165e-03 -2.73742215e+00  6.47540783e-01]\n",
      "Erreur quadratique moyenne (MSE) : 0.01036954569774032\n",
      "Coefficient de détermination (R^2) : 0.6236886307926195\n",
      "\n",
      "Analyse de la variance (ANOVA) pour chaque paramètre (variables quantitatives) :\n",
      "Paramètre Lag PV Year: F-value = 52.31, p-value = 3.24e-12\n",
      "Paramètre Lag Wind Year: F-value = 86.36, p-value = 1.97e-18\n",
      "Paramètre Lag PV Week: F-value = 0.31, p-value = 5.79e-01\n",
      "Paramètre Lag Wind Week: F-value = 14.76, p-value = 1.46e-04\n",
      "Paramètre Lag PV Day: F-value = 2.54, p-value = 1.12e-01\n",
      "Paramètre Lag Wind Day: F-value = 13.67, p-value = 2.54e-04\n",
      "Paramètre cf_pv: F-value = 212.56, p-value = 1.26e-37\n",
      "Paramètre cf_wind: F-value = 132.80, p-value = 4.16e-26\n"
     ]
    }
   ],
   "source": [
    "from sklearn.model_selection import train_test_split\n",
    "from sklearn.linear_model import LinearRegression\n",
    "from sklearn.metrics import mean_squared_error, r2_score\n",
    "from sklearn.feature_selection import f_regression\n",
    "\n",
    "\n",
    "# Séparation des données en ensembles d'entraînement et de test\n",
    "X_train, X_test, y_train, y_test = train_test_split(X, y, test_size=0.2, random_state=0)\n",
    "\n",
    "# Initialisation du modèle de régression linéaire\n",
    "model = LinearRegression()\n",
    "\n",
    "# Entraînement du modèle\n",
    "model.fit(X_train, y_train)\n",
    "\n",
    "# Prédiction sur l'ensemble de test\n",
    "y_pred = model.predict(X_test)\n",
    "\n",
    "# Évaluation des performances du modèle\n",
    "mse = mean_squared_error(y_test, y_pred)\n",
    "r2 = r2_score(y_test, y_pred)\n",
    "\n",
    "# Analyse de la variance (ANOVA) dans le contexte de la régression linéaire\n",
    "f_values, p_values = f_regression(X, y)\n",
    "\n",
    "# Affichage des résultats\n",
    "print(\"Coefficients estimés :\", model.coef_)\n",
    "print(\"Erreur quadratique moyenne (MSE) :\", mse)\n",
    "print(\"Coefficient de détermination (R^2) :\", r2)\n",
    "print(\"\\nAnalyse de la variance (ANOVA) pour chaque paramètre (variables quantitatives) :\")\n",
    "for i, col in enumerate(X.columns):\n",
    "    print(f\"Paramètre {col}: F-value = {f_values[i]:.2f}, p-value = {p_values[i]:.2e}\")\n"
   ]
  },
  {
   "cell_type": "markdown",
   "metadata": {},
   "source": [
    "# Random Forest"
   ]
  },
  {
   "cell_type": "code",
   "execution_count": 26,
   "metadata": {},
   "outputs": [
    {
     "name": "stdout",
     "output_type": "stream",
     "text": [
      "Erreur quadratique moyenne (MSE) : 0.006325739341561043\n",
      "Coefficient de détermination (R^2) : 0.7704385802175918\n",
      "\n",
      "Importance des variables :\n",
      "Lag PV Year: Importance = 0.0483\n",
      "Lag Wind Year: Importance = 0.0630\n",
      "Lag PV Week: Importance = 0.0227\n",
      "Lag Wind Week: Importance = 0.0280\n",
      "Lag PV Day: Importance = 0.0356\n",
      "Lag Wind Day: Importance = 0.0253\n",
      "cf_pv: Importance = 0.5320\n",
      "cf_wind: Importance = 0.2450\n"
     ]
    },
    {
     "data": {
      "image/png": "[encoded data removed]",
      "text/plain": [
       "<Figure size 1000x600 with 1 Axes>"
      ]
     },
     "metadata": {},
     "output_type": "display_data"
    }
   ],
   "source": [
    "from sklearn.ensemble import RandomForestRegressor\n",
    "# Séparation des données en ensembles d'entraînement et de test\n",
    "X_train, X_test, y_train, y_test = train_test_split(X, y, test_size=0.2, random_state=0)\n",
    "\n",
    "# Initialisation du modèle de forêt aléatoire\n",
    "model = RandomForestRegressor(random_state=0)\n",
    "\n",
    "# Entraînement du modèle\n",
    "model.fit(X_train, y_train)\n",
    "\n",
    "y_pred = model.predict(X_test)\n",
    "\n",
    "mse = mean_squared_error(y_test, y_pred)\n",
    "r2 = r2_score(y_test, y_pred)\n",
    "\n",
    "importances = model.feature_importances_\n",
    "\n",
    "print(\"Erreur quadratique moyenne (MSE) :\", mse)\n",
    "print(\"Coefficient de détermination (R^2) :\", r2)\n",
    "print(\"\\nImportance des variables :\")\n",
    "for i, col in enumerate(X.columns):\n",
    "    print(f\"{col}: Importance = {importances[i]:.4f}\")\n",
    "\n",
    "\n",
    "plt.figure(figsize=(10, 6))\n",
    "plt.barh(X.columns, importances, color='skyblue')\n",
    "plt.xlabel('Importance')\n",
    "plt.title('Importance des variables avec modèle Random Forest')\n",
    "plt.show()"
   ]
  },
  {
   "cell_type": "code",
   "execution_count": 27,
   "metadata": {},
   "outputs": [
    {
     "name": "stdout",
     "output_type": "stream",
     "text": [
      "Erreur quadratique moyenne (MSE) : 0.006325739341561043\n",
      "Coefficient de détermination (R^2) : 0.7704385802175918\n",
      "\n",
      "Importance des variables (permutation importance) :\n",
      "Lag PV Year: Importance moyenne = 0.0250, Ecart-type = 0.0084\n",
      "Lag Wind Year: Importance moyenne = 0.0338, Ecart-type = 0.0145\n",
      "Lag PV Week: Importance moyenne = 0.0005, Ecart-type = 0.0051\n",
      "Lag Wind Week: Importance moyenne = 0.0021, Ecart-type = 0.0030\n",
      "Lag PV Day: Importance moyenne = 0.0220, Ecart-type = 0.0084\n",
      "Lag Wind Day: Importance moyenne = 0.0061, Ecart-type = 0.0075\n",
      "cf_pv: Importance moyenne = 0.6976, Ecart-type = 0.0974\n",
      "cf_wind: Importance moyenne = 0.3313, Ecart-type = 0.0768\n"
     ]
    },
    {
     "data": {
      "image/png": "[encoded data removed]",
      "text/plain": [
       "<Figure size 1000x600 with 1 Axes>"
      ]
     },
     "metadata": {},
     "output_type": "display_data"
    }
   ],
   "source": [
    "from sklearn.inspection import permutation_importance\n",
    "\n",
    "X_train, X_test, y_train, y_test = train_test_split(X, y, test_size=0.2, random_state=0)\n",
    "\n",
    "model = RandomForestRegressor(random_state=0)\n",
    "\n",
    "model.fit(X_train, y_train)\n",
    "\n",
    "y_pred = model.predict(X_test)\n",
    "\n",
    "mse = mean_squared_error(y_test, y_pred)\n",
    "r2 = r2_score(y_test, y_pred)\n",
    "\n",
    "result = permutation_importance(model, X_test, y_test, n_repeats=30, random_state=0)\n",
    "\n",
    "print(\"Erreur quadratique moyenne (MSE) :\", mse)\n",
    "print(\"Coefficient de détermination (R^2) :\", r2)\n",
    "print(\"\\nImportance des variables (permutation importance) :\")\n",
    "for i, col in enumerate(X.columns):\n",
    "    print(f\"{col}: Importance moyenne = {result.importances_mean[i]:.4f}, Ecart-type = {result.importances_std[i]:.4f}\")\n",
    "\n",
    "\n",
    "sorted_idx = result.importances_mean.argsort()\n",
    "plt.figure(figsize=(10, 6))\n",
    "plt.barh(X.columns[sorted_idx], result.importances_mean[sorted_idx], xerr=result.importances_std[sorted_idx], color='skyblue')\n",
    "plt.xlabel('Importance moyenne')\n",
    "plt.title('Importance des variables (permutation importance)')\n",
    "plt.show()"
   ]
  },
  {
   "cell_type": "code",
   "execution_count": null,
   "metadata": {},
   "outputs": [],
   "source": []
  }
 ],
 "metadata": {
  "kernelspec": {
   "display_name": "Python 3",
   "language": "python",
   "name": "python3"
  },
  "language_info": {
   "codemirror_mode": {
    "name": "ipython",
    "version": 3
   },
   "file_extension": ".py",
   "mimetype": "text/x-python",
   "name": "python",
   "nbconvert_exporter": "python",
   "pygments_lexer": "ipython3",
   "version": "3.10.13"
  },
  "orig_nbformat": 4
 },
 "nbformat": 4,
 "nbformat_minor": 2
}
