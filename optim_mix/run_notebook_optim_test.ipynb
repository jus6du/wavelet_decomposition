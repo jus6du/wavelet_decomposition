{
 "cells": [
  {
   "cell_type": "code",
   "execution_count": 1,
   "metadata": {},
   "outputs": [],
   "source": [
    "import pandas as pd\n",
    "import os\n",
    "import sys\n",
    "import subprocess\n",
    "import papermill as pm\n",
    "\n",
    "sys.path.insert(0,'./optim_mix')"
   ]
  },
  {
   "cell_type": "code",
   "execution_count": 2,
   "metadata": {},
   "outputs": [],
   "source": [
    "countries = pd.read_csv('../countries_codes_and_coordinates_adapted.csv' , sep = ',', index_col = 0).index.to_list()\n",
    "usa_states_codes = {\n",
    "    'AL': 'Alabama', 'AK': 'Alaska', 'AZ': 'Arizona', 'AR': 'Arkansas', 'CA': 'Californie',\n",
    "    'CO': 'Colorado', 'CT': 'Connecticut', 'DE': 'Delaware', 'FL': 'Floride', 'GA': 'Géorgie',\n",
    "    'HI': 'Hawaii', 'ID': 'Idaho', 'IL': 'Illinois', 'IN': 'Indiana', 'IA': 'Iowa',\n",
    "    'KS': 'Kansas', 'KY': 'Kentucky', 'LA': 'Louisiane', 'ME': 'Maine', 'MD': 'Maryland',\n",
    "    'MA': 'Massachusetts', 'MI': 'Michigan', 'MN': 'Minnesota', 'MS': 'Mississippi', 'MO': 'Missouri',\n",
    "    'MT': 'Montana', 'NE': 'Nebraska', 'NV': 'Nevada', 'NH': 'New Hampshire', 'NJ': 'New Jersey',\n",
    "    'NM': 'Nouveau-Mexique', 'NY': 'New York', 'NC': 'Caroline du Nord', 'ND': 'Dakota du Nord', 'OH': 'Ohio',\n",
    "    'OK': 'Oklahoma', 'OR': 'Oregon', 'PA': 'Pennsylvanie', 'RI': 'Rhode Island', 'SC': 'Caroline du Sud',\n",
    "    'SD': 'Dakota du Sud', 'TN': 'Tennessee', 'TX': 'Texas', 'UT': 'Utah', 'VT': 'Vermont',\n",
    "    'VA': 'Virginie', 'WA': 'Washington', 'WV': 'Virginie-Occidentale', 'WI': 'Wisconsin', 'WY': 'Wyoming'\n",
    "}\n",
    "brazil_states_codes = [\n",
    "    'AC', 'AL', 'AM', 'AP', 'BA', 'CE', 'DF', 'ES', 'GO', 'MA', 'MG', 'MS', \n",
    "    'MT', 'PA', 'PB', 'PE', 'PI', 'PR', 'RJ', 'RN', 'RO', 'RR', 'RS', 'SC', \n",
    "    'SE', 'SP', 'TO'\n",
    "]\n",
    "\n",
    "canadian_province_codes = ['AB', 'BC', 'MB', 'NB', 'NL', 'NT', 'NS', 'NU', 'ON', 'PE', 'QC', 'SK', 'YT']\n",
    "\n",
    "china_province_abbreviations = [\n",
    "    \"CN061\", \"CN031\", \"CN050\", \"CN033\", \"CN036\", \"CN053\", \"CN037\", \"CN021\", \"CN054\", \"CN062\", \"CN081\", \"CN063\", \n",
    "    \"CN011\", \"CN011\", \"CN015\", \"CN042\", \"CN034\", \"CN052\", \"CN064\", \"CN032\", \"CN065\", \"CN014\", \"CN043\", \"CN051\", \n",
    "    \"CN045\", \"CN022\", \"CN013\", \"CN012\", \"CN044\", \"CN035\", \"CN023\", \"CN041\", \"CN046\"\n",
    "]\n",
    "\n",
    "\n",
    "australia_states_codes = ['NSW', 'QLD', 'SA','WA','VIC','TAS', 'NT', 'NSW','QLD', 'SA', 'WA','VIC','TAS','NT']\n",
    "\n",
    "russia_states_codes = pd.read_excel('codes_russia.xlsx')['shapeISO'].to_list()\n"
   ]
  },
  {
   "cell_type": "markdown",
   "metadata": {},
   "source": [
    "## Boucle pour les pays du monde"
   ]
  },
  {
   "cell_type": "code",
   "execution_count": 3,
   "metadata": {},
   "outputs": [
    {
     "name": "stdout",
     "output_type": "stream",
     "text": [
      "Processing country: Afghanistan\n",
      "Afghanistan\n",
      "Processing country: Albania\n",
      "Albania\n",
      "Processing country: Algeria\n",
      "Algeria\n",
      "Processing country: Angola\n",
      "Angola\n",
      "Processing country: Antarctica\n"
     ]
    },
    {
     "name": "stderr",
     "output_type": "stream",
     "text": [
      "Passed unknown parameter: country_name\n"
     ]
    },
    {
     "data": {
      "application/vnd.jupyter.widget-view+json": {
       "model_id": "4db58373ed8642d893c3f26bc050b781",
       "version_major": 2,
       "version_minor": 0
      },
      "text/plain": [
       "Executing:   0%|          | 0/32 [00:00<?, ?cell/s]"
      ]
     },
     "metadata": {},
     "output_type": "display_data"
    },
    {
     "name": "stdout",
     "output_type": "stream",
     "text": [
      "Error executing notebook for Antarctica: \n",
      "---------------------------------------------------------------------------\n",
      "Exception encountered at \"In [6]\":\n",
      "---------------------------------------------------------------------------\n",
      "ValueError                                Traceback (most recent call last)\n",
      "Cell In[6], line 36\n",
      "     34         result_df.to_excel(path_input_data+f'{country_name}/{country_code}_full_wind_onshore_10y.xlsx', index=False)\n",
      "     35         file_name = f'{country_name}/{country_code}_full_wind_onshore_10y.xlsx'\n",
      "---> 36 Wind_ts = import_excel(path_input_data,file_name, \n",
      "     37                                 dpd ,ndpd, dpy, \n",
      "     38                                 interp=True, norm = None) # interpolate data from dpd to ndpd numper of points per day\n",
      "     40 mean_wind = pd.read_excel(path_input_data+file_name).mean().iloc[0]\n",
      "\n",
      "File s:\\131-DPE\\131.1-Temporaire\\131.1.1-Espace commun\\zone transfert temporaire\\ITESE Grenoble\\Stage Justine\\Code git\\wavelet_decomposition\\optim_mix\\utilities.py:53, in import_excel(path_input_data, input_file, dpd, ndpd, dpy, interp, norm)\n",
      "     51     oldx = np.arange(0, ndays, 1./dpd)\n",
      "     52     newx = np.arange(0, ndays, 1./ndpd)\n",
      "---> 53     newy = np.interp(newx, oldx, one_d)\n",
      "     54 else:\n",
      "     55     newy = one_d\n",
      "\n",
      "File s:\\131-DPE\\131.1-Temporaire\\131.1.1-Espace commun\\zone transfert temporaire\\ITESE Grenoble\\Stage Justine\\Code git\\wavelet_decomposition\\.conda\\lib\\site-packages\\numpy\\lib\\function_base.py:1599, in interp(x, xp, fp, left, right, period)\n",
      "   1596     xp = np.concatenate((xp[-1:]-period, xp, xp[0:1]+period))\n",
      "   1597     fp = np.concatenate((fp[-1:], fp, fp[0:1]))\n",
      "-> 1599 return interp_func(x, xp, fp, left, right)\n",
      "\n",
      "ValueError: array of sample points is empty\n",
      "\n",
      "Processing country: Argentina\n",
      "Argentina\n",
      "Processing country: Armenia\n",
      "Armenia\n",
      "Processing country: Australia\n",
      "Australia\n",
      "Processing country: Austria\n",
      "Austria\n",
      "Processing country: Azerbaijan\n",
      "Azerbaijan\n",
      "Processing country: Bahrain\n",
      "Bahrain\n",
      "Processing country: Bangladesh\n",
      "Bangladesh\n",
      "Processing country: Belarus\n",
      "Belarus\n",
      "Processing country: Belgium\n",
      "Belgium\n",
      "Processing country: Belize\n",
      "Belize\n",
      "Processing country: Benin\n",
      "Benin\n",
      "Processing country: Bhutan\n",
      "Bhutan\n",
      "Processing country: Bolivia\n",
      "Bolivia\n",
      "Processing country: Bosnia and Herzegovina\n",
      "Bosnia and Herzegovina\n",
      "Processing country: Botswana\n",
      "Botswana\n",
      "Processing country: Brazil\n",
      "Brazil\n",
      "Processing country: Brunei\n"
     ]
    },
    {
     "name": "stderr",
     "output_type": "stream",
     "text": [
      "Passed unknown parameter: country_name\n"
     ]
    },
    {
     "data": {
      "application/vnd.jupyter.widget-view+json": {
       "model_id": "14ed651f140d47738752c0ef9c8c2aa5",
       "version_major": 2,
       "version_minor": 0
      },
      "text/plain": [
       "Executing:   0%|          | 0/32 [00:00<?, ?cell/s]"
      ]
     },
     "metadata": {},
     "output_type": "display_data"
    },
    {
     "name": "stdout",
     "output_type": "stream",
     "text": [
      "Error executing notebook for Brunei: \n",
      "---------------------------------------------------------------------------\n",
      "Exception encountered at \"In [10]\":\n",
      "---------------------------------------------------------------------------\n",
      "TypeError                                 Traceback (most recent call last)\n",
      "Cell In[10], line 1\n",
      "----> 1 optimized_parameters=optimize_enr_chu(country_name, Load_ts[:43800], PV_ts[:43800], Wind_ts[:43800], mean_load, state_name = None,save_results = True)\n",
      "\n",
      "File s:\\131-DPE\\131.1-Temporaire\\131.1.1-Espace commun\\zone transfert temporaire\\ITESE Grenoble\\Stage Justine\\Code git\\wavelet_decomposition\\optim_mix\\utilities.py:111, in optimize_enr_chu(country_name, Load_ts, PV_ts, Wind_ts, mean_load, state_name, save_results)\n",
      "    109 # Get results of optimization \n",
      "    110 optimized_pv = [x_pv.varValue * PV_ts[t] for t in range(signal_length)]\n",
      "--> 111 optimized_wind = [x_wind.varValue * Wind_ts[t] for t in range(signal_length)]\n",
      "    112 optimized_dispatchable = [ts_dispatchable[t].varValue for t in range(signal_length)]\n",
      "    113 optimized_stock = [SOC_ts[t].varValue for t in range(signal_length)]\n",
      "\n",
      "File s:\\131-DPE\\131.1-Temporaire\\131.1.1-Espace commun\\zone transfert temporaire\\ITESE Grenoble\\Stage Justine\\Code git\\wavelet_decomposition\\optim_mix\\utilities.py:111, in <listcomp>(.0)\n",
      "    109 # Get results of optimization \n",
      "    110 optimized_pv = [x_pv.varValue * PV_ts[t] for t in range(signal_length)]\n",
      "--> 111 optimized_wind = [x_wind.varValue * Wind_ts[t] for t in range(signal_length)]\n",
      "    112 optimized_dispatchable = [ts_dispatchable[t].varValue for t in range(signal_length)]\n",
      "    113 optimized_stock = [SOC_ts[t].varValue for t in range(signal_length)]\n",
      "\n",
      "TypeError: unsupported operand type(s) for *: 'NoneType' and 'float'\n",
      "\n",
      "Processing country: Bulgaria\n",
      "Bulgaria\n",
      "Processing country: Burkina Faso\n",
      "Burkina Faso\n",
      "Processing country: Burundi\n",
      "Burundi\n",
      "Processing country: Cambodia\n",
      "Cambodia\n",
      "Processing country: Cameroon\n",
      "Cameroon\n",
      "Processing country: Canada\n",
      "Canada\n",
      "Processing country: Cape Verde\n"
     ]
    },
    {
     "name": "stderr",
     "output_type": "stream",
     "text": [
      "Passed unknown parameter: country_name\n"
     ]
    },
    {
     "data": {
      "application/vnd.jupyter.widget-view+json": {
       "model_id": "b83e6cf5520d4453bb6f791f7e8365ca",
       "version_major": 2,
       "version_minor": 0
      },
      "text/plain": [
       "Executing:   0%|          | 0/32 [00:00<?, ?cell/s]"
      ]
     },
     "metadata": {},
     "output_type": "display_data"
    },
    {
     "name": "stdout",
     "output_type": "stream",
     "text": [
      "Error executing notebook for Cape Verde: \n",
      "---------------------------------------------------------------------------\n",
      "Exception encountered at \"In [6]\":\n",
      "---------------------------------------------------------------------------\n",
      "ValueError                                Traceback (most recent call last)\n",
      "Cell In[6], line 36\n",
      "     34         result_df.to_excel(path_input_data+f'{country_name}/{country_code}_full_wind_onshore_10y.xlsx', index=False)\n",
      "     35         file_name = f'{country_name}/{country_code}_full_wind_onshore_10y.xlsx'\n",
      "---> 36 Wind_ts = import_excel(path_input_data,file_name, \n",
      "     37                                 dpd ,ndpd, dpy, \n",
      "     38                                 interp=True, norm = None) # interpolate data from dpd to ndpd numper of points per day\n",
      "     40 mean_wind = pd.read_excel(path_input_data+file_name).mean().iloc[0]\n",
      "\n",
      "File s:\\131-DPE\\131.1-Temporaire\\131.1.1-Espace commun\\zone transfert temporaire\\ITESE Grenoble\\Stage Justine\\Code git\\wavelet_decomposition\\optim_mix\\utilities.py:53, in import_excel(path_input_data, input_file, dpd, ndpd, dpy, interp, norm)\n",
      "     51     oldx = np.arange(0, ndays, 1./dpd)\n",
      "     52     newx = np.arange(0, ndays, 1./ndpd)\n",
      "---> 53     newy = np.interp(newx, oldx, one_d)\n",
      "     54 else:\n",
      "     55     newy = one_d\n",
      "\n",
      "File s:\\131-DPE\\131.1-Temporaire\\131.1.1-Espace commun\\zone transfert temporaire\\ITESE Grenoble\\Stage Justine\\Code git\\wavelet_decomposition\\.conda\\lib\\site-packages\\numpy\\lib\\function_base.py:1599, in interp(x, xp, fp, left, right, period)\n",
      "   1596     xp = np.concatenate((xp[-1:]-period, xp, xp[0:1]+period))\n",
      "   1597     fp = np.concatenate((fp[-1:], fp, fp[0:1]))\n",
      "-> 1599 return interp_func(x, xp, fp, left, right)\n",
      "\n",
      "ValueError: array of sample points is empty\n",
      "\n",
      "Processing country: Central African Republic\n",
      "Central African Republic\n",
      "Processing country: Chad\n",
      "Chad\n",
      "Processing country: Chile\n",
      "Chile\n",
      "Processing country: China\n",
      "China\n",
      "Processing country: Colombia\n",
      "Colombia\n",
      "Processing country: Congo\n",
      "Congo\n",
      "Processing country: Congo the Democratic Republic of the\n",
      "Congo the Democratic Republic of the\n",
      "Processing country: Costa Rica\n",
      "Costa Rica\n",
      "Processing country: Ivory Coast\n",
      "Ivory Coast\n",
      "Processing country: Croatia\n",
      "Croatia\n",
      "Processing country: Cuba\n",
      "Cuba\n",
      "Processing country: Cyprus\n",
      "Cyprus\n",
      "Processing country: Czech Republic\n",
      "Czech Republic\n",
      "Processing country: Denmark\n",
      "Denmark\n",
      "Processing country: Djibouti\n",
      "Djibouti\n",
      "Processing country: Dominican Republic\n",
      "Dominican Republic\n",
      "Processing country: Ecuador\n",
      "Ecuador\n",
      "Processing country: Egypt\n",
      "Egypt\n",
      "Processing country: El Salvador\n",
      "El Salvador\n",
      "Processing country: Equatorial Guinea\n",
      "Equatorial Guinea\n",
      "Processing country: Eritrea\n",
      "Eritrea\n",
      "Processing country: Estonia\n",
      "Estonia\n",
      "Processing country: Ethiopia\n",
      "Ethiopia\n",
      "Processing country: Fiji\n",
      "Fiji\n",
      "Processing country: Finland\n",
      "Finland\n",
      "Processing country: France\n",
      "France\n",
      "Processing country: French Guiana\n",
      "French Guiana\n",
      "Processing country: Gabon\n",
      "Gabon\n",
      "Processing country: Gambia\n",
      "Gambia\n",
      "Processing country: Georgia\n",
      "Georgia\n",
      "Processing country: Germany\n",
      "Germany\n",
      "Processing country: Ghana\n",
      "Ghana\n",
      "Processing country: Greece\n",
      "Greece\n",
      "Processing country: Guatemala\n"
     ]
    },
    {
     "name": "stderr",
     "output_type": "stream",
     "text": [
      "Passed unknown parameter: country_name\n"
     ]
    },
    {
     "data": {
      "application/vnd.jupyter.widget-view+json": {
       "model_id": "721966f6e8b5430dbb454d1d30ef3333",
       "version_major": 2,
       "version_minor": 0
      },
      "text/plain": [
       "Executing:   0%|          | 0/32 [00:00<?, ?cell/s]"
      ]
     },
     "metadata": {},
     "output_type": "display_data"
    },
    {
     "name": "stdout",
     "output_type": "stream",
     "text": [
      "Error executing notebook for Guatemala: \n",
      "---------------------------------------------------------------------------\n",
      "Exception encountered at \"In [6]\":\n",
      "---------------------------------------------------------------------------\n",
      "ValueError                                Traceback (most recent call last)\n",
      "Cell In[6], line 36\n",
      "     34         result_df.to_excel(path_input_data+f'{country_name}/{country_code}_full_wind_onshore_10y.xlsx', index=False)\n",
      "     35         file_name = f'{country_name}/{country_code}_full_wind_onshore_10y.xlsx'\n",
      "---> 36 Wind_ts = import_excel(path_input_data,file_name, \n",
      "     37                                 dpd ,ndpd, dpy, \n",
      "     38                                 interp=True, norm = None) # interpolate data from dpd to ndpd numper of points per day\n",
      "     40 mean_wind = pd.read_excel(path_input_data+file_name).mean().iloc[0]\n",
      "\n",
      "File s:\\131-DPE\\131.1-Temporaire\\131.1.1-Espace commun\\zone transfert temporaire\\ITESE Grenoble\\Stage Justine\\Code git\\wavelet_decomposition\\optim_mix\\utilities.py:22, in import_excel(path_input_data, input_file, dpd, ndpd, dpy, interp, norm)\n",
      "     15 def import_excel(path_input_data,input_file, dpd ,ndpd, dpy, interp=True, norm = 'mean'):\n",
      "     16     '''\n",
      "     17     interp : Shall we interpolate drom dpd to ndpd. True or False\n",
      "     18     dpd : data per day\n",
      "     19     ndpd : new data per day\n",
      "     20     Returns a dictionnary with stacked time series over the N years of the excel file. Each year is normalized and interpolated (if true)\n",
      "     21     '''\n",
      "---> 22     input_data = pd.ExcelFile(path_input_data + input_file)\n",
      "     24     df = pd.read_excel(path_input_data + input_file)\n",
      "     26     myarray = df.values\n",
      "\n",
      "File s:\\131-DPE\\131.1-Temporaire\\131.1.1-Espace commun\\zone transfert temporaire\\ITESE Grenoble\\Stage Justine\\Code git\\wavelet_decomposition\\.conda\\lib\\site-packages\\pandas\\io\\excel\\_base.py:1554, in ExcelFile.__init__(self, path_or_buffer, engine, storage_options, engine_kwargs)\n",
      "   1550     ext = inspect_excel_format(\n",
      "   1551         content_or_path=path_or_buffer, storage_options=storage_options\n",
      "   1552     )\n",
      "   1553     if ext is None:\n",
      "-> 1554         raise ValueError(\n",
      "   1555             \"Excel file format cannot be determined, you must specify \"\n",
      "   1556             \"an engine manually.\"\n",
      "   1557         )\n",
      "   1559 engine = config.get_option(f\"io.excel.{ext}.reader\", silent=True)\n",
      "   1560 if engine == \"auto\":\n",
      "\n",
      "ValueError: Excel file format cannot be determined, you must specify an engine manually.\n",
      "\n",
      "Processing country: Guinea\n"
     ]
    },
    {
     "name": "stderr",
     "output_type": "stream",
     "text": [
      "Passed unknown parameter: country_name\n"
     ]
    },
    {
     "data": {
      "application/vnd.jupyter.widget-view+json": {
       "model_id": "8e32627c53b64842b8bb915f68a5ccde",
       "version_major": 2,
       "version_minor": 0
      },
      "text/plain": [
       "Executing:   0%|          | 0/32 [00:00<?, ?cell/s]"
      ]
     },
     "metadata": {},
     "output_type": "display_data"
    },
    {
     "name": "stdout",
     "output_type": "stream",
     "text": [
      "Notebook executed for Guinea\n",
      "Processing country: Guinea-Bissau\n"
     ]
    },
    {
     "name": "stderr",
     "output_type": "stream",
     "text": [
      "Passed unknown parameter: country_name\n"
     ]
    },
    {
     "data": {
      "application/vnd.jupyter.widget-view+json": {
       "model_id": "87cae7673f734000bad901940a7b13ec",
       "version_major": 2,
       "version_minor": 0
      },
      "text/plain": [
       "Executing:   0%|          | 0/32 [00:00<?, ?cell/s]"
      ]
     },
     "metadata": {},
     "output_type": "display_data"
    },
    {
     "name": "stdout",
     "output_type": "stream",
     "text": [
      "Notebook executed for Guinea-Bissau\n",
      "Processing country: Guyana\n"
     ]
    },
    {
     "name": "stderr",
     "output_type": "stream",
     "text": [
      "Passed unknown parameter: country_name\n"
     ]
    },
    {
     "data": {
      "application/vnd.jupyter.widget-view+json": {
       "model_id": "63693e4fc8e74cb787cd4923c26a8606",
       "version_major": 2,
       "version_minor": 0
      },
      "text/plain": [
       "Executing:   0%|          | 0/32 [00:00<?, ?cell/s]"
      ]
     },
     "metadata": {},
     "output_type": "display_data"
    },
    {
     "name": "stdout",
     "output_type": "stream",
     "text": [
      "Notebook executed for Guyana\n",
      "Processing country: Haiti\n"
     ]
    },
    {
     "name": "stderr",
     "output_type": "stream",
     "text": [
      "Passed unknown parameter: country_name\n"
     ]
    },
    {
     "data": {
      "application/vnd.jupyter.widget-view+json": {
       "model_id": "f56c6ec008c44abe9316ba46da32408f",
       "version_major": 2,
       "version_minor": 0
      },
      "text/plain": [
       "Executing:   0%|          | 0/32 [00:00<?, ?cell/s]"
      ]
     },
     "metadata": {},
     "output_type": "display_data"
    },
    {
     "name": "stdout",
     "output_type": "stream",
     "text": [
      "Notebook executed for Haiti\n",
      "Processing country: Honduras\n"
     ]
    },
    {
     "name": "stderr",
     "output_type": "stream",
     "text": [
      "Passed unknown parameter: country_name\n"
     ]
    },
    {
     "data": {
      "application/vnd.jupyter.widget-view+json": {
       "model_id": "6710e5855f734617a65062669974054c",
       "version_major": 2,
       "version_minor": 0
      },
      "text/plain": [
       "Executing:   0%|          | 0/32 [00:00<?, ?cell/s]"
      ]
     },
     "metadata": {},
     "output_type": "display_data"
    },
    {
     "name": "stderr",
     "output_type": "stream",
     "text": [
      "Passed unknown parameter: country_name\n"
     ]
    },
    {
     "name": "stdout",
     "output_type": "stream",
     "text": [
      "Notebook executed for Honduras\n",
      "Processing country: Hungary\n"
     ]
    },
    {
     "data": {
      "application/vnd.jupyter.widget-view+json": {
       "model_id": "2855715c7f99497491062a2dabb6761e",
       "version_major": 2,
       "version_minor": 0
      },
      "text/plain": [
       "Executing:   0%|          | 0/32 [00:00<?, ?cell/s]"
      ]
     },
     "metadata": {},
     "output_type": "display_data"
    },
    {
     "name": "stdout",
     "output_type": "stream",
     "text": [
      "Notebook executed for Hungary\n",
      "Processing country: Iceland\n"
     ]
    },
    {
     "name": "stderr",
     "output_type": "stream",
     "text": [
      "Passed unknown parameter: country_name\n"
     ]
    },
    {
     "data": {
      "application/vnd.jupyter.widget-view+json": {
       "model_id": "23f6fbc0f43c4f508fdbbf132d780e0d",
       "version_major": 2,
       "version_minor": 0
      },
      "text/plain": [
       "Executing:   0%|          | 0/32 [00:00<?, ?cell/s]"
      ]
     },
     "metadata": {},
     "output_type": "display_data"
    },
    {
     "name": "stdout",
     "output_type": "stream",
     "text": [
      "Error executing notebook for Iceland: \n",
      "---------------------------------------------------------------------------\n",
      "Exception encountered at \"In [10]\":\n",
      "---------------------------------------------------------------------------\n",
      "TypeError                                 Traceback (most recent call last)\n",
      "Cell In[10], line 1\n",
      "----> 1 optimized_parameters=optimize_enr_chu(country_name, Load_ts[:43800], PV_ts[:43800], Wind_ts[:43800], mean_load, state_name = None,save_results = True)\n",
      "\n",
      "File s:\\131-DPE\\131.1-Temporaire\\131.1.1-Espace commun\\zone transfert temporaire\\ITESE Grenoble\\Stage Justine\\Code git\\wavelet_decomposition\\optim_mix\\utilities.py:110, in optimize_enr_chu(country_name, Load_ts, PV_ts, Wind_ts, mean_load, state_name, save_results)\n",
      "    106 print(\"Coefficient optimal pour Wind:\", x_wind.varValue)\n",
      "    109 # Get results of optimization \n",
      "--> 110 optimized_pv = [x_pv.varValue * PV_ts[t] for t in range(signal_length)]\n",
      "    111 optimized_wind = [x_wind.varValue * Wind_ts[t] for t in range(signal_length)]\n",
      "    112 optimized_dispatchable = [ts_dispatchable[t].varValue for t in range(signal_length)]\n",
      "\n",
      "File s:\\131-DPE\\131.1-Temporaire\\131.1.1-Espace commun\\zone transfert temporaire\\ITESE Grenoble\\Stage Justine\\Code git\\wavelet_decomposition\\optim_mix\\utilities.py:110, in <listcomp>(.0)\n",
      "    106 print(\"Coefficient optimal pour Wind:\", x_wind.varValue)\n",
      "    109 # Get results of optimization \n",
      "--> 110 optimized_pv = [x_pv.varValue * PV_ts[t] for t in range(signal_length)]\n",
      "    111 optimized_wind = [x_wind.varValue * Wind_ts[t] for t in range(signal_length)]\n",
      "    112 optimized_dispatchable = [ts_dispatchable[t].varValue for t in range(signal_length)]\n",
      "\n",
      "TypeError: unsupported operand type(s) for *: 'NoneType' and 'float'\n",
      "\n",
      "Processing country: India\n"
     ]
    },
    {
     "name": "stderr",
     "output_type": "stream",
     "text": [
      "Passed unknown parameter: country_name\n"
     ]
    },
    {
     "data": {
      "application/vnd.jupyter.widget-view+json": {
       "model_id": "f593d5cfb5944d3db6aea85b9cc49844",
       "version_major": 2,
       "version_minor": 0
      },
      "text/plain": [
       "Executing:   0%|          | 0/32 [00:00<?, ?cell/s]"
      ]
     },
     "metadata": {},
     "output_type": "display_data"
    },
    {
     "name": "stderr",
     "output_type": "stream",
     "text": [
      "Passed unknown parameter: country_name\n"
     ]
    },
    {
     "name": "stdout",
     "output_type": "stream",
     "text": [
      "Notebook executed for India\n",
      "Processing country: Indonesia\n"
     ]
    },
    {
     "data": {
      "application/vnd.jupyter.widget-view+json": {
       "model_id": "7fd390ba8e6c4a5e9412a4c2a6856695",
       "version_major": 2,
       "version_minor": 0
      },
      "text/plain": [
       "Executing:   0%|          | 0/32 [00:00<?, ?cell/s]"
      ]
     },
     "metadata": {},
     "output_type": "display_data"
    },
    {
     "name": "stderr",
     "output_type": "stream",
     "text": [
      "Passed unknown parameter: country_name\n"
     ]
    },
    {
     "name": "stdout",
     "output_type": "stream",
     "text": [
      "Error executing notebook for Indonesia: \n",
      "---------------------------------------------------------------------------\n",
      "Exception encountered at \"In [7]\":\n",
      "---------------------------------------------------------------------------\n",
      "FileNotFoundError                         Traceback (most recent call last)\n",
      "Cell In[7], line 27\n",
      "     25 if not os.path.exists(path_input_data+file_name):\n",
      "     26     file_name = f'{country_name}/{country_code}_full_chu_pv_fixed_averaged.xlsx'\n",
      "---> 27     df = pd.read_excel(path_input_data+file_name, index_col=0)\n",
      "     29     time_series = pd.concat([df[col] for col in df.columns], ignore_index=True)\n",
      "     30     result_df = pd.DataFrame({'Time Series': time_series})\n",
      "\n",
      "File s:\\131-DPE\\131.1-Temporaire\\131.1.1-Espace commun\\zone transfert temporaire\\ITESE Grenoble\\Stage Justine\\Code git\\wavelet_decomposition\\.conda\\lib\\site-packages\\pandas\\io\\excel\\_base.py:495, in read_excel(io, sheet_name, header, names, index_col, usecols, dtype, engine, converters, true_values, false_values, skiprows, nrows, na_values, keep_default_na, na_filter, verbose, parse_dates, date_parser, date_format, thousands, decimal, comment, skipfooter, storage_options, dtype_backend, engine_kwargs)\n",
      "    493 if not isinstance(io, ExcelFile):\n",
      "    494     should_close = True\n",
      "--> 495     io = ExcelFile(\n",
      "    496         io,\n",
      "    497         storage_options=storage_options,\n",
      "    498         engine=engine,\n",
      "    499         engine_kwargs=engine_kwargs,\n",
      "    500     )\n",
      "    501 elif engine and engine != io.engine:\n",
      "    502     raise ValueError(\n",
      "    503         \"Engine should not be specified when passing \"\n",
      "    504         \"an ExcelFile - ExcelFile already has the engine set\"\n",
      "    505     )\n",
      "\n",
      "File s:\\131-DPE\\131.1-Temporaire\\131.1.1-Espace commun\\zone transfert temporaire\\ITESE Grenoble\\Stage Justine\\Code git\\wavelet_decomposition\\.conda\\lib\\site-packages\\pandas\\io\\excel\\_base.py:1550, in ExcelFile.__init__(self, path_or_buffer, engine, storage_options, engine_kwargs)\n",
      "   1548     ext = \"xls\"\n",
      "   1549 else:\n",
      "-> 1550     ext = inspect_excel_format(\n",
      "   1551         content_or_path=path_or_buffer, storage_options=storage_options\n",
      "   1552     )\n",
      "   1553     if ext is None:\n",
      "   1554         raise ValueError(\n",
      "   1555             \"Excel file format cannot be determined, you must specify \"\n",
      "   1556             \"an engine manually.\"\n",
      "   1557         )\n",
      "\n",
      "File s:\\131-DPE\\131.1-Temporaire\\131.1.1-Espace commun\\zone transfert temporaire\\ITESE Grenoble\\Stage Justine\\Code git\\wavelet_decomposition\\.conda\\lib\\site-packages\\pandas\\io\\excel\\_base.py:1402, in inspect_excel_format(content_or_path, storage_options)\n",
      "   1399 if isinstance(content_or_path, bytes):\n",
      "   1400     content_or_path = BytesIO(content_or_path)\n",
      "-> 1402 with get_handle(\n",
      "   1403     content_or_path, \"rb\", storage_options=storage_options, is_text=False\n",
      "   1404 ) as handle:\n",
      "   1405     stream = handle.handle\n",
      "   1406     stream.seek(0)\n",
      "\n",
      "File s:\\131-DPE\\131.1-Temporaire\\131.1.1-Espace commun\\zone transfert temporaire\\ITESE Grenoble\\Stage Justine\\Code git\\wavelet_decomposition\\.conda\\lib\\site-packages\\pandas\\io\\common.py:882, in get_handle(path_or_buf, mode, encoding, compression, memory_map, is_text, errors, storage_options)\n",
      "    873         handle = open(\n",
      "    874             handle,\n",
      "    875             ioargs.mode,\n",
      "   (...)\n",
      "    878             newline=\"\",\n",
      "    879         )\n",
      "    880     else:\n",
      "    881         # Binary mode\n",
      "--> 882         handle = open(handle, ioargs.mode)\n",
      "    883     handles.append(handle)\n",
      "    885 # Convert BytesIO or file objects passed with an encoding\n",
      "\n",
      "FileNotFoundError: [Errno 2] No such file or directory: '../input_time_series/Indonesia/IDN_full_chu_pv_fixed_averaged.xlsx'\n",
      "\n",
      "Processing country: Iran Islamic Republic of\n"
     ]
    },
    {
     "data": {
      "application/vnd.jupyter.widget-view+json": {
       "model_id": "c129272e23574df8bb94a51eee15480a",
       "version_major": 2,
       "version_minor": 0
      },
      "text/plain": [
       "Executing:   0%|          | 0/32 [00:00<?, ?cell/s]"
      ]
     },
     "metadata": {},
     "output_type": "display_data"
    },
    {
     "name": "stdout",
     "output_type": "stream",
     "text": [
      "Notebook executed for Iran Islamic Republic of\n",
      "Processing country: Iraq\n"
     ]
    },
    {
     "name": "stderr",
     "output_type": "stream",
     "text": [
      "Passed unknown parameter: country_name\n"
     ]
    },
    {
     "data": {
      "application/vnd.jupyter.widget-view+json": {
       "model_id": "c526164fda0f43b787e261d6ee9603f4",
       "version_major": 2,
       "version_minor": 0
      },
      "text/plain": [
       "Executing:   0%|          | 0/32 [00:00<?, ?cell/s]"
      ]
     },
     "metadata": {},
     "output_type": "display_data"
    },
    {
     "name": "stdout",
     "output_type": "stream",
     "text": [
      "Notebook executed for Iraq\n",
      "Processing country: Ireland\n"
     ]
    },
    {
     "name": "stderr",
     "output_type": "stream",
     "text": [
      "Passed unknown parameter: country_name\n"
     ]
    },
    {
     "data": {
      "application/vnd.jupyter.widget-view+json": {
       "model_id": "7a6b954aebcb497c85542075e8597a42",
       "version_major": 2,
       "version_minor": 0
      },
      "text/plain": [
       "Executing:   0%|          | 0/32 [00:00<?, ?cell/s]"
      ]
     },
     "metadata": {},
     "output_type": "display_data"
    },
    {
     "name": "stderr",
     "output_type": "stream",
     "text": [
      "Passed unknown parameter: country_name\n"
     ]
    },
    {
     "name": "stdout",
     "output_type": "stream",
     "text": [
      "Notebook executed for Ireland\n",
      "Processing country: Israel\n"
     ]
    },
    {
     "data": {
      "application/vnd.jupyter.widget-view+json": {
       "model_id": "d3c87ab8188c4f22bb213b6ee7b7fe53",
       "version_major": 2,
       "version_minor": 0
      },
      "text/plain": [
       "Executing:   0%|          | 0/32 [00:00<?, ?cell/s]"
      ]
     },
     "metadata": {},
     "output_type": "display_data"
    },
    {
     "name": "stdout",
     "output_type": "stream",
     "text": [
      "Notebook executed for Israel\n",
      "Processing country: Italy\n"
     ]
    },
    {
     "name": "stderr",
     "output_type": "stream",
     "text": [
      "Passed unknown parameter: country_name\n"
     ]
    },
    {
     "data": {
      "application/vnd.jupyter.widget-view+json": {
       "model_id": "553b3a6b7e474e1f8defe070722eb556",
       "version_major": 2,
       "version_minor": 0
      },
      "text/plain": [
       "Executing:   0%|          | 0/32 [00:00<?, ?cell/s]"
      ]
     },
     "metadata": {},
     "output_type": "display_data"
    },
    {
     "name": "stdout",
     "output_type": "stream",
     "text": [
      "Notebook executed for Italy\n",
      "Processing country: Jamaica\n"
     ]
    },
    {
     "name": "stderr",
     "output_type": "stream",
     "text": [
      "Passed unknown parameter: country_name\n"
     ]
    },
    {
     "data": {
      "application/vnd.jupyter.widget-view+json": {
       "model_id": "696f47c302134d34aa2a0dbdba7ce511",
       "version_major": 2,
       "version_minor": 0
      },
      "text/plain": [
       "Executing:   0%|          | 0/32 [00:00<?, ?cell/s]"
      ]
     },
     "metadata": {},
     "output_type": "display_data"
    },
    {
     "name": "stdout",
     "output_type": "stream",
     "text": [
      "Notebook executed for Jamaica\n",
      "Processing country: Japan\n"
     ]
    },
    {
     "name": "stderr",
     "output_type": "stream",
     "text": [
      "Passed unknown parameter: country_name\n"
     ]
    },
    {
     "data": {
      "application/vnd.jupyter.widget-view+json": {
       "model_id": "a9bf8afa28484d6b8082c8d0fdaa0f03",
       "version_major": 2,
       "version_minor": 0
      },
      "text/plain": [
       "Executing:   0%|          | 0/32 [00:00<?, ?cell/s]"
      ]
     },
     "metadata": {},
     "output_type": "display_data"
    },
    {
     "name": "stdout",
     "output_type": "stream",
     "text": [
      "Notebook executed for Japan\n",
      "Processing country: Jordan\n"
     ]
    },
    {
     "name": "stderr",
     "output_type": "stream",
     "text": [
      "Passed unknown parameter: country_name\n"
     ]
    },
    {
     "data": {
      "application/vnd.jupyter.widget-view+json": {
       "model_id": "897c1f8e0c9f4e91bbd2b6348231e8ce",
       "version_major": 2,
       "version_minor": 0
      },
      "text/plain": [
       "Executing:   0%|          | 0/32 [00:00<?, ?cell/s]"
      ]
     },
     "metadata": {},
     "output_type": "display_data"
    },
    {
     "name": "stdout",
     "output_type": "stream",
     "text": [
      "Notebook executed for Jordan\n",
      "Processing country: Kazakhstan\n"
     ]
    },
    {
     "name": "stderr",
     "output_type": "stream",
     "text": [
      "Passed unknown parameter: country_name\n"
     ]
    },
    {
     "data": {
      "application/vnd.jupyter.widget-view+json": {
       "model_id": "93d00b4a434642839722242e8c3d8939",
       "version_major": 2,
       "version_minor": 0
      },
      "text/plain": [
       "Executing:   0%|          | 0/32 [00:00<?, ?cell/s]"
      ]
     },
     "metadata": {},
     "output_type": "display_data"
    },
    {
     "name": "stdout",
     "output_type": "stream",
     "text": [
      "Notebook executed for Kazakhstan\n",
      "Processing country: Kenya\n"
     ]
    },
    {
     "name": "stderr",
     "output_type": "stream",
     "text": [
      "Passed unknown parameter: country_name\n"
     ]
    },
    {
     "data": {
      "application/vnd.jupyter.widget-view+json": {
       "model_id": "06008d916b0446679cee88babb884bf8",
       "version_major": 2,
       "version_minor": 0
      },
      "text/plain": [
       "Executing:   0%|          | 0/32 [00:00<?, ?cell/s]"
      ]
     },
     "metadata": {},
     "output_type": "display_data"
    },
    {
     "name": "stdout",
     "output_type": "stream",
     "text": [
      "Notebook executed for Kenya\n",
      "Processing country: Korea Democratic People's Republic of\n"
     ]
    },
    {
     "name": "stderr",
     "output_type": "stream",
     "text": [
      "Passed unknown parameter: country_name\n"
     ]
    },
    {
     "data": {
      "application/vnd.jupyter.widget-view+json": {
       "model_id": "a2949d27ffda45479ee492f4f4e696e4",
       "version_major": 2,
       "version_minor": 0
      },
      "text/plain": [
       "Executing:   0%|          | 0/32 [00:00<?, ?cell/s]"
      ]
     },
     "metadata": {},
     "output_type": "display_data"
    },
    {
     "name": "stdout",
     "output_type": "stream",
     "text": [
      "Notebook executed for Korea Democratic People's Republic of\n",
      "Processing country: South Korea\n"
     ]
    },
    {
     "name": "stderr",
     "output_type": "stream",
     "text": [
      "Passed unknown parameter: country_name\n"
     ]
    },
    {
     "data": {
      "application/vnd.jupyter.widget-view+json": {
       "model_id": "45ba24257426402e810fec96d2483f12",
       "version_major": 2,
       "version_minor": 0
      },
      "text/plain": [
       "Executing:   0%|          | 0/32 [00:00<?, ?cell/s]"
      ]
     },
     "metadata": {},
     "output_type": "display_data"
    },
    {
     "name": "stdout",
     "output_type": "stream",
     "text": [
      "Notebook executed for South Korea\n",
      "Processing country: Kuwait\n"
     ]
    },
    {
     "name": "stderr",
     "output_type": "stream",
     "text": [
      "Passed unknown parameter: country_name\n"
     ]
    },
    {
     "data": {
      "application/vnd.jupyter.widget-view+json": {
       "model_id": "45159b6db1de40bdae723a8d81efd069",
       "version_major": 2,
       "version_minor": 0
      },
      "text/plain": [
       "Executing:   0%|          | 0/32 [00:00<?, ?cell/s]"
      ]
     },
     "metadata": {},
     "output_type": "display_data"
    },
    {
     "name": "stdout",
     "output_type": "stream",
     "text": [
      "Notebook executed for Kuwait\n",
      "Processing country: Kyrgyzstan\n"
     ]
    },
    {
     "name": "stderr",
     "output_type": "stream",
     "text": [
      "Passed unknown parameter: country_name\n"
     ]
    },
    {
     "data": {
      "application/vnd.jupyter.widget-view+json": {
       "model_id": "fdabb07a3bb04aa5a520b3abff544694",
       "version_major": 2,
       "version_minor": 0
      },
      "text/plain": [
       "Executing:   0%|          | 0/32 [00:00<?, ?cell/s]"
      ]
     },
     "metadata": {},
     "output_type": "display_data"
    },
    {
     "name": "stdout",
     "output_type": "stream",
     "text": [
      "Notebook executed for Kyrgyzstan\n",
      "Processing country: Lao People's Democratic Republic\n"
     ]
    },
    {
     "name": "stderr",
     "output_type": "stream",
     "text": [
      "Passed unknown parameter: country_name\n"
     ]
    },
    {
     "data": {
      "application/vnd.jupyter.widget-view+json": {
       "model_id": "7633a992d963447caa608655c12c6477",
       "version_major": 2,
       "version_minor": 0
      },
      "text/plain": [
       "Executing:   0%|          | 0/32 [00:00<?, ?cell/s]"
      ]
     },
     "metadata": {},
     "output_type": "display_data"
    },
    {
     "name": "stdout",
     "output_type": "stream",
     "text": [
      "Notebook executed for Lao People's Democratic Republic\n",
      "Processing country: Latvia\n"
     ]
    },
    {
     "name": "stderr",
     "output_type": "stream",
     "text": [
      "Passed unknown parameter: country_name\n"
     ]
    },
    {
     "data": {
      "application/vnd.jupyter.widget-view+json": {
       "model_id": "3d16fc3663494b05bb62dcd6927f99e1",
       "version_major": 2,
       "version_minor": 0
      },
      "text/plain": [
       "Executing:   0%|          | 0/32 [00:00<?, ?cell/s]"
      ]
     },
     "metadata": {},
     "output_type": "display_data"
    },
    {
     "name": "stdout",
     "output_type": "stream",
     "text": [
      "Notebook executed for Latvia\n",
      "Processing country: Lebanon\n"
     ]
    },
    {
     "name": "stderr",
     "output_type": "stream",
     "text": [
      "Passed unknown parameter: country_name\n"
     ]
    },
    {
     "data": {
      "application/vnd.jupyter.widget-view+json": {
       "model_id": "68efcc23149848d78a6a39ef1ce5a20e",
       "version_major": 2,
       "version_minor": 0
      },
      "text/plain": [
       "Executing:   0%|          | 0/32 [00:00<?, ?cell/s]"
      ]
     },
     "metadata": {},
     "output_type": "display_data"
    },
    {
     "name": "stdout",
     "output_type": "stream",
     "text": [
      "Notebook executed for Lebanon\n",
      "Processing country: Lesotho\n"
     ]
    },
    {
     "name": "stderr",
     "output_type": "stream",
     "text": [
      "Passed unknown parameter: country_name\n"
     ]
    },
    {
     "data": {
      "application/vnd.jupyter.widget-view+json": {
       "model_id": "7c35fb6e1f15435e9058bdba98e21527",
       "version_major": 2,
       "version_minor": 0
      },
      "text/plain": [
       "Executing:   0%|          | 0/32 [00:00<?, ?cell/s]"
      ]
     },
     "metadata": {},
     "output_type": "display_data"
    },
    {
     "name": "stdout",
     "output_type": "stream",
     "text": [
      "Notebook executed for Lesotho\n",
      "Processing country: Liberia\n"
     ]
    },
    {
     "name": "stderr",
     "output_type": "stream",
     "text": [
      "Passed unknown parameter: country_name\n"
     ]
    },
    {
     "data": {
      "application/vnd.jupyter.widget-view+json": {
       "model_id": "fe2b22a66bed41acab37468746c0d888",
       "version_major": 2,
       "version_minor": 0
      },
      "text/plain": [
       "Executing:   0%|          | 0/32 [00:00<?, ?cell/s]"
      ]
     },
     "metadata": {},
     "output_type": "display_data"
    },
    {
     "name": "stdout",
     "output_type": "stream",
     "text": [
      "Notebook executed for Liberia\n",
      "Processing country: Libya\n"
     ]
    },
    {
     "name": "stderr",
     "output_type": "stream",
     "text": [
      "Passed unknown parameter: country_name\n"
     ]
    },
    {
     "data": {
      "application/vnd.jupyter.widget-view+json": {
       "model_id": "92569d6e26c94973b21398312c7b9a80",
       "version_major": 2,
       "version_minor": 0
      },
      "text/plain": [
       "Executing:   0%|          | 0/32 [00:00<?, ?cell/s]"
      ]
     },
     "metadata": {},
     "output_type": "display_data"
    },
    {
     "name": "stdout",
     "output_type": "stream",
     "text": [
      "Notebook executed for Libya\n",
      "Processing country: Lithuania\n"
     ]
    },
    {
     "name": "stderr",
     "output_type": "stream",
     "text": [
      "Passed unknown parameter: country_name\n"
     ]
    },
    {
     "data": {
      "application/vnd.jupyter.widget-view+json": {
       "model_id": "57a75728d3bd463598d0eccf90e1aca3",
       "version_major": 2,
       "version_minor": 0
      },
      "text/plain": [
       "Executing:   0%|          | 0/32 [00:00<?, ?cell/s]"
      ]
     },
     "metadata": {},
     "output_type": "display_data"
    },
    {
     "name": "stdout",
     "output_type": "stream",
     "text": [
      "Notebook executed for Lithuania\n",
      "Processing country: Luxembourg\n"
     ]
    },
    {
     "name": "stderr",
     "output_type": "stream",
     "text": [
      "Passed unknown parameter: country_name\n"
     ]
    },
    {
     "data": {
      "application/vnd.jupyter.widget-view+json": {
       "model_id": "4ee67cd29b2d4c389cfe44f0e9ce9d88",
       "version_major": 2,
       "version_minor": 0
      },
      "text/plain": [
       "Executing:   0%|          | 0/32 [00:00<?, ?cell/s]"
      ]
     },
     "metadata": {},
     "output_type": "display_data"
    },
    {
     "name": "stdout",
     "output_type": "stream",
     "text": [
      "Notebook executed for Luxembourg\n",
      "Processing country: Macedonia the former Yugoslav Republic of\n"
     ]
    },
    {
     "name": "stderr",
     "output_type": "stream",
     "text": [
      "Passed unknown parameter: country_name\n"
     ]
    },
    {
     "data": {
      "application/vnd.jupyter.widget-view+json": {
       "model_id": "316eaeefd93d4e09b161c3347be0ee9e",
       "version_major": 2,
       "version_minor": 0
      },
      "text/plain": [
       "Executing:   0%|          | 0/32 [00:00<?, ?cell/s]"
      ]
     },
     "metadata": {},
     "output_type": "display_data"
    },
    {
     "name": "stdout",
     "output_type": "stream",
     "text": [
      "Notebook executed for Macedonia the former Yugoslav Republic of\n",
      "Processing country: Madagascar\n"
     ]
    },
    {
     "name": "stderr",
     "output_type": "stream",
     "text": [
      "Passed unknown parameter: country_name\n"
     ]
    },
    {
     "data": {
      "application/vnd.jupyter.widget-view+json": {
       "model_id": "b23ec76481fa495d804b2f930eef13ad",
       "version_major": 2,
       "version_minor": 0
      },
      "text/plain": [
       "Executing:   0%|          | 0/32 [00:00<?, ?cell/s]"
      ]
     },
     "metadata": {},
     "output_type": "display_data"
    },
    {
     "name": "stdout",
     "output_type": "stream",
     "text": [
      "Notebook executed for Madagascar\n",
      "Processing country: Malawi\n"
     ]
    },
    {
     "name": "stderr",
     "output_type": "stream",
     "text": [
      "Passed unknown parameter: country_name\n"
     ]
    },
    {
     "data": {
      "application/vnd.jupyter.widget-view+json": {
       "model_id": "3efaba3c439a4f7fa8927d7ea2f6872e",
       "version_major": 2,
       "version_minor": 0
      },
      "text/plain": [
       "Executing:   0%|          | 0/32 [00:00<?, ?cell/s]"
      ]
     },
     "metadata": {},
     "output_type": "display_data"
    },
    {
     "name": "stdout",
     "output_type": "stream",
     "text": [
      "Notebook executed for Malawi\n",
      "Processing country: Malaysia\n"
     ]
    },
    {
     "name": "stderr",
     "output_type": "stream",
     "text": [
      "Passed unknown parameter: country_name\n"
     ]
    },
    {
     "data": {
      "application/vnd.jupyter.widget-view+json": {
       "model_id": "df8c6037e5c84dbbbca349764a0c6f7b",
       "version_major": 2,
       "version_minor": 0
      },
      "text/plain": [
       "Executing:   0%|          | 0/32 [00:00<?, ?cell/s]"
      ]
     },
     "metadata": {},
     "output_type": "display_data"
    },
    {
     "name": "stdout",
     "output_type": "stream",
     "text": [
      "Notebook executed for Malaysia\n",
      "Processing country: Mali\n"
     ]
    },
    {
     "name": "stderr",
     "output_type": "stream",
     "text": [
      "Passed unknown parameter: country_name\n"
     ]
    },
    {
     "data": {
      "application/vnd.jupyter.widget-view+json": {
       "model_id": "20bbf75b373748fca7909e657f41042a",
       "version_major": 2,
       "version_minor": 0
      },
      "text/plain": [
       "Executing:   0%|          | 0/32 [00:00<?, ?cell/s]"
      ]
     },
     "metadata": {},
     "output_type": "display_data"
    },
    {
     "name": "stdout",
     "output_type": "stream",
     "text": [
      "Notebook executed for Mali\n",
      "Processing country: Malta\n"
     ]
    },
    {
     "name": "stderr",
     "output_type": "stream",
     "text": [
      "Passed unknown parameter: country_name\n"
     ]
    },
    {
     "data": {
      "application/vnd.jupyter.widget-view+json": {
       "model_id": "f945501866a84def9657525c3c2270a7",
       "version_major": 2,
       "version_minor": 0
      },
      "text/plain": [
       "Executing:   0%|          | 0/32 [00:00<?, ?cell/s]"
      ]
     },
     "metadata": {},
     "output_type": "display_data"
    },
    {
     "name": "stdout",
     "output_type": "stream",
     "text": [
      "Notebook executed for Malta\n",
      "Processing country: Mauritania\n"
     ]
    },
    {
     "name": "stderr",
     "output_type": "stream",
     "text": [
      "Passed unknown parameter: country_name\n"
     ]
    },
    {
     "data": {
      "application/vnd.jupyter.widget-view+json": {
       "model_id": "d237afeaff4f44a39da6da1ff75f3932",
       "version_major": 2,
       "version_minor": 0
      },
      "text/plain": [
       "Executing:   0%|          | 0/32 [00:00<?, ?cell/s]"
      ]
     },
     "metadata": {},
     "output_type": "display_data"
    },
    {
     "name": "stdout",
     "output_type": "stream",
     "text": [
      "Notebook executed for Mauritania\n",
      "Processing country: Mauritius\n"
     ]
    },
    {
     "name": "stderr",
     "output_type": "stream",
     "text": [
      "Passed unknown parameter: country_name\n"
     ]
    },
    {
     "data": {
      "application/vnd.jupyter.widget-view+json": {
       "model_id": "be35f218a447460fb22477489725d1a6",
       "version_major": 2,
       "version_minor": 0
      },
      "text/plain": [
       "Executing:   0%|          | 0/32 [00:00<?, ?cell/s]"
      ]
     },
     "metadata": {},
     "output_type": "display_data"
    },
    {
     "name": "stdout",
     "output_type": "stream",
     "text": [
      "Notebook executed for Mauritius\n",
      "Processing country: Mexico\n"
     ]
    },
    {
     "name": "stderr",
     "output_type": "stream",
     "text": [
      "Passed unknown parameter: country_name\n"
     ]
    },
    {
     "data": {
      "application/vnd.jupyter.widget-view+json": {
       "model_id": "ef1470b57bbd4de6a6a47397e885f400",
       "version_major": 2,
       "version_minor": 0
      },
      "text/plain": [
       "Executing:   0%|          | 0/32 [00:00<?, ?cell/s]"
      ]
     },
     "metadata": {},
     "output_type": "display_data"
    },
    {
     "name": "stdout",
     "output_type": "stream",
     "text": [
      "Notebook executed for Mexico\n",
      "Processing country: Moldova\n"
     ]
    },
    {
     "name": "stderr",
     "output_type": "stream",
     "text": [
      "Passed unknown parameter: country_name\n"
     ]
    },
    {
     "data": {
      "application/vnd.jupyter.widget-view+json": {
       "model_id": "39e5813810eb4f3990269308116ee846",
       "version_major": 2,
       "version_minor": 0
      },
      "text/plain": [
       "Executing:   0%|          | 0/32 [00:00<?, ?cell/s]"
      ]
     },
     "metadata": {},
     "output_type": "display_data"
    },
    {
     "name": "stdout",
     "output_type": "stream",
     "text": [
      "Error executing notebook for Moldova: \n",
      "---------------------------------------------------------------------------\n",
      "Exception encountered at \"In [6]\":\n",
      "---------------------------------------------------------------------------\n",
      "FileNotFoundError                         Traceback (most recent call last)\n",
      "Cell In[6], line 28\n",
      "     26 if not os.path.exists(path_input_data+f'{country_name}/{country_code}_full_wind_onshore_10y.xlsx'):\n",
      "     27     file_name = f'{country_name}/{country_code}_full_chu_wind_onshore_averaged.xlsx'\n",
      "---> 28     df = pd.read_excel(path_input_data+file_name, index_col=0)\n",
      "     30     time_series = pd.concat([df[col] for col in df.columns], ignore_index=True)\n",
      "     31     result_df = pd.DataFrame({'Time Series': time_series})\n",
      "\n",
      "File s:\\131-DPE\\131.1-Temporaire\\131.1.1-Espace commun\\zone transfert temporaire\\ITESE Grenoble\\Stage Justine\\Code git\\wavelet_decomposition\\.conda\\lib\\site-packages\\pandas\\io\\excel\\_base.py:495, in read_excel(io, sheet_name, header, names, index_col, usecols, dtype, engine, converters, true_values, false_values, skiprows, nrows, na_values, keep_default_na, na_filter, verbose, parse_dates, date_parser, date_format, thousands, decimal, comment, skipfooter, storage_options, dtype_backend, engine_kwargs)\n",
      "    493 if not isinstance(io, ExcelFile):\n",
      "    494     should_close = True\n",
      "--> 495     io = ExcelFile(\n",
      "    496         io,\n",
      "    497         storage_options=storage_options,\n",
      "    498         engine=engine,\n",
      "    499         engine_kwargs=engine_kwargs,\n",
      "    500     )\n",
      "    501 elif engine and engine != io.engine:\n",
      "    502     raise ValueError(\n",
      "    503         \"Engine should not be specified when passing \"\n",
      "    504         \"an ExcelFile - ExcelFile already has the engine set\"\n",
      "    505     )\n",
      "\n",
      "File s:\\131-DPE\\131.1-Temporaire\\131.1.1-Espace commun\\zone transfert temporaire\\ITESE Grenoble\\Stage Justine\\Code git\\wavelet_decomposition\\.conda\\lib\\site-packages\\pandas\\io\\excel\\_base.py:1550, in ExcelFile.__init__(self, path_or_buffer, engine, storage_options, engine_kwargs)\n",
      "   1548     ext = \"xls\"\n",
      "   1549 else:\n",
      "-> 1550     ext = inspect_excel_format(\n",
      "   1551         content_or_path=path_or_buffer, storage_options=storage_options\n",
      "   1552     )\n",
      "   1553     if ext is None:\n",
      "   1554         raise ValueError(\n",
      "   1555             \"Excel file format cannot be determined, you must specify \"\n",
      "   1556             \"an engine manually.\"\n",
      "   1557         )\n",
      "\n",
      "File s:\\131-DPE\\131.1-Temporaire\\131.1.1-Espace commun\\zone transfert temporaire\\ITESE Grenoble\\Stage Justine\\Code git\\wavelet_decomposition\\.conda\\lib\\site-packages\\pandas\\io\\excel\\_base.py:1402, in inspect_excel_format(content_or_path, storage_options)\n",
      "   1399 if isinstance(content_or_path, bytes):\n",
      "   1400     content_or_path = BytesIO(content_or_path)\n",
      "-> 1402 with get_handle(\n",
      "   1403     content_or_path, \"rb\", storage_options=storage_options, is_text=False\n",
      "   1404 ) as handle:\n",
      "   1405     stream = handle.handle\n",
      "   1406     stream.seek(0)\n",
      "\n",
      "File s:\\131-DPE\\131.1-Temporaire\\131.1.1-Espace commun\\zone transfert temporaire\\ITESE Grenoble\\Stage Justine\\Code git\\wavelet_decomposition\\.conda\\lib\\site-packages\\pandas\\io\\common.py:882, in get_handle(path_or_buf, mode, encoding, compression, memory_map, is_text, errors, storage_options)\n",
      "    873         handle = open(\n",
      "    874             handle,\n",
      "    875             ioargs.mode,\n",
      "   (...)\n",
      "    878             newline=\"\",\n",
      "    879         )\n",
      "    880     else:\n",
      "    881         # Binary mode\n",
      "--> 882         handle = open(handle, ioargs.mode)\n",
      "    883     handles.append(handle)\n",
      "    885 # Convert BytesIO or file objects passed with an encoding\n",
      "\n",
      "FileNotFoundError: [Errno 2] No such file or directory: '../input_time_series/Moldova/MDA_full_chu_wind_onshore_averaged.xlsx'\n",
      "\n",
      "Processing country: Mongolia\n"
     ]
    },
    {
     "name": "stderr",
     "output_type": "stream",
     "text": [
      "Passed unknown parameter: country_name\n"
     ]
    },
    {
     "data": {
      "application/vnd.jupyter.widget-view+json": {
       "model_id": "7a700f9a88da4dc29bebe81bb949b180",
       "version_major": 2,
       "version_minor": 0
      },
      "text/plain": [
       "Executing:   0%|          | 0/32 [00:00<?, ?cell/s]"
      ]
     },
     "metadata": {},
     "output_type": "display_data"
    },
    {
     "name": "stdout",
     "output_type": "stream",
     "text": [
      "Error executing notebook for Mongolia: \n",
      "---------------------------------------------------------------------------\n",
      "Exception encountered at \"In [6]\":\n",
      "---------------------------------------------------------------------------\n",
      "FileNotFoundError                         Traceback (most recent call last)\n",
      "Cell In[6], line 28\n",
      "     26 if not os.path.exists(path_input_data+f'{country_name}/{country_code}_full_wind_onshore_10y.xlsx'):\n",
      "     27     file_name = f'{country_name}/{country_code}_full_chu_wind_onshore_averaged.xlsx'\n",
      "---> 28     df = pd.read_excel(path_input_data+file_name, index_col=0)\n",
      "     30     time_series = pd.concat([df[col] for col in df.columns], ignore_index=True)\n",
      "     31     result_df = pd.DataFrame({'Time Series': time_series})\n",
      "\n",
      "File s:\\131-DPE\\131.1-Temporaire\\131.1.1-Espace commun\\zone transfert temporaire\\ITESE Grenoble\\Stage Justine\\Code git\\wavelet_decomposition\\.conda\\lib\\site-packages\\pandas\\io\\excel\\_base.py:495, in read_excel(io, sheet_name, header, names, index_col, usecols, dtype, engine, converters, true_values, false_values, skiprows, nrows, na_values, keep_default_na, na_filter, verbose, parse_dates, date_parser, date_format, thousands, decimal, comment, skipfooter, storage_options, dtype_backend, engine_kwargs)\n",
      "    493 if not isinstance(io, ExcelFile):\n",
      "    494     should_close = True\n",
      "--> 495     io = ExcelFile(\n",
      "    496         io,\n",
      "    497         storage_options=storage_options,\n",
      "    498         engine=engine,\n",
      "    499         engine_kwargs=engine_kwargs,\n",
      "    500     )\n",
      "    501 elif engine and engine != io.engine:\n",
      "    502     raise ValueError(\n",
      "    503         \"Engine should not be specified when passing \"\n",
      "    504         \"an ExcelFile - ExcelFile already has the engine set\"\n",
      "    505     )\n",
      "\n",
      "File s:\\131-DPE\\131.1-Temporaire\\131.1.1-Espace commun\\zone transfert temporaire\\ITESE Grenoble\\Stage Justine\\Code git\\wavelet_decomposition\\.conda\\lib\\site-packages\\pandas\\io\\excel\\_base.py:1550, in ExcelFile.__init__(self, path_or_buffer, engine, storage_options, engine_kwargs)\n",
      "   1548     ext = \"xls\"\n",
      "   1549 else:\n",
      "-> 1550     ext = inspect_excel_format(\n",
      "   1551         content_or_path=path_or_buffer, storage_options=storage_options\n",
      "   1552     )\n",
      "   1553     if ext is None:\n",
      "   1554         raise ValueError(\n",
      "   1555             \"Excel file format cannot be determined, you must specify \"\n",
      "   1556             \"an engine manually.\"\n",
      "   1557         )\n",
      "\n",
      "File s:\\131-DPE\\131.1-Temporaire\\131.1.1-Espace commun\\zone transfert temporaire\\ITESE Grenoble\\Stage Justine\\Code git\\wavelet_decomposition\\.conda\\lib\\site-packages\\pandas\\io\\excel\\_base.py:1402, in inspect_excel_format(content_or_path, storage_options)\n",
      "   1399 if isinstance(content_or_path, bytes):\n",
      "   1400     content_or_path = BytesIO(content_or_path)\n",
      "-> 1402 with get_handle(\n",
      "   1403     content_or_path, \"rb\", storage_options=storage_options, is_text=False\n",
      "   1404 ) as handle:\n",
      "   1405     stream = handle.handle\n",
      "   1406     stream.seek(0)\n",
      "\n",
      "File s:\\131-DPE\\131.1-Temporaire\\131.1.1-Espace commun\\zone transfert temporaire\\ITESE Grenoble\\Stage Justine\\Code git\\wavelet_decomposition\\.conda\\lib\\site-packages\\pandas\\io\\common.py:882, in get_handle(path_or_buf, mode, encoding, compression, memory_map, is_text, errors, storage_options)\n",
      "    873         handle = open(\n",
      "    874             handle,\n",
      "    875             ioargs.mode,\n",
      "   (...)\n",
      "    878             newline=\"\",\n",
      "    879         )\n",
      "    880     else:\n",
      "    881         # Binary mode\n",
      "--> 882         handle = open(handle, ioargs.mode)\n",
      "    883     handles.append(handle)\n",
      "    885 # Convert BytesIO or file objects passed with an encoding\n",
      "\n",
      "FileNotFoundError: [Errno 2] No such file or directory: '../input_time_series/Mongolia/MNG_full_chu_wind_onshore_averaged.xlsx'\n",
      "\n",
      "Processing country: Montenegro\n"
     ]
    },
    {
     "name": "stderr",
     "output_type": "stream",
     "text": [
      "Passed unknown parameter: country_name\n"
     ]
    },
    {
     "data": {
      "application/vnd.jupyter.widget-view+json": {
       "model_id": "7c893b3eccfd4959833d077251fde8cd",
       "version_major": 2,
       "version_minor": 0
      },
      "text/plain": [
       "Executing:   0%|          | 0/32 [00:00<?, ?cell/s]"
      ]
     },
     "metadata": {},
     "output_type": "display_data"
    },
    {
     "name": "stdout",
     "output_type": "stream",
     "text": [
      "Error executing notebook for Montenegro: \n",
      "---------------------------------------------------------------------------\n",
      "Exception encountered at \"In [6]\":\n",
      "---------------------------------------------------------------------------\n",
      "FileNotFoundError                         Traceback (most recent call last)\n",
      "Cell In[6], line 28\n",
      "     26 if not os.path.exists(path_input_data+f'{country_name}/{country_code}_full_wind_onshore_10y.xlsx'):\n",
      "     27     file_name = f'{country_name}/{country_code}_full_chu_wind_onshore_averaged.xlsx'\n",
      "---> 28     df = pd.read_excel(path_input_data+file_name, index_col=0)\n",
      "     30     time_series = pd.concat([df[col] for col in df.columns], ignore_index=True)\n",
      "     31     result_df = pd.DataFrame({'Time Series': time_series})\n",
      "\n",
      "File s:\\131-DPE\\131.1-Temporaire\\131.1.1-Espace commun\\zone transfert temporaire\\ITESE Grenoble\\Stage Justine\\Code git\\wavelet_decomposition\\.conda\\lib\\site-packages\\pandas\\io\\excel\\_base.py:495, in read_excel(io, sheet_name, header, names, index_col, usecols, dtype, engine, converters, true_values, false_values, skiprows, nrows, na_values, keep_default_na, na_filter, verbose, parse_dates, date_parser, date_format, thousands, decimal, comment, skipfooter, storage_options, dtype_backend, engine_kwargs)\n",
      "    493 if not isinstance(io, ExcelFile):\n",
      "    494     should_close = True\n",
      "--> 495     io = ExcelFile(\n",
      "    496         io,\n",
      "    497         storage_options=storage_options,\n",
      "    498         engine=engine,\n",
      "    499         engine_kwargs=engine_kwargs,\n",
      "    500     )\n",
      "    501 elif engine and engine != io.engine:\n",
      "    502     raise ValueError(\n",
      "    503         \"Engine should not be specified when passing \"\n",
      "    504         \"an ExcelFile - ExcelFile already has the engine set\"\n",
      "    505     )\n",
      "\n",
      "File s:\\131-DPE\\131.1-Temporaire\\131.1.1-Espace commun\\zone transfert temporaire\\ITESE Grenoble\\Stage Justine\\Code git\\wavelet_decomposition\\.conda\\lib\\site-packages\\pandas\\io\\excel\\_base.py:1550, in ExcelFile.__init__(self, path_or_buffer, engine, storage_options, engine_kwargs)\n",
      "   1548     ext = \"xls\"\n",
      "   1549 else:\n",
      "-> 1550     ext = inspect_excel_format(\n",
      "   1551         content_or_path=path_or_buffer, storage_options=storage_options\n",
      "   1552     )\n",
      "   1553     if ext is None:\n",
      "   1554         raise ValueError(\n",
      "   1555             \"Excel file format cannot be determined, you must specify \"\n",
      "   1556             \"an engine manually.\"\n",
      "   1557         )\n",
      "\n",
      "File s:\\131-DPE\\131.1-Temporaire\\131.1.1-Espace commun\\zone transfert temporaire\\ITESE Grenoble\\Stage Justine\\Code git\\wavelet_decomposition\\.conda\\lib\\site-packages\\pandas\\io\\excel\\_base.py:1402, in inspect_excel_format(content_or_path, storage_options)\n",
      "   1399 if isinstance(content_or_path, bytes):\n",
      "   1400     content_or_path = BytesIO(content_or_path)\n",
      "-> 1402 with get_handle(\n",
      "   1403     content_or_path, \"rb\", storage_options=storage_options, is_text=False\n",
      "   1404 ) as handle:\n",
      "   1405     stream = handle.handle\n",
      "   1406     stream.seek(0)\n",
      "\n",
      "File s:\\131-DPE\\131.1-Temporaire\\131.1.1-Espace commun\\zone transfert temporaire\\ITESE Grenoble\\Stage Justine\\Code git\\wavelet_decomposition\\.conda\\lib\\site-packages\\pandas\\io\\common.py:882, in get_handle(path_or_buf, mode, encoding, compression, memory_map, is_text, errors, storage_options)\n",
      "    873         handle = open(\n",
      "    874             handle,\n",
      "    875             ioargs.mode,\n",
      "   (...)\n",
      "    878             newline=\"\",\n",
      "    879         )\n",
      "    880     else:\n",
      "    881         # Binary mode\n",
      "--> 882         handle = open(handle, ioargs.mode)\n",
      "    883     handles.append(handle)\n",
      "    885 # Convert BytesIO or file objects passed with an encoding\n",
      "\n",
      "FileNotFoundError: [Errno 2] No such file or directory: '../input_time_series/Montenegro/MNE_full_chu_wind_onshore_averaged.xlsx'\n",
      "\n",
      "Processing country: Morocco\n"
     ]
    },
    {
     "name": "stderr",
     "output_type": "stream",
     "text": [
      "Passed unknown parameter: country_name\n"
     ]
    },
    {
     "data": {
      "application/vnd.jupyter.widget-view+json": {
       "model_id": "c3e28f0ad58440299e5b76622cbecbf5",
       "version_major": 2,
       "version_minor": 0
      },
      "text/plain": [
       "Executing:   0%|          | 0/32 [00:00<?, ?cell/s]"
      ]
     },
     "metadata": {},
     "output_type": "display_data"
    },
    {
     "name": "stdout",
     "output_type": "stream",
     "text": [
      "Notebook executed for Morocco\n",
      "Processing country: Mozambique\n"
     ]
    },
    {
     "name": "stderr",
     "output_type": "stream",
     "text": [
      "Passed unknown parameter: country_name\n"
     ]
    },
    {
     "data": {
      "application/vnd.jupyter.widget-view+json": {
       "model_id": "e5208d35eb94410886dc07bc89b1d5a3",
       "version_major": 2,
       "version_minor": 0
      },
      "text/plain": [
       "Executing:   0%|          | 0/32 [00:00<?, ?cell/s]"
      ]
     },
     "metadata": {},
     "output_type": "display_data"
    },
    {
     "name": "stdout",
     "output_type": "stream",
     "text": [
      "Notebook executed for Mozambique\n",
      "Processing country: Myanmar\n"
     ]
    },
    {
     "name": "stderr",
     "output_type": "stream",
     "text": [
      "Passed unknown parameter: country_name\n"
     ]
    },
    {
     "data": {
      "application/vnd.jupyter.widget-view+json": {
       "model_id": "7c6074c0928343f2a2744508751d4738",
       "version_major": 2,
       "version_minor": 0
      },
      "text/plain": [
       "Executing:   0%|          | 0/32 [00:00<?, ?cell/s]"
      ]
     },
     "metadata": {},
     "output_type": "display_data"
    },
    {
     "name": "stdout",
     "output_type": "stream",
     "text": [
      "Notebook executed for Myanmar\n",
      "Processing country: Namibia\n"
     ]
    },
    {
     "name": "stderr",
     "output_type": "stream",
     "text": [
      "Passed unknown parameter: country_name\n"
     ]
    },
    {
     "data": {
      "application/vnd.jupyter.widget-view+json": {
       "model_id": "358336997b9947a6a9cd11fa59e43712",
       "version_major": 2,
       "version_minor": 0
      },
      "text/plain": [
       "Executing:   0%|          | 0/32 [00:00<?, ?cell/s]"
      ]
     },
     "metadata": {},
     "output_type": "display_data"
    },
    {
     "name": "stdout",
     "output_type": "stream",
     "text": [
      "Notebook executed for Namibia\n",
      "Processing country: Nepal\n"
     ]
    },
    {
     "name": "stderr",
     "output_type": "stream",
     "text": [
      "Passed unknown parameter: country_name\n"
     ]
    },
    {
     "data": {
      "application/vnd.jupyter.widget-view+json": {
       "model_id": "d637b2c35b3248d2b62b2d85bed029e9",
       "version_major": 2,
       "version_minor": 0
      },
      "text/plain": [
       "Executing:   0%|          | 0/32 [00:00<?, ?cell/s]"
      ]
     },
     "metadata": {},
     "output_type": "display_data"
    },
    {
     "name": "stdout",
     "output_type": "stream",
     "text": [
      "Notebook executed for Nepal\n",
      "Processing country: Netherlands\n"
     ]
    },
    {
     "name": "stderr",
     "output_type": "stream",
     "text": [
      "Passed unknown parameter: country_name\n"
     ]
    },
    {
     "data": {
      "application/vnd.jupyter.widget-view+json": {
       "model_id": "e471c805d9554c54a4b3229bba45cc2e",
       "version_major": 2,
       "version_minor": 0
      },
      "text/plain": [
       "Executing:   0%|          | 0/32 [00:00<?, ?cell/s]"
      ]
     },
     "metadata": {},
     "output_type": "display_data"
    },
    {
     "name": "stdout",
     "output_type": "stream",
     "text": [
      "Notebook executed for Netherlands\n",
      "Processing country: New Zealand\n"
     ]
    },
    {
     "name": "stderr",
     "output_type": "stream",
     "text": [
      "Passed unknown parameter: country_name\n"
     ]
    },
    {
     "data": {
      "application/vnd.jupyter.widget-view+json": {
       "model_id": "6640d4dfd2ab493092e67df675d12a98",
       "version_major": 2,
       "version_minor": 0
      },
      "text/plain": [
       "Executing:   0%|          | 0/32 [00:00<?, ?cell/s]"
      ]
     },
     "metadata": {},
     "output_type": "display_data"
    },
    {
     "name": "stdout",
     "output_type": "stream",
     "text": [
      "Notebook executed for New Zealand\n",
      "Processing country: Nicaragua\n"
     ]
    },
    {
     "name": "stderr",
     "output_type": "stream",
     "text": [
      "Passed unknown parameter: country_name\n"
     ]
    },
    {
     "data": {
      "application/vnd.jupyter.widget-view+json": {
       "model_id": "3f48e468563b4beabc43c09239bd3116",
       "version_major": 2,
       "version_minor": 0
      },
      "text/plain": [
       "Executing:   0%|          | 0/32 [00:00<?, ?cell/s]"
      ]
     },
     "metadata": {},
     "output_type": "display_data"
    },
    {
     "name": "stderr",
     "output_type": "stream",
     "text": [
      "Passed unknown parameter: country_name\n"
     ]
    },
    {
     "name": "stdout",
     "output_type": "stream",
     "text": [
      "Notebook executed for Nicaragua\n",
      "Processing country: Niger\n"
     ]
    },
    {
     "data": {
      "application/vnd.jupyter.widget-view+json": {
       "model_id": "8015102ffa7a403484d187f65d471a37",
       "version_major": 2,
       "version_minor": 0
      },
      "text/plain": [
       "Executing:   0%|          | 0/32 [00:00<?, ?cell/s]"
      ]
     },
     "metadata": {},
     "output_type": "display_data"
    },
    {
     "name": "stdout",
     "output_type": "stream",
     "text": [
      "Notebook executed for Niger\n",
      "Processing country: Nigeria\n"
     ]
    },
    {
     "name": "stderr",
     "output_type": "stream",
     "text": [
      "Passed unknown parameter: country_name\n"
     ]
    },
    {
     "data": {
      "application/vnd.jupyter.widget-view+json": {
       "model_id": "4ad6efa1306d4dcd9ecd03fad8df08db",
       "version_major": 2,
       "version_minor": 0
      },
      "text/plain": [
       "Executing:   0%|          | 0/32 [00:00<?, ?cell/s]"
      ]
     },
     "metadata": {},
     "output_type": "display_data"
    },
    {
     "name": "stdout",
     "output_type": "stream",
     "text": [
      "Notebook executed for Nigeria\n",
      "Processing country: Norway\n"
     ]
    },
    {
     "name": "stderr",
     "output_type": "stream",
     "text": [
      "Passed unknown parameter: country_name\n"
     ]
    },
    {
     "data": {
      "application/vnd.jupyter.widget-view+json": {
       "model_id": "fb0d16f6448b4fe2b416940ba1a2296b",
       "version_major": 2,
       "version_minor": 0
      },
      "text/plain": [
       "Executing:   0%|          | 0/32 [00:00<?, ?cell/s]"
      ]
     },
     "metadata": {},
     "output_type": "display_data"
    },
    {
     "name": "stdout",
     "output_type": "stream",
     "text": [
      "Notebook executed for Norway\n",
      "Processing country: Oman\n"
     ]
    },
    {
     "name": "stderr",
     "output_type": "stream",
     "text": [
      "Passed unknown parameter: country_name\n"
     ]
    },
    {
     "data": {
      "application/vnd.jupyter.widget-view+json": {
       "model_id": "959770a2eee34ee1b49b49924c9e0b88",
       "version_major": 2,
       "version_minor": 0
      },
      "text/plain": [
       "Executing:   0%|          | 0/32 [00:00<?, ?cell/s]"
      ]
     },
     "metadata": {},
     "output_type": "display_data"
    },
    {
     "name": "stdout",
     "output_type": "stream",
     "text": [
      "Notebook executed for Oman\n",
      "Processing country: Pakistan\n"
     ]
    },
    {
     "name": "stderr",
     "output_type": "stream",
     "text": [
      "Passed unknown parameter: country_name\n"
     ]
    },
    {
     "data": {
      "application/vnd.jupyter.widget-view+json": {
       "model_id": "f9583b508a584185a651716e5b63e707",
       "version_major": 2,
       "version_minor": 0
      },
      "text/plain": [
       "Executing:   0%|          | 0/32 [00:00<?, ?cell/s]"
      ]
     },
     "metadata": {},
     "output_type": "display_data"
    },
    {
     "name": "stdout",
     "output_type": "stream",
     "text": [
      "Notebook executed for Pakistan\n",
      "Processing country: Panama\n"
     ]
    },
    {
     "name": "stderr",
     "output_type": "stream",
     "text": [
      "Passed unknown parameter: country_name\n"
     ]
    },
    {
     "data": {
      "application/vnd.jupyter.widget-view+json": {
       "model_id": "bb3baded90a64aab95f1deeacbdf3aa6",
       "version_major": 2,
       "version_minor": 0
      },
      "text/plain": [
       "Executing:   0%|          | 0/32 [00:00<?, ?cell/s]"
      ]
     },
     "metadata": {},
     "output_type": "display_data"
    },
    {
     "name": "stdout",
     "output_type": "stream",
     "text": [
      "Notebook executed for Panama\n",
      "Processing country: Papua New Guinea\n"
     ]
    },
    {
     "name": "stderr",
     "output_type": "stream",
     "text": [
      "Passed unknown parameter: country_name\n"
     ]
    },
    {
     "data": {
      "application/vnd.jupyter.widget-view+json": {
       "model_id": "e2868afe21654c2c94d754b5764f1d52",
       "version_major": 2,
       "version_minor": 0
      },
      "text/plain": [
       "Executing:   0%|          | 0/32 [00:00<?, ?cell/s]"
      ]
     },
     "metadata": {},
     "output_type": "display_data"
    },
    {
     "name": "stdout",
     "output_type": "stream",
     "text": [
      "Notebook executed for Papua New Guinea\n",
      "Processing country: Paraguay\n"
     ]
    },
    {
     "name": "stderr",
     "output_type": "stream",
     "text": [
      "Passed unknown parameter: country_name\n"
     ]
    },
    {
     "data": {
      "application/vnd.jupyter.widget-view+json": {
       "model_id": "ebe188f5579e4c7a8c937c8cb7cd13b1",
       "version_major": 2,
       "version_minor": 0
      },
      "text/plain": [
       "Executing:   0%|          | 0/32 [00:00<?, ?cell/s]"
      ]
     },
     "metadata": {},
     "output_type": "display_data"
    },
    {
     "name": "stdout",
     "output_type": "stream",
     "text": [
      "Notebook executed for Paraguay\n",
      "Processing country: Peru\n"
     ]
    },
    {
     "name": "stderr",
     "output_type": "stream",
     "text": [
      "Passed unknown parameter: country_name\n"
     ]
    },
    {
     "data": {
      "application/vnd.jupyter.widget-view+json": {
       "model_id": "5fcac97e031b4eafada8c7f4b6808b23",
       "version_major": 2,
       "version_minor": 0
      },
      "text/plain": [
       "Executing:   0%|          | 0/32 [00:00<?, ?cell/s]"
      ]
     },
     "metadata": {},
     "output_type": "display_data"
    },
    {
     "name": "stdout",
     "output_type": "stream",
     "text": [
      "Notebook executed for Peru\n",
      "Processing country: Philippines\n"
     ]
    },
    {
     "name": "stderr",
     "output_type": "stream",
     "text": [
      "Passed unknown parameter: country_name\n"
     ]
    },
    {
     "data": {
      "application/vnd.jupyter.widget-view+json": {
       "model_id": "653f10122b9646318deae037063c63b1",
       "version_major": 2,
       "version_minor": 0
      },
      "text/plain": [
       "Executing:   0%|          | 0/32 [00:00<?, ?cell/s]"
      ]
     },
     "metadata": {},
     "output_type": "display_data"
    },
    {
     "name": "stdout",
     "output_type": "stream",
     "text": [
      "Notebook executed for Philippines\n",
      "Processing country: Poland\n"
     ]
    },
    {
     "name": "stderr",
     "output_type": "stream",
     "text": [
      "Passed unknown parameter: country_name\n"
     ]
    },
    {
     "data": {
      "application/vnd.jupyter.widget-view+json": {
       "model_id": "f10902635e424f24a2f4136518783675",
       "version_major": 2,
       "version_minor": 0
      },
      "text/plain": [
       "Executing:   0%|          | 0/32 [00:00<?, ?cell/s]"
      ]
     },
     "metadata": {},
     "output_type": "display_data"
    },
    {
     "name": "stdout",
     "output_type": "stream",
     "text": [
      "Notebook executed for Poland\n",
      "Processing country: Portugal\n"
     ]
    },
    {
     "name": "stderr",
     "output_type": "stream",
     "text": [
      "Passed unknown parameter: country_name\n"
     ]
    },
    {
     "data": {
      "application/vnd.jupyter.widget-view+json": {
       "model_id": "8e94efae3cc442059df3dcc310d3384d",
       "version_major": 2,
       "version_minor": 0
      },
      "text/plain": [
       "Executing:   0%|          | 0/32 [00:00<?, ?cell/s]"
      ]
     },
     "metadata": {},
     "output_type": "display_data"
    },
    {
     "name": "stderr",
     "output_type": "stream",
     "text": [
      "Passed unknown parameter: country_name\n"
     ]
    },
    {
     "name": "stdout",
     "output_type": "stream",
     "text": [
      "Notebook executed for Portugal\n",
      "Processing country: Qatar\n"
     ]
    },
    {
     "data": {
      "application/vnd.jupyter.widget-view+json": {
       "model_id": "081ac54475e94ea8b680373912626963",
       "version_major": 2,
       "version_minor": 0
      },
      "text/plain": [
       "Executing:   0%|          | 0/32 [00:00<?, ?cell/s]"
      ]
     },
     "metadata": {},
     "output_type": "display_data"
    },
    {
     "name": "stdout",
     "output_type": "stream",
     "text": [
      "Notebook executed for Qatar\n",
      "Processing country: Romania\n"
     ]
    },
    {
     "name": "stderr",
     "output_type": "stream",
     "text": [
      "Passed unknown parameter: country_name\n"
     ]
    },
    {
     "data": {
      "application/vnd.jupyter.widget-view+json": {
       "model_id": "706b6c9feaf14cd19c5ad7514ec22551",
       "version_major": 2,
       "version_minor": 0
      },
      "text/plain": [
       "Executing:   0%|          | 0/32 [00:00<?, ?cell/s]"
      ]
     },
     "metadata": {},
     "output_type": "display_data"
    },
    {
     "name": "stdout",
     "output_type": "stream",
     "text": [
      "Notebook executed for Romania\n",
      "Processing country: Russia\n"
     ]
    },
    {
     "name": "stderr",
     "output_type": "stream",
     "text": [
      "Passed unknown parameter: country_name\n"
     ]
    },
    {
     "data": {
      "application/vnd.jupyter.widget-view+json": {
       "model_id": "67d46a3aa6fe4db3811069816d4d478d",
       "version_major": 2,
       "version_minor": 0
      },
      "text/plain": [
       "Executing:   0%|          | 0/32 [00:00<?, ?cell/s]"
      ]
     },
     "metadata": {},
     "output_type": "display_data"
    },
    {
     "name": "stdout",
     "output_type": "stream",
     "text": [
      "Notebook executed for Russia\n",
      "Processing country: Rwanda\n"
     ]
    },
    {
     "name": "stderr",
     "output_type": "stream",
     "text": [
      "Passed unknown parameter: country_name\n"
     ]
    },
    {
     "data": {
      "application/vnd.jupyter.widget-view+json": {
       "model_id": "eeba5de2026a4333be52fda32cb95909",
       "version_major": 2,
       "version_minor": 0
      },
      "text/plain": [
       "Executing:   0%|          | 0/32 [00:00<?, ?cell/s]"
      ]
     },
     "metadata": {},
     "output_type": "display_data"
    },
    {
     "name": "stdout",
     "output_type": "stream",
     "text": [
      "Notebook executed for Rwanda\n",
      "Processing country: Saudi Arabia\n"
     ]
    },
    {
     "name": "stderr",
     "output_type": "stream",
     "text": [
      "Passed unknown parameter: country_name\n"
     ]
    },
    {
     "data": {
      "application/vnd.jupyter.widget-view+json": {
       "model_id": "a118ac83202e4b27916eebae0ecae42f",
       "version_major": 2,
       "version_minor": 0
      },
      "text/plain": [
       "Executing:   0%|          | 0/32 [00:00<?, ?cell/s]"
      ]
     },
     "metadata": {},
     "output_type": "display_data"
    },
    {
     "name": "stdout",
     "output_type": "stream",
     "text": [
      "Notebook executed for Saudi Arabia\n",
      "Processing country: Senegal\n"
     ]
    },
    {
     "name": "stderr",
     "output_type": "stream",
     "text": [
      "Passed unknown parameter: country_name\n"
     ]
    },
    {
     "data": {
      "application/vnd.jupyter.widget-view+json": {
       "model_id": "b76e42069fc7444289a6603f3eefaaf6",
       "version_major": 2,
       "version_minor": 0
      },
      "text/plain": [
       "Executing:   0%|          | 0/32 [00:00<?, ?cell/s]"
      ]
     },
     "metadata": {},
     "output_type": "display_data"
    },
    {
     "name": "stdout",
     "output_type": "stream",
     "text": [
      "Notebook executed for Senegal\n",
      "Processing country: Serbia\n"
     ]
    },
    {
     "name": "stderr",
     "output_type": "stream",
     "text": [
      "Passed unknown parameter: country_name\n"
     ]
    },
    {
     "data": {
      "application/vnd.jupyter.widget-view+json": {
       "model_id": "c1e1c6e0b881430a9f2c67a23b31f2ee",
       "version_major": 2,
       "version_minor": 0
      },
      "text/plain": [
       "Executing:   0%|          | 0/32 [00:00<?, ?cell/s]"
      ]
     },
     "metadata": {},
     "output_type": "display_data"
    },
    {
     "name": "stdout",
     "output_type": "stream",
     "text": [
      "Notebook executed for Serbia\n",
      "Processing country: Sierra Leone\n"
     ]
    },
    {
     "name": "stderr",
     "output_type": "stream",
     "text": [
      "Passed unknown parameter: country_name\n"
     ]
    },
    {
     "data": {
      "application/vnd.jupyter.widget-view+json": {
       "model_id": "3229b974b5de412cb993c25f21aeb016",
       "version_major": 2,
       "version_minor": 0
      },
      "text/plain": [
       "Executing:   0%|          | 0/32 [00:00<?, ?cell/s]"
      ]
     },
     "metadata": {},
     "output_type": "display_data"
    },
    {
     "name": "stderr",
     "output_type": "stream",
     "text": [
      "Passed unknown parameter: country_name\n"
     ]
    },
    {
     "name": "stdout",
     "output_type": "stream",
     "text": [
      "Notebook executed for Sierra Leone\n",
      "Processing country: Singapore\n"
     ]
    },
    {
     "data": {
      "application/vnd.jupyter.widget-view+json": {
       "model_id": "8541ea15d074413ba4e1f8dc07c9233c",
       "version_major": 2,
       "version_minor": 0
      },
      "text/plain": [
       "Executing:   0%|          | 0/32 [00:00<?, ?cell/s]"
      ]
     },
     "metadata": {},
     "output_type": "display_data"
    },
    {
     "name": "stdout",
     "output_type": "stream",
     "text": [
      "Notebook executed for Singapore\n",
      "Processing country: Slovakia\n"
     ]
    },
    {
     "name": "stderr",
     "output_type": "stream",
     "text": [
      "Passed unknown parameter: country_name\n"
     ]
    },
    {
     "data": {
      "application/vnd.jupyter.widget-view+json": {
       "model_id": "319cae30f09e44cba6f08a11bb013174",
       "version_major": 2,
       "version_minor": 0
      },
      "text/plain": [
       "Executing:   0%|          | 0/32 [00:00<?, ?cell/s]"
      ]
     },
     "metadata": {},
     "output_type": "display_data"
    },
    {
     "name": "stdout",
     "output_type": "stream",
     "text": [
      "Notebook executed for Slovakia\n",
      "Processing country: Slovenia\n"
     ]
    },
    {
     "name": "stderr",
     "output_type": "stream",
     "text": [
      "Passed unknown parameter: country_name\n"
     ]
    },
    {
     "data": {
      "application/vnd.jupyter.widget-view+json": {
       "model_id": "e1789a2e4d61401fb7169299679b5e66",
       "version_major": 2,
       "version_minor": 0
      },
      "text/plain": [
       "Executing:   0%|          | 0/32 [00:00<?, ?cell/s]"
      ]
     },
     "metadata": {},
     "output_type": "display_data"
    },
    {
     "name": "stdout",
     "output_type": "stream",
     "text": [
      "Notebook executed for Slovenia\n",
      "Processing country: Somalia\n"
     ]
    },
    {
     "name": "stderr",
     "output_type": "stream",
     "text": [
      "Passed unknown parameter: country_name\n"
     ]
    },
    {
     "data": {
      "application/vnd.jupyter.widget-view+json": {
       "model_id": "eab4375964b741559a0456a307e021d2",
       "version_major": 2,
       "version_minor": 0
      },
      "text/plain": [
       "Executing:   0%|          | 0/32 [00:00<?, ?cell/s]"
      ]
     },
     "metadata": {},
     "output_type": "display_data"
    },
    {
     "name": "stdout",
     "output_type": "stream",
     "text": [
      "Notebook executed for Somalia\n",
      "Processing country: South Africa\n"
     ]
    },
    {
     "name": "stderr",
     "output_type": "stream",
     "text": [
      "Passed unknown parameter: country_name\n"
     ]
    },
    {
     "data": {
      "application/vnd.jupyter.widget-view+json": {
       "model_id": "a1d83e1819a745b09638c68915c1fb4a",
       "version_major": 2,
       "version_minor": 0
      },
      "text/plain": [
       "Executing:   0%|          | 0/32 [00:00<?, ?cell/s]"
      ]
     },
     "metadata": {},
     "output_type": "display_data"
    },
    {
     "name": "stdout",
     "output_type": "stream",
     "text": [
      "Notebook executed for South Africa\n",
      "Processing country: Spain\n"
     ]
    },
    {
     "name": "stderr",
     "output_type": "stream",
     "text": [
      "Passed unknown parameter: country_name\n"
     ]
    },
    {
     "data": {
      "application/vnd.jupyter.widget-view+json": {
       "model_id": "bead32585b1d40bfb6461950b5acc968",
       "version_major": 2,
       "version_minor": 0
      },
      "text/plain": [
       "Executing:   0%|          | 0/32 [00:00<?, ?cell/s]"
      ]
     },
     "metadata": {},
     "output_type": "display_data"
    },
    {
     "name": "stdout",
     "output_type": "stream",
     "text": [
      "Notebook executed for Spain\n",
      "Processing country: Sri Lanka\n"
     ]
    },
    {
     "name": "stderr",
     "output_type": "stream",
     "text": [
      "Passed unknown parameter: country_name\n"
     ]
    },
    {
     "data": {
      "application/vnd.jupyter.widget-view+json": {
       "model_id": "f73efa5305b1468baed2d98b4d11b4be",
       "version_major": 2,
       "version_minor": 0
      },
      "text/plain": [
       "Executing:   0%|          | 0/32 [00:00<?, ?cell/s]"
      ]
     },
     "metadata": {},
     "output_type": "display_data"
    },
    {
     "name": "stdout",
     "output_type": "stream",
     "text": [
      "Notebook executed for Sri Lanka\n",
      "Processing country: Sudan\n"
     ]
    },
    {
     "name": "stderr",
     "output_type": "stream",
     "text": [
      "Passed unknown parameter: country_name\n"
     ]
    },
    {
     "data": {
      "application/vnd.jupyter.widget-view+json": {
       "model_id": "70e2c54f45044e2b8471aa9fdee19469",
       "version_major": 2,
       "version_minor": 0
      },
      "text/plain": [
       "Executing:   0%|          | 0/32 [00:00<?, ?cell/s]"
      ]
     },
     "metadata": {},
     "output_type": "display_data"
    },
    {
     "name": "stdout",
     "output_type": "stream",
     "text": [
      "Notebook executed for Sudan\n",
      "Processing country: Suriname\n"
     ]
    },
    {
     "name": "stderr",
     "output_type": "stream",
     "text": [
      "Passed unknown parameter: country_name\n"
     ]
    },
    {
     "data": {
      "application/vnd.jupyter.widget-view+json": {
       "model_id": "97768106a6444bf58179bebf1ef3614e",
       "version_major": 2,
       "version_minor": 0
      },
      "text/plain": [
       "Executing:   0%|          | 0/32 [00:00<?, ?cell/s]"
      ]
     },
     "metadata": {},
     "output_type": "display_data"
    },
    {
     "name": "stdout",
     "output_type": "stream",
     "text": [
      "Notebook executed for Suriname\n",
      "Processing country: Swaziland\n"
     ]
    },
    {
     "name": "stderr",
     "output_type": "stream",
     "text": [
      "Passed unknown parameter: country_name\n"
     ]
    },
    {
     "data": {
      "application/vnd.jupyter.widget-view+json": {
       "model_id": "fd5dc356a3844d8a969ac8a2d8731e54",
       "version_major": 2,
       "version_minor": 0
      },
      "text/plain": [
       "Executing:   0%|          | 0/32 [00:00<?, ?cell/s]"
      ]
     },
     "metadata": {},
     "output_type": "display_data"
    },
    {
     "name": "stdout",
     "output_type": "stream",
     "text": [
      "Notebook executed for Swaziland\n",
      "Processing country: Sweden\n"
     ]
    },
    {
     "name": "stderr",
     "output_type": "stream",
     "text": [
      "Passed unknown parameter: country_name\n"
     ]
    },
    {
     "data": {
      "application/vnd.jupyter.widget-view+json": {
       "model_id": "cb190363b74e4945bb0f57cffeb9e6c6",
       "version_major": 2,
       "version_minor": 0
      },
      "text/plain": [
       "Executing:   0%|          | 0/32 [00:00<?, ?cell/s]"
      ]
     },
     "metadata": {},
     "output_type": "display_data"
    },
    {
     "name": "stdout",
     "output_type": "stream",
     "text": [
      "Notebook executed for Sweden\n",
      "Processing country: Switzerland\n"
     ]
    },
    {
     "name": "stderr",
     "output_type": "stream",
     "text": [
      "Passed unknown parameter: country_name\n"
     ]
    },
    {
     "data": {
      "application/vnd.jupyter.widget-view+json": {
       "model_id": "796a1ee8fa5149b7bade34ae3937c306",
       "version_major": 2,
       "version_minor": 0
      },
      "text/plain": [
       "Executing:   0%|          | 0/32 [00:00<?, ?cell/s]"
      ]
     },
     "metadata": {},
     "output_type": "display_data"
    },
    {
     "name": "stderr",
     "output_type": "stream",
     "text": [
      "Passed unknown parameter: country_name\n"
     ]
    },
    {
     "name": "stdout",
     "output_type": "stream",
     "text": [
      "Notebook executed for Switzerland\n",
      "Processing country: Syrian Arab Republic\n"
     ]
    },
    {
     "data": {
      "application/vnd.jupyter.widget-view+json": {
       "model_id": "de9ff9cbe9744afb94ab52c5934ebe50",
       "version_major": 2,
       "version_minor": 0
      },
      "text/plain": [
       "Executing:   0%|          | 0/32 [00:00<?, ?cell/s]"
      ]
     },
     "metadata": {},
     "output_type": "display_data"
    },
    {
     "name": "stdout",
     "output_type": "stream",
     "text": [
      "Notebook executed for Syrian Arab Republic\n",
      "Processing country: Taiwan\n"
     ]
    },
    {
     "name": "stderr",
     "output_type": "stream",
     "text": [
      "Passed unknown parameter: country_name\n"
     ]
    },
    {
     "data": {
      "application/vnd.jupyter.widget-view+json": {
       "model_id": "18642259c4744e308e68bd4099de4f4c",
       "version_major": 2,
       "version_minor": 0
      },
      "text/plain": [
       "Executing:   0%|          | 0/32 [00:00<?, ?cell/s]"
      ]
     },
     "metadata": {},
     "output_type": "display_data"
    },
    {
     "name": "stdout",
     "output_type": "stream",
     "text": [
      "Notebook executed for Taiwan\n",
      "Processing country: Tajikistan\n"
     ]
    },
    {
     "name": "stderr",
     "output_type": "stream",
     "text": [
      "Passed unknown parameter: country_name\n"
     ]
    },
    {
     "data": {
      "application/vnd.jupyter.widget-view+json": {
       "model_id": "84b5a97063de4a82b36f570467a8fab1",
       "version_major": 2,
       "version_minor": 0
      },
      "text/plain": [
       "Executing:   0%|          | 0/32 [00:00<?, ?cell/s]"
      ]
     },
     "metadata": {},
     "output_type": "display_data"
    },
    {
     "name": "stdout",
     "output_type": "stream",
     "text": [
      "Notebook executed for Tajikistan\n",
      "Processing country: Tanzania\n"
     ]
    },
    {
     "name": "stderr",
     "output_type": "stream",
     "text": [
      "Passed unknown parameter: country_name\n"
     ]
    },
    {
     "data": {
      "application/vnd.jupyter.widget-view+json": {
       "model_id": "fb15e277c5dc4ea19925dd6ec17bfb67",
       "version_major": 2,
       "version_minor": 0
      },
      "text/plain": [
       "Executing:   0%|          | 0/32 [00:00<?, ?cell/s]"
      ]
     },
     "metadata": {},
     "output_type": "display_data"
    },
    {
     "name": "stdout",
     "output_type": "stream",
     "text": [
      "Notebook executed for Tanzania\n",
      "Processing country: Thailand\n"
     ]
    },
    {
     "name": "stderr",
     "output_type": "stream",
     "text": [
      "Passed unknown parameter: country_name\n"
     ]
    },
    {
     "data": {
      "application/vnd.jupyter.widget-view+json": {
       "model_id": "479f5a29367d40eb9f2d7dd15833fc6f",
       "version_major": 2,
       "version_minor": 0
      },
      "text/plain": [
       "Executing:   0%|          | 0/32 [00:00<?, ?cell/s]"
      ]
     },
     "metadata": {},
     "output_type": "display_data"
    },
    {
     "name": "stderr",
     "output_type": "stream",
     "text": [
      "Passed unknown parameter: country_name\n"
     ]
    },
    {
     "name": "stdout",
     "output_type": "stream",
     "text": [
      "Notebook executed for Thailand\n",
      "Processing country: Timor-Leste\n"
     ]
    },
    {
     "data": {
      "application/vnd.jupyter.widget-view+json": {
       "model_id": "f5183c64441744d19b7956c6b41fdf0b",
       "version_major": 2,
       "version_minor": 0
      },
      "text/plain": [
       "Executing:   0%|          | 0/32 [00:00<?, ?cell/s]"
      ]
     },
     "metadata": {},
     "output_type": "display_data"
    },
    {
     "name": "stdout",
     "output_type": "stream",
     "text": [
      "Notebook executed for Timor-Leste\n",
      "Processing country: Togo\n"
     ]
    },
    {
     "name": "stderr",
     "output_type": "stream",
     "text": [
      "Passed unknown parameter: country_name\n"
     ]
    },
    {
     "data": {
      "application/vnd.jupyter.widget-view+json": {
       "model_id": "c1854147d8894c65880faa03e9e37786",
       "version_major": 2,
       "version_minor": 0
      },
      "text/plain": [
       "Executing:   0%|          | 0/32 [00:00<?, ?cell/s]"
      ]
     },
     "metadata": {},
     "output_type": "display_data"
    },
    {
     "name": "stderr",
     "output_type": "stream",
     "text": [
      "Passed unknown parameter: country_name\n"
     ]
    },
    {
     "name": "stdout",
     "output_type": "stream",
     "text": [
      "Notebook executed for Togo\n",
      "Processing country: Trinidad and Tobago\n"
     ]
    },
    {
     "data": {
      "application/vnd.jupyter.widget-view+json": {
       "model_id": "9d2c35c2e5a84c09b1309173b3e40664",
       "version_major": 2,
       "version_minor": 0
      },
      "text/plain": [
       "Executing:   0%|          | 0/32 [00:00<?, ?cell/s]"
      ]
     },
     "metadata": {},
     "output_type": "display_data"
    },
    {
     "name": "stdout",
     "output_type": "stream",
     "text": [
      "Notebook executed for Trinidad and Tobago\n",
      "Processing country: Tunisia\n"
     ]
    },
    {
     "name": "stderr",
     "output_type": "stream",
     "text": [
      "Passed unknown parameter: country_name\n"
     ]
    },
    {
     "data": {
      "application/vnd.jupyter.widget-view+json": {
       "model_id": "1a21d64ff4414549a634cf78f5a51d89",
       "version_major": 2,
       "version_minor": 0
      },
      "text/plain": [
       "Executing:   0%|          | 0/32 [00:00<?, ?cell/s]"
      ]
     },
     "metadata": {},
     "output_type": "display_data"
    },
    {
     "name": "stdout",
     "output_type": "stream",
     "text": [
      "Notebook executed for Tunisia\n",
      "Processing country: Turkey\n"
     ]
    },
    {
     "name": "stderr",
     "output_type": "stream",
     "text": [
      "Passed unknown parameter: country_name\n"
     ]
    },
    {
     "data": {
      "application/vnd.jupyter.widget-view+json": {
       "model_id": "9b3229bdaa9241078a3699d8608090c8",
       "version_major": 2,
       "version_minor": 0
      },
      "text/plain": [
       "Executing:   0%|          | 0/32 [00:00<?, ?cell/s]"
      ]
     },
     "metadata": {},
     "output_type": "display_data"
    },
    {
     "name": "stdout",
     "output_type": "stream",
     "text": [
      "Notebook executed for Turkey\n",
      "Processing country: Turkmenistan\n"
     ]
    },
    {
     "name": "stderr",
     "output_type": "stream",
     "text": [
      "Passed unknown parameter: country_name\n"
     ]
    },
    {
     "data": {
      "application/vnd.jupyter.widget-view+json": {
       "model_id": "89c23ec0f5894849b0dab9af44ba2e23",
       "version_major": 2,
       "version_minor": 0
      },
      "text/plain": [
       "Executing:   0%|          | 0/32 [00:00<?, ?cell/s]"
      ]
     },
     "metadata": {},
     "output_type": "display_data"
    },
    {
     "name": "stdout",
     "output_type": "stream",
     "text": [
      "Notebook executed for Turkmenistan\n",
      "Processing country: Uganda\n"
     ]
    },
    {
     "name": "stderr",
     "output_type": "stream",
     "text": [
      "Passed unknown parameter: country_name\n"
     ]
    },
    {
     "data": {
      "application/vnd.jupyter.widget-view+json": {
       "model_id": "da234fe3ae6a42dfb4f7fa4b576a471b",
       "version_major": 2,
       "version_minor": 0
      },
      "text/plain": [
       "Executing:   0%|          | 0/32 [00:00<?, ?cell/s]"
      ]
     },
     "metadata": {},
     "output_type": "display_data"
    },
    {
     "name": "stderr",
     "output_type": "stream",
     "text": [
      "Passed unknown parameter: country_name\n"
     ]
    },
    {
     "name": "stdout",
     "output_type": "stream",
     "text": [
      "Notebook executed for Uganda\n",
      "Processing country: Ukraine\n"
     ]
    },
    {
     "data": {
      "application/vnd.jupyter.widget-view+json": {
       "model_id": "1b3f9475fb174232891d93b762adcc2d",
       "version_major": 2,
       "version_minor": 0
      },
      "text/plain": [
       "Executing:   0%|          | 0/32 [00:00<?, ?cell/s]"
      ]
     },
     "metadata": {},
     "output_type": "display_data"
    },
    {
     "name": "stdout",
     "output_type": "stream",
     "text": [
      "Notebook executed for Ukraine\n",
      "Processing country: United Arab Emirates\n"
     ]
    },
    {
     "name": "stderr",
     "output_type": "stream",
     "text": [
      "Passed unknown parameter: country_name\n"
     ]
    },
    {
     "data": {
      "application/vnd.jupyter.widget-view+json": {
       "model_id": "460f9337e71d49be8b7a5cead06174b2",
       "version_major": 2,
       "version_minor": 0
      },
      "text/plain": [
       "Executing:   0%|          | 0/32 [00:00<?, ?cell/s]"
      ]
     },
     "metadata": {},
     "output_type": "display_data"
    },
    {
     "name": "stdout",
     "output_type": "stream",
     "text": [
      "Notebook executed for United Arab Emirates\n",
      "Processing country: United Kingdom\n"
     ]
    },
    {
     "name": "stderr",
     "output_type": "stream",
     "text": [
      "Passed unknown parameter: country_name\n"
     ]
    },
    {
     "data": {
      "application/vnd.jupyter.widget-view+json": {
       "model_id": "98889876032c4953b591ee179dba8148",
       "version_major": 2,
       "version_minor": 0
      },
      "text/plain": [
       "Executing:   0%|          | 0/32 [00:00<?, ?cell/s]"
      ]
     },
     "metadata": {},
     "output_type": "display_data"
    },
    {
     "name": "stdout",
     "output_type": "stream",
     "text": [
      "Notebook executed for United Kingdom\n",
      "Processing country: United States\n"
     ]
    },
    {
     "name": "stderr",
     "output_type": "stream",
     "text": [
      "Passed unknown parameter: country_name\n"
     ]
    },
    {
     "data": {
      "application/vnd.jupyter.widget-view+json": {
       "model_id": "9f71ee5fce6349ca96f8ffcef551b6eb",
       "version_major": 2,
       "version_minor": 0
      },
      "text/plain": [
       "Executing:   0%|          | 0/32 [00:00<?, ?cell/s]"
      ]
     },
     "metadata": {},
     "output_type": "display_data"
    },
    {
     "name": "stdout",
     "output_type": "stream",
     "text": [
      "Notebook executed for United States\n",
      "Processing country: Uruguay\n"
     ]
    },
    {
     "name": "stderr",
     "output_type": "stream",
     "text": [
      "Passed unknown parameter: country_name\n"
     ]
    },
    {
     "data": {
      "application/vnd.jupyter.widget-view+json": {
       "model_id": "7d1991e61f6f444993df411e9a515316",
       "version_major": 2,
       "version_minor": 0
      },
      "text/plain": [
       "Executing:   0%|          | 0/32 [00:00<?, ?cell/s]"
      ]
     },
     "metadata": {},
     "output_type": "display_data"
    },
    {
     "name": "stderr",
     "output_type": "stream",
     "text": [
      "Passed unknown parameter: country_name\n"
     ]
    },
    {
     "name": "stdout",
     "output_type": "stream",
     "text": [
      "Notebook executed for Uruguay\n",
      "Processing country: Uzbekistan\n"
     ]
    },
    {
     "data": {
      "application/vnd.jupyter.widget-view+json": {
       "model_id": "eaf6a103fb3c41418ac24f21bf7bedc1",
       "version_major": 2,
       "version_minor": 0
      },
      "text/plain": [
       "Executing:   0%|          | 0/32 [00:00<?, ?cell/s]"
      ]
     },
     "metadata": {},
     "output_type": "display_data"
    },
    {
     "name": "stderr",
     "output_type": "stream",
     "text": [
      "Passed unknown parameter: country_name\n"
     ]
    },
    {
     "name": "stdout",
     "output_type": "stream",
     "text": [
      "Notebook executed for Uzbekistan\n",
      "Processing country: Venezuela\n"
     ]
    },
    {
     "data": {
      "application/vnd.jupyter.widget-view+json": {
       "model_id": "31dc12ae4795423b9b542d9851dc5047",
       "version_major": 2,
       "version_minor": 0
      },
      "text/plain": [
       "Executing:   0%|          | 0/32 [00:00<?, ?cell/s]"
      ]
     },
     "metadata": {},
     "output_type": "display_data"
    },
    {
     "name": "stdout",
     "output_type": "stream",
     "text": [
      "Notebook executed for Venezuela\n",
      "Processing country: Vietnam\n"
     ]
    },
    {
     "name": "stderr",
     "output_type": "stream",
     "text": [
      "Passed unknown parameter: country_name\n"
     ]
    },
    {
     "data": {
      "application/vnd.jupyter.widget-view+json": {
       "model_id": "c1049d7746784d39ad9cdbd513aa31e5",
       "version_major": 2,
       "version_minor": 0
      },
      "text/plain": [
       "Executing:   0%|          | 0/32 [00:00<?, ?cell/s]"
      ]
     },
     "metadata": {},
     "output_type": "display_data"
    },
    {
     "name": "stdout",
     "output_type": "stream",
     "text": [
      "Notebook executed for Vietnam\n",
      "Processing country: Western Sahara\n"
     ]
    },
    {
     "name": "stderr",
     "output_type": "stream",
     "text": [
      "Passed unknown parameter: country_name\n"
     ]
    },
    {
     "data": {
      "application/vnd.jupyter.widget-view+json": {
       "model_id": "0c8db0bf4df54335b1c7dab02a0d39f3",
       "version_major": 2,
       "version_minor": 0
      },
      "text/plain": [
       "Executing:   0%|          | 0/32 [00:00<?, ?cell/s]"
      ]
     },
     "metadata": {},
     "output_type": "display_data"
    },
    {
     "name": "stdout",
     "output_type": "stream",
     "text": [
      "Error executing notebook for Western Sahara: \n",
      "---------------------------------------------------------------------------\n",
      "Exception encountered at \"In [6]\":\n",
      "---------------------------------------------------------------------------\n",
      "ValueError                                Traceback (most recent call last)\n",
      "Cell In[6], line 36\n",
      "     34         result_df.to_excel(path_input_data+f'{country_name}/{country_code}_full_wind_onshore_10y.xlsx', index=False)\n",
      "     35         file_name = f'{country_name}/{country_code}_full_wind_onshore_10y.xlsx'\n",
      "---> 36 Wind_ts = import_excel(path_input_data,file_name, \n",
      "     37                                 dpd ,ndpd, dpy, \n",
      "     38                                 interp=True, norm = None) # interpolate data from dpd to ndpd numper of points per day\n",
      "     40 mean_wind = pd.read_excel(path_input_data+file_name).mean().iloc[0]\n",
      "\n",
      "File s:\\131-DPE\\131.1-Temporaire\\131.1.1-Espace commun\\zone transfert temporaire\\ITESE Grenoble\\Stage Justine\\Code git\\wavelet_decomposition\\optim_mix\\utilities.py:53, in import_excel(path_input_data, input_file, dpd, ndpd, dpy, interp, norm)\n",
      "     51     oldx = np.arange(0, ndays, 1./dpd)\n",
      "     52     newx = np.arange(0, ndays, 1./ndpd)\n",
      "---> 53     newy = np.interp(newx, oldx, one_d)\n",
      "     54 else:\n",
      "     55     newy = one_d\n",
      "\n",
      "File s:\\131-DPE\\131.1-Temporaire\\131.1.1-Espace commun\\zone transfert temporaire\\ITESE Grenoble\\Stage Justine\\Code git\\wavelet_decomposition\\.conda\\lib\\site-packages\\numpy\\lib\\function_base.py:1599, in interp(x, xp, fp, left, right, period)\n",
      "   1596     xp = np.concatenate((xp[-1:]-period, xp, xp[0:1]+period))\n",
      "   1597     fp = np.concatenate((fp[-1:], fp, fp[0:1]))\n",
      "-> 1599 return interp_func(x, xp, fp, left, right)\n",
      "\n",
      "ValueError: array of sample points is empty\n",
      "\n",
      "Processing country: Yemen\n"
     ]
    },
    {
     "name": "stderr",
     "output_type": "stream",
     "text": [
      "Passed unknown parameter: country_name\n"
     ]
    },
    {
     "data": {
      "application/vnd.jupyter.widget-view+json": {
       "model_id": "ac9dc1038aba4b9c9fd03eada34146dc",
       "version_major": 2,
       "version_minor": 0
      },
      "text/plain": [
       "Executing:   0%|          | 0/32 [00:00<?, ?cell/s]"
      ]
     },
     "metadata": {},
     "output_type": "display_data"
    },
    {
     "name": "stdout",
     "output_type": "stream",
     "text": [
      "Notebook executed for Yemen\n",
      "Processing country: Zambia\n"
     ]
    },
    {
     "name": "stderr",
     "output_type": "stream",
     "text": [
      "Passed unknown parameter: country_name\n"
     ]
    },
    {
     "data": {
      "application/vnd.jupyter.widget-view+json": {
       "model_id": "6b78402c8ffa455b8ea53148cd7a5976",
       "version_major": 2,
       "version_minor": 0
      },
      "text/plain": [
       "Executing:   0%|          | 0/32 [00:00<?, ?cell/s]"
      ]
     },
     "metadata": {},
     "output_type": "display_data"
    },
    {
     "name": "stdout",
     "output_type": "stream",
     "text": [
      "Notebook executed for Zambia\n",
      "Processing country: Zimbabwe\n"
     ]
    },
    {
     "name": "stderr",
     "output_type": "stream",
     "text": [
      "Passed unknown parameter: country_name\n"
     ]
    },
    {
     "data": {
      "application/vnd.jupyter.widget-view+json": {
       "model_id": "0a30175fd20e4daa8503f921409fdb96",
       "version_major": 2,
       "version_minor": 0
      },
      "text/plain": [
       "Executing:   0%|          | 0/32 [00:00<?, ?cell/s]"
      ]
     },
     "metadata": {},
     "output_type": "display_data"
    },
    {
     "name": "stdout",
     "output_type": "stream",
     "text": [
      "Notebook executed for Zimbabwe\n"
     ]
    }
   ],
   "source": [
    "# Define the input notebook, output notebook, parameter name, and parameter value\n",
    "input_notebook = '1g_run_optimization_grid_chu_country.ipynb'\n",
    "output_notebook = '1g_run_optimization_grid_chu_country_1.ipynb'\n",
    "for c in countries:\n",
    "   parameters = {'country_name': c}\n",
    "   print(f\"Processing country: {c}\")\n",
    "\n",
    "   # Run the notebook with the new parameters\n",
    "   already_computed = pd.read_csv('results/optimization_results_CHU_world_grid.csv')\n",
    "   # print(already_computed)\n",
    "   # print(already_computed['Country'].loc[0]==c)\n",
    "   # print (c in already_computed['Country'])\n",
    "   if c in already_computed['Country'].values:\n",
    "      print(c)\n",
    "      computed_states = already_computed[already_computed['Country'] == c].values\n",
    "      continue\n",
    "      # if s in computed_states:\n",
    "      #    print(f\"{c} - {s} already computed.\")\n",
    "      #    continue\n",
    "   try :\n",
    "      pm.execute_notebook(\n",
    "         input_notebook,\n",
    "         output_notebook,\n",
    "         parameters=parameters\n",
    "      )\n",
    "      print(f\"Notebook executed for {c}\")\n",
    "   except Exception as e:\n",
    "        print(f\"Error executing notebook for {c}: {e}\")"
   ]
  },
  {
   "cell_type": "markdown",
   "metadata": {},
   "source": [
    "## Boucles pour désagréger certains pays"
   ]
  },
  {
   "cell_type": "markdown",
   "metadata": {},
   "source": [
    "### Russie"
   ]
  },
  {
   "cell_type": "code",
   "execution_count": 4,
   "metadata": {},
   "outputs": [
    {
     "name": "stdout",
     "output_type": "stream",
     "text": [
      "Processing state: ALT, country: Russia\n",
      "Russia\n",
      "Russia - ALT already computed.\n",
      "Processing state: MO, country: Russia\n",
      "Russia\n",
      "Russia - MO already computed.\n",
      "Processing state: TUL, country: Russia\n",
      "Russia\n",
      "Russia - TUL already computed.\n",
      "Processing state: KGN, country: Russia\n",
      "Russia\n",
      "Russia - KGN already computed.\n",
      "Processing state: IN, country: Russia\n",
      "Russia\n",
      "Russia - IN already computed.\n",
      "Processing state: KHM, country: Russia\n",
      "Russia\n",
      "Russia - KHM already computed.\n",
      "Processing state: KIR, country: Russia\n",
      "Russia\n",
      "Russia - KIR already computed.\n",
      "Processing state: KO, country: Russia\n",
      "Russia\n",
      "Russia - KO already computed.\n",
      "Processing state: KOS, country: Russia\n",
      "Russia\n",
      "Russia - KOS already computed.\n",
      "Processing state: KYA, country: Russia\n",
      "Russia\n",
      "Russia - KYA already computed.\n",
      "Processing state: ZAB, country: Russia\n",
      "Russia\n",
      "Russia - ZAB already computed.\n",
      "Processing state: SVE, country: Russia\n",
      "Russia\n",
      "Russia - SVE already computed.\n",
      "Processing state: VGG, country: Russia\n",
      "Russia\n",
      "Russia - VGG already computed.\n",
      "Processing state: IRK, country: Russia\n",
      "Russia\n",
      "Russia - IRK already computed.\n",
      "Processing state: PER, country: Russia\n",
      "Russia\n",
      "Russia - PER already computed.\n",
      "Processing state: PSK, country: Russia\n",
      "Russia\n",
      "Russia - PSK already computed.\n",
      "Processing state: ROS, country: Russia\n",
      "Russia\n",
      "Russia - ROS already computed.\n",
      "Processing state: RYA, country: Russia\n",
      "Russia\n",
      "Russia - RYA already computed.\n",
      "Processing state: AD, country: Russia\n",
      "Russia\n",
      "Russia - AD already computed.\n",
      "Processing state: SAM, country: Russia\n",
      "Russia\n",
      "Russia - SAM already computed.\n",
      "Processing state: KK, country: Russia\n",
      "Russia\n",
      "Russia - KK already computed.\n",
      "Processing state: TAM, country: Russia\n",
      "Russia\n",
      "Russia - TAM already computed.\n",
      "Processing state: TA, country: Russia\n",
      "Russia\n",
      "Russia - TA already computed.\n",
      "Processing state: TOM, country: Russia\n",
      "Russia\n",
      "Russia - TOM already computed.\n",
      "Processing state: NIZ, country: Russia\n",
      "Russia\n",
      "Russia - NIZ already computed.\n",
      "Processing state: KR, country: Russia\n",
      "Russia\n",
      "Russia - KR already computed.\n",
      "Processing state: ARK, country: Russia\n",
      "Russia\n",
      "Russia - ARK already computed.\n",
      "Processing state: AST, country: Russia\n",
      "Russia\n",
      "Russia - AST already computed.\n",
      "Processing state: BEL, country: Russia\n",
      "Russia\n",
      "Russia - BEL already computed.\n",
      "Processing state: BRY, country: Russia\n",
      "Russia\n",
      "Russia - BRY already computed.\n",
      "Processing state: BU, country: Russia\n",
      "Russia\n",
      "Russia - BU already computed.\n",
      "Processing state: CE, country: Russia\n",
      "Russia\n",
      "Russia - CE already computed.\n",
      "Processing state: CHE, country: Russia\n",
      "Russia\n",
      "Russia - CHE already computed.\n",
      "Processing state: CU, country: Russia\n",
      "Russia\n",
      "Russia - CU already computed.\n",
      "Processing state: TYU, country: Russia\n",
      "Russia\n",
      "Russia - TYU already computed.\n",
      "Processing state: SE, country: Russia\n",
      "Russia\n",
      "Russia - SE already computed.\n",
      "Processing state: PNZ, country: Russia\n",
      "Russia\n",
      "Russia - PNZ already computed.\n",
      "Processing state: AMU, country: Russia\n",
      "Russia\n",
      "Russia - AMU already computed.\n",
      "Processing state: KB, country: Russia\n",
      "Russia\n",
      "Russia - KB already computed.\n",
      "Processing state: KDA, country: Russia\n",
      "Russia\n",
      "Russia - KDA already computed.\n",
      "Processing state: KRS, country: Russia\n",
      "Russia\n",
      "Russia - KRS already computed.\n",
      "Processing state: LEN, country: Russia\n",
      "Russia\n",
      "Russia - LEN already computed.\n",
      "Processing state: ME, country: Russia\n",
      "Russia\n",
      "Russia - ME already computed.\n",
      "Processing state: MOW, country: Russia\n",
      "Russia\n",
      "Russia - MOW already computed.\n",
      "Processing state: MOS, country: Russia\n",
      "Russia\n",
      "Russia - MOS already computed.\n",
      "Processing state: MUR, country: Russia\n",
      "Russia\n"
     ]
    },
    {
     "name": "stderr",
     "output_type": "stream",
     "text": [
      "Passed unknown parameter: country_name\n",
      "Passed unknown parameter: state_name\n"
     ]
    },
    {
     "data": {
      "application/vnd.jupyter.widget-view+json": {
       "model_id": "fdeaf142d03f48a1a36978ace19153f9",
       "version_major": 2,
       "version_minor": 0
      },
      "text/plain": [
       "Executing:   0%|          | 0/32 [00:00<?, ?cell/s]"
      ]
     },
     "metadata": {},
     "output_type": "display_data"
    },
    {
     "name": "stdout",
     "output_type": "stream",
     "text": [
      "Notebook executed for Russia - MUR\n",
      "Processing state: NEN, country: Russia\n",
      "Russia\n",
      "Russia - NEN already computed.\n",
      "Processing state: NGR, country: Russia\n",
      "Russia\n",
      "Russia - NGR already computed.\n",
      "Processing state: NVS, country: Russia\n",
      "Russia\n",
      "Russia - NVS already computed.\n",
      "Processing state: OMS, country: Russia\n",
      "Russia\n",
      "Russia - OMS already computed.\n",
      "Processing state: ORL, country: Russia\n",
      "Russia\n",
      "Russia - ORL already computed.\n",
      "Processing state: SPE, country: Russia\n",
      "Russia\n",
      "Russia - SPE already computed.\n",
      "Processing state: SAK, country: Russia\n",
      "Russia\n",
      "Russia - SAK already computed.\n",
      "Processing state: SA, country: Russia\n",
      "Russia\n",
      "Russia - SA already computed.\n",
      "Processing state: SAR, country: Russia\n",
      "Russia\n",
      "Russia - SAR already computed.\n",
      "Processing state: SMO, country: Russia\n",
      "Russia\n",
      "Russia - SMO already computed.\n",
      "Processing state: STA, country: Russia\n",
      "Russia\n",
      "Russia - STA already computed.\n",
      "Processing state: TY, country: Russia\n",
      "Russia\n",
      "Russia - TY already computed.\n",
      "Processing state: TVE, country: Russia\n",
      "Russia\n",
      "Russia - TVE already computed.\n",
      "Processing state: UD, country: Russia\n",
      "Russia\n",
      "Russia - UD already computed.\n",
      "Processing state: KLU, country: Russia\n",
      "Russia\n",
      "Russia - KLU already computed.\n",
      "Processing state: LIP, country: Russia\n",
      "Russia\n",
      "Russia - LIP already computed.\n",
      "Processing state: MAG, country: Russia\n",
      "Russia\n",
      "Russia - MAG already computed.\n",
      "Processing state: ULY, country: Russia\n",
      "Russia\n",
      "Russia - ULY already computed.\n",
      "Processing state: VLA, country: Russia\n",
      "Russia\n",
      "Russia - VLA already computed.\n",
      "Processing state: VLG, country: Russia\n",
      "Russia\n",
      "Russia - VLG already computed.\n",
      "Processing state: YAR, country: Russia\n",
      "Russia\n",
      "Russia - YAR already computed.\n",
      "Processing state: VOR, country: Russia\n",
      "Russia\n",
      "Russia - VOR already computed.\n",
      "Processing state: YAN, country: Russia\n",
      "Russia\n",
      "Russia - YAN already computed.\n",
      "Processing state: AL, country: Russia\n",
      "Russia\n",
      "Russia - AL already computed.\n",
      "Processing state: IVA, country: Russia\n",
      "Russia\n",
      "Russia - IVA already computed.\n",
      "Processing state: YEV, country: Russia\n",
      "Russia\n",
      "Russia - YEV already computed.\n",
      "Processing state: KL, country: Russia\n",
      "Russia\n",
      "Russia - KL already computed.\n",
      "Processing state: KAM, country: Russia\n",
      "Russia\n",
      "Russia - KAM already computed.\n",
      "Processing state: KC, country: Russia\n",
      "Russia\n",
      "Russia - KC already computed.\n",
      "Processing state: KEM, country: Russia\n",
      "Russia\n",
      "Russia - KEM already computed.\n",
      "Processing state: KHA, country: Russia\n",
      "Russia\n",
      "Russia - KHA already computed.\n",
      "Processing state: CHU, country: Russia\n",
      "Russia\n",
      "Russia - CHU already computed.\n",
      "Processing state: DA, country: Russia\n",
      "Russia\n",
      "Russia - DA already computed.\n",
      "Processing state: KGD, country: Russia\n",
      "Russia\n",
      "Russia - KGD already computed.\n",
      "Processing state: ORE, country: Russia\n",
      "Russia\n",
      "Russia - ORE already computed.\n",
      "Processing state: PRI, country: Russia\n",
      "Russia\n",
      "Russia - PRI already computed.\n",
      "Processing state: BA, country: Russia\n",
      "Russia\n",
      "Russia - BA already computed.\n"
     ]
    }
   ],
   "source": [
    "# Define the input notebook, output notebook, parameter name, and parameter value\n",
    "input_notebook = '1g_run_optimization_grid_chu.ipynb'\n",
    "output_notebook = '1g_run_optimization_grid_chu_1.ipynb'\n",
    "c = 'Russia'\n",
    "for s in russia_states_codes : \n",
    "   parameters = {'country_name': c,\n",
    "                  'state_name' : s}\n",
    "   print(f\"Processing state: {s}, country: {c}\")\n",
    "\n",
    "   # Run the notebook with the new parameters\n",
    "   already_computed = pd.read_csv('results/optimization_results_CHU_world_grid_with_states.csv')\n",
    "   # print(already_computed)\n",
    "   # print(already_computed['Country'].loc[0]==c)\n",
    "   # print (c in already_computed['Country'])\n",
    "   if c in already_computed['Country'].values:\n",
    "      print(c)\n",
    "      computed_states = already_computed[already_computed['Country'] == c]['State'].values\n",
    "      if s in computed_states:\n",
    "         print(f\"{c} - {s} already computed.\")\n",
    "         continue\n",
    "   try :\n",
    "      pm.execute_notebook(\n",
    "         input_notebook,\n",
    "         output_notebook,\n",
    "         parameters=parameters\n",
    "      )\n",
    "      print(f\"Notebook executed for {c} - {s}\")\n",
    "   except Exception as e:\n",
    "        print(f\"Error executing notebook for {c} - {s}: {e}\")"
   ]
  },
  {
   "cell_type": "code",
   "execution_count": 5,
   "metadata": {},
   "outputs": [
    {
     "name": "stderr",
     "output_type": "stream",
     "text": [
      "Passed unknown parameter: country_name\n",
      "Passed unknown parameter: state_name\n"
     ]
    },
    {
     "name": "stdout",
     "output_type": "stream",
     "text": [
      "Processing state: NSW, country: Australia\n"
     ]
    },
    {
     "data": {
      "application/vnd.jupyter.widget-view+json": {
       "model_id": "c81cdf7a70ef46c5892aee3253c162d8",
       "version_major": 2,
       "version_minor": 0
      },
      "text/plain": [
       "Executing:   0%|          | 0/32 [00:00<?, ?cell/s]"
      ]
     },
     "metadata": {},
     "output_type": "display_data"
    },
    {
     "name": "stderr",
     "output_type": "stream",
     "text": [
      "Passed unknown parameter: country_name\n",
      "Passed unknown parameter: state_name\n"
     ]
    },
    {
     "name": "stdout",
     "output_type": "stream",
     "text": [
      "Notebook executed for Australia - NSW\n",
      "Processing state: QLD, country: Australia\n",
      "Australia\n"
     ]
    },
    {
     "data": {
      "application/vnd.jupyter.widget-view+json": {
       "model_id": "5764ee9afce443faaf3e8da78a39a324",
       "version_major": 2,
       "version_minor": 0
      },
      "text/plain": [
       "Executing:   0%|          | 0/32 [00:00<?, ?cell/s]"
      ]
     },
     "metadata": {},
     "output_type": "display_data"
    },
    {
     "name": "stderr",
     "output_type": "stream",
     "text": [
      "Passed unknown parameter: country_name\n",
      "Passed unknown parameter: state_name\n"
     ]
    },
    {
     "name": "stdout",
     "output_type": "stream",
     "text": [
      "Notebook executed for Australia - QLD\n",
      "Processing state: SA, country: Australia\n",
      "Australia\n"
     ]
    },
    {
     "data": {
      "application/vnd.jupyter.widget-view+json": {
       "model_id": "eb45af9f828945f9973484b60680e034",
       "version_major": 2,
       "version_minor": 0
      },
      "text/plain": [
       "Executing:   0%|          | 0/32 [00:00<?, ?cell/s]"
      ]
     },
     "metadata": {},
     "output_type": "display_data"
    },
    {
     "name": "stderr",
     "output_type": "stream",
     "text": [
      "Passed unknown parameter: country_name\n",
      "Passed unknown parameter: state_name\n"
     ]
    },
    {
     "name": "stdout",
     "output_type": "stream",
     "text": [
      "Notebook executed for Australia - SA\n",
      "Processing state: WA, country: Australia\n",
      "Australia\n"
     ]
    },
    {
     "data": {
      "application/vnd.jupyter.widget-view+json": {
       "model_id": "1ef4e9094d4f4cd78a06620bcb5f5f72",
       "version_major": 2,
       "version_minor": 0
      },
      "text/plain": [
       "Executing:   0%|          | 0/32 [00:00<?, ?cell/s]"
      ]
     },
     "metadata": {},
     "output_type": "display_data"
    },
    {
     "name": "stderr",
     "output_type": "stream",
     "text": [
      "Passed unknown parameter: country_name\n",
      "Passed unknown parameter: state_name\n"
     ]
    },
    {
     "name": "stdout",
     "output_type": "stream",
     "text": [
      "Notebook executed for Australia - WA\n",
      "Processing state: VIC, country: Australia\n",
      "Australia\n"
     ]
    },
    {
     "data": {
      "application/vnd.jupyter.widget-view+json": {
       "model_id": "f3231ec41b55479fa703ba915bcbd23e",
       "version_major": 2,
       "version_minor": 0
      },
      "text/plain": [
       "Executing:   0%|          | 0/32 [00:00<?, ?cell/s]"
      ]
     },
     "metadata": {},
     "output_type": "display_data"
    },
    {
     "name": "stderr",
     "output_type": "stream",
     "text": [
      "Passed unknown parameter: country_name\n",
      "Passed unknown parameter: state_name\n"
     ]
    },
    {
     "name": "stdout",
     "output_type": "stream",
     "text": [
      "Notebook executed for Australia - VIC\n",
      "Processing state: TAS, country: Australia\n",
      "Australia\n"
     ]
    },
    {
     "data": {
      "application/vnd.jupyter.widget-view+json": {
       "model_id": "804cf35733f4482082d0020ea9ea6c32",
       "version_major": 2,
       "version_minor": 0
      },
      "text/plain": [
       "Executing:   0%|          | 0/32 [00:00<?, ?cell/s]"
      ]
     },
     "metadata": {},
     "output_type": "display_data"
    },
    {
     "name": "stderr",
     "output_type": "stream",
     "text": [
      "Passed unknown parameter: country_name\n",
      "Passed unknown parameter: state_name\n"
     ]
    },
    {
     "name": "stdout",
     "output_type": "stream",
     "text": [
      "Notebook executed for Australia - TAS\n",
      "Processing state: NT, country: Australia\n",
      "Australia\n"
     ]
    },
    {
     "data": {
      "application/vnd.jupyter.widget-view+json": {
       "model_id": "7ff065224ed2480dbb2ff9bd189c3df1",
       "version_major": 2,
       "version_minor": 0
      },
      "text/plain": [
       "Executing:   0%|          | 0/32 [00:00<?, ?cell/s]"
      ]
     },
     "metadata": {},
     "output_type": "display_data"
    },
    {
     "name": "stdout",
     "output_type": "stream",
     "text": [
      "Notebook executed for Australia - NT\n",
      "Processing state: NSW, country: Australia\n",
      "Australia\n",
      "Australia - NSW already computed.\n",
      "Processing state: QLD, country: Australia\n",
      "Australia\n",
      "Australia - QLD already computed.\n",
      "Processing state: SA, country: Australia\n",
      "Australia\n",
      "Australia - SA already computed.\n",
      "Processing state: WA, country: Australia\n",
      "Australia\n",
      "Australia - WA already computed.\n",
      "Processing state: VIC, country: Australia\n",
      "Australia\n",
      "Australia - VIC already computed.\n",
      "Processing state: TAS, country: Australia\n",
      "Australia\n",
      "Australia - TAS already computed.\n",
      "Processing state: NT, country: Australia\n",
      "Australia\n",
      "Australia - NT already computed.\n"
     ]
    }
   ],
   "source": [
    "# Define the input notebook, output notebook, parameter name, and parameter value\n",
    "input_notebook = '1g_run_optimization_grid_chu.ipynb'\n",
    "output_notebook = '1g_run_optimization_grid_chu_1.ipynb'\n",
    "c = 'Australia'\n",
    "for s in australia_states_codes : \n",
    "   parameters = {'country_name': c,\n",
    "                  'state_name' : s}\n",
    "   print(f\"Processing state: {s}, country: {c}\")\n",
    "\n",
    "   # Run the notebook with the new parameters\n",
    "   already_computed = pd.read_csv('results/optimization_results_CHU_world_grid_with_states.csv')\n",
    "   # print(already_computed)\n",
    "   # print(already_computed['Country'].loc[0]==c)\n",
    "   # print (c in already_computed['Country'])\n",
    "   if c in already_computed['Country'].values:\n",
    "      print(c)\n",
    "      computed_states = already_computed[already_computed['Country'] == c]['State'].values\n",
    "      if s in computed_states:\n",
    "         print(f\"{c} - {s} already computed.\")\n",
    "         continue\n",
    "   try :\n",
    "      pm.execute_notebook(\n",
    "         input_notebook,\n",
    "         output_notebook,\n",
    "         parameters=parameters\n",
    "      )\n",
    "      print(f\"Notebook executed for {c} - {s}\")\n",
    "   except Exception as e:\n",
    "        print(f\"Error executing notebook for {c} - {s}: {e}\")"
   ]
  },
  {
   "cell_type": "code",
   "execution_count": 5,
   "metadata": {},
   "outputs": [
    {
     "name": "stderr",
     "output_type": "stream",
     "text": [
      "Passed unknown parameter: country_name\n",
      "Passed unknown parameter: state_name\n"
     ]
    },
    {
     "name": "stdout",
     "output_type": "stream",
     "text": [
      "Processing state: AB, country: Canada\n",
      "Canada\n",
      "Canada - AB already computed.\n",
      "Processing state: BC, country: Canada\n",
      "Canada\n",
      "Canada - BC already computed.\n",
      "Processing state: MB, country: Canada\n",
      "Canada\n",
      "Canada - MB already computed.\n",
      "Processing state: NB, country: Canada\n",
      "Canada\n"
     ]
    },
    {
     "data": {
      "application/vnd.jupyter.widget-view+json": {
       "model_id": "3eed6fc71a0a43138d1ddcc931d8229a",
       "version_major": 2,
       "version_minor": 0
      },
      "text/plain": [
       "Executing:   0%|          | 0/32 [00:00<?, ?cell/s]"
      ]
     },
     "metadata": {},
     "output_type": "display_data"
    },
    {
     "name": "stderr",
     "output_type": "stream",
     "text": [
      "Passed unknown parameter: country_name\n",
      "Passed unknown parameter: state_name\n"
     ]
    },
    {
     "name": "stdout",
     "output_type": "stream",
     "text": [
      "Error executing notebook for Canada - NB: \n",
      "---------------------------------------------------------------------------\n",
      "Exception encountered at \"In [3]\":\n",
      "---------------------------------------------------------------------------\n",
      "IndexError                                Traceback (most recent call last)\n",
      "~\\AppData\\Local\\Temp\\ipykernel_31088\\1303091019.py in ?()\n",
      "     11 regions_match = regions_match[regions_match['Country']==country_name].set_index('region')\n",
      "     12 plexos_region = regions_match.loc[state_name, 'plexos']\n",
      "     13 chu_plexos_match = pd.read_excel('../../../DATA/Chu et Hawkes/match_chu_plexos.xlsx', index_col=0)\n",
      "     14 \n",
      "---> 15 region_chu = chu_plexos_match[chu_plexos_match['Plexos']==plexos_region].iloc[0, 0]\n",
      "     16 print(region_chu)\n",
      "     17 country_codes = pd.read_csv('../countries_codes_and_coordinates_adapted.csv' , sep = ',', index_col = 0)\n",
      "     18 country_code = country_codes.loc[country_name,'Alpha-3 code'].split( ' ')[1]\n",
      "\n",
      "s:\\131-DPE\\131.1-Temporaire\\131.1.1-Espace commun\\zone transfert temporaire\\ITESE Grenoble\\Stage Justine\\Code git\\wavelet_decomposition\\.conda\\lib\\site-packages\\pandas\\core\\indexing.py in ?(self, key)\n",
      "   1179         if type(key) is tuple:\n",
      "   1180             key = tuple(list(x) if is_iterator(x) else x for x in key)\n",
      "   1181             key = tuple(com.apply_if_callable(x, self.obj) for x in key)\n",
      "   1182             if self._is_scalar_access(key):\n",
      "-> 1183                 return self.obj._get_value(*key, takeable=self._takeable)\n",
      "   1184             return self._getitem_tuple(key)\n",
      "   1185         else:\n",
      "   1186             # we by definition only have the 0th axis\n",
      "\n",
      "s:\\131-DPE\\131.1-Temporaire\\131.1.1-Espace commun\\zone transfert temporaire\\ITESE Grenoble\\Stage Justine\\Code git\\wavelet_decomposition\\.conda\\lib\\site-packages\\pandas\\core\\frame.py in ?(self, index, col, takeable)\n",
      "   4196         `self.columns._index_as_unique`; Caller is responsible for checking.\n",
      "   4197         \"\"\"\n",
      "   4198         if takeable:\n",
      "   4199             series = self._ixs(col, axis=1)\n",
      "-> 4200             return series._values[index]\n",
      "   4201 \n",
      "   4202         series = self._get_item_cache(col)\n",
      "   4203         engine = self.index._engine\n",
      "\n",
      "IndexError: index 0 is out of bounds for axis 0 with size 0\n",
      "\n",
      "Processing state: NL, country: Canada\n",
      "Canada\n"
     ]
    },
    {
     "data": {
      "application/vnd.jupyter.widget-view+json": {
       "model_id": "13bcf8b42dac4aa895c695b2efa1e8a3",
       "version_major": 2,
       "version_minor": 0
      },
      "text/plain": [
       "Executing:   0%|          | 0/32 [00:00<?, ?cell/s]"
      ]
     },
     "metadata": {},
     "output_type": "display_data"
    },
    {
     "name": "stderr",
     "output_type": "stream",
     "text": [
      "Passed unknown parameter: country_name\n",
      "Passed unknown parameter: state_name\n"
     ]
    },
    {
     "name": "stdout",
     "output_type": "stream",
     "text": [
      "Error executing notebook for Canada - NL: \n",
      "---------------------------------------------------------------------------\n",
      "Exception encountered at \"In [3]\":\n",
      "---------------------------------------------------------------------------\n",
      "IndexError                                Traceback (most recent call last)\n",
      "~\\AppData\\Local\\Temp\\ipykernel_19612\\1303091019.py in ?()\n",
      "     11 regions_match = regions_match[regions_match['Country']==country_name].set_index('region')\n",
      "     12 plexos_region = regions_match.loc[state_name, 'plexos']\n",
      "     13 chu_plexos_match = pd.read_excel('../../../DATA/Chu et Hawkes/match_chu_plexos.xlsx', index_col=0)\n",
      "     14 \n",
      "---> 15 region_chu = chu_plexos_match[chu_plexos_match['Plexos']==plexos_region].iloc[0, 0]\n",
      "     16 print(region_chu)\n",
      "     17 country_codes = pd.read_csv('../countries_codes_and_coordinates_adapted.csv' , sep = ',', index_col = 0)\n",
      "     18 country_code = country_codes.loc[country_name,'Alpha-3 code'].split( ' ')[1]\n",
      "\n",
      "s:\\131-DPE\\131.1-Temporaire\\131.1.1-Espace commun\\zone transfert temporaire\\ITESE Grenoble\\Stage Justine\\Code git\\wavelet_decomposition\\.conda\\lib\\site-packages\\pandas\\core\\indexing.py in ?(self, key)\n",
      "   1179         if type(key) is tuple:\n",
      "   1180             key = tuple(list(x) if is_iterator(x) else x for x in key)\n",
      "   1181             key = tuple(com.apply_if_callable(x, self.obj) for x in key)\n",
      "   1182             if self._is_scalar_access(key):\n",
      "-> 1183                 return self.obj._get_value(*key, takeable=self._takeable)\n",
      "   1184             return self._getitem_tuple(key)\n",
      "   1185         else:\n",
      "   1186             # we by definition only have the 0th axis\n",
      "\n",
      "s:\\131-DPE\\131.1-Temporaire\\131.1.1-Espace commun\\zone transfert temporaire\\ITESE Grenoble\\Stage Justine\\Code git\\wavelet_decomposition\\.conda\\lib\\site-packages\\pandas\\core\\frame.py in ?(self, index, col, takeable)\n",
      "   4196         `self.columns._index_as_unique`; Caller is responsible for checking.\n",
      "   4197         \"\"\"\n",
      "   4198         if takeable:\n",
      "   4199             series = self._ixs(col, axis=1)\n",
      "-> 4200             return series._values[index]\n",
      "   4201 \n",
      "   4202         series = self._get_item_cache(col)\n",
      "   4203         engine = self.index._engine\n",
      "\n",
      "IndexError: index 0 is out of bounds for axis 0 with size 0\n",
      "\n",
      "Processing state: NT, country: Canada\n",
      "Canada\n"
     ]
    },
    {
     "data": {
      "application/vnd.jupyter.widget-view+json": {
       "model_id": "212cc15188a148ebad22f548b9609127",
       "version_major": 2,
       "version_minor": 0
      },
      "text/plain": [
       "Executing:   0%|          | 0/32 [00:00<?, ?cell/s]"
      ]
     },
     "metadata": {},
     "output_type": "display_data"
    },
    {
     "name": "stderr",
     "output_type": "stream",
     "text": [
      "Passed unknown parameter: country_name\n",
      "Passed unknown parameter: state_name\n"
     ]
    },
    {
     "name": "stdout",
     "output_type": "stream",
     "text": [
      "Error executing notebook for Canada - NT: \n",
      "---------------------------------------------------------------------------\n",
      "Exception encountered at \"In [10]\":\n",
      "---------------------------------------------------------------------------\n",
      "TypeError                                 Traceback (most recent call last)\n",
      "Cell In[10], line 1\n",
      "----> 1 optimized_parameters=optimize_enr_chu(country_name, Load_ts[:43800], PV_ts[:43800], Wind_ts[:43800], mean_load, state_name = state_name,save_results = True)\n",
      "\n",
      "File s:\\131-DPE\\131.1-Temporaire\\131.1.1-Espace commun\\zone transfert temporaire\\ITESE Grenoble\\Stage Justine\\Code git\\wavelet_decomposition\\optim_mix\\utilities.py:110, in optimize_enr_chu(country_name, Load_ts, PV_ts, Wind_ts, mean_load, state_name, save_results)\n",
      "    106 print(\"Coefficient optimal pour Wind:\", x_wind.varValue)\n",
      "    109 # Get results of optimization \n",
      "--> 110 optimized_pv = [x_pv.varValue * PV_ts[t] for t in range(signal_length)]\n",
      "    111 optimized_wind = [x_wind.varValue * Wind_ts[t] for t in range(signal_length)]\n",
      "    112 optimized_dispatchable = [ts_dispatchable[t].varValue for t in range(signal_length)]\n",
      "\n",
      "File s:\\131-DPE\\131.1-Temporaire\\131.1.1-Espace commun\\zone transfert temporaire\\ITESE Grenoble\\Stage Justine\\Code git\\wavelet_decomposition\\optim_mix\\utilities.py:110, in <listcomp>(.0)\n",
      "    106 print(\"Coefficient optimal pour Wind:\", x_wind.varValue)\n",
      "    109 # Get results of optimization \n",
      "--> 110 optimized_pv = [x_pv.varValue * PV_ts[t] for t in range(signal_length)]\n",
      "    111 optimized_wind = [x_wind.varValue * Wind_ts[t] for t in range(signal_length)]\n",
      "    112 optimized_dispatchable = [ts_dispatchable[t].varValue for t in range(signal_length)]\n",
      "\n",
      "TypeError: unsupported operand type(s) for *: 'NoneType' and 'float'\n",
      "\n",
      "Processing state: NS, country: Canada\n",
      "Canada\n"
     ]
    },
    {
     "data": {
      "application/vnd.jupyter.widget-view+json": {
       "model_id": "83a8d7bb22d84dcdb4c47f4c58fb15e3",
       "version_major": 2,
       "version_minor": 0
      },
      "text/plain": [
       "Executing:   0%|          | 0/32 [00:00<?, ?cell/s]"
      ]
     },
     "metadata": {},
     "output_type": "display_data"
    },
    {
     "name": "stderr",
     "output_type": "stream",
     "text": [
      "Passed unknown parameter: country_name\n",
      "Passed unknown parameter: state_name\n"
     ]
    },
    {
     "name": "stdout",
     "output_type": "stream",
     "text": [
      "Error executing notebook for Canada - NS: \n",
      "---------------------------------------------------------------------------\n",
      "Exception encountered at \"In [3]\":\n",
      "---------------------------------------------------------------------------\n",
      "IndexError                                Traceback (most recent call last)\n",
      "~\\AppData\\Local\\Temp\\ipykernel_26892\\1303091019.py in ?()\n",
      "     11 regions_match = regions_match[regions_match['Country']==country_name].set_index('region')\n",
      "     12 plexos_region = regions_match.loc[state_name, 'plexos']\n",
      "     13 chu_plexos_match = pd.read_excel('../../../DATA/Chu et Hawkes/match_chu_plexos.xlsx', index_col=0)\n",
      "     14 \n",
      "---> 15 region_chu = chu_plexos_match[chu_plexos_match['Plexos']==plexos_region].iloc[0, 0]\n",
      "     16 print(region_chu)\n",
      "     17 country_codes = pd.read_csv('../countries_codes_and_coordinates_adapted.csv' , sep = ',', index_col = 0)\n",
      "     18 country_code = country_codes.loc[country_name,'Alpha-3 code'].split( ' ')[1]\n",
      "\n",
      "s:\\131-DPE\\131.1-Temporaire\\131.1.1-Espace commun\\zone transfert temporaire\\ITESE Grenoble\\Stage Justine\\Code git\\wavelet_decomposition\\.conda\\lib\\site-packages\\pandas\\core\\indexing.py in ?(self, key)\n",
      "   1179         if type(key) is tuple:\n",
      "   1180             key = tuple(list(x) if is_iterator(x) else x for x in key)\n",
      "   1181             key = tuple(com.apply_if_callable(x, self.obj) for x in key)\n",
      "   1182             if self._is_scalar_access(key):\n",
      "-> 1183                 return self.obj._get_value(*key, takeable=self._takeable)\n",
      "   1184             return self._getitem_tuple(key)\n",
      "   1185         else:\n",
      "   1186             # we by definition only have the 0th axis\n",
      "\n",
      "s:\\131-DPE\\131.1-Temporaire\\131.1.1-Espace commun\\zone transfert temporaire\\ITESE Grenoble\\Stage Justine\\Code git\\wavelet_decomposition\\.conda\\lib\\site-packages\\pandas\\core\\frame.py in ?(self, index, col, takeable)\n",
      "   4196         `self.columns._index_as_unique`; Caller is responsible for checking.\n",
      "   4197         \"\"\"\n",
      "   4198         if takeable:\n",
      "   4199             series = self._ixs(col, axis=1)\n",
      "-> 4200             return series._values[index]\n",
      "   4201 \n",
      "   4202         series = self._get_item_cache(col)\n",
      "   4203         engine = self.index._engine\n",
      "\n",
      "IndexError: index 0 is out of bounds for axis 0 with size 0\n",
      "\n",
      "Processing state: NU, country: Canada\n",
      "Canada\n"
     ]
    },
    {
     "data": {
      "application/vnd.jupyter.widget-view+json": {
       "model_id": "e096e73ad9c04a43a453245de959ac7b",
       "version_major": 2,
       "version_minor": 0
      },
      "text/plain": [
       "Executing:   0%|          | 0/32 [00:00<?, ?cell/s]"
      ]
     },
     "metadata": {},
     "output_type": "display_data"
    },
    {
     "name": "stderr",
     "output_type": "stream",
     "text": [
      "Passed unknown parameter: country_name\n",
      "Passed unknown parameter: state_name\n"
     ]
    },
    {
     "name": "stdout",
     "output_type": "stream",
     "text": [
      "Error executing notebook for Canada - NU: \n",
      "---------------------------------------------------------------------------\n",
      "Exception encountered at \"In [10]\":\n",
      "---------------------------------------------------------------------------\n",
      "TypeError                                 Traceback (most recent call last)\n",
      "Cell In[10], line 1\n",
      "----> 1 optimized_parameters=optimize_enr_chu(country_name, Load_ts[:43800], PV_ts[:43800], Wind_ts[:43800], mean_load, state_name = state_name,save_results = True)\n",
      "\n",
      "File s:\\131-DPE\\131.1-Temporaire\\131.1.1-Espace commun\\zone transfert temporaire\\ITESE Grenoble\\Stage Justine\\Code git\\wavelet_decomposition\\optim_mix\\utilities.py:110, in optimize_enr_chu(country_name, Load_ts, PV_ts, Wind_ts, mean_load, state_name, save_results)\n",
      "    106 print(\"Coefficient optimal pour Wind:\", x_wind.varValue)\n",
      "    109 # Get results of optimization \n",
      "--> 110 optimized_pv = [x_pv.varValue * PV_ts[t] for t in range(signal_length)]\n",
      "    111 optimized_wind = [x_wind.varValue * Wind_ts[t] for t in range(signal_length)]\n",
      "    112 optimized_dispatchable = [ts_dispatchable[t].varValue for t in range(signal_length)]\n",
      "\n",
      "File s:\\131-DPE\\131.1-Temporaire\\131.1.1-Espace commun\\zone transfert temporaire\\ITESE Grenoble\\Stage Justine\\Code git\\wavelet_decomposition\\optim_mix\\utilities.py:110, in <listcomp>(.0)\n",
      "    106 print(\"Coefficient optimal pour Wind:\", x_wind.varValue)\n",
      "    109 # Get results of optimization \n",
      "--> 110 optimized_pv = [x_pv.varValue * PV_ts[t] for t in range(signal_length)]\n",
      "    111 optimized_wind = [x_wind.varValue * Wind_ts[t] for t in range(signal_length)]\n",
      "    112 optimized_dispatchable = [ts_dispatchable[t].varValue for t in range(signal_length)]\n",
      "\n",
      "TypeError: unsupported operand type(s) for *: 'NoneType' and 'float'\n",
      "\n",
      "Processing state: ON, country: Canada\n",
      "Canada\n",
      "Canada - ON already computed.\n",
      "Processing state: PE, country: Canada\n",
      "Canada\n"
     ]
    },
    {
     "data": {
      "application/vnd.jupyter.widget-view+json": {
       "model_id": "3045ae615cac45a2a96961ffe493e012",
       "version_major": 2,
       "version_minor": 0
      },
      "text/plain": [
       "Executing:   0%|          | 0/32 [00:00<?, ?cell/s]"
      ]
     },
     "metadata": {},
     "output_type": "display_data"
    },
    {
     "name": "stderr",
     "output_type": "stream",
     "text": [
      "Passed unknown parameter: country_name\n",
      "Passed unknown parameter: state_name\n"
     ]
    },
    {
     "name": "stdout",
     "output_type": "stream",
     "text": [
      "Error executing notebook for Canada - PE: \n",
      "---------------------------------------------------------------------------\n",
      "Exception encountered at \"In [3]\":\n",
      "---------------------------------------------------------------------------\n",
      "IndexError                                Traceback (most recent call last)\n",
      "~\\AppData\\Local\\Temp\\ipykernel_14016\\1303091019.py in ?()\n",
      "     11 regions_match = regions_match[regions_match['Country']==country_name].set_index('region')\n",
      "     12 plexos_region = regions_match.loc[state_name, 'plexos']\n",
      "     13 chu_plexos_match = pd.read_excel('../../../DATA/Chu et Hawkes/match_chu_plexos.xlsx', index_col=0)\n",
      "     14 \n",
      "---> 15 region_chu = chu_plexos_match[chu_plexos_match['Plexos']==plexos_region].iloc[0, 0]\n",
      "     16 print(region_chu)\n",
      "     17 country_codes = pd.read_csv('../countries_codes_and_coordinates_adapted.csv' , sep = ',', index_col = 0)\n",
      "     18 country_code = country_codes.loc[country_name,'Alpha-3 code'].split( ' ')[1]\n",
      "\n",
      "s:\\131-DPE\\131.1-Temporaire\\131.1.1-Espace commun\\zone transfert temporaire\\ITESE Grenoble\\Stage Justine\\Code git\\wavelet_decomposition\\.conda\\lib\\site-packages\\pandas\\core\\indexing.py in ?(self, key)\n",
      "   1179         if type(key) is tuple:\n",
      "   1180             key = tuple(list(x) if is_iterator(x) else x for x in key)\n",
      "   1181             key = tuple(com.apply_if_callable(x, self.obj) for x in key)\n",
      "   1182             if self._is_scalar_access(key):\n",
      "-> 1183                 return self.obj._get_value(*key, takeable=self._takeable)\n",
      "   1184             return self._getitem_tuple(key)\n",
      "   1185         else:\n",
      "   1186             # we by definition only have the 0th axis\n",
      "\n",
      "s:\\131-DPE\\131.1-Temporaire\\131.1.1-Espace commun\\zone transfert temporaire\\ITESE Grenoble\\Stage Justine\\Code git\\wavelet_decomposition\\.conda\\lib\\site-packages\\pandas\\core\\frame.py in ?(self, index, col, takeable)\n",
      "   4196         `self.columns._index_as_unique`; Caller is responsible for checking.\n",
      "   4197         \"\"\"\n",
      "   4198         if takeable:\n",
      "   4199             series = self._ixs(col, axis=1)\n",
      "-> 4200             return series._values[index]\n",
      "   4201 \n",
      "   4202         series = self._get_item_cache(col)\n",
      "   4203         engine = self.index._engine\n",
      "\n",
      "IndexError: index 0 is out of bounds for axis 0 with size 0\n",
      "\n",
      "Processing state: QC, country: Canada\n",
      "Canada\n",
      "Canada - QC already computed.\n",
      "Processing state: SK, country: Canada\n",
      "Canada\n",
      "Canada - SK already computed.\n",
      "Processing state: YT, country: Canada\n",
      "Canada\n"
     ]
    },
    {
     "data": {
      "application/vnd.jupyter.widget-view+json": {
       "model_id": "54168a9b93f94c1d8e1a11c9e128a09a",
       "version_major": 2,
       "version_minor": 0
      },
      "text/plain": [
       "Executing:   0%|          | 0/32 [00:00<?, ?cell/s]"
      ]
     },
     "metadata": {},
     "output_type": "display_data"
    },
    {
     "name": "stdout",
     "output_type": "stream",
     "text": [
      "Error executing notebook for Canada - YT: \n",
      "---------------------------------------------------------------------------\n",
      "Exception encountered at \"In [10]\":\n",
      "---------------------------------------------------------------------------\n",
      "TypeError                                 Traceback (most recent call last)\n",
      "Cell In[10], line 1\n",
      "----> 1 optimized_parameters=optimize_enr_chu(country_name, Load_ts[:43800], PV_ts[:43800], Wind_ts[:43800], mean_load, state_name = state_name,save_results = True)\n",
      "\n",
      "File s:\\131-DPE\\131.1-Temporaire\\131.1.1-Espace commun\\zone transfert temporaire\\ITESE Grenoble\\Stage Justine\\Code git\\wavelet_decomposition\\optim_mix\\utilities.py:110, in optimize_enr_chu(country_name, Load_ts, PV_ts, Wind_ts, mean_load, state_name, save_results)\n",
      "    106 print(\"Coefficient optimal pour Wind:\", x_wind.varValue)\n",
      "    109 # Get results of optimization \n",
      "--> 110 optimized_pv = [x_pv.varValue * PV_ts[t] for t in range(signal_length)]\n",
      "    111 optimized_wind = [x_wind.varValue * Wind_ts[t] for t in range(signal_length)]\n",
      "    112 optimized_dispatchable = [ts_dispatchable[t].varValue for t in range(signal_length)]\n",
      "\n",
      "File s:\\131-DPE\\131.1-Temporaire\\131.1.1-Espace commun\\zone transfert temporaire\\ITESE Grenoble\\Stage Justine\\Code git\\wavelet_decomposition\\optim_mix\\utilities.py:110, in <listcomp>(.0)\n",
      "    106 print(\"Coefficient optimal pour Wind:\", x_wind.varValue)\n",
      "    109 # Get results of optimization \n",
      "--> 110 optimized_pv = [x_pv.varValue * PV_ts[t] for t in range(signal_length)]\n",
      "    111 optimized_wind = [x_wind.varValue * Wind_ts[t] for t in range(signal_length)]\n",
      "    112 optimized_dispatchable = [ts_dispatchable[t].varValue for t in range(signal_length)]\n",
      "\n",
      "TypeError: unsupported operand type(s) for *: 'NoneType' and 'float'\n",
      "\n"
     ]
    }
   ],
   "source": [
    "# Define the input notebook, output notebook, parameter name, and parameter value\n",
    "input_notebook = '1g_run_optimization_grid_chu.ipynb'\n",
    "output_notebook = '1g_run_optimization_grid_chu_1.ipynb'\n",
    "c = 'Canada'\n",
    "for s in canadian_province_codes : \n",
    "   parameters = {'country_name': c,\n",
    "                  'state_name' : s}\n",
    "   print(f\"Processing state: {s}, country: {c}\")\n",
    "\n",
    "   # Run the notebook with the new parameters\n",
    "   already_computed = pd.read_csv('results/optimization_results_CHU_world_grid_with_states.csv')\n",
    "   # print(already_computed)\n",
    "   # print(already_computed['Country'].loc[0]==c)\n",
    "   # print (c in already_computed['Country'])\n",
    "   if c in already_computed['Country'].values:\n",
    "      print(c)\n",
    "      computed_states = already_computed[already_computed['Country'] == c]['State'].values\n",
    "      if s in computed_states:\n",
    "         print(f\"{c} - {s} already computed.\")\n",
    "         continue\n",
    "   try :\n",
    "      pm.execute_notebook(\n",
    "         input_notebook,\n",
    "         output_notebook,\n",
    "         parameters=parameters\n",
    "      )\n",
    "      print(f\"Notebook executed for {c} - {s}\")\n",
    "   except Exception as e:\n",
    "        print(f\"Error executing notebook for {c} - {s}: {e}\")"
   ]
  },
  {
   "cell_type": "code",
   "execution_count": 6,
   "metadata": {},
   "outputs": [
    {
     "name": "stderr",
     "output_type": "stream",
     "text": [
      "Passed unknown parameter: country_name\n",
      "Passed unknown parameter: state_name\n"
     ]
    },
    {
     "name": "stdout",
     "output_type": "stream",
     "text": [
      "Processing state: CN061, country: China\n"
     ]
    },
    {
     "data": {
      "application/vnd.jupyter.widget-view+json": {
       "model_id": "9b3a912c7f03488c920752d93dc6a156",
       "version_major": 2,
       "version_minor": 0
      },
      "text/plain": [
       "Executing:   0%|          | 0/32 [00:00<?, ?cell/s]"
      ]
     },
     "metadata": {},
     "output_type": "display_data"
    },
    {
     "name": "stderr",
     "output_type": "stream",
     "text": [
      "Passed unknown parameter: country_name\n",
      "Passed unknown parameter: state_name\n"
     ]
    },
    {
     "name": "stdout",
     "output_type": "stream",
     "text": [
      "Notebook executed for China - CN061\n",
      "Processing state: CN031, country: China\n",
      "China\n"
     ]
    },
    {
     "data": {
      "application/vnd.jupyter.widget-view+json": {
       "model_id": "5b755254f57b4ed28caefac14053f009",
       "version_major": 2,
       "version_minor": 0
      },
      "text/plain": [
       "Executing:   0%|          | 0/32 [00:00<?, ?cell/s]"
      ]
     },
     "metadata": {},
     "output_type": "display_data"
    },
    {
     "name": "stderr",
     "output_type": "stream",
     "text": [
      "Passed unknown parameter: country_name\n",
      "Passed unknown parameter: state_name\n"
     ]
    },
    {
     "name": "stdout",
     "output_type": "stream",
     "text": [
      "Notebook executed for China - CN031\n",
      "Processing state: CN050, country: China\n",
      "China\n"
     ]
    },
    {
     "data": {
      "application/vnd.jupyter.widget-view+json": {
       "model_id": "5141604c5e5041148007f56af75e36f8",
       "version_major": 2,
       "version_minor": 0
      },
      "text/plain": [
       "Executing:   0%|          | 0/32 [00:00<?, ?cell/s]"
      ]
     },
     "metadata": {},
     "output_type": "display_data"
    },
    {
     "name": "stderr",
     "output_type": "stream",
     "text": [
      "Passed unknown parameter: country_name\n",
      "Passed unknown parameter: state_name\n"
     ]
    },
    {
     "name": "stdout",
     "output_type": "stream",
     "text": [
      "Notebook executed for China - CN050\n",
      "Processing state: CN033, country: China\n",
      "China\n"
     ]
    },
    {
     "data": {
      "application/vnd.jupyter.widget-view+json": {
       "model_id": "1913364d20c3496b9b52e17c1ce92e3e",
       "version_major": 2,
       "version_minor": 0
      },
      "text/plain": [
       "Executing:   0%|          | 0/32 [00:00<?, ?cell/s]"
      ]
     },
     "metadata": {},
     "output_type": "display_data"
    },
    {
     "name": "stderr",
     "output_type": "stream",
     "text": [
      "Passed unknown parameter: country_name\n",
      "Passed unknown parameter: state_name\n"
     ]
    },
    {
     "name": "stdout",
     "output_type": "stream",
     "text": [
      "Notebook executed for China - CN033\n",
      "Processing state: CN036, country: China\n",
      "China\n"
     ]
    },
    {
     "data": {
      "application/vnd.jupyter.widget-view+json": {
       "model_id": "16d65a38c4df4531ac14a0a9fe25d695",
       "version_major": 2,
       "version_minor": 0
      },
      "text/plain": [
       "Executing:   0%|          | 0/32 [00:00<?, ?cell/s]"
      ]
     },
     "metadata": {},
     "output_type": "display_data"
    },
    {
     "name": "stderr",
     "output_type": "stream",
     "text": [
      "Passed unknown parameter: country_name\n",
      "Passed unknown parameter: state_name\n"
     ]
    },
    {
     "name": "stdout",
     "output_type": "stream",
     "text": [
      "Notebook executed for China - CN036\n",
      "Processing state: CN053, country: China\n",
      "China\n"
     ]
    },
    {
     "data": {
      "application/vnd.jupyter.widget-view+json": {
       "model_id": "ddac4b0a4c4d4145950c954c1dd5067e",
       "version_major": 2,
       "version_minor": 0
      },
      "text/plain": [
       "Executing:   0%|          | 0/32 [00:00<?, ?cell/s]"
      ]
     },
     "metadata": {},
     "output_type": "display_data"
    },
    {
     "name": "stderr",
     "output_type": "stream",
     "text": [
      "Passed unknown parameter: country_name\n",
      "Passed unknown parameter: state_name\n"
     ]
    },
    {
     "name": "stdout",
     "output_type": "stream",
     "text": [
      "Notebook executed for China - CN053\n",
      "Processing state: CN037, country: China\n",
      "China\n"
     ]
    },
    {
     "data": {
      "application/vnd.jupyter.widget-view+json": {
       "model_id": "aa11a35e1f7a4cbebc01ef5b40083cda",
       "version_major": 2,
       "version_minor": 0
      },
      "text/plain": [
       "Executing:   0%|          | 0/32 [00:00<?, ?cell/s]"
      ]
     },
     "metadata": {},
     "output_type": "display_data"
    },
    {
     "name": "stderr",
     "output_type": "stream",
     "text": [
      "Passed unknown parameter: country_name\n",
      "Passed unknown parameter: state_name\n"
     ]
    },
    {
     "name": "stdout",
     "output_type": "stream",
     "text": [
      "Notebook executed for China - CN037\n",
      "Processing state: CN021, country: China\n",
      "China\n"
     ]
    },
    {
     "data": {
      "application/vnd.jupyter.widget-view+json": {
       "model_id": "9a602c14f4c84d14b1dbeb772bcf07df",
       "version_major": 2,
       "version_minor": 0
      },
      "text/plain": [
       "Executing:   0%|          | 0/32 [00:00<?, ?cell/s]"
      ]
     },
     "metadata": {},
     "output_type": "display_data"
    },
    {
     "name": "stderr",
     "output_type": "stream",
     "text": [
      "Passed unknown parameter: country_name\n",
      "Passed unknown parameter: state_name\n"
     ]
    },
    {
     "name": "stdout",
     "output_type": "stream",
     "text": [
      "Notebook executed for China - CN021\n",
      "Processing state: CN054, country: China\n",
      "China\n"
     ]
    },
    {
     "data": {
      "application/vnd.jupyter.widget-view+json": {
       "model_id": "6155f48994f94f71ab073f4d4b935a3f",
       "version_major": 2,
       "version_minor": 0
      },
      "text/plain": [
       "Executing:   0%|          | 0/32 [00:00<?, ?cell/s]"
      ]
     },
     "metadata": {},
     "output_type": "display_data"
    },
    {
     "name": "stderr",
     "output_type": "stream",
     "text": [
      "Passed unknown parameter: country_name\n",
      "Passed unknown parameter: state_name\n"
     ]
    },
    {
     "name": "stdout",
     "output_type": "stream",
     "text": [
      "Notebook executed for China - CN054\n",
      "Processing state: CN062, country: China\n",
      "China\n"
     ]
    },
    {
     "data": {
      "application/vnd.jupyter.widget-view+json": {
       "model_id": "ea1e1e7562a148f09bfea1d28c24cbbe",
       "version_major": 2,
       "version_minor": 0
      },
      "text/plain": [
       "Executing:   0%|          | 0/32 [00:00<?, ?cell/s]"
      ]
     },
     "metadata": {},
     "output_type": "display_data"
    },
    {
     "name": "stderr",
     "output_type": "stream",
     "text": [
      "Passed unknown parameter: country_name\n",
      "Passed unknown parameter: state_name\n"
     ]
    },
    {
     "name": "stdout",
     "output_type": "stream",
     "text": [
      "Notebook executed for China - CN062\n",
      "Processing state: CN081, country: China\n",
      "China\n"
     ]
    },
    {
     "data": {
      "application/vnd.jupyter.widget-view+json": {
       "model_id": "50a3696d9f83411fa355f4462ebcfffb",
       "version_major": 2,
       "version_minor": 0
      },
      "text/plain": [
       "Executing:   0%|          | 0/32 [00:00<?, ?cell/s]"
      ]
     },
     "metadata": {},
     "output_type": "display_data"
    },
    {
     "name": "stderr",
     "output_type": "stream",
     "text": [
      "Passed unknown parameter: country_name\n",
      "Passed unknown parameter: state_name\n"
     ]
    },
    {
     "name": "stdout",
     "output_type": "stream",
     "text": [
      "Error executing notebook for China - CN081: \n",
      "---------------------------------------------------------------------------\n",
      "Exception encountered at \"In [3]\":\n",
      "---------------------------------------------------------------------------\n",
      "IndexError                                Traceback (most recent call last)\n",
      "~\\AppData\\Local\\Temp\\ipykernel_16948\\1121965526.py in ?()\n",
      "     11 regions_match = regions_match[regions_match['Country']==country_name].set_index('region')\n",
      "     12 plexos_region = regions_match.loc[state_name, 'plexos']\n",
      "     13 chu_plexos_match = pd.read_excel('../../../DATA/Chu et Hawkes/match_chu_plexos.xlsx', index_col=0)\n",
      "     14 \n",
      "---> 15 region_chu = chu_plexos_match[chu_plexos_match['Plexos']==plexos_region].iloc[0, 0]\n",
      "     16 print(region_chu)\n",
      "     17 country_codes = pd.read_csv('../countries_codes_and_coordinates_adapted.csv' , sep = ',', index_col = 0)\n",
      "     18 country_code = country_codes.loc[country_name,'Alpha-3 code'].split( ' ')[1]\n",
      "\n",
      "s:\\131-DPE\\131.1-Temporaire\\131.1.1-Espace commun\\zone transfert temporaire\\ITESE Grenoble\\Stage Justine\\Code git\\wavelet_decomposition\\.conda\\lib\\site-packages\\pandas\\core\\indexing.py in ?(self, key)\n",
      "   1179         if type(key) is tuple:\n",
      "   1180             key = tuple(list(x) if is_iterator(x) else x for x in key)\n",
      "   1181             key = tuple(com.apply_if_callable(x, self.obj) for x in key)\n",
      "   1182             if self._is_scalar_access(key):\n",
      "-> 1183                 return self.obj._get_value(*key, takeable=self._takeable)\n",
      "   1184             return self._getitem_tuple(key)\n",
      "   1185         else:\n",
      "   1186             # we by definition only have the 0th axis\n",
      "\n",
      "s:\\131-DPE\\131.1-Temporaire\\131.1.1-Espace commun\\zone transfert temporaire\\ITESE Grenoble\\Stage Justine\\Code git\\wavelet_decomposition\\.conda\\lib\\site-packages\\pandas\\core\\frame.py in ?(self, index, col, takeable)\n",
      "   4196         `self.columns._index_as_unique`; Caller is responsible for checking.\n",
      "   4197         \"\"\"\n",
      "   4198         if takeable:\n",
      "   4199             series = self._ixs(col, axis=1)\n",
      "-> 4200             return series._values[index]\n",
      "   4201 \n",
      "   4202         series = self._get_item_cache(col)\n",
      "   4203         engine = self.index._engine\n",
      "\n",
      "IndexError: index 0 is out of bounds for axis 0 with size 0\n",
      "\n",
      "Processing state: CN063, country: China\n",
      "China\n"
     ]
    },
    {
     "data": {
      "application/vnd.jupyter.widget-view+json": {
       "model_id": "c982a8cceabe4e15b896812f2ac134f6",
       "version_major": 2,
       "version_minor": 0
      },
      "text/plain": [
       "Executing:   0%|          | 0/32 [00:00<?, ?cell/s]"
      ]
     },
     "metadata": {},
     "output_type": "display_data"
    },
    {
     "name": "stderr",
     "output_type": "stream",
     "text": [
      "Passed unknown parameter: country_name\n",
      "Passed unknown parameter: state_name\n"
     ]
    },
    {
     "name": "stdout",
     "output_type": "stream",
     "text": [
      "Notebook executed for China - CN063\n",
      "Processing state: CN011, country: China\n",
      "China\n"
     ]
    },
    {
     "data": {
      "application/vnd.jupyter.widget-view+json": {
       "model_id": "267a8f4d6f654afb9fda5a54743fab0d",
       "version_major": 2,
       "version_minor": 0
      },
      "text/plain": [
       "Executing:   0%|          | 0/32 [00:00<?, ?cell/s]"
      ]
     },
     "metadata": {},
     "output_type": "display_data"
    },
    {
     "name": "stderr",
     "output_type": "stream",
     "text": [
      "Passed unknown parameter: country_name\n",
      "Passed unknown parameter: state_name\n"
     ]
    },
    {
     "name": "stdout",
     "output_type": "stream",
     "text": [
      "Notebook executed for China - CN011\n",
      "Processing state: CN011, country: China\n",
      "China\n",
      "China - CN011 already computed.\n",
      "Processing state: CN015, country: China\n",
      "China\n"
     ]
    },
    {
     "data": {
      "application/vnd.jupyter.widget-view+json": {
       "model_id": "87786dfa949645ec88073b682effef80",
       "version_major": 2,
       "version_minor": 0
      },
      "text/plain": [
       "Executing:   0%|          | 0/32 [00:00<?, ?cell/s]"
      ]
     },
     "metadata": {},
     "output_type": "display_data"
    },
    {
     "name": "stderr",
     "output_type": "stream",
     "text": [
      "Passed unknown parameter: country_name\n",
      "Passed unknown parameter: state_name\n"
     ]
    },
    {
     "name": "stdout",
     "output_type": "stream",
     "text": [
      "Notebook executed for China - CN015\n",
      "Processing state: CN042, country: China\n",
      "China\n"
     ]
    },
    {
     "data": {
      "application/vnd.jupyter.widget-view+json": {
       "model_id": "a855a7f110fc425c92f67ffccd5a4b09",
       "version_major": 2,
       "version_minor": 0
      },
      "text/plain": [
       "Executing:   0%|          | 0/32 [00:00<?, ?cell/s]"
      ]
     },
     "metadata": {},
     "output_type": "display_data"
    },
    {
     "name": "stderr",
     "output_type": "stream",
     "text": [
      "Passed unknown parameter: country_name\n",
      "Passed unknown parameter: state_name\n"
     ]
    },
    {
     "name": "stdout",
     "output_type": "stream",
     "text": [
      "Notebook executed for China - CN042\n",
      "Processing state: CN034, country: China\n",
      "China\n"
     ]
    },
    {
     "data": {
      "application/vnd.jupyter.widget-view+json": {
       "model_id": "bc4d1064760a4e43ac584d0142c0bf64",
       "version_major": 2,
       "version_minor": 0
      },
      "text/plain": [
       "Executing:   0%|          | 0/32 [00:00<?, ?cell/s]"
      ]
     },
     "metadata": {},
     "output_type": "display_data"
    },
    {
     "name": "stderr",
     "output_type": "stream",
     "text": [
      "Passed unknown parameter: country_name\n",
      "Passed unknown parameter: state_name\n"
     ]
    },
    {
     "name": "stdout",
     "output_type": "stream",
     "text": [
      "Notebook executed for China - CN034\n",
      "Processing state: CN052, country: China\n",
      "China\n"
     ]
    },
    {
     "data": {
      "application/vnd.jupyter.widget-view+json": {
       "model_id": "6a85bdc790dd47aaaf72c8a46cc3e366",
       "version_major": 2,
       "version_minor": 0
      },
      "text/plain": [
       "Executing:   0%|          | 0/32 [00:00<?, ?cell/s]"
      ]
     },
     "metadata": {},
     "output_type": "display_data"
    },
    {
     "name": "stderr",
     "output_type": "stream",
     "text": [
      "Passed unknown parameter: country_name\n",
      "Passed unknown parameter: state_name\n"
     ]
    },
    {
     "name": "stdout",
     "output_type": "stream",
     "text": [
      "Notebook executed for China - CN052\n",
      "Processing state: CN064, country: China\n",
      "China\n"
     ]
    },
    {
     "data": {
      "application/vnd.jupyter.widget-view+json": {
       "model_id": "c35f9e70372f4ef5848827a84df9266b",
       "version_major": 2,
       "version_minor": 0
      },
      "text/plain": [
       "Executing:   0%|          | 0/32 [00:00<?, ?cell/s]"
      ]
     },
     "metadata": {},
     "output_type": "display_data"
    },
    {
     "name": "stderr",
     "output_type": "stream",
     "text": [
      "Passed unknown parameter: country_name\n",
      "Passed unknown parameter: state_name\n"
     ]
    },
    {
     "name": "stdout",
     "output_type": "stream",
     "text": [
      "Notebook executed for China - CN064\n",
      "Processing state: CN032, country: China\n",
      "China\n"
     ]
    },
    {
     "data": {
      "application/vnd.jupyter.widget-view+json": {
       "model_id": "c2d42a734cda43999f8df21b2004d23d",
       "version_major": 2,
       "version_minor": 0
      },
      "text/plain": [
       "Executing:   0%|          | 0/32 [00:00<?, ?cell/s]"
      ]
     },
     "metadata": {},
     "output_type": "display_data"
    },
    {
     "name": "stderr",
     "output_type": "stream",
     "text": [
      "Passed unknown parameter: country_name\n",
      "Passed unknown parameter: state_name\n"
     ]
    },
    {
     "name": "stdout",
     "output_type": "stream",
     "text": [
      "Notebook executed for China - CN032\n",
      "Processing state: CN065, country: China\n",
      "China\n"
     ]
    },
    {
     "data": {
      "application/vnd.jupyter.widget-view+json": {
       "model_id": "912aec8052334e03a545b900d328f1af",
       "version_major": 2,
       "version_minor": 0
      },
      "text/plain": [
       "Executing:   0%|          | 0/32 [00:00<?, ?cell/s]"
      ]
     },
     "metadata": {},
     "output_type": "display_data"
    },
    {
     "name": "stderr",
     "output_type": "stream",
     "text": [
      "Passed unknown parameter: country_name\n",
      "Passed unknown parameter: state_name\n"
     ]
    },
    {
     "name": "stdout",
     "output_type": "stream",
     "text": [
      "Error executing notebook for China - CN065: \n",
      "---------------------------------------------------------------------------\n",
      "Exception encountered at \"In [3]\":\n",
      "---------------------------------------------------------------------------\n",
      "IndexError                                Traceback (most recent call last)\n",
      "~\\AppData\\Local\\Temp\\ipykernel_508\\1121965526.py in ?()\n",
      "     11 regions_match = regions_match[regions_match['Country']==country_name].set_index('region')\n",
      "     12 plexos_region = regions_match.loc[state_name, 'plexos']\n",
      "     13 chu_plexos_match = pd.read_excel('../../../DATA/Chu et Hawkes/match_chu_plexos.xlsx', index_col=0)\n",
      "     14 \n",
      "---> 15 region_chu = chu_plexos_match[chu_plexos_match['Plexos']==plexos_region].iloc[0, 0]\n",
      "     16 print(region_chu)\n",
      "     17 country_codes = pd.read_csv('../countries_codes_and_coordinates_adapted.csv' , sep = ',', index_col = 0)\n",
      "     18 country_code = country_codes.loc[country_name,'Alpha-3 code'].split( ' ')[1]\n",
      "\n",
      "s:\\131-DPE\\131.1-Temporaire\\131.1.1-Espace commun\\zone transfert temporaire\\ITESE Grenoble\\Stage Justine\\Code git\\wavelet_decomposition\\.conda\\lib\\site-packages\\pandas\\core\\indexing.py in ?(self, key)\n",
      "   1179         if type(key) is tuple:\n",
      "   1180             key = tuple(list(x) if is_iterator(x) else x for x in key)\n",
      "   1181             key = tuple(com.apply_if_callable(x, self.obj) for x in key)\n",
      "   1182             if self._is_scalar_access(key):\n",
      "-> 1183                 return self.obj._get_value(*key, takeable=self._takeable)\n",
      "   1184             return self._getitem_tuple(key)\n",
      "   1185         else:\n",
      "   1186             # we by definition only have the 0th axis\n",
      "\n",
      "s:\\131-DPE\\131.1-Temporaire\\131.1.1-Espace commun\\zone transfert temporaire\\ITESE Grenoble\\Stage Justine\\Code git\\wavelet_decomposition\\.conda\\lib\\site-packages\\pandas\\core\\frame.py in ?(self, index, col, takeable)\n",
      "   4196         `self.columns._index_as_unique`; Caller is responsible for checking.\n",
      "   4197         \"\"\"\n",
      "   4198         if takeable:\n",
      "   4199             series = self._ixs(col, axis=1)\n",
      "-> 4200             return series._values[index]\n",
      "   4201 \n",
      "   4202         series = self._get_item_cache(col)\n",
      "   4203         engine = self.index._engine\n",
      "\n",
      "IndexError: index 0 is out of bounds for axis 0 with size 0\n",
      "\n",
      "Processing state: CN014, country: China\n",
      "China\n"
     ]
    },
    {
     "data": {
      "application/vnd.jupyter.widget-view+json": {
       "model_id": "6d8392ed27f44711a3f5f39a8db65e90",
       "version_major": 2,
       "version_minor": 0
      },
      "text/plain": [
       "Executing:   0%|          | 0/32 [00:00<?, ?cell/s]"
      ]
     },
     "metadata": {},
     "output_type": "display_data"
    },
    {
     "name": "stderr",
     "output_type": "stream",
     "text": [
      "Passed unknown parameter: country_name\n",
      "Passed unknown parameter: state_name\n"
     ]
    },
    {
     "name": "stdout",
     "output_type": "stream",
     "text": [
      "Notebook executed for China - CN014\n",
      "Processing state: CN043, country: China\n",
      "China\n"
     ]
    },
    {
     "data": {
      "application/vnd.jupyter.widget-view+json": {
       "model_id": "d02530cb735640d5b374df2d2630c2d0",
       "version_major": 2,
       "version_minor": 0
      },
      "text/plain": [
       "Executing:   0%|          | 0/32 [00:00<?, ?cell/s]"
      ]
     },
     "metadata": {},
     "output_type": "display_data"
    },
    {
     "name": "stderr",
     "output_type": "stream",
     "text": [
      "Passed unknown parameter: country_name\n",
      "Passed unknown parameter: state_name\n"
     ]
    },
    {
     "name": "stdout",
     "output_type": "stream",
     "text": [
      "Notebook executed for China - CN043\n",
      "Processing state: CN051, country: China\n",
      "China\n"
     ]
    },
    {
     "data": {
      "application/vnd.jupyter.widget-view+json": {
       "model_id": "78d27d0122da4079b730743a1df5898f",
       "version_major": 2,
       "version_minor": 0
      },
      "text/plain": [
       "Executing:   0%|          | 0/32 [00:00<?, ?cell/s]"
      ]
     },
     "metadata": {},
     "output_type": "display_data"
    },
    {
     "name": "stderr",
     "output_type": "stream",
     "text": [
      "Passed unknown parameter: country_name\n",
      "Passed unknown parameter: state_name\n"
     ]
    },
    {
     "name": "stdout",
     "output_type": "stream",
     "text": [
      "Notebook executed for China - CN051\n",
      "Processing state: CN045, country: China\n",
      "China\n"
     ]
    },
    {
     "data": {
      "application/vnd.jupyter.widget-view+json": {
       "model_id": "cd99a92b9a734ba39c00d9ff1b8c4e85",
       "version_major": 2,
       "version_minor": 0
      },
      "text/plain": [
       "Executing:   0%|          | 0/32 [00:00<?, ?cell/s]"
      ]
     },
     "metadata": {},
     "output_type": "display_data"
    },
    {
     "name": "stderr",
     "output_type": "stream",
     "text": [
      "Passed unknown parameter: country_name\n",
      "Passed unknown parameter: state_name\n"
     ]
    },
    {
     "name": "stdout",
     "output_type": "stream",
     "text": [
      "Notebook executed for China - CN045\n",
      "Processing state: CN022, country: China\n",
      "China\n"
     ]
    },
    {
     "data": {
      "application/vnd.jupyter.widget-view+json": {
       "model_id": "9aa23fc59cfe44a0b6969ab99e6acb1c",
       "version_major": 2,
       "version_minor": 0
      },
      "text/plain": [
       "Executing:   0%|          | 0/32 [00:00<?, ?cell/s]"
      ]
     },
     "metadata": {},
     "output_type": "display_data"
    },
    {
     "name": "stderr",
     "output_type": "stream",
     "text": [
      "Passed unknown parameter: country_name\n",
      "Passed unknown parameter: state_name\n"
     ]
    },
    {
     "name": "stdout",
     "output_type": "stream",
     "text": [
      "Notebook executed for China - CN022\n",
      "Processing state: CN013, country: China\n",
      "China\n"
     ]
    },
    {
     "data": {
      "application/vnd.jupyter.widget-view+json": {
       "model_id": "0c89665ef4eb4360ba1d1aab936fe076",
       "version_major": 2,
       "version_minor": 0
      },
      "text/plain": [
       "Executing:   0%|          | 0/32 [00:00<?, ?cell/s]"
      ]
     },
     "metadata": {},
     "output_type": "display_data"
    },
    {
     "name": "stderr",
     "output_type": "stream",
     "text": [
      "Passed unknown parameter: country_name\n",
      "Passed unknown parameter: state_name\n"
     ]
    },
    {
     "name": "stdout",
     "output_type": "stream",
     "text": [
      "Notebook executed for China - CN013\n",
      "Processing state: CN012, country: China\n",
      "China\n"
     ]
    },
    {
     "data": {
      "application/vnd.jupyter.widget-view+json": {
       "model_id": "39b80086afd04e4d96fb8ad57bce1eb0",
       "version_major": 2,
       "version_minor": 0
      },
      "text/plain": [
       "Executing:   0%|          | 0/32 [00:00<?, ?cell/s]"
      ]
     },
     "metadata": {},
     "output_type": "display_data"
    },
    {
     "name": "stderr",
     "output_type": "stream",
     "text": [
      "Passed unknown parameter: country_name\n",
      "Passed unknown parameter: state_name\n"
     ]
    },
    {
     "name": "stdout",
     "output_type": "stream",
     "text": [
      "Notebook executed for China - CN012\n",
      "Processing state: CN044, country: China\n",
      "China\n"
     ]
    },
    {
     "data": {
      "application/vnd.jupyter.widget-view+json": {
       "model_id": "0e458f9c90d84f43ba61cf9f76c0ce6a",
       "version_major": 2,
       "version_minor": 0
      },
      "text/plain": [
       "Executing:   0%|          | 0/32 [00:00<?, ?cell/s]"
      ]
     },
     "metadata": {},
     "output_type": "display_data"
    },
    {
     "name": "stderr",
     "output_type": "stream",
     "text": [
      "Passed unknown parameter: country_name\n",
      "Passed unknown parameter: state_name\n"
     ]
    },
    {
     "name": "stdout",
     "output_type": "stream",
     "text": [
      "Notebook executed for China - CN044\n",
      "Processing state: CN035, country: China\n",
      "China\n"
     ]
    },
    {
     "data": {
      "application/vnd.jupyter.widget-view+json": {
       "model_id": "f953efe8402e4a12ab3f2a5e84497bac",
       "version_major": 2,
       "version_minor": 0
      },
      "text/plain": [
       "Executing:   0%|          | 0/32 [00:00<?, ?cell/s]"
      ]
     },
     "metadata": {},
     "output_type": "display_data"
    },
    {
     "name": "stderr",
     "output_type": "stream",
     "text": [
      "Passed unknown parameter: country_name\n",
      "Passed unknown parameter: state_name\n"
     ]
    },
    {
     "name": "stdout",
     "output_type": "stream",
     "text": [
      "Notebook executed for China - CN035\n",
      "Processing state: CN023, country: China\n",
      "China\n"
     ]
    },
    {
     "data": {
      "application/vnd.jupyter.widget-view+json": {
       "model_id": "8bb81d1b95414ba1877cea3ea5988b8c",
       "version_major": 2,
       "version_minor": 0
      },
      "text/plain": [
       "Executing:   0%|          | 0/32 [00:00<?, ?cell/s]"
      ]
     },
     "metadata": {},
     "output_type": "display_data"
    },
    {
     "name": "stderr",
     "output_type": "stream",
     "text": [
      "Passed unknown parameter: country_name\n",
      "Passed unknown parameter: state_name\n"
     ]
    },
    {
     "name": "stdout",
     "output_type": "stream",
     "text": [
      "Error executing notebook for China - CN023: \n",
      "---------------------------------------------------------------------------\n",
      "Exception encountered at \"In [3]\":\n",
      "---------------------------------------------------------------------------\n",
      "IndexError                                Traceback (most recent call last)\n",
      "~\\AppData\\Local\\Temp\\ipykernel_24052\\1121965526.py in ?()\n",
      "     11 regions_match = regions_match[regions_match['Country']==country_name].set_index('region')\n",
      "     12 plexos_region = regions_match.loc[state_name, 'plexos']\n",
      "     13 chu_plexos_match = pd.read_excel('../../../DATA/Chu et Hawkes/match_chu_plexos.xlsx', index_col=0)\n",
      "     14 \n",
      "---> 15 region_chu = chu_plexos_match[chu_plexos_match['Plexos']==plexos_region].iloc[0, 0]\n",
      "     16 print(region_chu)\n",
      "     17 country_codes = pd.read_csv('../countries_codes_and_coordinates_adapted.csv' , sep = ',', index_col = 0)\n",
      "     18 country_code = country_codes.loc[country_name,'Alpha-3 code'].split( ' ')[1]\n",
      "\n",
      "s:\\131-DPE\\131.1-Temporaire\\131.1.1-Espace commun\\zone transfert temporaire\\ITESE Grenoble\\Stage Justine\\Code git\\wavelet_decomposition\\.conda\\lib\\site-packages\\pandas\\core\\indexing.py in ?(self, key)\n",
      "   1179         if type(key) is tuple:\n",
      "   1180             key = tuple(list(x) if is_iterator(x) else x for x in key)\n",
      "   1181             key = tuple(com.apply_if_callable(x, self.obj) for x in key)\n",
      "   1182             if self._is_scalar_access(key):\n",
      "-> 1183                 return self.obj._get_value(*key, takeable=self._takeable)\n",
      "   1184             return self._getitem_tuple(key)\n",
      "   1185         else:\n",
      "   1186             # we by definition only have the 0th axis\n",
      "\n",
      "s:\\131-DPE\\131.1-Temporaire\\131.1.1-Espace commun\\zone transfert temporaire\\ITESE Grenoble\\Stage Justine\\Code git\\wavelet_decomposition\\.conda\\lib\\site-packages\\pandas\\core\\frame.py in ?(self, index, col, takeable)\n",
      "   4196         `self.columns._index_as_unique`; Caller is responsible for checking.\n",
      "   4197         \"\"\"\n",
      "   4198         if takeable:\n",
      "   4199             series = self._ixs(col, axis=1)\n",
      "-> 4200             return series._values[index]\n",
      "   4201 \n",
      "   4202         series = self._get_item_cache(col)\n",
      "   4203         engine = self.index._engine\n",
      "\n",
      "IndexError: index 0 is out of bounds for axis 0 with size 0\n",
      "\n",
      "Processing state: CN041, country: China\n",
      "China\n"
     ]
    },
    {
     "data": {
      "application/vnd.jupyter.widget-view+json": {
       "model_id": "5483c4a4bbad4d42abae16718f35256c",
       "version_major": 2,
       "version_minor": 0
      },
      "text/plain": [
       "Executing:   0%|          | 0/32 [00:00<?, ?cell/s]"
      ]
     },
     "metadata": {},
     "output_type": "display_data"
    },
    {
     "name": "stderr",
     "output_type": "stream",
     "text": [
      "Passed unknown parameter: country_name\n",
      "Passed unknown parameter: state_name\n"
     ]
    },
    {
     "name": "stdout",
     "output_type": "stream",
     "text": [
      "Notebook executed for China - CN041\n",
      "Processing state: CN046, country: China\n",
      "China\n"
     ]
    },
    {
     "data": {
      "application/vnd.jupyter.widget-view+json": {
       "model_id": "822a3aa9801349e6981d34d9c682044d",
       "version_major": 2,
       "version_minor": 0
      },
      "text/plain": [
       "Executing:   0%|          | 0/32 [00:00<?, ?cell/s]"
      ]
     },
     "metadata": {},
     "output_type": "display_data"
    },
    {
     "name": "stdout",
     "output_type": "stream",
     "text": [
      "Notebook executed for China - CN046\n"
     ]
    }
   ],
   "source": [
    "# Define the input notebook, output notebook, parameter name, and parameter value\n",
    "input_notebook = '1g_run_optimization_grid_chu.ipynb'\n",
    "output_notebook = '1g_run_optimization_grid_chu_1.ipynb'\n",
    "c = 'China'\n",
    "for s in china_province_abbreviations : \n",
    "   parameters = {'country_name': c,\n",
    "                  'state_name' : s}\n",
    "   print(f\"Processing state: {s}, country: {c}\")\n",
    "\n",
    "   # Run the notebook with the new parameters\n",
    "   already_computed = pd.read_csv('results/optimization_results_CHU_world_grid_with_states.csv')\n",
    "\n",
    "   if c in already_computed['Country'].values:\n",
    "      print(c)\n",
    "      computed_states = already_computed[already_computed['Country'] == c]['State'].values\n",
    "      if s in computed_states:\n",
    "         print(f\"{c} - {s} already computed.\")\n",
    "         continue\n",
    "   try :\n",
    "      pm.execute_notebook(\n",
    "         input_notebook,\n",
    "         output_notebook,\n",
    "         parameters=parameters\n",
    "      )\n",
    "      print(f\"Notebook executed for {c} - {s}\")\n",
    "   except Exception as e:\n",
    "        print(f\"Error executing notebook for {c} - {s}: {e}\")"
   ]
  },
  {
   "cell_type": "code",
   "execution_count": null,
   "metadata": {},
   "outputs": [],
   "source": [
    "regions_chu = chu_plexos_match[chu_plexos_match['Plexos']==state_name]\n",
    "country_codes = pd.read_csv('../countries_codes_and_coordinates_adapted.csv' , sep = ',', index_col = 0)"
   ]
  },
  {
   "cell_type": "code",
   "execution_count": 1,
   "metadata": {},
   "outputs": [
    {
     "ename": "NameError",
     "evalue": "name 'pd' is not defined",
     "output_type": "error",
     "traceback": [
      "\u001b[1;31m---------------------------------------------------------------------------\u001b[0m",
      "\u001b[1;31mNameError\u001b[0m                                 Traceback (most recent call last)",
      "Cell \u001b[1;32mIn[1], line 1\u001b[0m\n\u001b[1;32m----> 1\u001b[0m country_codes \u001b[39m=\u001b[39m pd\u001b[39m.\u001b[39mread_csv(\u001b[39m'\u001b[39m\u001b[39m../countries_codes_and_coordinates.csv\u001b[39m\u001b[39m'\u001b[39m , sep \u001b[39m=\u001b[39m \u001b[39m'\u001b[39m\u001b[39m,\u001b[39m\u001b[39m'\u001b[39m, index_col \u001b[39m=\u001b[39m \u001b[39m0\u001b[39m)\n\u001b[0;32m      2\u001b[0m data \u001b[39m=\u001b[39m pd\u001b[39m.\u001b[39mread_csv(\u001b[39m'\u001b[39m\u001b[39m../input_time_series/All Demand UTC 2015.csv\u001b[39m\u001b[39m'\u001b[39m, index_col \u001b[39m=\u001b[39m\u001b[39m0\u001b[39m)\n\u001b[0;32m      3\u001b[0m iso_code_list \u001b[39m=\u001b[39m []\n",
      "\u001b[1;31mNameError\u001b[0m: name 'pd' is not defined"
     ]
    }
   ],
   "source": [
    "country_codes = pd.read_csv('../countries_codes_and_coordinates.csv' , sep = ',', index_col = 0)\n",
    "data = pd.read_csv('../input_time_series/All Demand UTC 2015.csv', index_col =0)\n",
    "iso_code_list = []\n",
    "for c in data.columns :\n",
    "    iso_code = c.split('-')[-1]\n",
    "    iso_code_list.append(iso_code)\n",
    "\n",
    "for c in country_codes.index :\n",
    "    name = str(country_codes.loc[c,['Alpha-3 code']].iloc[0])\n",
    "    print(name)\n",
    "    country_codes.loc[c,['Alpha-3 code']]=name.split(' ')[-1]\n",
    "\n",
    "country_codes_new = country_codes[country_codes['Alpha-3 code'].isin(iso_code_list)]"
   ]
  },
  {
   "cell_type": "code",
   "execution_count": 14,
   "metadata": {},
   "outputs": [
    {
     "data": {
      "text/plain": [
       "Alpha-2 code             ES\n",
       "Alpha-3 code            ESP\n",
       "Numeric code            724\n",
       "Latitude (average)     40.0\n",
       "Longitude (average)    -4.0\n",
       "Name: Spain, dtype: object"
      ]
     },
     "execution_count": 14,
     "metadata": {},
     "output_type": "execute_result"
    }
   ],
   "source": [
    "country_codes_new.loc['Spain']"
   ]
  },
  {
   "cell_type": "code",
   "execution_count": 15,
   "metadata": {},
   "outputs": [
    {
     "data": {
      "text/html": [
       "<div>\n",
       "<style scoped>\n",
       "    .dataframe tbody tr th:only-of-type {\n",
       "        vertical-align: middle;\n",
       "    }\n",
       "\n",
       "    .dataframe tbody tr th {\n",
       "        vertical-align: top;\n",
       "    }\n",
       "\n",
       "    .dataframe thead th {\n",
       "        text-align: right;\n",
       "    }\n",
       "</style>\n",
       "<table border=\"1\" class=\"dataframe\">\n",
       "  <thead>\n",
       "    <tr style=\"text-align: right;\">\n",
       "      <th></th>\n",
       "      <th>Alpha-2 code</th>\n",
       "      <th>Alpha-3 code</th>\n",
       "      <th>Numeric code</th>\n",
       "      <th>Latitude (average)</th>\n",
       "      <th>Longitude (average)</th>\n",
       "    </tr>\n",
       "    <tr>\n",
       "      <th>Country</th>\n",
       "      <th></th>\n",
       "      <th></th>\n",
       "      <th></th>\n",
       "      <th></th>\n",
       "      <th></th>\n",
       "    </tr>\n",
       "  </thead>\n",
       "  <tbody>\n",
       "    <tr>\n",
       "      <th>Afghanistan</th>\n",
       "      <td>AF</td>\n",
       "      <td>AFG</td>\n",
       "      <td>4</td>\n",
       "      <td>33.0000</td>\n",
       "      <td>65.0</td>\n",
       "    </tr>\n",
       "    <tr>\n",
       "      <th>Albania</th>\n",
       "      <td>AL</td>\n",
       "      <td>ALB</td>\n",
       "      <td>8</td>\n",
       "      <td>41.0000</td>\n",
       "      <td>20.0</td>\n",
       "    </tr>\n",
       "    <tr>\n",
       "      <th>Algeria</th>\n",
       "      <td>DZ</td>\n",
       "      <td>DZA</td>\n",
       "      <td>12</td>\n",
       "      <td>28.0000</td>\n",
       "      <td>3.0</td>\n",
       "    </tr>\n",
       "    <tr>\n",
       "      <th>American Samoa</th>\n",
       "      <td>AS</td>\n",
       "      <td>ASM</td>\n",
       "      <td>16</td>\n",
       "      <td>-14.3333</td>\n",
       "      <td>-170.0</td>\n",
       "    </tr>\n",
       "    <tr>\n",
       "      <th>Andorra</th>\n",
       "      <td>AD</td>\n",
       "      <td>AND</td>\n",
       "      <td>20</td>\n",
       "      <td>42.5000</td>\n",
       "      <td>1.6</td>\n",
       "    </tr>\n",
       "    <tr>\n",
       "      <th>...</th>\n",
       "      <td>...</td>\n",
       "      <td>...</td>\n",
       "      <td>...</td>\n",
       "      <td>...</td>\n",
       "      <td>...</td>\n",
       "    </tr>\n",
       "    <tr>\n",
       "      <th>Wallis and Futuna</th>\n",
       "      <td>WF</td>\n",
       "      <td>WLF</td>\n",
       "      <td>876</td>\n",
       "      <td>-13.3000</td>\n",
       "      <td>-176.2</td>\n",
       "    </tr>\n",
       "    <tr>\n",
       "      <th>Western Sahara</th>\n",
       "      <td>EH</td>\n",
       "      <td>ESH</td>\n",
       "      <td>732</td>\n",
       "      <td>24.5000</td>\n",
       "      <td>-13.0</td>\n",
       "    </tr>\n",
       "    <tr>\n",
       "      <th>Yemen</th>\n",
       "      <td>YE</td>\n",
       "      <td>YEM</td>\n",
       "      <td>887</td>\n",
       "      <td>15.0000</td>\n",
       "      <td>48.0</td>\n",
       "    </tr>\n",
       "    <tr>\n",
       "      <th>Zambia</th>\n",
       "      <td>ZM</td>\n",
       "      <td>ZMB</td>\n",
       "      <td>894</td>\n",
       "      <td>-15.0000</td>\n",
       "      <td>30.0</td>\n",
       "    </tr>\n",
       "    <tr>\n",
       "      <th>Zimbabwe</th>\n",
       "      <td>ZW</td>\n",
       "      <td>ZWE</td>\n",
       "      <td>716</td>\n",
       "      <td>-20.0000</td>\n",
       "      <td>30.0</td>\n",
       "    </tr>\n",
       "  </tbody>\n",
       "</table>\n",
       "<p>244 rows × 5 columns</p>\n",
       "</div>"
      ],
      "text/plain": [
       "                  Alpha-2 code Alpha-3 code  Numeric code  Latitude (average)  \\\n",
       "Country                                                                         \n",
       "Afghanistan                 AF          AFG             4             33.0000   \n",
       "Albania                     AL          ALB             8             41.0000   \n",
       "Algeria                     DZ          DZA            12             28.0000   \n",
       "American Samoa              AS          ASM            16            -14.3333   \n",
       "Andorra                     AD          AND            20             42.5000   \n",
       "...                        ...          ...           ...                 ...   \n",
       "Wallis and Futuna           WF          WLF           876            -13.3000   \n",
       "Western Sahara              EH          ESH           732             24.5000   \n",
       "Yemen                       YE          YEM           887             15.0000   \n",
       "Zambia                      ZM          ZMB           894            -15.0000   \n",
       "Zimbabwe                    ZW          ZWE           716            -20.0000   \n",
       "\n",
       "                   Longitude (average)  \n",
       "Country                                 \n",
       "Afghanistan                       65.0  \n",
       "Albania                           20.0  \n",
       "Algeria                            3.0  \n",
       "American Samoa                  -170.0  \n",
       "Andorra                            1.6  \n",
       "...                                ...  \n",
       "Wallis and Futuna               -176.2  \n",
       "Western Sahara                   -13.0  \n",
       "Yemen                             48.0  \n",
       "Zambia                            30.0  \n",
       "Zimbabwe                          30.0  \n",
       "\n",
       "[244 rows x 5 columns]"
      ]
     },
     "execution_count": 15,
     "metadata": {},
     "output_type": "execute_result"
    }
   ],
   "source": [
    "country_codes"
   ]
  },
  {
   "cell_type": "code",
   "execution_count": null,
   "metadata": {},
   "outputs": [],
   "source": []
  }
 ],
 "metadata": {
  "kernelspec": {
   "display_name": "Python 3",
   "language": "python",
   "name": "python3"
  },
  "language_info": {
   "codemirror_mode": {
    "name": "ipython",
    "version": 3
   },
   "file_extension": ".py",
   "mimetype": "text/x-python",
   "name": "python",
   "nbconvert_exporter": "python",
   "pygments_lexer": "ipython3",
   "version": "3.10.13"
  },
  "orig_nbformat": 4
 },
 "nbformat": 4,
 "nbformat_minor": 2
}
