{
 "cells": [
  {
   "cell_type": "code",
   "execution_count": 1,
   "metadata": {},
   "outputs": [],
   "source": [
    "import pandas as pd\n",
    "import os\n",
    "import sys\n",
    "import subprocess\n",
    "import papermill as pm\n",
    "\n",
    "sys.path.insert(0,'./optim_mix')\n"
   ]
  },
  {
   "cell_type": "code",
   "execution_count": 2,
   "metadata": {},
   "outputs": [],
   "source": [
    "countries = pd.read_csv('../countries_codes_and_coordinates_adapted.csv' , sep = ',', index_col = 0).index.to_list()"
   ]
  },
  {
   "cell_type": "code",
   "execution_count": 6,
   "metadata": {},
   "outputs": [
    {
     "name": "stderr",
     "output_type": "stream",
     "text": [
      "Passed unknown parameter: country_name\n"
     ]
    },
    {
     "name": "stdout",
     "output_type": "stream",
     "text": [
      "India already computed.\n",
      "Indonesia already computed.\n"
     ]
    },
    {
     "data": {
      "application/vnd.jupyter.widget-view+json": {
       "model_id": "769746561b9347d988716d85a9f44663",
       "version_major": 2,
       "version_minor": 0
      },
      "text/plain": [
       "Executing:   0%|          | 0/31 [00:00<?, ?cell/s]"
      ]
     },
     "metadata": {},
     "output_type": "display_data"
    },
    {
     "name": "stderr",
     "output_type": "stream",
     "text": [
      "Passed unknown parameter: country_name\n"
     ]
    },
    {
     "name": "stdout",
     "output_type": "stream",
     "text": [
      "Unknown country name Iran Islamic Republic of in Plexos\n",
      "Iraq already computed.\n",
      "Ireland already computed.\n"
     ]
    },
    {
     "data": {
      "application/vnd.jupyter.widget-view+json": {
       "model_id": "d4d96dfc90e54afb8b066c35d0daf6f9",
       "version_major": 2,
       "version_minor": 0
      },
      "text/plain": [
       "Executing:   0%|          | 0/31 [00:00<?, ?cell/s]"
      ]
     },
     "metadata": {},
     "output_type": "display_data"
    },
    {
     "name": "stdout",
     "output_type": "stream",
     "text": [
      "Unknown country name Israel in Plexos\n",
      "Italy already computed.\n",
      "Jamaica already computed.\n",
      "Japan already computed.\n",
      "Jordan already computed.\n"
     ]
    }
   ],
   "source": [
    "# Define the input notebook, output notebook, parameter name, and parameter value\n",
    "input_notebook = '1b_run_optimization_grid.ipynb'\n",
    "output_notebook = '1b_run_optimization_grid_1.ipynb'\n",
    "\n",
    "for c in countries[70:80] : \n",
    "   parameters = {'country_name': c}\n",
    "   # Run the notebook with the new parameters\n",
    "   already_computed = pd.read_csv('results/optimization_results_world_grid.csv')\n",
    "   if c in already_computed['Country'].to_list():\n",
    "      print(f'{c} already computed.')\n",
    "      continue\n",
    "   try :\n",
    "      pm.execute_notebook(\n",
    "         input_notebook,\n",
    "         output_notebook,\n",
    "         parameters=parameters\n",
    "      )\n",
    "   except : \n",
    "      print(f'Unknown country name {c} in Plexos')"
   ]
  },
  {
   "cell_type": "code",
   "execution_count": null,
   "metadata": {},
   "outputs": [],
   "source": []
  }
 ],
 "metadata": {
  "kernelspec": {
   "display_name": "Python 3",
   "language": "python",
   "name": "python3"
  },
  "language_info": {
   "codemirror_mode": {
    "name": "ipython",
    "version": 3
   },
   "file_extension": ".py",
   "mimetype": "text/x-python",
   "name": "python",
   "nbconvert_exporter": "python",
   "pygments_lexer": "ipython3",
   "version": "3.10.13"
  },
  "orig_nbformat": 4
 },
 "nbformat": 4,
 "nbformat_minor": 2
}
