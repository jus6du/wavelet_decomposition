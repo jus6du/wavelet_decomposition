{
 "cells": [
  {
   "cell_type": "code",
   "execution_count": 1,
   "id": "b152ca2c",
   "metadata": {
    "execution": {
     "iopub.execute_input": "2024-06-05T08:06:09.213307Z",
     "iopub.status.busy": "2024-06-05T08:06:09.211778Z",
     "iopub.status.idle": "2024-06-05T08:06:09.256187Z",
     "shell.execute_reply": "2024-06-05T08:06:09.253661Z"
    },
    "papermill": {
     "duration": 0.085039,
     "end_time": "2024-06-05T08:06:09.261044",
     "exception": false,
     "start_time": "2024-06-05T08:06:09.176005",
     "status": "completed"
    },
    "tags": [
     "injected-parameters"
    ]
   },
   "outputs": [],
   "source": [
    "# Parameters\n",
    "country_name = \"Zimbabwe\"\n"
   ]
  },
  {
   "cell_type": "markdown",
   "id": "15af41b4",
   "metadata": {
    "papermill": {
     "duration": 0.028189,
     "end_time": "2024-06-05T08:06:09.313118",
     "exception": false,
     "start_time": "2024-06-05T08:06:09.284929",
     "status": "completed"
    },
    "tags": []
   },
   "source": [
    "# Optimization Problem Time Series"
   ]
  },
  {
   "cell_type": "markdown",
   "id": "b4bdf036",
   "metadata": {
    "papermill": {
     "duration": 0.022517,
     "end_time": "2024-06-05T08:06:09.366938",
     "exception": false,
     "start_time": "2024-06-05T08:06:09.344421",
     "status": "completed"
    },
    "tags": []
   },
   "source": [
    "This notebook optimizes an electrci mix based on : \n",
    "- an electricity demand time serie\n",
    "- a PV production time serie\n",
    "- a wind production time serie"
   ]
  },
  {
   "cell_type": "code",
   "execution_count": 6,
   "id": "c37d952c",
   "metadata": {
    "execution": {
     "iopub.execute_input": "2024-06-05T08:06:09.428376Z",
     "iopub.status.busy": "2024-06-05T08:06:09.427275Z",
     "iopub.status.idle": "2024-06-05T08:06:38.022927Z",
     "shell.execute_reply": "2024-06-05T08:06:38.021009Z"
    },
    "papermill": {
     "duration": 28.635461,
     "end_time": "2024-06-05T08:06:38.028004",
     "exception": false,
     "start_time": "2024-06-05T08:06:09.392543",
     "status": "completed"
    },
    "tags": []
   },
   "outputs": [],
   "source": [
    "import numpy as np\n",
    "import pandas as pd\n",
    "from scipy.optimize import minimize\n",
    "from pulp import *\n",
    "import sys\n",
    "from utilities import import_excel, optimize_enr_chu, format_load_data\n",
    "import plotly.graph_objects as go\n",
    "import plotly.express as px\n",
    "import pickle\n",
    "from ren_ninja_api import fetch_and_average_data_ren_ninja, get_regular_coordinates\n",
    "import plotly.io as pio\n",
    "import os\n",
    "import glob\n",
    "import geopandas as gpd\n",
    "import matplotlib.pyplot as plt\n",
    "pio.renderers.default='notebook'"
   ]
  },
  {
   "cell_type": "markdown",
   "id": "402479c1",
   "metadata": {
    "papermill": {
     "duration": 0.022923,
     "end_time": "2024-06-05T08:06:38.245271",
     "exception": false,
     "start_time": "2024-06-05T08:06:38.222348",
     "status": "completed"
    },
    "tags": []
   },
   "source": [
    "Enter country name for file naming: "
   ]
  },
  {
   "cell_type": "code",
   "execution_count": 22,
   "id": "f45f9276",
   "metadata": {
    "execution": {
     "iopub.execute_input": "2024-06-05T08:06:38.293677Z",
     "iopub.status.busy": "2024-06-05T08:06:38.292676Z",
     "iopub.status.idle": "2024-06-05T08:06:38.315916Z",
     "shell.execute_reply": "2024-06-05T08:06:38.313147Z"
    },
    "papermill": {
     "duration": 0.050945,
     "end_time": "2024-06-05T08:06:38.319432",
     "exception": false,
     "start_time": "2024-06-05T08:06:38.268487",
     "status": "completed"
    },
    "tags": []
   },
   "outputs": [
    {
     "name": "stdout",
     "output_type": "stream",
     "text": [
      "NO\n"
     ]
    }
   ],
   "source": [
    "year = 2021\n",
    "# country_name = 'Canada'\n",
    "# state_name = 'NU'\n",
    "country_name = country_name\n",
    "state_name = state_name\n",
    "# Directory path\n",
    "path_input_data = '../input_time_series/'\n",
    "mode = 'grid'\n",
    "regions_match = pd.read_excel('match_plexos_iso_codes.xlsx')\n",
    "\n",
    "regions_match = regions_match[regions_match['Country']==country_name].set_index('region')\n",
    "plexos_region = regions_match.loc[state_name, 'plexos']\n",
    "chu_plexos_match = pd.read_excel('../../../DATA/Chu et Hawkes/match_chu_plexos.xlsx', index_col=0)\n",
    "\n",
    "region_chu = chu_plexos_match[chu_plexos_match['Plexos']==plexos_region].iloc[0, 0]\n",
    "print(region_chu)\n",
    "country_codes = pd.read_csv('../countries_codes_and_coordinates_adapted.csv' , sep = ',', index_col = 0)\n",
    "country_code = country_codes.loc[country_name,'Alpha-3 code'].split( ' ')[1]"
   ]
  },
  {
   "cell_type": "code",
   "execution_count": 12,
   "id": "881d3a21",
   "metadata": {},
   "outputs": [],
   "source": [
    "# for code in chu_plexos_match.index:\n",
    "#     if len(chu_plexos_match.loc[code,'Plexos'])==3:\n",
    "#         chu_plexos_match.loc[code, 'iso_alpha3']= code.split('.')[0]\n",
    "#         chu_plexos_match.loc[code,'Plexos']=''\n",
    "#     else: \n",
    "#         chu_plexos_match.loc[code, 'iso_alpha3']= code.split('.')[0]\n",
    "        \n",
    "# chu_plexos_match.to_excel('../../../DATA/Chu et Hawkes/match_chu_plexos.xlsx')"
   ]
  },
  {
   "cell_type": "markdown",
   "id": "9358fa37",
   "metadata": {},
   "source": [
    "# Optimisation"
   ]
  },
  {
   "cell_type": "markdown",
   "id": "6f1c8714",
   "metadata": {
    "papermill": {
     "duration": 0.027604,
     "end_time": "2024-06-05T08:06:38.372038",
     "exception": false,
     "start_time": "2024-06-05T08:06:38.344434",
     "status": "completed"
    },
    "tags": []
   },
   "source": [
    "### Load Time Series\n",
    "\n",
    "First we load the time series that will be used in the problem. We use the  ```import_excel``` function used in the wavelet decomposition."
   ]
  },
  {
   "cell_type": "markdown",
   "id": "0997904d",
   "metadata": {
    "papermill": {
     "duration": 0.024349,
     "end_time": "2024-06-05T08:06:38.427493",
     "exception": false,
     "start_time": "2024-06-05T08:06:38.403144",
     "status": "completed"
    },
    "tags": []
   },
   "source": [
    "#### Demand"
   ]
  },
  {
   "cell_type": "code",
   "execution_count": 13,
   "id": "0759aa82",
   "metadata": {
    "execution": {
     "iopub.execute_input": "2024-06-05T08:06:38.483709Z",
     "iopub.status.busy": "2024-06-05T08:06:38.482623Z",
     "iopub.status.idle": "2024-06-05T08:06:42.439479Z",
     "shell.execute_reply": "2024-06-05T08:06:42.437602Z"
    },
    "papermill": {
     "duration": 3.991471,
     "end_time": "2024-06-05T08:06:42.444934",
     "exception": false,
     "start_time": "2024-06-05T08:06:38.453463",
     "status": "completed"
    },
    "tags": []
   },
   "outputs": [],
   "source": [
    "# Demand time serie\n",
    "\n",
    "dpd = 24 # data per day in the time serie\n",
    "dpy = 365 # data per year :  cut the leap years to 365 years\n",
    "\n",
    "ndpd = 24 # new data per day for hourly data (for the interpolation)\n",
    "signal_length = ndpd * dpy\n",
    "region_name = regions_match.loc[state_name, 'plexos']\n",
    "file_name = format_load_data(country_name, state_name = region_name)\n",
    "Load_ts = import_excel(path_input_data,file_name, \n",
    "                                    dpd ,ndpd, dpy, \n",
    "                                    interp=True, norm = 'mean') # interpolate data from dpd to ndpd numper of points per day\n",
    "# Répéter la série temporelle 10 fois\n",
    "serie_temporelle_rep = np.tile(Load_ts, 10)\n",
    "\n",
    "# Créer un DataFrame à partir de la série temporelle répétée\n",
    "Load_ts = serie_temporelle_rep\n",
    "mean_load = pd.read_excel(path_input_data+file_name).mean().iloc[0]"
   ]
  },
  {
   "cell_type": "markdown",
   "id": "5847a57e",
   "metadata": {
    "papermill": {
     "duration": 0.023235,
     "end_time": "2024-06-05T08:06:42.493296",
     "exception": false,
     "start_time": "2024-06-05T08:06:42.470061",
     "status": "completed"
    },
    "tags": []
   },
   "source": [
    "#### Wind production"
   ]
  },
  {
   "cell_type": "code",
   "execution_count": 14,
   "id": "66073ca5",
   "metadata": {},
   "outputs": [],
   "source": [
    "# Wind time serie \n",
    "\n",
    "dpd = 24 # data per day\n",
    "dpy = 365 # data per year :  cut the leap years to 365 years\n",
    "\n",
    "# We interpolate so that we have hourly data\n",
    "ndpd = 24 # new data per day for hourly data (for the interpolation)\n",
    "signal_length = ndpd * dpy\n",
    "\n",
    "path_input_data = '../input_time_series/'\n",
    "if state_name: \n",
    "    file_name = f'{country_name}/{country_code}_{region_chu}_wind_onshore_10y.xlsx'\n",
    "    if not os.path.exists(path_input_data+f'{country_name}/{country_code}_{region_chu}_wind_onshore_10y.xlsx'):  \n",
    "        print('here')\n",
    "        file_name = f'{country_name}/{country_code}_{region_chu}_chu_wind_onshore_averaged.xlsx'\n",
    "        df = pd.read_excel(path_input_data+file_name, index_col=0)\n",
    "        \n",
    "        time_series = pd.concat([df[col] for col in df.columns], ignore_index=True)\n",
    "        result_df = pd.DataFrame({'Time Series': time_series})\n",
    "\n",
    "        # Sauvegarder le résultat dans un nouveau fichier Excel\n",
    "        result_df.to_excel(path_input_data+f'{country_name}/{country_code}_{region_chu}_wind_onshore_10y.xlsx', index=False)\n",
    "        file_name = f'{country_name}/{country_code}_{region_chu}_wind_onshore_10y.xlsx'\n",
    "else:\n",
    "    file_name = f'{country_name}/{country_code}_full_wind_onshore_10y.xlsx'\n",
    "    if not os.path.exists(path_input_data+f'{country_name}/{country_code}_full_wind_onshore_10y.xlsx'):\n",
    "        file_name = f'{country_name}/{country_code}_full_chu_wind_onshore_averaged.xlsx'\n",
    "        df = pd.read_excel(path_input_data+file_name, index_col=0)\n",
    "\n",
    "        time_series = pd.concat([df[col] for col in df.columns], ignore_index=True)\n",
    "        result_df = pd.DataFrame({'Time Series': time_series})\n",
    "\n",
    "        # Sauvegarder le résultat dans un nouveau fichier Excel\n",
    "        result_df.to_excel(path_input_data+f'{country_name}/{country_code}_full_wind_onshore_10y.xlsx', index=False)\n",
    "        file_name = f'{country_name}/{country_code}_full_wind_onshore_10y.xlsx'\n",
    "Wind_ts = import_excel(path_input_data,file_name, \n",
    "                                dpd ,ndpd, dpy, \n",
    "                                interp=True, norm = None) # interpolate data from dpd to ndpd numper of points per day\n",
    "\n",
    "mean_wind = pd.read_excel(path_input_data+file_name).mean().iloc[0]"
   ]
  },
  {
   "cell_type": "markdown",
   "id": "06ef39aa",
   "metadata": {},
   "source": [
    "#### PV production"
   ]
  },
  {
   "cell_type": "code",
   "execution_count": 15,
   "id": "02e8bebd",
   "metadata": {},
   "outputs": [],
   "source": [
    "# PV time serie \n",
    "\n",
    "dpd = 24 # data per day\n",
    "dpy = 365 # data per year :  cut the leap years to 365 years\n",
    "\n",
    "# We interpolate so that we have hourly data\n",
    "ndpd = 24 # new data per day for hourly data (for the interpolation)\n",
    "signal_length = ndpd * dpy\n",
    "\n",
    "path_input_data = '../input_time_series/'\n",
    "if state_name: \n",
    "    file_name = f'{country_name}/{country_code}_{region_chu}_pv_fixed_10y.xlsx'\n",
    "    if not os.path.exists(path_input_data+file_name):  \n",
    "        file_name = f'{country_name}/{country_code}_{region_chu}_pv_fixed_aggregated.xlsx'\n",
    "        df = pd.read_excel(path_input_data+file_name, index_col=0)\n",
    "\n",
    "        time_series = pd.concat([df[col] for col in df.columns], ignore_index=True)\n",
    "        result_df = pd.DataFrame({'Time Series': time_series})\n",
    "\n",
    "        # Sauvegarder le résultat dans un nouveau fichier Excel\n",
    "        result_df.to_excel(path_input_data+f'{country_name}/{country_code}_{region_chu}_pv_fixed_10y.xlsx', index=False)\n",
    "        file_name = f'{country_name}/{country_code}_{region_chu}_pv_fixed_10y.xlsx'\n",
    "else:\n",
    "    file_name =f'{country_name}/{country_code}_full_pv_fixed_10y.xlsx'\n",
    "    if not os.path.exists(path_input_data+file_name):\n",
    "        file_name = f'{country_name}/{country_code}_full_chu_pv_fixed_averaged.xlsx'\n",
    "        df = pd.read_excel(path_input_data+file_name, index_col=0)\n",
    "\n",
    "        time_series = pd.concat([df[col] for col in df.columns], ignore_index=True)\n",
    "        result_df = pd.DataFrame({'Time Series': time_series})\n",
    "\n",
    "        # Sauvegarder le résultat dans un nouveau fichier Excel\n",
    "        result_df.to_excel(path_input_data+f'{country_name}/{country_code}_full_pv_fixed_10y.xlsx', index=False)\n",
    "        \n",
    "PV_ts = import_excel(path_input_data,file_name, \n",
    "                                dpd ,ndpd, dpy, \n",
    "                                interp=True, norm = None) # interpolate data from dpd to ndpd numper of points per day\n",
    "\n",
    "mean_pv = pd.read_excel(path_input_data+file_name).mean().iloc[0]"
   ]
  },
  {
   "cell_type": "markdown",
   "id": "71081a97",
   "metadata": {},
   "source": [
    "### Plot Time Series"
   ]
  },
  {
   "cell_type": "code",
   "execution_count": 20,
   "id": "c4b5d967",
   "metadata": {},
   "outputs": [],
   "source": [
    "# colors_dict = {\n",
    "#     'Wind': 'steelblue',        \n",
    "#     'PV': 'gold',\n",
    "#     'Discharge': 'orangered',    \n",
    "#     'SOC': 'darkgreen',           \n",
    "#     'Charge': 'purple',\n",
    "#     'Consumption': 'green',          \n",
    "#     'Dispatchable': 'crimson',       \n",
    "#     'Curtailment': 'cyan'    \n",
    "# }"
   ]
  },
  {
   "cell_type": "code",
   "execution_count": 21,
   "id": "b4cd1103",
   "metadata": {},
   "outputs": [],
   "source": [
    "# # Create a Plotly figure\n",
    "# fig = go.Figure()\n",
    "\n",
    "# fig.add_trace(go.Scatter(y=PV_ts, mode='lines', name='PV',marker=dict(color=colors_dict['PV'])))\n",
    "# fig.add_trace(go.Scatter(y=Load_ts, mode='lines', name='Demand',marker=dict(color=colors_dict['Consumption'])))\n",
    "# fig.add_trace(go.Scatter(y=Wind_ts, mode='lines', name='Wind',marker=dict(color=colors_dict['Wind'])))\n",
    "# fig.update_layout(title=f'{country_name} {state_name} 2021', xaxis_title='Hour', yaxis_title='Power normalized')\n",
    "\n",
    "# # Show the plot\n",
    "# fig.show()"
   ]
  },
  {
   "cell_type": "markdown",
   "id": "33860939",
   "metadata": {},
   "source": [
    "### Description of the problem"
   ]
  },
  {
   "cell_type": "markdown",
   "id": "9189f115",
   "metadata": {},
   "source": [
    "#### Equations:\n",
    "\n",
    "- **Objective function** : \n",
    "  - Minimize dispatchable energy: $ \\min(\\sum{P_{dispatchable}(t)*dt}) $\n",
    "\n",
    "\n",
    "- **Node Law** : \n",
    "  - $(P_{pv}(t) + P_{wind}(t) + P_{dispatchable}(t) - P_{in\\_stock}(t) + P_{out\\_stock}(t) = P_{demand}(t) + P_{curt}(t))$\n",
    "\n",
    "\n",
    "- **State of charge**\n",
    "  - $SOC(t+1)=SOC(t)+P_{in\\_stock}(t) - P_{out\\_stock}(t)$\n",
    "\n",
    "#### Contraintes :\n",
    "- $E_{wind} + E_{pv} \\leq E_{demand}$\n",
    "- We want a maximum storage size of 10 hours:  $E_{stock} \\leq 10$\n",
    "- Charging and discharging at the same time is not possible. \n"
   ]
  },
  {
   "cell_type": "markdown",
   "id": "306db9c5",
   "metadata": {},
   "source": [
    "### Implementation\n",
    "#### Decision Variables:\n",
    "- `x_pv`: Installed capacity for photovoltaic production.\n",
    "- `x_wind`: Installed capacity for wind production.\n",
    "- `ts_dispatchable`: Dispatchable production (can be controlled), time serie.\n",
    "- `p_ch`: Battery charging power, time serie.\n",
    "- `p_dech`: Battery discharging power, time serie.\n",
    "- `SOC_ts`: State of charge of the battery, time serie.\n",
    "- `p_curt`: Curtailment power (lost energy), time serie.\n",
    "- `dech_active`: Binary variable indicating if the battery is charging or discharging."
   ]
  },
  {
   "cell_type": "markdown",
   "id": "09f09e62",
   "metadata": {},
   "source": [
    "### Run the optimization with GUROBI\n",
    "\n",
    "**If the optimization has already been run, go to the next part where results can be loaded and analysed in plots.**"
   ]
  },
  {
   "cell_type": "code",
   "execution_count": 19,
   "id": "c8ed3d0c",
   "metadata": {},
   "outputs": [
    {
     "name": "stdout",
     "output_type": "stream",
     "text": [
      "Set parameter WLSAccessID\n",
      "Set parameter WLSSecret\n",
      "Set parameter LicenseID to value 2503220\n",
      "Academic license 2503220 - for non-commercial use only - registered to du___@ethz.ch\n",
      "Gurobi Optimizer version 11.0.1 build v11.0.1rc0 (win64 - Windows 10.0 (19045.2))\n",
      "\n",
      "CPU model: 11th Gen Intel(R) Core(TM) i5-1145G7 @ 2.60GHz, instruction set [SSE2|AVX|AVX2|AVX512]\n",
      "Thread count: 4 physical cores, 8 logical processors, using up to 8 threads\n",
      "\n",
      "Academic license 2503220 - for non-commercial use only - registered to du___@ethz.ch\n",
      "Optimize a model with 175201 rows, 262800 columns and 569397 nonzeros\n",
      "Model fingerprint: 0x8c65371a\n",
      "Variable types: 219001 continuous, 43799 integer (0 binary)\n",
      "Coefficient statistics:\n",
      "  Matrix range     [3e-03, 1e+05]\n",
      "  Objective range  [1e+00, 1e+00]\n",
      "  Bounds range     [1e+00, 1e+05]\n",
      "  RHS range        [8e-01, 1e+05]\n",
      "Found heuristic solution: objective 43800.000000\n",
      "Presolve removed 5 rows and 43805 columns\n",
      "Presolve time: 4.14s\n",
      "Presolved: 175196 rows, 218995 columns, 497499 nonzeros\n",
      "Found heuristic solution: objective 43799.549056\n",
      "Variable types: 175196 continuous, 43799 integer (43799 binary)\n",
      "Deterministic concurrent LP optimizer: primal and dual simplex\n",
      "Showing primal log only...\n",
      "\n",
      "\n",
      "Root simplex log...\n",
      "\n",
      "Iteration    Objective       Primal Inf.    Dual Inf.      Time\n",
      "       0    5.4748750e+05   0.000000e+00   1.751960e+05      6s\n",
      "   98799    1.0031343e+04   0.000000e+00   0.000000e+00      8s\n",
      "Concurrent spin time: 125.64s (can be avoided by choosing Method=3)\n",
      "\n",
      "Solved with primal simplex\n",
      "   98799    1.0031343e+04   0.000000e+00   0.000000e+00    134s\n",
      "\n",
      "Root relaxation: objective 1.003134e+04, 98799 iterations, 129.38 seconds (1.35 work units)\n",
      "\n",
      "    Nodes    |    Current Node    |     Objective Bounds      |     Work\n",
      " Expl Unexpl |  Obj  Depth IntInf | Incumbent    BestBd   Gap | It/Node Time\n",
      "\n",
      "*    0     0               0    10031.342885 10031.3429  0.00%     -  134s\n",
      "\n",
      "Explored 1 nodes (98799 simplex iterations) in 134.45 seconds (2.83 work units)\n",
      "Thread count was 8 (of 8 available processors)\n",
      "\n",
      "Solution count 3: 10031.3 43799.5 43800 \n",
      "\n",
      "Optimal solution found (tolerance 1.00e-04)\n",
      "Best objective 1.003134288453e+04, best bound 1.003134288453e+04, gap 0.0000%\n",
      "Gurobi status= 2\n",
      "Status: Optimal\n",
      "Coefficient optimal pour PV: None\n",
      "Coefficient optimal pour Wind: 6.739723857733633\n"
     ]
    },
    {
     "ename": "TypeError",
     "evalue": "unsupported operand type(s) for *: 'NoneType' and 'float'",
     "output_type": "error",
     "traceback": [
      "\u001b[1;31m---------------------------------------------------------------------------\u001b[0m",
      "\u001b[1;31mTypeError\u001b[0m                                 Traceback (most recent call last)",
      "Cell \u001b[1;32mIn[19], line 1\u001b[0m\n\u001b[1;32m----> 1\u001b[0m optimized_parameters\u001b[39m=\u001b[39moptimize_enr_chu(country_name, Load_ts[:\u001b[39m43800\u001b[39;49m], PV_ts[:\u001b[39m43800\u001b[39;49m], Wind_ts[:\u001b[39m43800\u001b[39;49m], mean_load, state_name \u001b[39m=\u001b[39;49m state_name,save_results \u001b[39m=\u001b[39;49m \u001b[39mTrue\u001b[39;49;00m)\n",
      "File \u001b[1;32ms:\\131-DPE\\131.1-Temporaire\\131.1.1-Espace commun\\zone transfert temporaire\\ITESE Grenoble\\Stage Justine\\Code git\\wavelet_decomposition\\optim_mix\\utilities.py:110\u001b[0m, in \u001b[0;36moptimize_enr_chu\u001b[1;34m(country_name, Load_ts, PV_ts, Wind_ts, mean_load, state_name, save_results)\u001b[0m\n\u001b[0;32m    106\u001b[0m \u001b[39mprint\u001b[39m(\u001b[39m\"\u001b[39m\u001b[39mCoefficient optimal pour Wind:\u001b[39m\u001b[39m\"\u001b[39m, x_wind\u001b[39m.\u001b[39mvarValue)\n\u001b[0;32m    109\u001b[0m \u001b[39m# Get results of optimization \u001b[39;00m\n\u001b[1;32m--> 110\u001b[0m optimized_pv \u001b[39m=\u001b[39m [x_pv\u001b[39m.\u001b[39mvarValue \u001b[39m*\u001b[39m PV_ts[t] \u001b[39mfor\u001b[39;00m t \u001b[39min\u001b[39;00m \u001b[39mrange\u001b[39m(signal_length)]\n\u001b[0;32m    111\u001b[0m optimized_wind \u001b[39m=\u001b[39m [x_wind\u001b[39m.\u001b[39mvarValue \u001b[39m*\u001b[39m Wind_ts[t] \u001b[39mfor\u001b[39;00m t \u001b[39min\u001b[39;00m \u001b[39mrange\u001b[39m(signal_length)]\n\u001b[0;32m    112\u001b[0m optimized_dispatchable \u001b[39m=\u001b[39m [ts_dispatchable[t]\u001b[39m.\u001b[39mvarValue \u001b[39mfor\u001b[39;00m t \u001b[39min\u001b[39;00m \u001b[39mrange\u001b[39m(signal_length)]\n",
      "File \u001b[1;32ms:\\131-DPE\\131.1-Temporaire\\131.1.1-Espace commun\\zone transfert temporaire\\ITESE Grenoble\\Stage Justine\\Code git\\wavelet_decomposition\\optim_mix\\utilities.py:110\u001b[0m, in \u001b[0;36m<listcomp>\u001b[1;34m(.0)\u001b[0m\n\u001b[0;32m    106\u001b[0m \u001b[39mprint\u001b[39m(\u001b[39m\"\u001b[39m\u001b[39mCoefficient optimal pour Wind:\u001b[39m\u001b[39m\"\u001b[39m, x_wind\u001b[39m.\u001b[39mvarValue)\n\u001b[0;32m    109\u001b[0m \u001b[39m# Get results of optimization \u001b[39;00m\n\u001b[1;32m--> 110\u001b[0m optimized_pv \u001b[39m=\u001b[39m [x_pv\u001b[39m.\u001b[39;49mvarValue \u001b[39m*\u001b[39;49m PV_ts[t] \u001b[39mfor\u001b[39;00m t \u001b[39min\u001b[39;00m \u001b[39mrange\u001b[39m(signal_length)]\n\u001b[0;32m    111\u001b[0m optimized_wind \u001b[39m=\u001b[39m [x_wind\u001b[39m.\u001b[39mvarValue \u001b[39m*\u001b[39m Wind_ts[t] \u001b[39mfor\u001b[39;00m t \u001b[39min\u001b[39;00m \u001b[39mrange\u001b[39m(signal_length)]\n\u001b[0;32m    112\u001b[0m optimized_dispatchable \u001b[39m=\u001b[39m [ts_dispatchable[t]\u001b[39m.\u001b[39mvarValue \u001b[39mfor\u001b[39;00m t \u001b[39min\u001b[39;00m \u001b[39mrange\u001b[39m(signal_length)]\n",
      "\u001b[1;31mTypeError\u001b[0m: unsupported operand type(s) for *: 'NoneType' and 'float'"
     ]
    }
   ],
   "source": [
    "optimized_parameters=optimize_enr_chu(country_name, Load_ts[:43800], PV_ts[:43800], Wind_ts[:43800], mean_load, state_name = state_name,save_results = True)"
   ]
  },
  {
   "cell_type": "markdown",
   "id": "6b6da56b",
   "metadata": {},
   "source": [
    "### Add results to .csv file with all countries"
   ]
  },
  {
   "cell_type": "code",
   "execution_count": 21,
   "id": "04accf18",
   "metadata": {},
   "outputs": [],
   "source": [
    "df_new = pd.DataFrame({\"Country\" : [country_name],\"State\":[state_name],\"iso_alpha\":[optimized_parameters['iso_alpha']],\n",
    "    \"mean_load\":[optimized_parameters['mean_consumption']],\n",
    "    \"E_dispatch\": [optimized_parameters['E_dispatch']],\n",
    "    \"P_dispatch\": [optimized_parameters['dispatchable_capacity']],\n",
    "    \"E_destock\": [optimized_parameters['E_destock']],\n",
    "    \"P_pv\": [optimized_parameters['pv_capacity']],\n",
    "    \"P_wind\": [optimized_parameters['wind_capacity']]\n",
    "})\n"
   ]
  },
  {
   "cell_type": "code",
   "execution_count": 22,
   "id": "1fed955d",
   "metadata": {},
   "outputs": [
    {
     "name": "stdout",
     "output_type": "stream",
     "text": [
      "Data have been added to results/optimization_results_CHU_world_grid_with_states.csv\n"
     ]
    },
    {
     "ename": "",
     "evalue": "",
     "output_type": "error",
     "traceback": [
      "\u001b[1;31mThe Kernel crashed while executing code in the the current cell or a previous cell. Please review the code in the cell(s) to identify a possible cause of the failure. Click <a href='https://aka.ms/vscodeJupyterKernelCrash'>here</a> for more info. View Jupyter <a href='command:jupyter.viewOutput'>log</a> for further details."
     ]
    }
   ],
   "source": [
    "all_results_file = \"results/optimization_results_CHU_world_grid_with_states.csv\"\n",
    "file_exists = os.path.isfile(all_results_file)\n",
    "\n",
    "df_new.to_csv(all_results_file, mode='a', index=False, header=not file_exists)\n",
    "\n",
    "print(f\"Data have been added to {all_results_file}\")    "
   ]
  },
  {
   "cell_type": "markdown",
   "id": "68cd0ec4",
   "metadata": {
    "papermill": {
     "duration": 0.225731,
     "end_time": "2024-06-05T08:07:03.580642",
     "exception": false,
     "start_time": "2024-06-05T08:07:03.354911",
     "status": "completed"
    },
    "tags": []
   },
   "source": [
    "## Plots"
   ]
  },
  {
   "cell_type": "code",
   "execution_count": 13,
   "id": "3331b373",
   "metadata": {
    "execution": {
     "iopub.execute_input": "2024-06-05T08:07:04.020292Z",
     "iopub.status.busy": "2024-06-05T08:07:04.018292Z",
     "iopub.status.idle": "2024-06-05T08:07:04.042587Z",
     "shell.execute_reply": "2024-06-05T08:07:04.040082Z"
    },
    "papermill": {
     "duration": 0.250497,
     "end_time": "2024-06-05T08:07:04.048497",
     "exception": false,
     "start_time": "2024-06-05T08:07:03.798000",
     "status": "completed"
    },
    "tags": []
   },
   "outputs": [],
   "source": [
    "# from plots import plot_ts_optim, plot_pie_energy, plot_storage, plot_stack_production"
   ]
  },
  {
   "cell_type": "code",
   "execution_count": 14,
   "id": "2dbafb91",
   "metadata": {
    "execution": {
     "iopub.execute_input": "2024-06-05T08:07:04.486668Z",
     "iopub.status.busy": "2024-06-05T08:07:04.485670Z",
     "iopub.status.idle": "2024-06-05T08:07:04.509473Z",
     "shell.execute_reply": "2024-06-05T08:07:04.506053Z"
    },
    "papermill": {
     "duration": 0.247622,
     "end_time": "2024-06-05T08:07:04.513942",
     "exception": false,
     "start_time": "2024-06-05T08:07:04.266320",
     "status": "completed"
    },
    "tags": []
   },
   "outputs": [],
   "source": [
    "# plot_ts_optim([optimized_parameters['optimized_pv'], optimized_parameters['optimized_wind'], optimized_parameters['optimized_dispatchable'], optimized_parameters['optimized_p_curt'],np.array(Load_ts) ], ['PV', 'Wind', 'Dispatchable', 'Curtailment', 'Consumption'], country_name, colors_dict = colors_dict,savefig=False)"
   ]
  },
  {
   "cell_type": "code",
   "execution_count": 15,
   "id": "2e8e5dec",
   "metadata": {
    "execution": {
     "iopub.execute_input": "2024-06-05T08:07:04.951503Z",
     "iopub.status.busy": "2024-06-05T08:07:04.950509Z",
     "iopub.status.idle": "2024-06-05T08:07:04.973110Z",
     "shell.execute_reply": "2024-06-05T08:07:04.971150Z"
    },
    "papermill": {
     "duration": 0.248444,
     "end_time": "2024-06-05T08:07:04.978104",
     "exception": false,
     "start_time": "2024-06-05T08:07:04.729660",
     "status": "completed"
    },
    "tags": []
   },
   "outputs": [],
   "source": [
    "# plot_storage(optimized_parameters['optimized_charge'], optimized_parameters['optimized_discharge'], optimized_parameters['optimized_stock'], country_name, colors_dict = colors_dict, savefig=False)"
   ]
  },
  {
   "cell_type": "code",
   "execution_count": 16,
   "id": "cea6c60b",
   "metadata": {
    "execution": {
     "iopub.execute_input": "2024-06-05T08:07:05.436834Z",
     "iopub.status.busy": "2024-06-05T08:07:05.435033Z",
     "iopub.status.idle": "2024-06-05T08:07:05.453515Z",
     "shell.execute_reply": "2024-06-05T08:07:05.450616Z"
    },
    "papermill": {
     "duration": 0.258883,
     "end_time": "2024-06-05T08:07:05.457510",
     "exception": false,
     "start_time": "2024-06-05T08:07:05.198627",
     "status": "completed"
    },
    "tags": []
   },
   "outputs": [],
   "source": [
    "# E_wind = optimized_parameters['E_wind']\n",
    "# E_pv = optimized_parameters['E_pv']\n",
    "# E_dispatch = optimized_parameters['E_dispatch']"
   ]
  },
  {
   "cell_type": "code",
   "execution_count": 17,
   "id": "662b937f",
   "metadata": {
    "execution": {
     "iopub.execute_input": "2024-06-05T08:07:05.896286Z",
     "iopub.status.busy": "2024-06-05T08:07:05.894239Z",
     "iopub.status.idle": "2024-06-05T08:07:05.920101Z",
     "shell.execute_reply": "2024-06-05T08:07:05.917850Z"
    },
    "papermill": {
     "duration": 0.251514,
     "end_time": "2024-06-05T08:07:05.924434",
     "exception": false,
     "start_time": "2024-06-05T08:07:05.672920",
     "status": "completed"
    },
    "tags": []
   },
   "outputs": [],
   "source": [
    "# plot_pie_energy([E_wind, E_pv, E_dispatch], country_name, colors_dict =colors_dict, savefig=False)"
   ]
  }
 ],
 "metadata": {
  "kernelspec": {
   "display_name": "Python 3",
   "language": "python",
   "name": "python3"
  },
  "language_info": {
   "codemirror_mode": {
    "name": "ipython",
    "version": 3
   },
   "file_extension": ".py",
   "mimetype": "text/x-python",
   "name": "python",
   "nbconvert_exporter": "python",
   "pygments_lexer": "ipython3",
   "version": "3.10.13"
  },
  "papermill": {
   "default_parameters": {},
   "duration": 73.463762,
   "end_time": "2024-06-05T08:07:07.053766",
   "environment_variables": {},
   "exception": null,
   "input_path": "1b_run_optimization.ipynb",
   "output_path": "1b_run_optimization.ipynb",
   "parameters": {
    "country_name": "Zimbabwe"
   },
   "start_time": "2024-06-05T08:05:53.590004",
   "version": "2.6.0"
  }
 },
 "nbformat": 4,
 "nbformat_minor": 5
}
