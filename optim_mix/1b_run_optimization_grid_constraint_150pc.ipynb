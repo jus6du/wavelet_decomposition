{
 "cells": [
  {
   "cell_type": "code",
   "execution_count": 1,
   "id": "cfdb0fb4",
   "metadata": {
    "execution": {
     "iopub.execute_input": "2024-08-01T14:59:00.436295Z",
     "iopub.status.busy": "2024-08-01T14:59:00.435177Z",
     "iopub.status.idle": "2024-08-01T14:59:00.471589Z",
     "shell.execute_reply": "2024-08-01T14:59:00.468609Z"
    },
    "papermill": {
     "duration": 0.101187,
     "end_time": "2024-08-01T14:59:00.476589",
     "exception": false,
     "start_time": "2024-08-01T14:59:00.375402",
     "status": "completed"
    },
    "tags": [
     "injected-parameters"
    ]
   },
   "outputs": [],
   "source": [
    "# Parameters\n",
    "country_name = \"Algeria\"\n"
   ]
  },
  {
   "cell_type": "markdown",
   "id": "15af41b4",
   "metadata": {
    "papermill": {
     "duration": 0.027126,
     "end_time": "2024-08-01T14:59:00.533955",
     "exception": false,
     "start_time": "2024-08-01T14:59:00.506829",
     "status": "completed"
    },
    "tags": []
   },
   "source": [
    "# Optimization Problem Time Series"
   ]
  },
  {
   "cell_type": "markdown",
   "id": "b4bdf036",
   "metadata": {
    "papermill": {
     "duration": 0.055911,
     "end_time": "2024-08-01T14:59:00.617716",
     "exception": false,
     "start_time": "2024-08-01T14:59:00.561805",
     "status": "completed"
    },
    "tags": []
   },
   "source": [
    "This notebook optimizes an electrci mix based on : \n",
    "- an electricity demand time serie\n",
    "- a PV production time serie\n",
    "- a wind production time serie"
   ]
  },
  {
   "cell_type": "code",
   "execution_count": 2,
   "id": "c37d952c",
   "metadata": {
    "execution": {
     "iopub.execute_input": "2024-08-01T14:59:00.748870Z",
     "iopub.status.busy": "2024-08-01T14:59:00.746855Z",
     "iopub.status.idle": "2024-08-01T14:59:34.967686Z",
     "shell.execute_reply": "2024-08-01T14:59:34.964633Z"
    },
    "papermill": {
     "duration": 34.279226,
     "end_time": "2024-08-01T14:59:34.973714",
     "exception": false,
     "start_time": "2024-08-01T14:59:00.694488",
     "status": "completed"
    },
    "tags": []
   },
   "outputs": [],
   "source": [
    "import numpy as np\n",
    "import pandas as pd\n",
    "from scipy.optimize import minimize\n",
    "from pulp import *\n",
    "import sys\n",
    "from utilities import import_excel, optimize_enr_150, format_load_data\n",
    "import plotly.graph_objects as go\n",
    "import plotly.express as px\n",
    "import pickle\n",
    "from ren_ninja_api import fetch_and_average_data_ren_ninja, get_regular_coordinates\n",
    "import plotly.io as pio\n",
    "import os\n",
    "import glob\n",
    "import geopandas as gpd\n",
    "import matplotlib.pyplot as plt\n",
    "pio.renderers.default='notebook'"
   ]
  },
  {
   "cell_type": "markdown",
   "id": "402479c1",
   "metadata": {
    "papermill": {
     "duration": null,
     "end_time": null,
     "exception": null,
     "start_time": null,
     "status": "completed"
    },
    "tags": []
   },
   "source": [
    "Enter country name for file naming: "
   ]
  },
  {
   "cell_type": "code",
   "execution_count": 3,
   "id": "f45f9276",
   "metadata": {
    "execution": {
     "iopub.execute_input": "2024-08-01T14:57:56.281450Z",
     "iopub.status.busy": "2024-08-01T14:57:56.280408Z",
     "iopub.status.idle": "2024-08-01T14:58:38.832578Z",
     "shell.execute_reply": "2024-08-01T14:58:38.827928Z"
    },
    "papermill": {
     "duration": null,
     "end_time": null,
     "exception": null,
     "start_time": null,
     "status": "completed"
    },
    "tags": []
   },
   "outputs": [],
   "source": [
    "year = 2021\n",
    "country_name = 'Russia'\n",
    "state_name = 'KAM'\n",
    "country_name = country_name\n",
    "state_name = state_name\n",
    "# Directory path\n",
    "path_input_data = '../input_time_series/'\n",
    "mode = 'grid'"
   ]
  },
  {
   "cell_type": "code",
   "execution_count": 4,
   "id": "5d6841e6",
   "metadata": {
    "papermill": {
     "duration": null,
     "end_time": null,
     "exception": null,
     "start_time": null,
     "status": "completed"
    },
    "tags": []
   },
   "outputs": [],
   "source": [
    "points_in_world = gpd.read_file('grid_with_centroids_states.geojson')\n",
    "regions_match = pd.read_excel('match_plexos_iso_codes.xlsx')\n",
    "regions_match = regions_match[regions_match['Country']==country_name].set_index('region')"
   ]
  },
  {
   "cell_type": "code",
   "execution_count": 5,
   "id": "b17ef2ae",
   "metadata": {
    "papermill": {
     "duration": null,
     "end_time": null,
     "exception": null,
     "start_time": null,
     "status": "completed"
    },
    "tags": []
   },
   "outputs": [],
   "source": [
    "# fig, ax = plt.subplots(figsize=(15, 10))\n",
    "# world = gpd.read_file(gpd.datasets.get_path('naturalearth_lowres'))\n",
    "# world.plot(ax=ax, color='lightgray')\n",
    "# points_in_world.plot(ax=ax, color='red', markersize=5)\n",
    "\n",
    "# plt.title('Regular Grid of Coordinates with Country and states Centroids (No Antarctica)')\n",
    "# plt.xlabel('Longitude')\n",
    "# plt.ylabel('Latitude')\n",
    "# plt.show()"
   ]
  },
  {
   "cell_type": "code",
   "execution_count": 6,
   "id": "fd44890f",
   "metadata": {
    "papermill": {
     "duration": null,
     "end_time": null,
     "exception": null,
     "start_time": null,
     "status": "completed"
    },
    "tags": []
   },
   "outputs": [],
   "source": [
    "russia = points_in_world[points_in_world['iso_a3']=='RUS']\n",
    "for i in russia.index:\n",
    "    if russia.loc[i,'state_code']!=None:\n",
    "        points_in_world.loc[i, 'state_code']=points_in_world.loc[i, 'state_code'].split('-')[1]"
   ]
  },
  {
   "cell_type": "code",
   "execution_count": 7,
   "id": "b74dda78",
   "metadata": {
    "papermill": {
     "duration": null,
     "end_time": null,
     "exception": null,
     "start_time": null,
     "status": "completed"
    },
    "tags": []
   },
   "outputs": [],
   "source": [
    "import pandas as pd\n",
    "from shapely.geometry import Point\n",
    "\n",
    "# Assuming you already have the `country_codes` DataFrame\n",
    "\n",
    "# Define the new rows as dictionaries\n",
    "new_rows = [\n",
    "    {\n",
    "        'geometry': Point(108.2772, 14.0583),\n",
    "        'latitude': 14.0583,\n",
    "        'index_right': None,\n",
    "        'pop_est': 97338579.0,\n",
    "        'continent': 'Asia',\n",
    "        'name': 'Vietnam',\n",
    "        'iso_a3': 'VNM',\n",
    "        'gdp_md_est': 64810\n",
    "    },\n",
    "    {\n",
    "        'geometry': Point(34.8516, 31.0461),\n",
    "        'latitude': 31.0461,\n",
    "        'index_right': None,\n",
    "        'pop_est': 9053300.0,\n",
    "        'continent': 'Asia',\n",
    "        'name': 'Israel',\n",
    "        'iso_a3': 'ISR',\n",
    "        'gdp_md_est': 38760\n",
    "    },\n",
    "    {\n",
    "    'geometry': Point(2.2137, 46.6034),  # Approximate centroid coordinates of metropolitan France\n",
    "    'latitude': 46.6034,\n",
    "    'index_right': None,\n",
    "    'pop_est': 65273511.0,  # Population estimate for metropolitan France\n",
    "    'continent': 'Europe',\n",
    "    'name': 'France',\n",
    "    'iso_a3': 'FRA',\n",
    "    'gdp_md_est': 2777530  # GDP estimate for metropolitan France\n",
    "    },\n",
    "    {\n",
    "        'geometry': Point(121.7740, 12.8797),  # Approximate centroid coordinates of the Philippines\n",
    "        'latitude': 12.8797,\n",
    "        'index_right': None,\n",
    "        'pop_est': 109581078.0,  # Population estimate for the Philippines\n",
    "        'continent': 'Asia',\n",
    "        'name': 'Philippines',\n",
    "        'iso_a3': 'PHL',\n",
    "        'gdp_md_est': 402601  # GDP estimate for the Philippines\n",
    "    },\n",
    "     {\n",
    "        'geometry': Point(101.9758, 4.2105),  # Approximate centroid coordinates of Malaysia\n",
    "        'latitude': 4.2105,\n",
    "        'index_right': None,\n",
    "        'pop_est': 32365999.0,  # Population estimate for Malaysia\n",
    "        'continent': 'Asia',\n",
    "        'name': 'Malaysia',\n",
    "        'iso_a3': 'MYS',\n",
    "        'gdp_md_est': 358580  # GDP estimate for Malaysia\n",
    "    }\n",
    "\n",
    "]\n",
    "\n",
    "# Convert the list of dictionaries to a DataFrame\n",
    "new_rows_df = pd.DataFrame(new_rows)\n",
    "\n",
    "# Concatenate the new DataFrame with the existing DataFrame\n",
    "points_in_world = pd.concat([points_in_world, new_rows_df], ignore_index=True)\n"
   ]
  },
  {
   "cell_type": "markdown",
   "id": "6f1c8714",
   "metadata": {
    "papermill": {
     "duration": null,
     "end_time": null,
     "exception": null,
     "start_time": null,
     "status": "completed"
    },
    "tags": []
   },
   "source": [
    "### Load Time Series\n",
    "\n",
    "First we load the time series that will be used in the problem. We use the  ```import_excel``` function used in the wavelet decomposition."
   ]
  },
  {
   "cell_type": "markdown",
   "id": "0997904d",
   "metadata": {
    "papermill": {
     "duration": null,
     "end_time": null,
     "exception": null,
     "start_time": null,
     "status": "completed"
    },
    "tags": []
   },
   "source": [
    "#### Demand"
   ]
  },
  {
   "cell_type": "code",
   "execution_count": 8,
   "id": "b98559a9",
   "metadata": {
    "papermill": {
     "duration": null,
     "end_time": null,
     "exception": null,
     "start_time": null,
     "status": "completed"
    },
    "tags": []
   },
   "outputs": [],
   "source": [
    "def format_load_data(country_name, state_name = None):\n",
    "    if not os.path.exists(f'../input_time_series/{country_name}/'):\n",
    "        os.makedirs(f'../input_time_series/{country_name}/')\n",
    "    if state_name:\n",
    "        file_path = f'../input_time_series/{country_name}/{country_name}_{state_name}_demand_Plexos_2015.xlsx'\n",
    "    else: \n",
    "        file_path = f'../input_time_series/{country_name}/{country_name}_demand_Plexos_2015.xlsx'\n",
    "    print(file_path)\n",
    "    if os.path.exists(file_path):\n",
    "        pass\n",
    "    else: \n",
    "        # print('here')\n",
    "        country_codes = pd.read_csv('../countries_codes_and_coordinates.csv' , sep = ',', index_col = 0)\n",
    "        data = pd.read_csv('../input_time_series/All Demand UTC 2015.csv', index_col =0)\n",
    "        iso_code = country_codes.loc[country_name,'Alpha-3 code' ].split(' ')[1]\n",
    "        # print(iso_code)\n",
    "        if state_name:\n",
    "            print(data.columns[data.columns.str.endswith(f'{iso_code}-{state_name}')].item())\n",
    "            column_name = data.columns[data.columns.str.endswith(f'{iso_code}-{state_name}')].item()\n",
    "            print(data[column_name])\n",
    "            data[column_name].to_excel(file_path, index =False)\n",
    "        else:\n",
    "            column_name = data.columns[data.columns.str.endswith(iso_code)].item()\n",
    "            data[column_name].to_excel(file_path, index =False)\n",
    "        \n",
    "    return file_path.split('/',2)[-1]\n"
   ]
  },
  {
   "cell_type": "code",
   "execution_count": 9,
   "id": "0759aa82",
   "metadata": {
    "execution": {
     "iopub.execute_input": "2024-06-05T08:06:38.483709Z",
     "iopub.status.busy": "2024-06-05T08:06:38.482623Z",
     "iopub.status.idle": "2024-06-05T08:06:42.439479Z",
     "shell.execute_reply": "2024-06-05T08:06:42.437602Z"
    },
    "papermill": {
     "duration": null,
     "end_time": null,
     "exception": null,
     "start_time": null,
     "status": "completed"
    },
    "tags": []
   },
   "outputs": [
    {
     "name": "stdout",
     "output_type": "stream",
     "text": [
      "../input_time_series/Russia/Russia_FE_demand_Plexos_2015.xlsx\n"
     ]
    }
   ],
   "source": [
    "# Demand time serie\n",
    "\n",
    "dpd = 24 # data per day in the time serie\n",
    "dpy = 365 # data per year :  cut the leap years to 365 years\n",
    "\n",
    "ndpd = 24 # new data per day for hourly data (for the interpolation)\n",
    "signal_length = ndpd * dpy\n",
    "if state_name: \n",
    "    region_name = regions_match.loc[state_name, 'plexos']\n",
    "    file_name = format_load_data(country_name, state_name=region_name)\n",
    "else:\n",
    "    file_name = format_load_data(country_name, state_name)\n",
    "Load_ts = import_excel(path_input_data,file_name, \n",
    "                                    dpd ,ndpd, dpy, \n",
    "                                    interp=True, norm = 'mean') # interpolate data from dpd to ndpd numper of points per day\n",
    "\n",
    "mean_load = pd.read_excel(path_input_data+file_name).mean().iloc[0]"
   ]
  },
  {
   "cell_type": "markdown",
   "id": "5847a57e",
   "metadata": {
    "papermill": {
     "duration": null,
     "end_time": null,
     "exception": null,
     "start_time": null,
     "status": "completed"
    },
    "tags": []
   },
   "source": [
    "#### Wind production"
   ]
  },
  {
   "cell_type": "code",
   "execution_count": 10,
   "id": "5061fb75",
   "metadata": {
    "execution": {
     "iopub.execute_input": "2024-06-05T08:06:42.552857Z",
     "iopub.status.busy": "2024-06-05T08:06:42.550588Z",
     "iopub.status.idle": "2024-06-05T08:06:43.849143Z",
     "shell.execute_reply": "2024-06-05T08:06:43.846934Z"
    },
    "papermill": {
     "duration": null,
     "end_time": null,
     "exception": null,
     "start_time": null,
     "status": "completed"
    },
    "tags": []
   },
   "outputs": [
    {
     "name": "stdout",
     "output_type": "stream",
     "text": [
      "[]\n",
      "collecting data\n",
      "[]\n"
     ]
    },
    {
     "ename": "IndexError",
     "evalue": "list index out of range",
     "output_type": "error",
     "traceback": [
      "\u001b[1;31m---------------------------------------------------------------------------\u001b[0m",
      "\u001b[1;31mIndexError\u001b[0m                                Traceback (most recent call last)",
      "Cell \u001b[1;32mIn[10], line 28\u001b[0m\n\u001b[0;32m     26\u001b[0m fichiers_trouves \u001b[39m=\u001b[39m glob\u001b[39m.\u001b[39mglob(chemin_pattern)\n\u001b[0;32m     27\u001b[0m \u001b[39mprint\u001b[39m(fichiers_trouves)\n\u001b[1;32m---> 28\u001b[0m file_name \u001b[39m=\u001b[39m fichiers_trouves[\u001b[39m0\u001b[39;49m]\u001b[39m.\u001b[39msplit(\u001b[39m'\u001b[39m\u001b[39m/\u001b[39m\u001b[39m'\u001b[39m,\u001b[39m2\u001b[39m)[\u001b[39m-\u001b[39m\u001b[39m1\u001b[39m]\n\u001b[0;32m     29\u001b[0m Wind_ts \u001b[39m=\u001b[39m import_excel(path_input_data,file_name, \n\u001b[0;32m     30\u001b[0m                                 dpd ,ndpd, dpy, \n\u001b[0;32m     31\u001b[0m                                 interp\u001b[39m=\u001b[39m\u001b[39mTrue\u001b[39;00m, norm \u001b[39m=\u001b[39m \u001b[39mNone\u001b[39;00m) \u001b[39m# interpolate data from dpd to ndpd numper of points per day\u001b[39;00m\n\u001b[0;32m     33\u001b[0m mean_wind \u001b[39m=\u001b[39m pd\u001b[39m.\u001b[39mread_excel(path_input_data\u001b[39m+\u001b[39mfile_name)\u001b[39m.\u001b[39mmean()\u001b[39m.\u001b[39miloc[\u001b[39m0\u001b[39m]\n",
      "\u001b[1;31mIndexError\u001b[0m: list index out of range"
     ]
    }
   ],
   "source": [
    "# Wind time serie \n",
    "\n",
    "dpd = 24 # data per day\n",
    "dpy = 365 # data per year :  cut the leap years to 365 years\n",
    "\n",
    "# We interpolate so that we have hourly data\n",
    "ndpd = 24 # new data per day for hourly data (for the interpolation)\n",
    "signal_length = ndpd * dpy\n",
    "\n",
    "folder = path_input_data + f'/{country_name}'\n",
    "\n",
    "\n",
    "if state_name : \n",
    "    partie_name_file = f'{mode}_locations_averaged_wind_{country_name}_{state_name}_{year}.xlsx'\n",
    "else: \n",
    "    partie_name_file = f'{mode}_locations_averaged_wind_{country_name}_{year}.xlsx' \n",
    "\n",
    "chemin_pattern = os.path.join(folder, f'*{partie_name_file}*')\n",
    "fichiers_trouves = glob.glob(chemin_pattern)\n",
    "print(fichiers_trouves)\n",
    "\n",
    "if len(fichiers_trouves)==0:\n",
    "    print('collecting data')\n",
    "    fetch_and_average_data_ren_ninja(country_name, 1, ['wind'], points_in_world, state = state_name, year=year, save = True, coordinates = mode)\n",
    "\n",
    "fichiers_trouves = glob.glob(chemin_pattern)\n",
    "print(fichiers_trouves)\n",
    "file_name = fichiers_trouves[0].split('/',2)[-1]\n",
    "Wind_ts = import_excel(path_input_data,file_name, \n",
    "                                dpd ,ndpd, dpy, \n",
    "                                interp=True, norm = None) # interpolate data from dpd to ndpd numper of points per day\n",
    "\n",
    "mean_wind = pd.read_excel(path_input_data+file_name).mean().iloc[0]"
   ]
  },
  {
   "cell_type": "markdown",
   "id": "2cf60b1e",
   "metadata": {
    "papermill": {
     "duration": null,
     "end_time": null,
     "exception": null,
     "start_time": null,
     "status": "completed"
    },
    "tags": []
   },
   "source": [
    "#### PV production"
   ]
  },
  {
   "cell_type": "code",
   "execution_count": 12,
   "id": "d06e730f",
   "metadata": {
    "execution": {
     "iopub.execute_input": "2024-06-05T08:06:43.955812Z",
     "iopub.status.busy": "2024-06-05T08:06:43.953726Z",
     "iopub.status.idle": "2024-06-05T08:06:45.089957Z",
     "shell.execute_reply": "2024-06-05T08:06:45.087851Z"
    },
    "papermill": {
     "duration": null,
     "end_time": null,
     "exception": null,
     "start_time": null,
     "status": "completed"
    },
    "tags": []
   },
   "outputs": [
    {
     "name": "stdout",
     "output_type": "stream",
     "text": [
      "['../input_time_series//Australia\\\\ren_ninja_1_grid_locations_averaged_pv_Australia_NSW_2021.xlsx']\n"
     ]
    }
   ],
   "source": [
    "# Wind time serie \n",
    "\n",
    "dpd = 24 # data per day\n",
    "dpy = 365 # data per year :  cut the leap years to 365 years\n",
    "\n",
    "# We interpolate so that we have hourly data\n",
    "ndpd = 24 # new data per day for hourly data (for the interpolation)\n",
    "signal_length = ndpd * dpy\n",
    "\n",
    "folder = path_input_data + f'/{country_name}'\n",
    "\n",
    "\n",
    "if state_name : \n",
    "    partie_name_file = f'{mode}_locations_averaged_pv_{country_name}_{state_name}_{year}.xlsx'\n",
    "else: \n",
    "    partie_name_file = f'{mode}_locations_averaged_pv_{country_name}_{year}.xlsx' \n",
    "chemin_pattern = os.path.join(folder, f'*{partie_name_file}*')\n",
    "fichiers_trouves = glob.glob(chemin_pattern)\n",
    "print(fichiers_trouves)\n",
    "\n",
    "if len(fichiers_trouves)==0:\n",
    "    print('collecting data')\n",
    "    fetch_and_average_data_ren_ninja(country_name, 1, ['pv'], points_in_world, state = state_name, year=year, save = True, coordinates = mode)\n",
    "\n",
    "fichiers_trouves = glob.glob(chemin_pattern)\n",
    "file_name = fichiers_trouves[0].split('/',2)[-1]\n",
    "PV_ts = import_excel(path_input_data,file_name, \n",
    "                                dpd ,ndpd, dpy, \n",
    "                                interp=True, norm = None) # interpolate data from dpd to ndpd numper of points per day\n",
    "\n",
    "mean_pv = pd.read_excel(path_input_data+file_name).mean().iloc[0]"
   ]
  },
  {
   "cell_type": "markdown",
   "id": "c193954b",
   "metadata": {
    "papermill": {
     "duration": null,
     "end_time": null,
     "exception": null,
     "start_time": null,
     "status": "completed"
    },
    "tags": []
   },
   "source": [
    "### Plot Time Series"
   ]
  },
  {
   "cell_type": "code",
   "execution_count": 13,
   "id": "21f77d7b",
   "metadata": {
    "papermill": {
     "duration": null,
     "end_time": null,
     "exception": null,
     "start_time": null,
     "status": "completed"
    },
    "tags": []
   },
   "outputs": [],
   "source": [
    "# colors_dict = {\n",
    "#     'Wind': 'steelblue',        \n",
    "#     'PV': 'gold',\n",
    "#     'Discharge': 'orangered',    \n",
    "#     'SOC': 'darkgreen',           \n",
    "#     'Charge': 'purple',\n",
    "#     'Consumption': 'green',          \n",
    "#     'Dispatchable': 'crimson',       \n",
    "#     'Curtailment': 'cyan'    \n",
    "# }"
   ]
  },
  {
   "cell_type": "code",
   "execution_count": 14,
   "id": "433bb040",
   "metadata": {
    "execution": {
     "iopub.execute_input": "2024-06-05T08:06:45.197538Z",
     "iopub.status.busy": "2024-06-05T08:06:45.196531Z",
     "iopub.status.idle": "2024-06-05T08:06:46.395459Z",
     "shell.execute_reply": "2024-06-05T08:06:46.392551Z"
    },
    "papermill": {
     "duration": null,
     "end_time": null,
     "exception": null,
     "start_time": null,
     "status": "completed"
    },
    "tags": []
   },
   "outputs": [],
   "source": [
    "# # Create a Plotly figure\n",
    "# fig = go.Figure()\n",
    "\n",
    "# fig.add_trace(go.Scatter(y=PV_ts, mode='lines', name='PV',marker=dict(color=colors_dict['PV'])))\n",
    "# fig.add_trace(go.Scatter(y=Load_ts, mode='lines', name='Demand',marker=dict(color=colors_dict['Consumption'])))\n",
    "# fig.add_trace(go.Scatter(y=Wind_ts, mode='lines', name='Wind',marker=dict(color=colors_dict['Wind'])))\n",
    "# fig.update_layout(title=f'{country_name} {state_name} 2021', xaxis_title='Hour', yaxis_title='Power normalized')\n",
    "\n",
    "# # Show the plot\n",
    "# fig.show()"
   ]
  },
  {
   "cell_type": "markdown",
   "id": "81638a89",
   "metadata": {
    "papermill": {
     "duration": null,
     "end_time": null,
     "exception": null,
     "start_time": null,
     "status": "completed"
    },
    "tags": []
   },
   "source": [
    "### Description of the problem"
   ]
  },
  {
   "cell_type": "markdown",
   "id": "87bf9238",
   "metadata": {
    "papermill": {
     "duration": null,
     "end_time": null,
     "exception": null,
     "start_time": null,
     "status": "completed"
    },
    "tags": []
   },
   "source": [
    "#### Equations:\n",
    "\n",
    "- **Objective function** : \n",
    "  - Minimize dispatchable energy: $ \\min(\\sum{P_{dispatchable}(t)*dt}) $\n",
    "\n",
    "\n",
    "- **Node Law** : \n",
    "  - $(P_{pv}(t) + P_{wind}(t) + P_{dispatchable}(t) - P_{in\\_stock}(t) + P_{out\\_stock}(t) = P_{demand}(t) + P_{curt}(t))$\n",
    "\n",
    "\n",
    "- **State of charge**\n",
    "  - $SOC(t+1)=SOC(t)+P_{in\\_stock}(t) - P_{out\\_stock}(t)$\n",
    "\n",
    "#### Contraintes :\n",
    "- $E_{wind} + E_{pv} \\leq E_{demand}$\n",
    "- We want a maximum storage size of 10 hours:  $E_{stock} \\leq 10$\n",
    "- Charging and discharging at the same time is not possible. \n"
   ]
  },
  {
   "cell_type": "markdown",
   "id": "b4432d06",
   "metadata": {
    "papermill": {
     "duration": null,
     "end_time": null,
     "exception": null,
     "start_time": null,
     "status": "completed"
    },
    "tags": []
   },
   "source": [
    "### Implementation\n",
    "#### Decision Variables:\n",
    "- `x_pv`: Installed capacity for photovoltaic production.\n",
    "- `x_wind`: Installed capacity for wind production.\n",
    "- `ts_dispatchable`: Dispatchable production (can be controlled), time serie.\n",
    "- `p_ch`: Battery charging power, time serie.\n",
    "- `p_dech`: Battery discharging power, time serie.\n",
    "- `SOC_ts`: State of charge of the battery, time serie.\n",
    "- `p_curt`: Curtailment power (lost energy), time serie.\n",
    "- `dech_active`: Binary variable indicating if the battery is charging or discharging."
   ]
  },
  {
   "cell_type": "markdown",
   "id": "f584c55e",
   "metadata": {
    "papermill": {
     "duration": null,
     "end_time": null,
     "exception": null,
     "start_time": null,
     "status": "completed"
    },
    "tags": []
   },
   "source": [
    "### Run the optimization with GUROBI\n",
    "\n",
    "**If the optimization has already been run, go to the next part where results can be loaded and analysed in plots.**"
   ]
  },
  {
   "cell_type": "code",
   "execution_count": 15,
   "id": "151d88cf",
   "metadata": {
    "execution": {
     "iopub.execute_input": "2024-06-05T08:06:48.636826Z",
     "iopub.status.busy": "2024-06-05T08:06:48.635835Z",
     "iopub.status.idle": "2024-06-05T08:07:01.696878Z",
     "shell.execute_reply": "2024-06-05T08:07:01.694799Z"
    },
    "papermill": {
     "duration": null,
     "end_time": null,
     "exception": null,
     "start_time": null,
     "status": "completed"
    },
    "tags": []
   },
   "outputs": [
    {
     "name": "stdout",
     "output_type": "stream",
     "text": [
      "Set parameter WLSAccessID\n",
      "Set parameter WLSSecret\n",
      "Set parameter LicenseID to value 2537910\n",
      "Academic license 2537910 - for non-commercial use only - registered to ju___@cea.fr\n",
      "Gurobi Optimizer version 11.0.1 build v11.0.1rc0 (win64 - Windows 10.0 (19045.2))\n",
      "\n",
      "CPU model: 11th Gen Intel(R) Core(TM) i5-1145G7 @ 2.60GHz, instruction set [SSE2|AVX|AVX2|AVX512]\n",
      "Thread count: 4 physical cores, 8 logical processors, using up to 8 threads\n",
      "\n",
      "Academic license 2537910 - for non-commercial use only - registered to ju___@cea.fr\n",
      "Optimize a model with 35041 rows, 52561 columns and 118068 nonzeros\n",
      "Model fingerprint: 0x039cec1c\n",
      "Variable types: 43802 continuous, 8759 integer (0 binary)\n",
      "Coefficient statistics:\n",
      "  Matrix range     [1e-03, 1e+05]\n",
      "  Objective range  [1e+00, 1e+00]\n",
      "  Bounds range     [1e+00, 1e+05]\n",
      "  RHS range        [7e-01, 1e+05]\n",
      "Found heuristic solution: objective 8760.0000000\n",
      "Presolve removed 5 rows and 8765 columns\n",
      "Presolve time: 0.59s\n",
      "Presolved: 35036 rows, 43796 columns, 106573 nonzeros\n",
      "Found heuristic solution: objective 8759.1144250\n",
      "Variable types: 35037 continuous, 8759 integer (8759 binary)\n",
      "Deterministic concurrent LP optimizer: primal and dual simplex\n",
      "Showing primal log only...\n",
      "\n",
      "\n",
      "Root simplex log...\n",
      "\n",
      "Iteration    Objective       Primal Inf.    Dual Inf.      Time\n",
      "   25733    4.1585374e+02   0.000000e+00   1.218358e+04      5s\n",
      "Concurrent spin time: 0.00s\n",
      "\n",
      "Solved with dual simplex\n",
      "\n",
      "Root simplex log...\n",
      "\n",
      "Iteration    Objective       Primal Inf.    Dual Inf.      Time\n",
      "    7818    2.7667395e+02   0.000000e+00   0.000000e+00      9s\n",
      "\n",
      "Root relaxation: objective 2.766740e+02, 7818 iterations, 7.79 seconds (4.18 work units)\n",
      "\n",
      "    Nodes    |    Current Node    |     Objective Bounds      |     Work\n",
      " Expl Unexpl |  Obj  Depth IntInf | Incumbent    BestBd   Gap | It/Node Time\n",
      "\n",
      "*    0     0               0     276.6739517  276.67395  0.00%     -    8s\n",
      "\n",
      "Explored 1 nodes (7818 simplex iterations) in 8.85 seconds (4.51 work units)\n",
      "Thread count was 8 (of 8 available processors)\n",
      "\n",
      "Solution count 3: 276.674 8759.11 8760 \n",
      "\n",
      "Optimal solution found (tolerance 1.00e-04)\n",
      "Best objective 2.766739517295e+02, best bound 2.766739517295e+02, gap 0.0000%\n",
      "Gurobi status= 2\n",
      "Status: Optimal\n",
      "Coefficient optimal pour PV: 4.245564210368698\n",
      "Coefficient optimal pour Wind: 1.9525726056636588\n",
      "Optimization results saved to results/Australia/optimization_results_NSW_150c.pickle\n"
     ]
    }
   ],
   "source": [
    "optimized_parameters=optimize_enr_150(country_name, Load_ts, PV_ts, Wind_ts, mean_load, state_name = state_name,save_results = True)"
   ]
  },
  {
   "cell_type": "markdown",
   "id": "e3022ea8",
   "metadata": {
    "papermill": {
     "duration": null,
     "end_time": null,
     "exception": null,
     "start_time": null,
     "status": "completed"
    },
    "tags": []
   },
   "source": [
    "### Add results to .csv file with all countries"
   ]
  },
  {
   "cell_type": "code",
   "execution_count": 16,
   "id": "2ed373a0",
   "metadata": {
    "execution": {
     "iopub.execute_input": "2024-06-05T08:07:02.580700Z",
     "iopub.status.busy": "2024-06-05T08:07:02.579738Z",
     "iopub.status.idle": "2024-06-05T08:07:02.599746Z",
     "shell.execute_reply": "2024-06-05T08:07:02.597365Z"
    },
    "papermill": {
     "duration": null,
     "end_time": null,
     "exception": null,
     "start_time": null,
     "status": "completed"
    },
    "tags": []
   },
   "outputs": [],
   "source": [
    "df_new = pd.DataFrame({\"Country\" : [country_name],\"State\":[state_name],\"iso_alpha\":[optimized_parameters['iso_alpha']],\n",
    "    \"mean_load\":[optimized_parameters['mean_consumption']],\n",
    "    \"E_dispatch\": [optimized_parameters['E_dispatch']],\n",
    "    \"P_dispatch\": [optimized_parameters['dispatchable_capacity']],\n",
    "    \"E_destock\": [optimized_parameters['E_destock']],\n",
    "    \"P_pv\": [optimized_parameters['pv_capacity']],\n",
    "    \"P_wind\": [optimized_parameters['wind_capacity']]\n",
    "})\n"
   ]
  },
  {
   "cell_type": "code",
   "execution_count": 18,
   "id": "bb04d710",
   "metadata": {
    "execution": {
     "iopub.execute_input": "2024-06-05T08:07:03.046028Z",
     "iopub.status.busy": "2024-06-05T08:07:03.044002Z",
     "iopub.status.idle": "2024-06-05T08:07:03.127779Z",
     "shell.execute_reply": "2024-06-05T08:07:03.125002Z"
    },
    "papermill": {
     "duration": null,
     "end_time": null,
     "exception": null,
     "start_time": null,
     "status": "completed"
    },
    "tags": []
   },
   "outputs": [
    {
     "name": "stdout",
     "output_type": "stream",
     "text": [
      "Data have been added to results/optimization_results_world_grid_with_states_150pc.csv\n"
     ]
    },
    {
     "ename": "",
     "evalue": "",
     "output_type": "error",
     "traceback": [
      "\u001b[1;31mThe Kernel crashed while executing code in the the current cell or a previous cell. Please review the code in the cell(s) to identify a possible cause of the failure. Click <a href='https://aka.ms/vscodeJupyterKernelCrash'>here</a> for more info. View Jupyter <a href='command:jupyter.viewOutput'>log</a> for further details."
     ]
    }
   ],
   "source": [
    "all_results_file = \"results/optimization_results_world_grid_with_states_150pc.csv\"\n",
    "file_exists = os.path.isfile(all_results_file)\n",
    "\n",
    "df_new.to_csv(all_results_file, mode='a', index=False, header=not file_exists)\n",
    "\n",
    "print(f\"Data have been added to {all_results_file}\")    "
   ]
  },
  {
   "cell_type": "markdown",
   "id": "68cd0ec4",
   "metadata": {
    "papermill": {
     "duration": null,
     "end_time": null,
     "exception": null,
     "start_time": null,
     "status": "completed"
    },
    "tags": []
   },
   "source": [
    "## Plots"
   ]
  },
  {
   "cell_type": "code",
   "execution_count": null,
   "id": "3331b373",
   "metadata": {
    "execution": {
     "iopub.execute_input": "2024-06-05T08:07:04.020292Z",
     "iopub.status.busy": "2024-06-05T08:07:04.018292Z",
     "iopub.status.idle": "2024-06-05T08:07:04.042587Z",
     "shell.execute_reply": "2024-06-05T08:07:04.040082Z"
    },
    "papermill": {
     "duration": null,
     "end_time": null,
     "exception": null,
     "start_time": null,
     "status": "completed"
    },
    "tags": []
   },
   "outputs": [],
   "source": [
    "# from plots import plot_ts_optim, plot_pie_energy, plot_storage, plot_stack_production"
   ]
  },
  {
   "cell_type": "code",
   "execution_count": null,
   "id": "2dbafb91",
   "metadata": {
    "execution": {
     "iopub.execute_input": "2024-06-05T08:07:04.486668Z",
     "iopub.status.busy": "2024-06-05T08:07:04.485670Z",
     "iopub.status.idle": "2024-06-05T08:07:04.509473Z",
     "shell.execute_reply": "2024-06-05T08:07:04.506053Z"
    },
    "papermill": {
     "duration": null,
     "end_time": null,
     "exception": null,
     "start_time": null,
     "status": "completed"
    },
    "tags": []
   },
   "outputs": [],
   "source": [
    "# plot_ts_optim([optimized_parameters['optimized_pv'], optimized_parameters['optimized_wind'], optimized_parameters['optimized_dispatchable'], optimized_parameters['optimized_p_curt'],np.array(Load_ts) ], ['PV', 'Wind', 'Dispatchable', 'Curtailment', 'Consumption'], country_name, colors_dict = colors_dict,savefig=False)"
   ]
  },
  {
   "cell_type": "code",
   "execution_count": null,
   "id": "2e8e5dec",
   "metadata": {
    "execution": {
     "iopub.execute_input": "2024-06-05T08:07:04.951503Z",
     "iopub.status.busy": "2024-06-05T08:07:04.950509Z",
     "iopub.status.idle": "2024-06-05T08:07:04.973110Z",
     "shell.execute_reply": "2024-06-05T08:07:04.971150Z"
    },
    "papermill": {
     "duration": null,
     "end_time": null,
     "exception": null,
     "start_time": null,
     "status": "completed"
    },
    "tags": []
   },
   "outputs": [],
   "source": [
    "# plot_storage(optimized_parameters['optimized_charge'], optimized_parameters['optimized_discharge'], optimized_parameters['optimized_stock'], country_name, colors_dict = colors_dict, savefig=False)"
   ]
  },
  {
   "cell_type": "code",
   "execution_count": null,
   "id": "cea6c60b",
   "metadata": {
    "execution": {
     "iopub.execute_input": "2024-06-05T08:07:05.436834Z",
     "iopub.status.busy": "2024-06-05T08:07:05.435033Z",
     "iopub.status.idle": "2024-06-05T08:07:05.453515Z",
     "shell.execute_reply": "2024-06-05T08:07:05.450616Z"
    },
    "papermill": {
     "duration": null,
     "end_time": null,
     "exception": null,
     "start_time": null,
     "status": "completed"
    },
    "tags": []
   },
   "outputs": [],
   "source": [
    "# E_wind = optimized_parameters['E_wind']\n",
    "# E_pv = optimized_parameters['E_pv']\n",
    "# E_dispatch = optimized_parameters['E_dispatch']"
   ]
  },
  {
   "cell_type": "code",
   "execution_count": null,
   "id": "662b937f",
   "metadata": {
    "execution": {
     "iopub.execute_input": "2024-06-05T08:07:05.896286Z",
     "iopub.status.busy": "2024-06-05T08:07:05.894239Z",
     "iopub.status.idle": "2024-06-05T08:07:05.920101Z",
     "shell.execute_reply": "2024-06-05T08:07:05.917850Z"
    },
    "papermill": {
     "duration": null,
     "end_time": null,
     "exception": null,
     "start_time": null,
     "status": "completed"
    },
    "tags": []
   },
   "outputs": [],
   "source": [
    "# plot_pie_energy([E_wind, E_pv, E_dispatch], country_name, colors_dict =colors_dict, savefig=False)"
   ]
  }
 ],
 "metadata": {
  "kernelspec": {
   "display_name": "Python 3",
   "language": "python",
   "name": "python3"
  },
  "language_info": {
   "codemirror_mode": {
    "name": "ipython",
    "version": 3
   },
   "file_extension": ".py",
   "mimetype": "text/x-python",
   "name": "python",
   "nbconvert_exporter": "python",
   "pygments_lexer": "ipython3",
   "version": "3.10.13"
  },
  "papermill": {
   "default_parameters": {},
   "duration": 55.167108,
   "end_time": "2024-08-01T14:59:35.381504",
   "environment_variables": {},
   "exception": null,
   "input_path": "1b_run_optimization_grid_constraint_150pc.ipynb",
   "output_path": "1b_run_optimization_grid_constraint_150pc.ipynb",
   "parameters": {
    "country_name": "Algeria"
   },
   "start_time": "2024-08-01T14:58:40.214396",
   "version": "2.6.0"
  }
 },
 "nbformat": 4,
 "nbformat_minor": 5
}
