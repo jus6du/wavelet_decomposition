{
 "cells": [
  {
   "cell_type": "markdown",
   "metadata": {},
   "source": [
    "# Data preparation for PERSEE"
   ]
  },
  {
   "cell_type": "markdown",
   "metadata": {},
   "source": [
    "This notebook creates time series in the right format to be used in PERSEE for optimization."
   ]
  },
  {
   "cell_type": "code",
   "execution_count": 43,
   "metadata": {},
   "outputs": [],
   "source": [
    "import pandas as pd\n",
    "from utilities import import_excel, format_load_data\n",
    "import os\n",
    "import glob"
   ]
  },
  {
   "cell_type": "markdown",
   "metadata": {},
   "source": [
    "First, the user need to choose the countries of interest."
   ]
  },
  {
   "cell_type": "code",
   "execution_count": 56,
   "metadata": {},
   "outputs": [],
   "source": [
    "countries = ['France', 'Spain', 'Algeria', 'Peru', 'Japan']\n",
    "region_name = None"
   ]
  },
  {
   "cell_type": "markdown",
   "metadata": {},
   "source": [
    "We start to build the csv file with the head and the time column."
   ]
  },
  {
   "cell_type": "code",
   "execution_count": 57,
   "metadata": {},
   "outputs": [],
   "source": [
    "seconds_in_a_year = 31536000\n",
    "\n",
    "# Generate times from 0 to the total seconds in a year at 1-hour intervals\n",
    "times = list(range(3600, seconds_in_a_year + 1, 3600))\n",
    "column_data =  [\n",
    "        \"01/01/2021 00:00\",\n",
    "        \"s\",\n",
    "        \"true\"]\n",
    "column_data += times\n",
    "\n",
    "data = {\n",
    "    \"Time\": column_data\n",
    "}\n",
    "\n",
    "# Create the DataFrame\n",
    "df = pd.DataFrame(data)\n"
   ]
  },
  {
   "cell_type": "markdown",
   "metadata": {},
   "source": [
    "Then we need to retrieve the time series for consumption and production."
   ]
  },
  {
   "cell_type": "code",
   "execution_count": 58,
   "metadata": {},
   "outputs": [],
   "source": [
    "path_input_data = '../input_time_series/'"
   ]
  },
  {
   "cell_type": "code",
   "execution_count": 59,
   "metadata": {},
   "outputs": [],
   "source": [
    "for country in countries :\n",
    "    \n",
    "    folder = path_input_data + f'/{country}'\n",
    "\n",
    "    # we retrieve the conso time series \n",
    "    file_name_conso = format_load_data(country, region_name)\n",
    "    conso = pd.read_excel(path_input_data+file_name_conso)\n",
    "\n",
    "    # we add them to the dataframe\n",
    "    df.loc[0, f'Consumption{country}']='demande'\n",
    "    df.loc[1, f'Consumption{country}']='MW'\n",
    "    df.loc[2, f'Consumption{country}']='true'\n",
    "    for i in range(3, 8763):\n",
    "        df.loc[i,f'Consumption{country}']=conso.iloc[i-3,0]\n",
    "\n",
    "    # we retrieve PV time series\n",
    "    partie_name_file = f'grid_locations_averaged_pv_{country}_2021.xlsx'\n",
    "    chemin_pattern = os.path.join(folder, f'*{partie_name_file}*')\n",
    "    fichiers_trouves = glob.glob(chemin_pattern)\n",
    "    file_name = fichiers_trouves[0].split('/',2)[-1]\n",
    "    pv = pd.read_excel(path_input_data+file_name)\n",
    "\n",
    "     # we add them to the dataframe\n",
    "    df.loc[0, f'PVProduction{country}']='prod pv'\n",
    "    df.loc[1, f'PVProduction{country}']='MW'\n",
    "    df.loc[2, f'PVProduction{country}']='true'\n",
    "    for i in range(3, 8763):\n",
    "        df.loc[i,f'PVProduction{country}']=pv.iloc[i-3,0]\n",
    "\n",
    "    # we retrieve Wind time series\n",
    "    partie_name_file = f'grid_locations_averaged_wind_{country}_2021.xlsx'\n",
    "    \n",
    "    chemin_pattern = os.path.join(folder, f'*{partie_name_file}*')\n",
    "    fichiers_trouves = glob.glob(chemin_pattern)\n",
    "    file_name = fichiers_trouves[0].split('/',2)[-1]\n",
    "    wind = pd.read_excel(path_input_data+file_name)\n",
    "\n",
    "\n",
    "     # we add them to the dataframe\n",
    "    df.loc[0, f'WindProduction{country}']='prod eolienne'\n",
    "    df.loc[1, f'WindProduction{country}']='MW'\n",
    "    df.loc[2, f'WindProduction{country}']='true'\n",
    "    for i in range(3, 8763):\n",
    "        df.loc[i,f'WindProduction{country}']=wind.iloc[i-3,0]\n"
   ]
  },
  {
   "cell_type": "code",
   "execution_count": 60,
   "metadata": {},
   "outputs": [
    {
     "name": "stdout",
     "output_type": "stream",
     "text": [
      "               Time ConsumptionFrance PVProductionFrance WindProductionFrance  \\\n",
      "0  01/01/2021 00:00           demande            prod pv        prod eolienne   \n",
      "1                 s                MW                 MW                   MW   \n",
      "2              true              true               true                 true   \n",
      "3              3600             76517                0.0                0.006   \n",
      "4              7200             76117                0.0                0.006   \n",
      "\n",
      "  ConsumptionSpain PVProductionSpain WindProductionSpain ConsumptionAlgeria  \\\n",
      "0          demande           prod pv       prod eolienne            demande   \n",
      "1               MW                MW                  MW                 MW   \n",
      "2             true              true                true               true   \n",
      "3            28706               0.0            0.231333               3872   \n",
      "4            27572               0.0               0.193               3754   \n",
      "\n",
      "  PVProductionAlgeria WindProductionAlgeria ConsumptionPeru PVProductionPeru  \\\n",
      "0             prod pv         prod eolienne         demande          prod pv   \n",
      "1                  MW                    MW              MW               MW   \n",
      "2                true                  true            true             true   \n",
      "3                 0.0                 0.617            6141              0.0   \n",
      "4                 0.0                0.6085            6326              0.0   \n",
      "\n",
      "  WindProductionPeru ConsumptionJapan PVProductionJapan WindProductionJapan  \n",
      "0      prod eolienne          demande           prod pv       prod eolienne  \n",
      "1                 MW               MW                MW                  MW  \n",
      "2               true             true              true                true  \n",
      "3              0.087           130299             0.103               0.949  \n",
      "4              0.099           131300             0.163               0.952  \n"
     ]
    }
   ],
   "source": [
    "# Display dataframe to make sure eeverything is right\n",
    "\n",
    "print(df.head())"
   ]
  },
  {
   "cell_type": "markdown",
   "metadata": {},
   "source": [
    "Finally, we choose a filename for the .csv file that will be stored"
   ]
  },
  {
   "cell_type": "code",
   "execution_count": 61,
   "metadata": {},
   "outputs": [],
   "source": [
    "save_name = f'test_countries_{len(countries)}.csv'\n",
    "df.to_csv(f'../input_time_series/persee/{save_name}', index = False, sep=';')"
   ]
  },
  {
   "cell_type": "code",
   "execution_count": null,
   "metadata": {},
   "outputs": [],
   "source": []
  }
 ],
 "metadata": {
  "kernelspec": {
   "display_name": "Python 3",
   "language": "python",
   "name": "python3"
  },
  "language_info": {
   "codemirror_mode": {
    "name": "ipython",
    "version": 3
   },
   "file_extension": ".py",
   "mimetype": "text/x-python",
   "name": "python",
   "nbconvert_exporter": "python",
   "pygments_lexer": "ipython3",
   "version": "3.10.13"
  },
  "orig_nbformat": 4
 },
 "nbformat": 4,
 "nbformat_minor": 2
}
