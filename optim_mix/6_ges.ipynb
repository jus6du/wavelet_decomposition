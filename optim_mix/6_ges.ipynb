{
 "cells": [
  {
   "cell_type": "code",
   "execution_count": 1,
   "metadata": {},
   "outputs": [],
   "source": [
    "import pandas as pd\n",
    "# Population data\n",
    "pop_data = pd.read_excel('../population_data_UN.xlsx', index_col=0, header = 1)\n",
    "pop_data = pop_data[[\"ISO3 Alpha-code\",'Total Population, as of 1 January (thousands)']]\n",
    "pop_data = pop_data.set_index(\"ISO3 Alpha-code\")\n",
    "country_codes = pd.read_csv('../countries_codes_and_coordinates.csv' , sep = ',', index_col = 0)"
   ]
  },
  {
   "cell_type": "code",
   "execution_count": 2,
   "metadata": {},
   "outputs": [],
   "source": [
    "data = pd.read_csv('./results/optimization_results_world_grid.csv')\n",
    "data = data.set_index('Country')\n",
    "data = data.drop(['Antarctica'], axis =0)\n",
    "for col in data.columns[1:]: \n",
    "    data[f'{col}_normalized']=data[col]/data['mean_load']\n",
    "    \n",
    "for c in data.index.to_list(): \n",
    "    results = pd.read_pickle(f'results/{c}/optimization_results.pickle')\n",
    "    iso_code = country_codes.loc[c,'Alpha-3 code' ].split(' ')[1]\n",
    "    pop = pop_data.loc[iso_code]\n",
    "    pop=pop.iloc[0]\n",
    "    data.loc[c, 'capacity_factor_wind'] = results['E_wind']/data.loc[c, 'P_wind']/8760\n",
    "    data.loc[c, 'capacity_factor_pv'] = results['E_pv']/data.loc[c, 'P_pv']/8760\n",
    "    data.loc[c, 'capacity_factor_dispatch'] = results['E_dispatch']/data.loc[c, 'P_dispatch']/8760\n",
    "    data.loc[c, 'share_dispatchable'] = results['E_dispatch']/(results['E_wind']+results['E_pv']+results['E_dispatch'])*100\n",
    "    data.loc[c, 'share_wind']=results['E_wind']/(results['E_wind']+results['E_pv']+results['E_dispatch'])*100\n",
    "    data.loc[c, 'share_pv']=results['E_pv']/(results['E_wind']+results['E_pv']+results['E_dispatch'])*100\n",
    "    data.loc[c, 'carbon_impact']=results['E_wind']*11+results['E_pv']*45/pop/1000\n"
   ]
  },
  {
   "cell_type": "code",
   "execution_count": 19,
   "metadata": {},
   "outputs": [],
   "source": [
    "for c in data.index.to_list(): \n",
    "    results = pd.read_pickle(f'results/{c}/optimization_results.pickle')\n",
    "    iso_code = country_codes.loc[c,'Alpha-3 code' ].split(' ')[1]\n",
    "    pop = pop_data.loc[iso_code]\n",
    "    pop=pop.iloc[0]\n",
    "    data.loc[c, 'E_wind'] = results['E_wind']\n",
    "    data.loc[c, 'E_pv'] = results['E_pv']\n",
    "    data.loc[c, 'E_dispatch'] = results['E_dispatch']\n",
    "    data.loc[c, 'carbon_impact']=results['E_wind']*11+results['E_pv']*45+results['E_dispatch']*440"
   ]
  },
  {
   "cell_type": "code",
   "execution_count": 20,
   "metadata": {},
   "outputs": [
    {
     "data": {
      "text/plain": [
       "1.9327125138644856"
      ]
     },
     "execution_count": 20,
     "metadata": {},
     "output_type": "execute_result"
    }
   ],
   "source": [
    "data['carbon_impact'].sum()/10**12 #Gt"
   ]
  },
  {
   "cell_type": "code",
   "execution_count": 23,
   "metadata": {},
   "outputs": [
    {
     "data": {
      "text/plain": [
       "1.4349581385059869"
      ]
     },
     "execution_count": 23,
     "metadata": {},
     "output_type": "execute_result"
    }
   ],
   "source": [
    "data['E_dispatch'].sum()*500/10**12"
   ]
  },
  {
   "cell_type": "code",
   "execution_count": null,
   "metadata": {},
   "outputs": [],
   "source": []
  }
 ],
 "metadata": {
  "kernelspec": {
   "display_name": "Python 3",
   "language": "python",
   "name": "python3"
  },
  "language_info": {
   "codemirror_mode": {
    "name": "ipython",
    "version": 3
   },
   "file_extension": ".py",
   "mimetype": "text/x-python",
   "name": "python",
   "nbconvert_exporter": "python",
   "pygments_lexer": "ipython3",
   "version": "3.10.13"
  },
  "orig_nbformat": 4
 },
 "nbformat": 4,
 "nbformat_minor": 2
}
