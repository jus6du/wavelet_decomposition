{
 "cells": [
  {
   "cell_type": "code",
   "execution_count": 21,
   "id": "b152ca2c",
   "metadata": {
    "execution": {
     "iopub.execute_input": "2024-06-05T08:06:09.213307Z",
     "iopub.status.busy": "2024-06-05T08:06:09.211778Z",
     "iopub.status.idle": "2024-06-05T08:06:09.256187Z",
     "shell.execute_reply": "2024-06-05T08:06:09.253661Z"
    },
    "papermill": {
     "duration": 0.085039,
     "end_time": "2024-06-05T08:06:09.261044",
     "exception": false,
     "start_time": "2024-06-05T08:06:09.176005",
     "status": "completed"
    },
    "tags": [
     "injected-parameters"
    ]
   },
   "outputs": [],
   "source": [
    "# Parameters\n",
    "country_name = \"Zimbabwe\"\n"
   ]
  },
  {
   "cell_type": "markdown",
   "id": "15af41b4",
   "metadata": {
    "papermill": {
     "duration": 0.028189,
     "end_time": "2024-06-05T08:06:09.313118",
     "exception": false,
     "start_time": "2024-06-05T08:06:09.284929",
     "status": "completed"
    },
    "tags": []
   },
   "source": [
    "# Optimization Problem Time Series"
   ]
  },
  {
   "cell_type": "markdown",
   "id": "b4bdf036",
   "metadata": {
    "papermill": {
     "duration": 0.022517,
     "end_time": "2024-06-05T08:06:09.366938",
     "exception": false,
     "start_time": "2024-06-05T08:06:09.344421",
     "status": "completed"
    },
    "tags": []
   },
   "source": [
    "This notebook optimizes an electrci mix based on : \n",
    "- an electricity demand time serie\n",
    "- a PV production time serie\n",
    "- a wind production time serie"
   ]
  },
  {
   "cell_type": "code",
   "execution_count": 1,
   "id": "c37d952c",
   "metadata": {
    "execution": {
     "iopub.execute_input": "2024-06-05T08:06:09.428376Z",
     "iopub.status.busy": "2024-06-05T08:06:09.427275Z",
     "iopub.status.idle": "2024-06-05T08:06:38.022927Z",
     "shell.execute_reply": "2024-06-05T08:06:38.021009Z"
    },
    "papermill": {
     "duration": 28.635461,
     "end_time": "2024-06-05T08:06:38.028004",
     "exception": false,
     "start_time": "2024-06-05T08:06:09.392543",
     "status": "completed"
    },
    "tags": []
   },
   "outputs": [],
   "source": [
    "import numpy as np\n",
    "import pandas as pd\n",
    "from scipy.optimize import minimize\n",
    "from pulp import *\n",
    "import sys\n",
    "from utilities import import_excel, optimize_enr, format_load_data\n",
    "import plotly.graph_objects as go\n",
    "import plotly.express as px\n",
    "import pickle\n",
    "from ren_ninja_api import fetch_and_average_data_ren_ninja, get_regular_coordinates\n",
    "import plotly.io as pio\n",
    "import os\n",
    "import glob\n",
    "import geopandas as gpd\n",
    "pio.renderers.default='notebook'"
   ]
  },
  {
   "cell_type": "markdown",
   "id": "402479c1",
   "metadata": {
    "papermill": {
     "duration": 0.022923,
     "end_time": "2024-06-05T08:06:38.245271",
     "exception": false,
     "start_time": "2024-06-05T08:06:38.222348",
     "status": "completed"
    },
    "tags": []
   },
   "source": [
    "Enter country name for file naming: "
   ]
  },
  {
   "cell_type": "code",
   "execution_count": 25,
   "id": "f45f9276",
   "metadata": {
    "execution": {
     "iopub.execute_input": "2024-06-05T08:06:38.293677Z",
     "iopub.status.busy": "2024-06-05T08:06:38.292676Z",
     "iopub.status.idle": "2024-06-05T08:06:38.315916Z",
     "shell.execute_reply": "2024-06-05T08:06:38.313147Z"
    },
    "papermill": {
     "duration": 0.050945,
     "end_time": "2024-06-05T08:06:38.319432",
     "exception": false,
     "start_time": "2024-06-05T08:06:38.268487",
     "status": "completed"
    },
    "tags": []
   },
   "outputs": [],
   "source": [
    "year = 2021\n",
    "# country_name = 'Russia'\n",
    "country_name = country_name\n",
    "# Directory path\n",
    "path_input_data = '../input_time_series/'\n",
    "mode = 'grid'"
   ]
  },
  {
   "cell_type": "code",
   "execution_count": 26,
   "id": "c0b96a3e",
   "metadata": {},
   "outputs": [
    {
     "data": {
      "text/plain": [
       "(1335833.8895192828, 1345708.4084091089)"
      ]
     },
     "execution_count": 26,
     "metadata": {},
     "output_type": "execute_result"
    }
   ],
   "source": [
    "from pyproj import Transformer\n",
    "transformer = Transformer.from_crs(\"EPSG:4326\", \"EPSG:3857\")\n",
    "transformer.transform(12, 12)"
   ]
  },
  {
   "cell_type": "code",
   "execution_count": 27,
   "id": "5d6841e6",
   "metadata": {},
   "outputs": [],
   "source": [
    "points_in_world = gpd.read_file('grid_with_centroids.geojson')"
   ]
  },
  {
   "cell_type": "markdown",
   "id": "6f1c8714",
   "metadata": {
    "papermill": {
     "duration": 0.027604,
     "end_time": "2024-06-05T08:06:38.372038",
     "exception": false,
     "start_time": "2024-06-05T08:06:38.344434",
     "status": "completed"
    },
    "tags": []
   },
   "source": [
    "### Load Time Series\n",
    "\n",
    "First we load the time series that will be used in the problem. We use the  ```import_excel``` function used in the wavelet decomposition."
   ]
  },
  {
   "cell_type": "markdown",
   "id": "0997904d",
   "metadata": {
    "papermill": {
     "duration": 0.024349,
     "end_time": "2024-06-05T08:06:38.427493",
     "exception": false,
     "start_time": "2024-06-05T08:06:38.403144",
     "status": "completed"
    },
    "tags": []
   },
   "source": [
    "#### Demand"
   ]
  },
  {
   "cell_type": "code",
   "execution_count": 28,
   "id": "0759aa82",
   "metadata": {
    "execution": {
     "iopub.execute_input": "2024-06-05T08:06:38.483709Z",
     "iopub.status.busy": "2024-06-05T08:06:38.482623Z",
     "iopub.status.idle": "2024-06-05T08:06:42.439479Z",
     "shell.execute_reply": "2024-06-05T08:06:42.437602Z"
    },
    "papermill": {
     "duration": 3.991471,
     "end_time": "2024-06-05T08:06:42.444934",
     "exception": false,
     "start_time": "2024-06-05T08:06:38.453463",
     "status": "completed"
    },
    "tags": []
   },
   "outputs": [],
   "source": [
    "# Demand time serie\n",
    "\n",
    "dpd = 24 # data per day in the time serie\n",
    "dpy = 365 # data per year :  cut the leap years to 365 years\n",
    "\n",
    "ndpd = 24 # new data per day for hourly data (for the interpolation)\n",
    "signal_length = ndpd * dpy\n",
    "\n",
    "file_name = format_load_data(country_name)\n",
    "Load_ts = import_excel(path_input_data,file_name, \n",
    "                                    dpd ,ndpd, dpy, \n",
    "                                    interp=True, norm = 'mean') # interpolate data from dpd to ndpd numper of points per day\n",
    "\n",
    "mean_load = pd.read_excel(path_input_data+file_name).mean().iloc[0]"
   ]
  },
  {
   "cell_type": "markdown",
   "id": "5847a57e",
   "metadata": {
    "papermill": {
     "duration": 0.023235,
     "end_time": "2024-06-05T08:06:42.493296",
     "exception": false,
     "start_time": "2024-06-05T08:06:42.470061",
     "status": "completed"
    },
    "tags": []
   },
   "source": [
    "#### Wind production"
   ]
  },
  {
   "cell_type": "code",
   "execution_count": 29,
   "id": "5061fb75",
   "metadata": {
    "execution": {
     "iopub.execute_input": "2024-06-05T08:06:42.552857Z",
     "iopub.status.busy": "2024-06-05T08:06:42.550588Z",
     "iopub.status.idle": "2024-06-05T08:06:43.849143Z",
     "shell.execute_reply": "2024-06-05T08:06:43.846934Z"
    },
    "papermill": {
     "duration": 1.334621,
     "end_time": "2024-06-05T08:06:43.852968",
     "exception": false,
     "start_time": "2024-06-05T08:06:42.518347",
     "status": "completed"
    },
    "tags": []
   },
   "outputs": [
    {
     "name": "stdout",
     "output_type": "stream",
     "text": [
      "[]\n",
      "collecting data\n",
      "Error fetching data for location (60.0, 30.0) with technology wind: Error 429: Error: Reached limit (50/hour) Expected available in 2379 seconds.\n",
      "Error fetching data for location (50.0, 40.0) with technology wind: Error 429: Error: Reached limit (50/hour) Expected available in 2378 seconds.\n",
      "Error fetching data for location (60.0, 40.0) with technology wind: Error 429: Error: Reached limit (50/hour) Expected available in 2377 seconds.\n",
      "Error fetching data for location (60.0, 50.0) with technology wind: Error 429: Error: Reached limit (50/hour) Expected available in 2375 seconds.\n",
      "Error fetching data for location (60.0, 60.0) with technology wind: Error 429: Error: Reached limit (50/hour) Expected available in 2374 seconds.\n",
      "Error fetching data for location (60.0, 70.0) with technology wind: Error 429: Error: Reached limit (50/hour) Expected available in 2373 seconds.\n",
      "Error fetching data for location (70.0, 70.0) with technology wind: Error 429: Error: Reached limit (50/hour) Expected available in 2371 seconds.\n",
      "Error fetching data for location (60.0, 80.0) with technology wind: Error 429: Error: Reached limit (50/hour) Expected available in 2370 seconds.\n",
      "Error fetching data for location (70.0, 80.0) with technology wind: Error 429: Error: Reached limit (50/hour) Expected available in 2369 seconds.\n",
      "Error fetching data for location (60.0, 90.0) with technology wind: Error 429: Error: Reached limit (50/hour) Expected available in 2367 seconds.\n",
      "Error fetching data for location (70.0, 90.0) with technology wind: Error 429: Error: Reached limit (50/hour) Expected available in 2366 seconds.\n",
      "Error fetching data for location (60.0, 100.0) with technology wind: Error 429: Error: Reached limit (50/hour) Expected available in 2365 seconds.\n",
      "Error fetching data for location (70.0, 100.0) with technology wind: Error 429: Error: Reached limit (50/hour) Expected available in 2364 seconds.\n",
      "Error fetching data for location (50.0, 110.0) with technology wind: Error 429: Error: Reached limit (50/hour) Expected available in 2362 seconds.\n",
      "Error fetching data for location (60.0, 110.0) with technology wind: Error 429: Error: Reached limit (50/hour) Expected available in 2361 seconds.\n",
      "Error fetching data for location (70.0, 110.0) with technology wind: Error 429: Error: Reached limit (50/hour) Expected available in 2360 seconds.\n",
      "Error fetching data for location (60.0, 120.0) with technology wind: Error 429: Error: Reached limit (50/hour) Expected available in 2359 seconds.\n",
      "Error fetching data for location (70.0, 120.0) with technology wind: Error 429: Error: Reached limit (50/hour) Expected available in 2357 seconds.\n",
      "Error fetching data for location (50.0, 130.0) with technology wind: Error 429: Error: Reached limit (50/hour) Expected available in 2356 seconds.\n",
      "Error fetching data for location (60.0, 130.0) with technology wind: Error 429: Error: Reached limit (50/hour) Expected available in 2355 seconds.\n",
      "Error fetching data for location (70.0, 130.0) with technology wind: Error 429: Error: Reached limit (50/hour) Expected available in 2354 seconds.\n",
      "Error fetching data for location (50.0, 140.0) with technology wind: Error 429: Error: Reached limit (50/hour) Expected available in 2352 seconds.\n",
      "Error fetching data for location (60.0, 140.0) with technology wind: Error 429: Error: Reached limit (50/hour) Expected available in 2351 seconds.\n",
      "Error fetching data for location (70.0, 140.0) with technology wind: Error 429: Error: Reached limit (50/hour) Expected available in 2350 seconds.\n",
      "Error fetching data for location (60.0, 150.0) with technology wind: Error 429: Error: Reached limit (50/hour) Expected available in 2349 seconds.\n",
      "Error fetching data for location (70.0, 150.0) with technology wind: Error 429: Error: Reached limit (50/hour) Expected available in 2347 seconds.\n",
      "Error fetching data for location (61.98084075071274, 96.87522325596434) with technology wind: Error 429: Error: Reached limit (50/hour) Expected available in 2346 seconds.\n"
     ]
    },
    {
     "ename": "IndexError",
     "evalue": "list index out of range",
     "output_type": "error",
     "traceback": [
      "\u001b[1;31m---------------------------------------------------------------------------\u001b[0m",
      "\u001b[1;31mIndexError\u001b[0m                                Traceback (most recent call last)",
      "Cell \u001b[1;32mIn[29], line 21\u001b[0m\n\u001b[0;32m     18\u001b[0m     fetch_and_average_data_ren_ninja(country_name, \u001b[39m1\u001b[39m, [\u001b[39m'\u001b[39m\u001b[39mwind\u001b[39m\u001b[39m'\u001b[39m], points_in_world, year\u001b[39m=\u001b[39myear, save \u001b[39m=\u001b[39m \u001b[39mTrue\u001b[39;00m, coordinates \u001b[39m=\u001b[39m mode)\n\u001b[0;32m     20\u001b[0m fichiers_trouves \u001b[39m=\u001b[39m glob\u001b[39m.\u001b[39mglob(chemin_pattern)\n\u001b[1;32m---> 21\u001b[0m file_name \u001b[39m=\u001b[39m fichiers_trouves[\u001b[39m0\u001b[39;49m]\u001b[39m.\u001b[39msplit(\u001b[39m'\u001b[39m\u001b[39m/\u001b[39m\u001b[39m'\u001b[39m,\u001b[39m2\u001b[39m)[\u001b[39m-\u001b[39m\u001b[39m1\u001b[39m]\n\u001b[0;32m     22\u001b[0m Wind_ts \u001b[39m=\u001b[39m import_excel(path_input_data,file_name, \n\u001b[0;32m     23\u001b[0m                                 dpd ,ndpd, dpy, \n\u001b[0;32m     24\u001b[0m                                 interp\u001b[39m=\u001b[39m\u001b[39mTrue\u001b[39;00m, norm \u001b[39m=\u001b[39m \u001b[39mNone\u001b[39;00m) \u001b[39m# interpolate data from dpd to ndpd numper of points per day\u001b[39;00m\n\u001b[0;32m     26\u001b[0m mean_wind \u001b[39m=\u001b[39m pd\u001b[39m.\u001b[39mread_excel(path_input_data\u001b[39m+\u001b[39mfile_name)\u001b[39m.\u001b[39mmean()\u001b[39m.\u001b[39miloc[\u001b[39m0\u001b[39m]\n",
      "\u001b[1;31mIndexError\u001b[0m: list index out of range"
     ]
    }
   ],
   "source": [
    "# Wind time serie \n",
    "\n",
    "dpd = 24 # data per day\n",
    "dpy = 365 # data per year :  cut the leap years to 365 years\n",
    "\n",
    "# We interpolate so that we have hourly data\n",
    "ndpd = 24 # new data per day for hourly data (for the interpolation)\n",
    "signal_length = ndpd * dpy\n",
    "\n",
    "folder = path_input_data + f'/{country_name}'\n",
    "partie_name_file = f'{mode}_locations_averaged_wind_{country_name}_{year}.xlsx'\n",
    "chemin_pattern = os.path.join(folder, f'*{partie_name_file}*')\n",
    "fichiers_trouves = glob.glob(chemin_pattern)\n",
    "print(fichiers_trouves)\n",
    "\n",
    "if len(fichiers_trouves)==0:\n",
    "    print('collecting data')\n",
    "    fetch_and_average_data_ren_ninja(country_name, 1, ['wind'], points_in_world, year=year, save = True, coordinates = mode)\n",
    "\n",
    "fichiers_trouves = glob.glob(chemin_pattern)\n",
    "file_name = fichiers_trouves[0].split('/',2)[-1]\n",
    "Wind_ts = import_excel(path_input_data,file_name, \n",
    "                                dpd ,ndpd, dpy, \n",
    "                                interp=True, norm = None) # interpolate data from dpd to ndpd numper of points per day\n",
    "\n",
    "mean_wind = pd.read_excel(path_input_data+file_name).mean().iloc[0]"
   ]
  },
  {
   "cell_type": "markdown",
   "id": "2cf60b1e",
   "metadata": {
    "papermill": {
     "duration": 0.02664,
     "end_time": "2024-06-05T08:06:43.903268",
     "exception": false,
     "start_time": "2024-06-05T08:06:43.876628",
     "status": "completed"
    },
    "tags": []
   },
   "source": [
    "#### PV production"
   ]
  },
  {
   "cell_type": "code",
   "execution_count": 18,
   "id": "d06e730f",
   "metadata": {
    "execution": {
     "iopub.execute_input": "2024-06-05T08:06:43.955812Z",
     "iopub.status.busy": "2024-06-05T08:06:43.953726Z",
     "iopub.status.idle": "2024-06-05T08:06:45.089957Z",
     "shell.execute_reply": "2024-06-05T08:06:45.087851Z"
    },
    "papermill": {
     "duration": 1.166289,
     "end_time": "2024-06-05T08:06:45.094642",
     "exception": false,
     "start_time": "2024-06-05T08:06:43.928353",
     "status": "completed"
    },
    "tags": []
   },
   "outputs": [
    {
     "name": "stdout",
     "output_type": "stream",
     "text": [
      "collecting data\n"
     ]
    }
   ],
   "source": [
    "# PV time serie\n",
    "\n",
    "dpd = 24 # data per day\n",
    "dpy = 365 # data per year :  cut the leap years to 365 years\n",
    "\n",
    "\n",
    "# We interpolate so that we have hourly data\n",
    "ndpd = 24 # new data per day (for the interpolation)\n",
    "signal_length = ndpd * dpy\n",
    "\n",
    "folder = path_input_data + f'/{country_name}'\n",
    "partie_name_file = f'{mode}_locations_averaged_pv_{country_name}_{year}.xlsx'\n",
    "chemin_pattern = os.path.join(folder, f'*{partie_name_file}*')\n",
    "fichiers_trouves = glob.glob(chemin_pattern)\n",
    "print(fichiers_trouves)\n",
    "\n",
    "if len(fichiers_trouves)==0:\n",
    "    print('collecting data')\n",
    "    fetch_and_average_data_ren_ninja(country_name, 1, ['pv'], points_in_world, year=year, save = True, coordinates = mode)\n",
    "\n",
    "fichiers_trouves = glob.glob(chemin_pattern)\n",
    "file_name = fichiers_trouves[0].split('/',2)[-1]\n",
    "PV_ts = import_excel(path_input_data,file_name, \n",
    "                                dpd ,ndpd, dpy, \n",
    "                                interp=True, norm = None) # interpolate data from dpd to ndpd numper of points per day\n",
    "\n",
    "mean_pv = pd.read_excel(path_input_data+file_name).mean().iloc[0]"
   ]
  },
  {
   "cell_type": "markdown",
   "id": "c193954b",
   "metadata": {
    "papermill": {
     "duration": 0.024663,
     "end_time": "2024-06-05T08:06:45.143612",
     "exception": false,
     "start_time": "2024-06-05T08:06:45.118949",
     "status": "completed"
    },
    "tags": []
   },
   "source": [
    "### Plot Time Series"
   ]
  },
  {
   "cell_type": "code",
   "execution_count": 19,
   "id": "433bb040",
   "metadata": {
    "execution": {
     "iopub.execute_input": "2024-06-05T08:06:45.197538Z",
     "iopub.status.busy": "2024-06-05T08:06:45.196531Z",
     "iopub.status.idle": "2024-06-05T08:06:46.395459Z",
     "shell.execute_reply": "2024-06-05T08:06:46.392551Z"
    },
    "papermill": {
     "duration": 1.296388,
     "end_time": "2024-06-05T08:06:46.465305",
     "exception": false,
     "start_time": "2024-06-05T08:06:45.168917",
     "status": "completed"
    },
    "tags": []
   },
   "outputs": [],
   "source": [
    "# # Create a Plotly figure\n",
    "# fig = go.Figure()\n",
    "\n",
    "# fig.add_trace(go.Scatter(y=PV_ts, mode='lines', name='PV',marker=dict(color=colors_dict['PV'])))\n",
    "# fig.add_trace(go.Scatter(y=Load_ts, mode='lines', name='Demand',marker=dict(color=colors_dict['Consumption'])))\n",
    "# fig.add_trace(go.Scatter(y=Wind_ts, mode='lines', name='Wind',marker=dict(color=colors_dict['Wind'])))\n",
    "# fig.update_layout(title=f'{country_name} 2021', xaxis_title='Day', yaxis_title='Energy normalized')\n",
    "\n",
    "# # Show the plot\n",
    "# fig.show()"
   ]
  },
  {
   "cell_type": "markdown",
   "id": "81638a89",
   "metadata": {
    "papermill": {
     "duration": 0.212883,
     "end_time": "2024-06-05T08:06:46.887913",
     "exception": false,
     "start_time": "2024-06-05T08:06:46.675030",
     "status": "completed"
    },
    "tags": []
   },
   "source": [
    "### Description of the problem"
   ]
  },
  {
   "cell_type": "markdown",
   "id": "87bf9238",
   "metadata": {
    "papermill": {
     "duration": 0.22059,
     "end_time": "2024-06-05T08:06:47.318913",
     "exception": false,
     "start_time": "2024-06-05T08:06:47.098323",
     "status": "completed"
    },
    "tags": []
   },
   "source": [
    "#### Equations:\n",
    "\n",
    "- **Objective function** : \n",
    "  - Minimize dispatchable energy: $ \\min(\\sum{P_{dispatchable}(t)*dt}) $\n",
    "\n",
    "\n",
    "- **Node Law** : \n",
    "  - $(P_{pv}(t) + P_{wind}(t) + P_{dispatchable}(t) - P_{in\\_stock}(t) + P_{out\\_stock}(t) = P_{demand}(t) + P_{curt}(t))$\n",
    "\n",
    "\n",
    "- **State of charge**\n",
    "  - $SOC(t+1)=SOC(t)+P_{in\\_stock}(t) - P_{out\\_stock}(t)$\n",
    "\n",
    "#### Contraintes :\n",
    "- $E_{wind} + E_{pv} \\leq E_{demand}$\n",
    "- We want a maximum storage size of 10 hours:  $E_{stock} \\leq 10$\n",
    "- Charging and discharging at the same time is not possible. \n"
   ]
  },
  {
   "cell_type": "markdown",
   "id": "b4432d06",
   "metadata": {
    "papermill": {
     "duration": 0.229712,
     "end_time": "2024-06-05T08:06:47.771414",
     "exception": false,
     "start_time": "2024-06-05T08:06:47.541702",
     "status": "completed"
    },
    "tags": []
   },
   "source": [
    "### Implementation\n",
    "#### Decision Variables:\n",
    "- `x_pv`: Installed capacity for photovoltaic production.\n",
    "- `x_wind`: Installed capacity for wind production.\n",
    "- `ts_dispatchable`: Dispatchable production (can be controlled), time serie.\n",
    "- `p_ch`: Battery charging power, time serie.\n",
    "- `p_dech`: Battery discharging power, time serie.\n",
    "- `SOC_ts`: State of charge of the battery, time serie.\n",
    "- `p_curt`: Curtailment power (lost energy), time serie.\n",
    "- `dech_active`: Binary variable indicating if the battery is charging or discharging."
   ]
  },
  {
   "cell_type": "markdown",
   "id": "f584c55e",
   "metadata": {
    "papermill": {
     "duration": 0.215528,
     "end_time": "2024-06-05T08:06:48.195196",
     "exception": false,
     "start_time": "2024-06-05T08:06:47.979668",
     "status": "completed"
    },
    "tags": []
   },
   "source": [
    "### Run the optimization with GUROBI\n",
    "\n",
    "**If the optimization has already been run, go to the next part where results can be loaded and analysed in plots.**"
   ]
  },
  {
   "cell_type": "code",
   "execution_count": 20,
   "id": "151d88cf",
   "metadata": {
    "execution": {
     "iopub.execute_input": "2024-06-05T08:06:48.636826Z",
     "iopub.status.busy": "2024-06-05T08:06:48.635835Z",
     "iopub.status.idle": "2024-06-05T08:07:01.696878Z",
     "shell.execute_reply": "2024-06-05T08:07:01.694799Z"
    },
    "papermill": {
     "duration": 13.291023,
     "end_time": "2024-06-05T08:07:01.700914",
     "exception": false,
     "start_time": "2024-06-05T08:06:48.409891",
     "status": "completed"
    },
    "tags": []
   },
   "outputs": [
    {
     "name": "stdout",
     "output_type": "stream",
     "text": [
      "Gurobi Optimizer version 11.0.1 build v11.0.1rc0 (win64 - Windows 10.0 (19045.2))\n",
      "\n",
      "CPU model: 11th Gen Intel(R) Core(TM) i5-1145G7 @ 2.60GHz, instruction set [SSE2|AVX|AVX2|AVX512]\n",
      "Thread count: 4 physical cores, 8 logical processors, using up to 8 threads\n",
      "\n",
      "Academic license 2503220 - for non-commercial use only - registered to du___@ethz.ch\n",
      "Optimize a model with 35041 rows, 52561 columns and 120314 nonzeros\n",
      "Model fingerprint: 0x91297196\n",
      "Variable types: 43802 continuous, 8759 integer (0 binary)\n",
      "Coefficient statistics:\n",
      "  Matrix range     [6e-05, 1e+05]\n",
      "  Objective range  [1e+00, 1e+00]\n",
      "  Bounds range     [1e+00, 1e+05]\n",
      "  RHS range        [7e-01, 1e+05]\n",
      "Found heuristic solution: objective 8760.0000000\n",
      "Presolve removed 5 rows and 8765 columns\n",
      "Presolve time: 0.66s\n",
      "Presolved: 35036 rows, 43796 columns, 106348 nonzeros\n",
      "Found heuristic solution: objective 8759.1434796\n",
      "Variable types: 35037 continuous, 8759 integer (8759 binary)\n",
      "Deterministic concurrent LP optimizer: primal and dual simplex\n",
      "Showing primal log only...\n",
      "\n",
      "\n",
      "Root simplex log...\n",
      "\n",
      "Iteration    Objective       Primal Inf.    Dual Inf.      Time\n",
      "   24600    1.2682765e+03   0.000000e+00   1.106084e+04      5s\n",
      "   28410    9.3437117e+02   0.000000e+00   1.336940e+04     10s\n",
      "Concurrent spin time: 1.37s (can be avoided by choosing Method=3)\n",
      "\n",
      "Solved with dual simplex\n",
      "\n",
      "Root simplex log...\n",
      "\n",
      "Iteration    Objective       Primal Inf.    Dual Inf.      Time\n",
      "   12177    7.8247766e+02   0.000000e+00   0.000000e+00     12s\n",
      "\n",
      "Root relaxation: objective 7.824777e+02, 12177 iterations, 11.42 seconds (5.74 work units)\n",
      "\n",
      "    Nodes    |    Current Node    |     Objective Bounds      |     Work\n",
      " Expl Unexpl |  Obj  Depth IntInf | Incumbent    BestBd   Gap | It/Node Time\n",
      "\n",
      "*    0     0               0     782.4776623  782.47766  0.00%     -   12s\n",
      "\n",
      "Explored 1 nodes (12177 simplex iterations) in 12.53 seconds (6.08 work units)\n",
      "Thread count was 8 (of 8 available processors)\n",
      "\n",
      "Solution count 3: 782.478 8759.14 8760 \n",
      "\n",
      "Optimal solution found (tolerance 1.00e-04)\n",
      "Best objective 7.824776623459e+02, best bound 7.824776623459e+02, gap 0.0000%\n",
      "Gurobi status= 2\n",
      "Status: Optimal\n",
      "Coefficient optimal pour PV: 0.49538689102666744\n",
      "Coefficient optimal pour Wind: 3.1994919795113783\n",
      "Optimization results saved to results/Canada/optimization_results.pickle\n"
     ]
    }
   ],
   "source": [
    "optimized_parameters=optimize_enr(country_name, Load_ts, PV_ts, Wind_ts, mean_load, save_results = True)"
   ]
  },
  {
   "cell_type": "markdown",
   "id": "e3022ea8",
   "metadata": {
    "papermill": {
     "duration": 0.217373,
     "end_time": "2024-06-05T08:07:02.134722",
     "exception": false,
     "start_time": "2024-06-05T08:07:01.917349",
     "status": "completed"
    },
    "tags": []
   },
   "source": [
    "### Add results to .csv file with all countries"
   ]
  },
  {
   "cell_type": "code",
   "execution_count": 21,
   "id": "2ed373a0",
   "metadata": {
    "execution": {
     "iopub.execute_input": "2024-06-05T08:07:02.580700Z",
     "iopub.status.busy": "2024-06-05T08:07:02.579738Z",
     "iopub.status.idle": "2024-06-05T08:07:02.599746Z",
     "shell.execute_reply": "2024-06-05T08:07:02.597365Z"
    },
    "papermill": {
     "duration": 0.249565,
     "end_time": "2024-06-05T08:07:02.603811",
     "exception": false,
     "start_time": "2024-06-05T08:07:02.354246",
     "status": "completed"
    },
    "tags": []
   },
   "outputs": [],
   "source": [
    "df_new = pd.DataFrame({\"Country\" : [country_name],\"iso_alpha\":[optimized_parameters['iso_alpha']],\n",
    "    \"mean_load\":[optimized_parameters['mean_consumption']],\n",
    "    \"E_dispatch\": [optimized_parameters['E_dispatch']],\n",
    "    \"P_dispatch\": [optimized_parameters['dispatchable_capacity']],\n",
    "    \"E_destock\": [optimized_parameters['E_destock']],\n",
    "    \"P_pv\": [optimized_parameters['pv_capacity']],\n",
    "    \"P_wind\": [optimized_parameters['wind_capacity']]\n",
    "})\n"
   ]
  },
  {
   "cell_type": "code",
   "execution_count": 22,
   "id": "bb04d710",
   "metadata": {
    "execution": {
     "iopub.execute_input": "2024-06-05T08:07:03.046028Z",
     "iopub.status.busy": "2024-06-05T08:07:03.044002Z",
     "iopub.status.idle": "2024-06-05T08:07:03.127779Z",
     "shell.execute_reply": "2024-06-05T08:07:03.125002Z"
    },
    "papermill": {
     "duration": 0.315287,
     "end_time": "2024-06-05T08:07:03.133213",
     "exception": false,
     "start_time": "2024-06-05T08:07:02.817926",
     "status": "completed"
    },
    "tags": []
   },
   "outputs": [
    {
     "name": "stdout",
     "output_type": "stream",
     "text": [
      "Data have been added to results/optimization_results_world_grid.csv\n"
     ]
    }
   ],
   "source": [
    "all_results_file = \"results/optimization_results_world_grid.csv\"\n",
    "file_exists = os.path.isfile(all_results_file)\n",
    "\n",
    "df_new.to_csv(all_results_file, mode='a', index=False, header=not file_exists)\n",
    "\n",
    "print(f\"Data have been added to {all_results_file}\")    "
   ]
  },
  {
   "cell_type": "markdown",
   "id": "68cd0ec4",
   "metadata": {
    "papermill": {
     "duration": 0.225731,
     "end_time": "2024-06-05T08:07:03.580642",
     "exception": false,
     "start_time": "2024-06-05T08:07:03.354911",
     "status": "completed"
    },
    "tags": []
   },
   "source": [
    "## Plots"
   ]
  },
  {
   "cell_type": "code",
   "execution_count": 13,
   "id": "3331b373",
   "metadata": {
    "execution": {
     "iopub.execute_input": "2024-06-05T08:07:04.020292Z",
     "iopub.status.busy": "2024-06-05T08:07:04.018292Z",
     "iopub.status.idle": "2024-06-05T08:07:04.042587Z",
     "shell.execute_reply": "2024-06-05T08:07:04.040082Z"
    },
    "papermill": {
     "duration": 0.250497,
     "end_time": "2024-06-05T08:07:04.048497",
     "exception": false,
     "start_time": "2024-06-05T08:07:03.798000",
     "status": "completed"
    },
    "tags": []
   },
   "outputs": [],
   "source": [
    "# from plots import plot_ts_optim, plot_pie_energy, plot_storage, plot_stack_production"
   ]
  },
  {
   "cell_type": "code",
   "execution_count": 14,
   "id": "2dbafb91",
   "metadata": {
    "execution": {
     "iopub.execute_input": "2024-06-05T08:07:04.486668Z",
     "iopub.status.busy": "2024-06-05T08:07:04.485670Z",
     "iopub.status.idle": "2024-06-05T08:07:04.509473Z",
     "shell.execute_reply": "2024-06-05T08:07:04.506053Z"
    },
    "papermill": {
     "duration": 0.247622,
     "end_time": "2024-06-05T08:07:04.513942",
     "exception": false,
     "start_time": "2024-06-05T08:07:04.266320",
     "status": "completed"
    },
    "tags": []
   },
   "outputs": [],
   "source": [
    "# plot_ts_optim([optimized_parameters['optimized_pv'], optimized_parameters['optimized_wind'], optimized_parameters['optimized_dispatchable'], optimized_parameters['optimized_p_curt'],np.array(Load_ts) ], ['PV', 'Wind', 'Dispatchable', 'Curtailment', 'Consumption'], country_name, colors_dict = colors_dict,savefig=False)"
   ]
  },
  {
   "cell_type": "code",
   "execution_count": 15,
   "id": "2e8e5dec",
   "metadata": {
    "execution": {
     "iopub.execute_input": "2024-06-05T08:07:04.951503Z",
     "iopub.status.busy": "2024-06-05T08:07:04.950509Z",
     "iopub.status.idle": "2024-06-05T08:07:04.973110Z",
     "shell.execute_reply": "2024-06-05T08:07:04.971150Z"
    },
    "papermill": {
     "duration": 0.248444,
     "end_time": "2024-06-05T08:07:04.978104",
     "exception": false,
     "start_time": "2024-06-05T08:07:04.729660",
     "status": "completed"
    },
    "tags": []
   },
   "outputs": [],
   "source": [
    "# plot_storage(optimized_parameters['optimized_charge'], optimized_parameters['optimized_discharge'], optimized_parameters['optimized_stock'], country_name, colors_dict = colors_dict, savefig=False)"
   ]
  },
  {
   "cell_type": "code",
   "execution_count": 16,
   "id": "cea6c60b",
   "metadata": {
    "execution": {
     "iopub.execute_input": "2024-06-05T08:07:05.436834Z",
     "iopub.status.busy": "2024-06-05T08:07:05.435033Z",
     "iopub.status.idle": "2024-06-05T08:07:05.453515Z",
     "shell.execute_reply": "2024-06-05T08:07:05.450616Z"
    },
    "papermill": {
     "duration": 0.258883,
     "end_time": "2024-06-05T08:07:05.457510",
     "exception": false,
     "start_time": "2024-06-05T08:07:05.198627",
     "status": "completed"
    },
    "tags": []
   },
   "outputs": [],
   "source": [
    "# E_wind = optimized_parameters['E_wind']\n",
    "# E_pv = optimized_parameters['E_pv']\n",
    "# E_dispatch = optimized_parameters['E_dispatch']"
   ]
  },
  {
   "cell_type": "code",
   "execution_count": 17,
   "id": "662b937f",
   "metadata": {
    "execution": {
     "iopub.execute_input": "2024-06-05T08:07:05.896286Z",
     "iopub.status.busy": "2024-06-05T08:07:05.894239Z",
     "iopub.status.idle": "2024-06-05T08:07:05.920101Z",
     "shell.execute_reply": "2024-06-05T08:07:05.917850Z"
    },
    "papermill": {
     "duration": 0.251514,
     "end_time": "2024-06-05T08:07:05.924434",
     "exception": false,
     "start_time": "2024-06-05T08:07:05.672920",
     "status": "completed"
    },
    "tags": []
   },
   "outputs": [],
   "source": [
    "# plot_pie_energy([E_wind, E_pv, E_dispatch], country_name, colors_dict =colors_dict, savefig=False)"
   ]
  }
 ],
 "metadata": {
  "kernelspec": {
   "display_name": "Python 3",
   "language": "python",
   "name": "python3"
  },
  "language_info": {
   "codemirror_mode": {
    "name": "ipython",
    "version": 3
   },
   "file_extension": ".py",
   "mimetype": "text/x-python",
   "name": "python",
   "nbconvert_exporter": "python",
   "pygments_lexer": "ipython3",
   "version": "3.10.13"
  },
  "papermill": {
   "default_parameters": {},
   "duration": 73.463762,
   "end_time": "2024-06-05T08:07:07.053766",
   "environment_variables": {},
   "exception": null,
   "input_path": "1b_run_optimization.ipynb",
   "output_path": "1b_run_optimization.ipynb",
   "parameters": {
    "country_name": "Zimbabwe"
   },
   "start_time": "2024-06-05T08:05:53.590004",
   "version": "2.6.0"
  }
 },
 "nbformat": 4,
 "nbformat_minor": 5
}
