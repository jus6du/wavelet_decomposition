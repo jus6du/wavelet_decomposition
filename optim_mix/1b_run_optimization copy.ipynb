{
 "cells": [
  {
   "cell_type": "code",
   "execution_count": 1,
   "id": "7fcbd9d2",
   "metadata": {
    "execution": {
     "iopub.execute_input": "2024-06-03T14:27:57.215088Z",
     "iopub.status.busy": "2024-06-03T14:27:57.213275Z",
     "iopub.status.idle": "2024-06-03T14:27:57.257073Z",
     "shell.execute_reply": "2024-06-03T14:27:57.255194Z"
    },
    "papermill": {
     "duration": 0.082514,
     "end_time": "2024-06-03T14:27:57.262210",
     "exception": false,
     "start_time": "2024-06-03T14:27:57.179696",
     "status": "completed"
    },
    "tags": [
     "injected-parameters"
    ]
   },
   "outputs": [],
   "source": [
    "# Parameters\n",
    "country_name = \"Wallis and Futuna\"\n"
   ]
  },
  {
   "cell_type": "markdown",
   "id": "15af41b4",
   "metadata": {
    "papermill": {
     "duration": 0.021178,
     "end_time": "2024-06-03T14:27:57.309732",
     "exception": false,
     "start_time": "2024-06-03T14:27:57.288554",
     "status": "completed"
    },
    "tags": []
   },
   "source": [
    "# Optimization Problem Time Series"
   ]
  },
  {
   "cell_type": "markdown",
   "id": "b4bdf036",
   "metadata": {
    "papermill": {
     "duration": 0.021599,
     "end_time": "2024-06-03T14:27:57.358850",
     "exception": false,
     "start_time": "2024-06-03T14:27:57.337251",
     "status": "completed"
    },
    "tags": []
   },
   "source": [
    "This notebook optimizes an electrci mix based on : \n",
    "- an electricity demand time serie\n",
    "- a PV production time serie\n",
    "- a wind production time serie"
   ]
  },
  {
   "cell_type": "code",
   "execution_count": 2,
   "id": "c37d952c",
   "metadata": {
    "execution": {
     "iopub.execute_input": "2024-06-03T14:27:57.415453Z",
     "iopub.status.busy": "2024-06-03T14:27:57.413721Z",
     "iopub.status.idle": "2024-06-03T14:29:16.001201Z",
     "shell.execute_reply": "2024-06-03T14:29:16.001201Z"
    },
    "papermill": {
     "duration": 78.615609,
     "end_time": "2024-06-03T14:29:16.001201",
     "exception": false,
     "start_time": "2024-06-03T14:27:57.385592",
     "status": "completed"
    },
    "tags": []
   },
   "outputs": [],
   "source": [
    "import numpy as np\n",
    "import pandas as pd\n",
    "from scipy.optimize import minimize\n",
    "from pulp import *\n",
    "import sys\n",
    "from utilities import import_excel, optimize_enr, format_load_data\n",
    "import plotly.graph_objects as go\n",
    "import plotly.express as px\n",
    "import pickle\n",
    "from ren_ninja_api import fetch_and_average_data_ren_ninja\n",
    "import plotly.io as pio\n",
    "pio.renderers.default='notebook'"
   ]
  },
  {
   "cell_type": "code",
   "execution_count": 3,
   "id": "96c9da8a",
   "metadata": {
    "execution": {
     "iopub.execute_input": "2024-06-03T14:29:16.071894Z",
     "iopub.status.busy": "2024-06-03T14:29:16.071894Z",
     "iopub.status.idle": "2024-06-03T14:29:16.089546Z",
     "shell.execute_reply": "2024-06-03T14:29:16.087499Z"
    },
    "papermill": {
     "duration": 0.051847,
     "end_time": "2024-06-03T14:29:16.093495",
     "exception": false,
     "start_time": "2024-06-03T14:29:16.041648",
     "status": "completed"
    },
    "tags": []
   },
   "outputs": [],
   "source": [
    "import os\n",
    "\n",
    "# param1 = os.getenv('PARAM', 'default_value1')"
   ]
  },
  {
   "cell_type": "code",
   "execution_count": 4,
   "id": "c62f42d6",
   "metadata": {
    "execution": {
     "iopub.execute_input": "2024-06-03T14:29:16.146254Z",
     "iopub.status.busy": "2024-06-03T14:29:16.144253Z",
     "iopub.status.idle": "2024-06-03T14:29:16.167640Z",
     "shell.execute_reply": "2024-06-03T14:29:16.165682Z"
    },
    "papermill": {
     "duration": 0.056101,
     "end_time": "2024-06-03T14:29:16.171681",
     "exception": false,
     "start_time": "2024-06-03T14:29:16.115580",
     "status": "completed"
    },
    "tags": []
   },
   "outputs": [],
   "source": [
    "colors_dict = {\n",
    "    'Wind': 'steelblue',        \n",
    "    'PV': 'gold',\n",
    "    'Discharge': 'orangered',    \n",
    "    'SOC': 'darkgreen',           \n",
    "    'Charge': 'purple',\n",
    "    'Consumption': 'green',          \n",
    "    'Dispatchable': 'crimson',       \n",
    "    'Curtailment': 'cyan'    \n",
    "}"
   ]
  },
  {
   "cell_type": "markdown",
   "id": "402479c1",
   "metadata": {
    "papermill": {
     "duration": 0.020022,
     "end_time": "2024-06-03T14:29:16.208401",
     "exception": false,
     "start_time": "2024-06-03T14:29:16.188379",
     "status": "completed"
    },
    "tags": []
   },
   "source": [
    "Enter country name for file naming: "
   ]
  },
  {
   "cell_type": "code",
   "execution_count": 5,
   "id": "f45f9276",
   "metadata": {
    "execution": {
     "iopub.execute_input": "2024-06-03T14:29:16.265406Z",
     "iopub.status.busy": "2024-06-03T14:29:16.264406Z",
     "iopub.status.idle": "2024-06-03T14:29:16.286966Z",
     "shell.execute_reply": "2024-06-03T14:29:16.286966Z"
    },
    "papermill": {
     "duration": 0.048068,
     "end_time": "2024-06-03T14:29:16.286966",
     "exception": false,
     "start_time": "2024-06-03T14:29:16.238898",
     "status": "completed"
    },
    "tags": []
   },
   "outputs": [],
   "source": [
    "# country_name = 'Egypt'\n",
    "year = 2021\n",
    "\n",
    "# Directory path\n",
    "path_input_data = '../input_time_series/'"
   ]
  },
  {
   "cell_type": "markdown",
   "id": "6f1c8714",
   "metadata": {
    "papermill": {
     "duration": 0.022837,
     "end_time": "2024-06-03T14:29:16.337993",
     "exception": false,
     "start_time": "2024-06-03T14:29:16.315156",
     "status": "completed"
    },
    "tags": []
   },
   "source": [
    "### Load Time Series\n",
    "\n",
    "First we load the time series that will be used in the problem. We use the  ```import_excel``` function used in the wavelet decomposition."
   ]
  },
  {
   "cell_type": "markdown",
   "id": "0997904d",
   "metadata": {
    "papermill": {
     "duration": 0.016515,
     "end_time": "2024-06-03T14:29:16.376894",
     "exception": false,
     "start_time": "2024-06-03T14:29:16.360379",
     "status": "completed"
    },
    "tags": []
   },
   "source": [
    "#### Demand"
   ]
  },
  {
   "cell_type": "code",
   "execution_count": null,
   "id": "0759aa82",
   "metadata": {
    "execution": {
     "iopub.execute_input": "2024-06-03T14:27:04.628607Z",
     "iopub.status.busy": "2024-06-03T14:27:04.627612Z",
     "iopub.status.idle": "2024-06-03T14:27:40.190958Z",
     "shell.execute_reply": "2024-06-03T14:27:40.187988Z"
    },
    "papermill": {
     "duration": null,
     "end_time": null,
     "exception": false,
     "start_time": "2024-06-03T14:29:16.404971",
     "status": "running"
    },
    "tags": []
   },
   "outputs": [],
   "source": [
    "# Demand time serie\n",
    "\n",
    "dpd = 24 # data per day in the time serie\n",
    "dpy = 365 # data per year :  cut the leap years to 365 years\n",
    "\n",
    "ndpd = 24 # new data per day for hourly data (for the interpolation)\n",
    "signal_length = ndpd * dpy\n",
    "\n",
    "# !!! CHANGE FILENAME HERE !!!\n",
    "file_name = format_load_data(country_name)\n",
    "Load_ts = import_excel(path_input_data,file_name, \n",
    "                                    dpd ,ndpd, dpy, \n",
    "                                    interp=True, norm = 'mean') # interpolate data from dpd to ndpd numper of points per day\n",
    "\n",
    "mean_load = pd.read_excel(path_input_data+file_name).mean().iloc[0]"
   ]
  },
  {
   "cell_type": "markdown",
   "id": "5847a57e",
   "metadata": {
    "papermill": {
     "duration": null,
     "end_time": null,
     "exception": null,
     "start_time": null,
     "status": "pending"
    },
    "tags": []
   },
   "source": [
    "#### Wind production"
   ]
  },
  {
   "cell_type": "code",
   "execution_count": null,
   "id": "5061fb75",
   "metadata": {
    "execution": {
     "iopub.execute_input": "2024-06-03T14:24:17.019335Z",
     "iopub.status.busy": "2024-06-03T14:24:17.017200Z",
     "iopub.status.idle": "2024-06-03T14:24:22.404522Z",
     "shell.execute_reply": "2024-06-03T14:24:22.404522Z"
    },
    "papermill": {
     "duration": null,
     "end_time": null,
     "exception": null,
     "start_time": null,
     "status": "pending"
    },
    "tags": []
   },
   "outputs": [],
   "source": [
    "# Wind time serie \n",
    "\n",
    "dpd = 24 # data per day\n",
    "dpy = 365 # data per year :  cut the leap years to 365 years\n",
    "\n",
    "# We interpolate so that we have hourly data\n",
    "ndpd = 24 # new data per day for hourly data (for the interpolation)\n",
    "signal_length = ndpd * dpy\n",
    "\n",
    "file_name = f'{country_name}/ren_ninja_1_locations_averaged_wind_{country_name}_{year}.xlsx'\n",
    "\n",
    "if not os.path.exists(path_input_data+file_name):\n",
    "    fetch_and_average_data_ren_ninja(country_name, 1, ['wind'], year, save = True)\n",
    "\n",
    "Wind_ts = import_excel(path_input_data,file_name, \n",
    "                                dpd ,ndpd, dpy, \n",
    "                                interp=True, norm = 'max') # interpolate data from dpd to ndpd numper of points per day\n",
    "\n",
    "mean_wind = pd.read_excel(path_input_data+file_name).mean().iloc[0]"
   ]
  },
  {
   "cell_type": "markdown",
   "id": "2cf60b1e",
   "metadata": {
    "papermill": {
     "duration": null,
     "end_time": null,
     "exception": null,
     "start_time": null,
     "status": "pending"
    },
    "tags": []
   },
   "source": [
    "#### PV production"
   ]
  },
  {
   "cell_type": "code",
   "execution_count": null,
   "id": "d06e730f",
   "metadata": {
    "execution": {
     "iopub.execute_input": "2024-06-03T14:24:22.502374Z",
     "iopub.status.busy": "2024-06-03T14:24:22.502374Z",
     "iopub.status.idle": "2024-06-03T14:24:28.640490Z",
     "shell.execute_reply": "2024-06-03T14:24:28.640490Z"
    },
    "papermill": {
     "duration": null,
     "end_time": null,
     "exception": null,
     "start_time": null,
     "status": "pending"
    },
    "tags": []
   },
   "outputs": [],
   "source": [
    "# PV time serie\n",
    "\n",
    "dpd = 24 # data per day\n",
    "dpy = 365 # data per year :  cut the leap years to 365 years\n",
    "\n",
    "\n",
    "# We interpolate so that we have hourly data\n",
    "ndpd = 24 # new data per day (for the interpolation)\n",
    "signal_length = ndpd * dpy\n",
    "\n",
    "## file_name = f'{country_name}/wind_onshore_generation_Spain_2019_opsd.xlsx'\n",
    "file_name = f'{country_name}/ren_ninja_1_locations_averaged_pv_{country_name}_{year}.xlsx'\n",
    "\n",
    "if not os.path.exists(path_input_data+file_name):\n",
    "    fetch_and_average_data_ren_ninja(country_name, 1, ['pv'], year, save = True)\n",
    "\n",
    "PV_ts = import_excel(path_input_data,file_name, \n",
    "                                dpd ,ndpd, dpy, \n",
    "                                interp=True, norm = 'max') # interpolate data from dpd to ndpd numper of points per day\n",
    "\n",
    "mean_pv = pd.read_excel(path_input_data+file_name).mean().iloc[0]"
   ]
  },
  {
   "cell_type": "markdown",
   "id": "c193954b",
   "metadata": {
    "papermill": {
     "duration": null,
     "end_time": null,
     "exception": null,
     "start_time": null,
     "status": "pending"
    },
    "tags": []
   },
   "source": [
    "### Plot Time Series"
   ]
  },
  {
   "cell_type": "code",
   "execution_count": null,
   "id": "433bb040",
   "metadata": {
    "execution": {
     "iopub.execute_input": "2024-06-03T14:24:28.741824Z",
     "iopub.status.busy": "2024-06-03T14:24:28.739352Z",
     "iopub.status.idle": "2024-06-03T14:24:29.944511Z",
     "shell.execute_reply": "2024-06-03T14:24:29.941889Z"
    },
    "papermill": {
     "duration": null,
     "end_time": null,
     "exception": null,
     "start_time": null,
     "status": "pending"
    },
    "tags": []
   },
   "outputs": [],
   "source": [
    "# Create a Plotly figure\n",
    "fig = go.Figure()\n",
    "\n",
    "fig.add_trace(go.Scatter(y=PV_ts, mode='lines', name='PV',marker=dict(color=colors_dict['PV'])))\n",
    "fig.add_trace(go.Scatter(y=Load_ts, mode='lines', name='Demand',marker=dict(color=colors_dict['Consumption'])))\n",
    "fig.add_trace(go.Scatter(y=Wind_ts, mode='lines', name='Wind',marker=dict(color=colors_dict['Wind'])))\n",
    "fig.update_layout(title=f'{country_name} 2021', xaxis_title='Day', yaxis_title='Energy normalized')\n",
    "\n",
    "# Show the plot\n",
    "fig.show()"
   ]
  },
  {
   "cell_type": "markdown",
   "id": "81638a89",
   "metadata": {
    "papermill": {
     "duration": null,
     "end_time": null,
     "exception": null,
     "start_time": null,
     "status": "pending"
    },
    "tags": []
   },
   "source": [
    "### Description of the problem"
   ]
  },
  {
   "cell_type": "markdown",
   "id": "87bf9238",
   "metadata": {
    "papermill": {
     "duration": null,
     "end_time": null,
     "exception": null,
     "start_time": null,
     "status": "pending"
    },
    "tags": []
   },
   "source": [
    "#### Equations:\n",
    "\n",
    "- **Objective function** : \n",
    "  - Minimize dispatchable energy: $ \\min(\\sum{P_{dispatchable}(t)*dt}) $\n",
    "\n",
    "\n",
    "- **Node Law** : \n",
    "  - $(P_{pv}(t) + P_{wind}(t) + P_{dispatchable}(t) - P_{in\\_stock}(t) + P_{out\\_stock}(t) = P_{demand}(t) + P_{curt}(t))$\n",
    "\n",
    "\n",
    "- **State of charge**\n",
    "  - $SOC(t+1)=SOC(t)+P_{in\\_stock}(t) - P_{out\\_stock}(t)$\n",
    "\n",
    "#### Contraintes :\n",
    "- $E_{wind} + E_{pv} \\leq E_{demand}$\n",
    "- We want a maximum storage size of 10 hours:  $E_{stock} \\leq 10$\n",
    "- Charging and discharging at the same time is not possible. \n"
   ]
  },
  {
   "cell_type": "markdown",
   "id": "b4432d06",
   "metadata": {
    "papermill": {
     "duration": null,
     "end_time": null,
     "exception": null,
     "start_time": null,
     "status": "pending"
    },
    "tags": []
   },
   "source": [
    "### Implementation\n",
    "#### Decision Variables:\n",
    "- `x_pv`: Installed capacity for photovoltaic production.\n",
    "- `x_wind`: Installed capacity for wind production.\n",
    "- `ts_dispatchable`: Dispatchable production (can be controlled), time serie.\n",
    "- `p_ch`: Battery charging power, time serie.\n",
    "- `p_dech`: Battery discharging power, time serie.\n",
    "- `SOC_ts`: State of charge of the battery, time serie.\n",
    "- `p_curt`: Curtailment power (lost energy), time serie.\n",
    "- `dech_active`: Binary variable indicating if the battery is charging or discharging."
   ]
  },
  {
   "cell_type": "markdown",
   "id": "f584c55e",
   "metadata": {
    "papermill": {
     "duration": null,
     "end_time": null,
     "exception": null,
     "start_time": null,
     "status": "pending"
    },
    "tags": []
   },
   "source": [
    "### Run the optimization with GUROBI\n",
    "\n",
    "**If the optimization has already been run, go to the next part where results can be loaded and analysed in plots.**"
   ]
  },
  {
   "cell_type": "code",
   "execution_count": null,
   "id": "151d88cf",
   "metadata": {
    "execution": {
     "iopub.execute_input": "2024-06-03T14:24:32.169779Z",
     "iopub.status.busy": "2024-06-03T14:24:32.166600Z",
     "iopub.status.idle": "2024-06-03T14:24:45.277140Z",
     "shell.execute_reply": "2024-06-03T14:24:45.275142Z"
    },
    "papermill": {
     "duration": null,
     "end_time": null,
     "exception": null,
     "start_time": null,
     "status": "pending"
    },
    "tags": []
   },
   "outputs": [],
   "source": [
    "optimized_parameters=optimize_enr(country_name, Load_ts, PV_ts, Wind_ts, mean_load, save_results = True)"
   ]
  },
  {
   "cell_type": "markdown",
   "id": "e3022ea8",
   "metadata": {
    "papermill": {
     "duration": null,
     "end_time": null,
     "exception": null,
     "start_time": null,
     "status": "pending"
    },
    "tags": []
   },
   "source": [
    "### Add results to .csv file with all countries"
   ]
  },
  {
   "cell_type": "code",
   "execution_count": null,
   "id": "2ed373a0",
   "metadata": {
    "execution": {
     "iopub.execute_input": "2024-06-03T14:24:46.219711Z",
     "iopub.status.busy": "2024-06-03T14:24:46.218712Z",
     "iopub.status.idle": "2024-06-03T14:24:46.241416Z",
     "shell.execute_reply": "2024-06-03T14:24:46.240424Z"
    },
    "papermill": {
     "duration": null,
     "end_time": null,
     "exception": null,
     "start_time": null,
     "status": "pending"
    },
    "tags": []
   },
   "outputs": [],
   "source": [
    "df_new = pd.DataFrame({\"Country\" : [country_name],\"iso_alpha\":[optimized_parameters['iso_alpha']],\n",
    "    \"mean_load\":[optimized_parameters['mean_consumption']],\n",
    "    \"E_dispatch\": [optimized_parameters['E_dispatch']],\n",
    "    \"P_dispatch\": [optimized_parameters['dispatchable_capacity']],\n",
    "    \"E_stock\": [optimized_parameters['E_stock']],\n",
    "    \"P_wind\": [optimized_parameters['pv_capacity']],\n",
    "    \"P_pv\": [optimized_parameters['wind_capacity']]\n",
    "})\n"
   ]
  },
  {
   "cell_type": "code",
   "execution_count": null,
   "id": "bb04d710",
   "metadata": {
    "execution": {
     "iopub.execute_input": "2024-06-03T14:24:46.708606Z",
     "iopub.status.busy": "2024-06-03T14:24:46.707604Z",
     "iopub.status.idle": "2024-06-03T14:24:46.781382Z",
     "shell.execute_reply": "2024-06-03T14:24:46.779025Z"
    },
    "papermill": {
     "duration": null,
     "end_time": null,
     "exception": null,
     "start_time": null,
     "status": "pending"
    },
    "tags": []
   },
   "outputs": [],
   "source": [
    "all_results_file = \"results/optimization_results_world.csv\"\n",
    "file_exists = os.path.isfile(all_results_file)\n",
    "\n",
    "df_new.to_csv(all_results_file, mode='a', index=False, header=not file_exists)\n",
    "\n",
    "print(f\"Data have been added to {all_results_file}\")    "
   ]
  },
  {
   "cell_type": "markdown",
   "id": "68cd0ec4",
   "metadata": {
    "papermill": {
     "duration": null,
     "end_time": null,
     "exception": null,
     "start_time": null,
     "status": "pending"
    },
    "tags": []
   },
   "source": [
    "## Plots"
   ]
  },
  {
   "cell_type": "code",
   "execution_count": null,
   "id": "3331b373",
   "metadata": {
    "execution": {
     "iopub.execute_input": "2024-06-03T14:24:47.784192Z",
     "iopub.status.busy": "2024-06-03T14:24:47.783202Z",
     "iopub.status.idle": "2024-06-03T14:24:47.798551Z",
     "shell.execute_reply": "2024-06-03T14:24:47.796039Z"
    },
    "papermill": {
     "duration": null,
     "end_time": null,
     "exception": null,
     "start_time": null,
     "status": "pending"
    },
    "tags": []
   },
   "outputs": [],
   "source": [
    "# from plots import plot_ts_optim, plot_pie_energy, plot_storage, plot_stack_production"
   ]
  },
  {
   "cell_type": "code",
   "execution_count": null,
   "id": "2dbafb91",
   "metadata": {
    "execution": {
     "iopub.execute_input": "2024-06-03T14:24:48.266384Z",
     "iopub.status.busy": "2024-06-03T14:24:48.266384Z",
     "iopub.status.idle": "2024-06-03T14:24:48.276458Z",
     "shell.execute_reply": "2024-06-03T14:24:48.273478Z"
    },
    "papermill": {
     "duration": null,
     "end_time": null,
     "exception": null,
     "start_time": null,
     "status": "pending"
    },
    "tags": []
   },
   "outputs": [],
   "source": [
    "# plot_ts_optim([optimized_parameters['optimized_pv'], optimized_parameters['optimized_wind'], optimized_parameters['optimized_dispatchable'], optimized_parameters['optimized_p_curt'],np.array(Load_ts) ], ['PV', 'Wind', 'Dispatchable', 'Curtailment', 'Consumption'], country_name, colors_dict = colors_dict,savefig=False)"
   ]
  },
  {
   "cell_type": "code",
   "execution_count": null,
   "id": "2e8e5dec",
   "metadata": {
    "execution": {
     "iopub.execute_input": "2024-06-03T14:24:48.873901Z",
     "iopub.status.busy": "2024-06-03T14:24:48.873901Z",
     "iopub.status.idle": "2024-06-03T14:24:48.893682Z",
     "shell.execute_reply": "2024-06-03T14:24:48.891179Z"
    },
    "papermill": {
     "duration": null,
     "end_time": null,
     "exception": null,
     "start_time": null,
     "status": "pending"
    },
    "tags": []
   },
   "outputs": [],
   "source": [
    "# plot_storage(optimized_parameters['optimized_charge'], optimized_parameters['optimized_discharge'], optimized_parameters['optimized_stock'], country_name, colors_dict = colors_dict, savefig=False)"
   ]
  },
  {
   "cell_type": "code",
   "execution_count": null,
   "id": "cea6c60b",
   "metadata": {
    "execution": {
     "iopub.execute_input": "2024-06-03T14:24:49.385641Z",
     "iopub.status.busy": "2024-06-03T14:24:49.384651Z",
     "iopub.status.idle": "2024-06-03T14:24:49.409359Z",
     "shell.execute_reply": "2024-06-03T14:24:49.406354Z"
    },
    "papermill": {
     "duration": null,
     "end_time": null,
     "exception": null,
     "start_time": null,
     "status": "pending"
    },
    "tags": []
   },
   "outputs": [],
   "source": [
    "# E_wind = optimized_parameters['E_wind']\n",
    "# E_pv = optimized_parameters['E_pv']\n",
    "# E_dispatch = optimized_parameters['E_dispatch']"
   ]
  },
  {
   "cell_type": "code",
   "execution_count": null,
   "id": "662b937f",
   "metadata": {
    "execution": {
     "iopub.execute_input": "2024-06-03T14:24:49.896004Z",
     "iopub.status.busy": "2024-06-03T14:24:49.894983Z",
     "iopub.status.idle": "2024-06-03T14:24:49.916304Z",
     "shell.execute_reply": "2024-06-03T14:24:49.913747Z"
    },
    "papermill": {
     "duration": null,
     "end_time": null,
     "exception": null,
     "start_time": null,
     "status": "pending"
    },
    "tags": []
   },
   "outputs": [],
   "source": [
    "# plot_pie_energy([E_wind, E_pv, E_dispatch], country_name, colors_dict =colors_dict, savefig=False)"
   ]
  }
 ],
 "metadata": {
  "kernelspec": {
   "display_name": "Python 3",
   "language": "python",
   "name": "python3"
  },
  "language_info": {
   "codemirror_mode": {
    "name": "ipython",
    "version": 3
   },
   "file_extension": ".py",
   "mimetype": "text/x-python",
   "name": "python",
   "nbconvert_exporter": "python",
   "pygments_lexer": "ipython3",
   "version": "3.10.13"
  },
  "papermill": {
   "default_parameters": {},
   "duration": null,
   "end_time": null,
   "environment_variables": {},
   "exception": null,
   "input_path": "1b_run_optimization.ipynb",
   "output_path": "1b_run_optimization.ipynb",
   "parameters": {
    "country_name": "Wallis and Futuna"
   },
   "start_time": "2024-06-03T14:27:41.400429",
   "version": "2.6.0"
  }
 },
 "nbformat": 4,
 "nbformat_minor": 5
}