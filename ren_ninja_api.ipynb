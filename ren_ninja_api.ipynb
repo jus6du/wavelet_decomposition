{
 "cells": [
  {
   "cell_type": "markdown",
   "metadata": {},
   "source": [
    "# Get data from Renewable ninja API"
   ]
  },
  {
   "cell_type": "markdown",
   "metadata": {},
   "source": [
    "First we try a method to get data from random coordinates in a country of interest and then aggregate them to have a single time series as an output."
   ]
  },
  {
   "cell_type": "code",
   "execution_count": 39,
   "metadata": {},
   "outputs": [],
   "source": [
    "import requests\n",
    "import pandas as pd\n",
    "import random\n",
    "from opencage.geocoder import OpenCageGeocode\n",
    "import io\n",
    "\n",
    "# Your Renewable Ninja API token\n",
    "api_token = 'e2be88b4f8ae85f401fdf6b205165098e3cf4e37'\n",
    "\n",
    "opencage_api_key ='b42473080f3a4bdb9033973e58fea766'\n",
    "# Define the endpoint\n",
    "base_url = ' https://www.renewables.ninja/api/data/'"
   ]
  },
  {
   "cell_type": "code",
   "execution_count": 56,
   "metadata": {},
   "outputs": [],
   "source": [
    "# Function to get random coordinates within a country\n",
    "def get_random_coordinates(country, num_locations):\n",
    "    geocoder = OpenCageGeocode(opencage_api_key)\n",
    "    result = geocoder.geocode(country, no_annotations='1')\n",
    "    \n",
    "    if not result:\n",
    "        raise ValueError(f\"Cannot find location for the country: {country}\")\n",
    "    \n",
    "    first_result = result[0]\n",
    "    # print(first_result)\n",
    "    # if 'geometry' not in first_result or 'bounds' not in first_result['geometry']:\n",
    "    #     raise ValueError(f\"Cannot find bounding box information for {country}\")\n",
    "    \n",
    "    bbox = first_result['bounds']\n",
    "    min_lat, max_lat = bbox['southwest']['lat'], bbox['northeast']['lat']\n",
    "    min_lon, max_lon = bbox['southwest']['lng'], bbox['northeast']['lng']\n",
    "    \n",
    "    coordinates = []\n",
    "    for _ in range(num_locations):\n",
    "        lat = random.uniform(min_lat, max_lat)\n",
    "        lon = random.uniform(min_lon, max_lon)\n",
    "        coordinates.append((lat, lon))\n",
    "    return coordinates"
   ]
  },
  {
   "cell_type": "code",
   "execution_count": 57,
   "metadata": {},
   "outputs": [
    {
     "name": "stdout",
     "output_type": "stream",
     "text": [
      "{'bounds': {'northeast': {'lat': 61.061, 'lng': 2.0919117}, 'southwest': {'lat': 49.674, 'lng': -14.015517}}, 'components': {'ISO_3166-1_alpha-2': 'GB', 'ISO_3166-1_alpha-3': 'GBR', '_category': 'place', '_type': 'country', 'continent': 'Europe', 'country': 'United Kingdom', 'country_code': 'gb'}, 'confidence': 1, 'formatted': 'United Kingdom', 'geometry': {'lat': 54.7023545, 'lng': -3.2765753}}\n"
     ]
    },
    {
     "data": {
      "text/plain": [
       "[(49.89625410266045, -11.178399966843148),\n",
       " (58.52114628331448, -2.0577601920032507),\n",
       " (60.94440961143393, -11.468384502421454),\n",
       " (55.25122077262681, -12.652702624749848),\n",
       " (60.681296068427194, -6.5252407765482685)]"
      ]
     },
     "execution_count": 57,
     "metadata": {},
     "output_type": "execute_result"
    }
   ],
   "source": [
    "country = 'United Kingdom'\n",
    "num_locations = 5\n",
    "get_random_coordinates(country, num_locations)"
   ]
  },
  {
   "cell_type": "code",
   "execution_count": 67,
   "metadata": {},
   "outputs": [],
   "source": [
    "def get_renewable_data(lat, lon, technology, api_token, year=2020):\n",
    "    headers = {\n",
    "        'Authorization': 'Token ' + api_token,\n",
    "    }\n",
    "    params = {\n",
    "        'lat': lat,\n",
    "        'lon': lon,\n",
    "        'date_from': f'{year}-01-01',\n",
    "        'date_to': f'{year}-12-31',\n",
    "        'dataset': 'merra2',\n",
    "        'capacity': 1,\n",
    "        'format': 'csv'\n",
    "    }\n",
    "    \n",
    "    if technology == 'pv':\n",
    "        params.update({\n",
    "            'system_loss': 0.1,\n",
    "            'tracking': 0,\n",
    "            'tilt': 35,\n",
    "            'azim': 180\n",
    "        })\n",
    "    elif technology == 'wind':\n",
    "        params.update({\n",
    "            'height': 100,  # Specify an appropriate height\n",
    "            'turbine': 'Vestas V80 2000'  # Specify a turbine model\n",
    "        })\n",
    "    \n",
    "    url = f\"{base_url}{technology}\"\n",
    "    response = requests.get(url, headers=headers, params=params)\n",
    "    if response.status_code == 200:\n",
    "        # Skip potential metadata and read the CSV data correctly\n",
    "        csv_data = response.text.split('\\n', 1)[1]\n",
    "        return pd.read_csv(io.StringIO(csv_data), skiprows=2, index_col=0)\n",
    "    else:\n",
    "        raise Exception(f\"Error {response.status_code}: {response.text}\")"
   ]
  },
  {
   "cell_type": "code",
   "execution_count": 69,
   "metadata": {},
   "outputs": [
    {
     "data": {
      "text/html": [
       "<div>\n",
       "<style scoped>\n",
       "    .dataframe tbody tr th:only-of-type {\n",
       "        vertical-align: middle;\n",
       "    }\n",
       "\n",
       "    .dataframe tbody tr th {\n",
       "        vertical-align: top;\n",
       "    }\n",
       "\n",
       "    .dataframe thead th {\n",
       "        text-align: right;\n",
       "    }\n",
       "</style>\n",
       "<table border=\"1\" class=\"dataframe\">\n",
       "  <thead>\n",
       "    <tr style=\"text-align: right;\">\n",
       "      <th></th>\n",
       "      <th>electricity</th>\n",
       "    </tr>\n",
       "    <tr>\n",
       "      <th>time</th>\n",
       "      <th></th>\n",
       "    </tr>\n",
       "  </thead>\n",
       "  <tbody>\n",
       "    <tr>\n",
       "      <th>2021-01-01 00:00</th>\n",
       "      <td>0.069</td>\n",
       "    </tr>\n",
       "    <tr>\n",
       "      <th>2021-01-01 01:00</th>\n",
       "      <td>0.091</td>\n",
       "    </tr>\n",
       "    <tr>\n",
       "      <th>2021-01-01 02:00</th>\n",
       "      <td>0.102</td>\n",
       "    </tr>\n",
       "    <tr>\n",
       "      <th>2021-01-01 03:00</th>\n",
       "      <td>0.100</td>\n",
       "    </tr>\n",
       "    <tr>\n",
       "      <th>2021-01-01 04:00</th>\n",
       "      <td>0.102</td>\n",
       "    </tr>\n",
       "    <tr>\n",
       "      <th>...</th>\n",
       "      <td>...</td>\n",
       "    </tr>\n",
       "    <tr>\n",
       "      <th>2021-12-31 19:00</th>\n",
       "      <td>0.340</td>\n",
       "    </tr>\n",
       "    <tr>\n",
       "      <th>2021-12-31 20:00</th>\n",
       "      <td>0.402</td>\n",
       "    </tr>\n",
       "    <tr>\n",
       "      <th>2021-12-31 21:00</th>\n",
       "      <td>0.465</td>\n",
       "    </tr>\n",
       "    <tr>\n",
       "      <th>2021-12-31 22:00</th>\n",
       "      <td>0.532</td>\n",
       "    </tr>\n",
       "    <tr>\n",
       "      <th>2021-12-31 23:00</th>\n",
       "      <td>0.563</td>\n",
       "    </tr>\n",
       "  </tbody>\n",
       "</table>\n",
       "<p>8760 rows × 1 columns</p>\n",
       "</div>"
      ],
      "text/plain": [
       "                  electricity\n",
       "time                         \n",
       "2021-01-01 00:00        0.069\n",
       "2021-01-01 01:00        0.091\n",
       "2021-01-01 02:00        0.102\n",
       "2021-01-01 03:00        0.100\n",
       "2021-01-01 04:00        0.102\n",
       "...                       ...\n",
       "2021-12-31 19:00        0.340\n",
       "2021-12-31 20:00        0.402\n",
       "2021-12-31 21:00        0.465\n",
       "2021-12-31 22:00        0.532\n",
       "2021-12-31 23:00        0.563\n",
       "\n",
       "[8760 rows x 1 columns]"
      ]
     },
     "execution_count": 69,
     "metadata": {},
     "output_type": "execute_result"
    }
   ],
   "source": [
    "lat = 45\n",
    "lon = 10\n",
    "tech = 'wind'\n",
    "year = '2021'\n",
    "get_renewable_data(lat, lon, tech, api_token, year)"
   ]
  },
  {
   "cell_type": "code",
   "execution_count": 70,
   "metadata": {},
   "outputs": [],
   "source": [
    "# Function to fetch data for multiple random locations and average the results\n",
    "def fetch_and_average_data(country, num_locations, technologies, api_token, year=2020):\n",
    "    coordinates = get_random_coordinates(country, num_locations)\n",
    "    all_data = {}\n",
    "    \n",
    "    for tech in technologies:\n",
    "        tech_data = []\n",
    "        for lat, lon in coordinates:\n",
    "            try:\n",
    "                data = get_renewable_data(lat, lon, tech, api_token, year)\n",
    "                tech_data.append(data)\n",
    "            except Exception as e:\n",
    "                print(f\"Error fetching data for location ({lat}, {lon}) with technology {tech}: {e}\")\n",
    "        \n",
    "        if tech_data:\n",
    "            combined_df = pd.concat(tech_data).groupby('time').mean().reset_index()\n",
    "            all_data[tech] = combined_df\n",
    "    \n",
    "    return all_data"
   ]
  },
  {
   "cell_type": "code",
   "execution_count": 71,
   "metadata": {},
   "outputs": [
    {
     "name": "stdout",
     "output_type": "stream",
     "text": [
      "{'bounds': {'northeast': {'lat': 61.061, 'lng': 2.0919117}, 'southwest': {'lat': 49.674, 'lng': -14.015517}}, 'components': {'ISO_3166-1_alpha-2': 'GB', 'ISO_3166-1_alpha-3': 'GBR', '_category': 'place', '_type': 'country', 'continent': 'Europe', 'country': 'United Kingdom', 'country_code': 'gb'}, 'confidence': 1, 'formatted': 'United Kingdom', 'geometry': {'lat': 54.7023545, 'lng': -3.2765753}}\n",
      "Error fetching data for location (51.01600800236232, -7.030332635134643) with technology wind: Error 429: Error: Reached limit (50/hour) Expected available in 2001 seconds.\n",
      "Error fetching data for location (58.8341406316656, -8.507913210670575) with technology wind: Error 429: Error: Reached limit (50/hour) Expected available in 2000 seconds.\n",
      "Error fetching data for location (49.96171263325312, -1.726834881494165) with technology wind: Error 429: Error: Reached limit (50/hour) Expected available in 1999 seconds.\n",
      "Error fetching data for location (57.03450732673516, -6.6426205312321285) with technology wind: Error 429: Error: Reached limit (50/hour) Expected available in 1997 seconds.\n",
      "Error fetching data for location (55.99902963786161, -5.731498575822682) with technology wind: Error 429: Error: Reached limit (50/hour) Expected available in 1996 seconds.\n",
      "Data retrieval, averaging, and saving complete.\n"
     ]
    }
   ],
   "source": [
    "\n",
    "# Specify parameters\n",
    "country = 'United Kingdom'\n",
    "num_locations = 5\n",
    "technologies = ['pv', 'wind']\n",
    "year = 2020\n",
    "\n",
    "# Fetch and average data\n",
    "averaged_data = fetch_and_average_data(country, num_locations, technologies, api_token, year)\n",
    "\n",
    "# Save averaged data to CSV files\n",
    "# for tech, df in averaged_data.items():\n",
    "#     df.to_csv(f'averaged_{tech}_data_{country}.csv', index=False)\n",
    "\n",
    "print(\"Data retrieval, averaging, and saving complete.\")"
   ]
  },
  {
   "cell_type": "code",
   "execution_count": 14,
   "metadata": {},
   "outputs": [
    {
     "data": {
      "text/plain": [
       "{}"
      ]
     },
     "execution_count": 14,
     "metadata": {},
     "output_type": "execute_result"
    }
   ],
   "source": [
    "averaged_data"
   ]
  },
  {
   "cell_type": "code",
   "execution_count": null,
   "metadata": {},
   "outputs": [],
   "source": []
  }
 ],
 "metadata": {
  "kernelspec": {
   "display_name": "Python 3",
   "language": "python",
   "name": "python3"
  },
  "language_info": {
   "codemirror_mode": {
    "name": "ipython",
    "version": 3
   },
   "file_extension": ".py",
   "mimetype": "text/x-python",
   "name": "python",
   "nbconvert_exporter": "python",
   "pygments_lexer": "ipython3",
   "version": "3.10.13"
  },
  "orig_nbformat": 4
 },
 "nbformat": 4,
 "nbformat_minor": 2
}
